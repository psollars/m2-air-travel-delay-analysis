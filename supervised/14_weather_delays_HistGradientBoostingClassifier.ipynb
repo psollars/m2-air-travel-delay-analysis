{
 "cells": [
  {
   "cell_type": "code",
   "execution_count": 1,
   "metadata": {},
   "outputs": [
    {
     "data": {
      "text/plain": [
       "('2.1.1', '1.2.1')"
      ]
     },
     "execution_count": 1,
     "metadata": {},
     "output_type": "execute_result"
    }
   ],
   "source": [
    "import pandas as pd\n",
    "import numpy as np\n",
    "import plotly.express as px\n",
    "import matplotlib.pyplot as plt\n",
    "import altair as alt\n",
    "import time\n",
    "import sklearn\n",
    "import warnings\n",
    "import pickle\n",
    "\n",
    "warnings.filterwarnings(action='ignore', category=FutureWarning)\n",
    "\n",
    "pd.__version__, sklearn.__version__"
   ]
  },
  {
   "cell_type": "code",
   "execution_count": 2,
   "metadata": {},
   "outputs": [],
   "source": [
    "SCRATCH_DIR = \"/scratch/siads696f23_class_root/siads696f23_class/psollars\"\n",
    "\n",
    "# For local dev\n",
    "# SCRATCH_DIR = \"./../data\""
   ]
  },
  {
   "cell_type": "code",
   "execution_count": 14,
   "metadata": {},
   "outputs": [],
   "source": [
    "consolidated_df = pd.read_parquet(f\"{SCRATCH_DIR}/consolidated_features_2019.parquet\")\n",
    "\n",
    "list(consolidated_df.columns)"
   ]
  },
  {
   "cell_type": "code",
   "execution_count": 15,
   "metadata": {},
   "outputs": [
    {
     "data": {
      "text/plain": [
       "['Quarter',\n",
       " 'Month',\n",
       " 'DayofMonth',\n",
       " 'DayOfWeek',\n",
       " 'CRSDepTime',\n",
       " 'CRSArrTime',\n",
       " 'CRSElapsedTime',\n",
       " 'Distance',\n",
       " 'DistanceGroup',\n",
       " 'YEAR MFR',\n",
       " 'HORSEPOWER',\n",
       " 'THRUST',\n",
       " 'NO-SEATS',\n",
       " 'Origin_LATITUDE',\n",
       " 'Origin_LONGITUDE',\n",
       " 'Dest_LATITUDE',\n",
       " 'Dest_LONGITUDE',\n",
       " 'Reporting_Airline',\n",
       " 'Tail_Number',\n",
       " 'Origin',\n",
       " 'Dest',\n",
       " 'TYPE REGISTRANT',\n",
       " 'NAME',\n",
       " 'CERTIFICATION',\n",
       " 'TYPE ENGINE',\n",
       " 'STATUS CODE',\n",
       " 'MFR',\n",
       " 'MODEL',\n",
       " 'TYPE',\n",
       " 'MFR_aircraft',\n",
       " 'MODEL_aircraft',\n",
       " 'TYPE-ENG',\n",
       " 'BUILD-CERT-IND',\n",
       " 'Origin_DISPLAY_AIRPORT_NAME',\n",
       " 'Origin_DISPLAY_AIRPORT_CITY_NAME_FULL',\n",
       " 'Dest_DISPLAY_AIRPORT_NAME',\n",
       " 'Dest_DISPLAY_AIRPORT_CITY_NAME_FULL',\n",
       " 'DepDel15',\n",
       " 'ArrDel15',\n",
       " 'CarrierDelay',\n",
       " 'WeatherDelay',\n",
       " 'NASDelay',\n",
       " 'SecurityDelay',\n",
       " 'LateAircraftDelay']"
      ]
     },
     "execution_count": 15,
     "metadata": {},
     "output_type": "execute_result"
    }
   ],
   "source": [
    "num_cols = [\n",
    "    \"Quarter\",\n",
    "    \"Month\",\n",
    "    \"DayofMonth\",\n",
    "    \"DayOfWeek\",\n",
    "    \"CRSDepTime\",\n",
    "    \"CRSArrTime\",\n",
    "    \"CRSElapsedTime\",\n",
    "    \"Distance\",\n",
    "    \"DistanceGroup\",\n",
    "    \"YEAR MFR\",\n",
    "    \"HORSEPOWER\",\n",
    "    \"THRUST\",\n",
    "    \"NO-SEATS\",\n",
    "    \"Origin_LATITUDE\",\n",
    "    \"Origin_LONGITUDE\",\n",
    "    \"Dest_LATITUDE\",\n",
    "    \"Dest_LONGITUDE\",\n",
    "]\n",
    "\n",
    "cat_cols = [\n",
    "    \"Reporting_Airline\",\n",
    "    \"Tail_Number\",\n",
    "    \"Origin\",\n",
    "    \"Dest\",\n",
    "    \"TYPE REGISTRANT\",\n",
    "    \"NAME\",\n",
    "    \"CERTIFICATION\",\n",
    "    \"TYPE ENGINE\",\n",
    "    \"STATUS CODE\",\n",
    "    \"MFR\",\n",
    "    \"MODEL\",\n",
    "    \"TYPE\",\n",
    "    \"MFR_aircraft\",\n",
    "    \"MODEL_aircraft\",\n",
    "    \"TYPE-ENG\",\n",
    "    # \"BUILD-CERT-IND\", This is only \"0\", we can drop it\n",
    "    # \n",
    "    # Labels only, duplicates of the airport coordinates, also Origin/Dest\n",
    "    # \"Origin_DISPLAY_AIRPORT_NAME\",\n",
    "    # \"Origin_DISPLAY_AIRPORT_CITY_NAME_FULL\",\n",
    "    # \"Dest_DISPLAY_AIRPORT_NAME\",\n",
    "    # \"Dest_DISPLAY_AIRPORT_CITY_NAME_FULL\",\n",
    "    #\n",
    "    # Only concerned with weather delays for this round\n",
    "    # \"DepDel15\",\n",
    "    # \"ArrDel15\",\n",
    "    # \"CarrierDelay\",\n",
    "    \"WeatherDelay\",\n",
    "    # \"NASDelay\",\n",
    "    # \"SecurityDelay\",\n",
    "    # \"LateAircraftDelay\",\n",
    "]\n"
   ]
  },
  {
   "cell_type": "code",
   "execution_count": 16,
   "metadata": {},
   "outputs": [
    {
     "data": {
      "text/html": [
       "<div>\n",
       "<style scoped>\n",
       "    .dataframe tbody tr th:only-of-type {\n",
       "        vertical-align: middle;\n",
       "    }\n",
       "\n",
       "    .dataframe tbody tr th {\n",
       "        vertical-align: top;\n",
       "    }\n",
       "\n",
       "    .dataframe thead th {\n",
       "        text-align: right;\n",
       "    }\n",
       "</style>\n",
       "<table border=\"1\" class=\"dataframe\">\n",
       "  <thead>\n",
       "    <tr style=\"text-align: right;\">\n",
       "      <th></th>\n",
       "      <th>Quarter</th>\n",
       "      <th>Month</th>\n",
       "      <th>DayofMonth</th>\n",
       "      <th>DayOfWeek</th>\n",
       "      <th>CRSDepTime</th>\n",
       "      <th>CRSArrTime</th>\n",
       "      <th>CRSElapsedTime</th>\n",
       "      <th>Distance</th>\n",
       "      <th>DistanceGroup</th>\n",
       "      <th>YEAR MFR</th>\n",
       "      <th>...</th>\n",
       "      <th>CERTIFICATION</th>\n",
       "      <th>TYPE ENGINE</th>\n",
       "      <th>STATUS CODE</th>\n",
       "      <th>MFR</th>\n",
       "      <th>MODEL</th>\n",
       "      <th>TYPE</th>\n",
       "      <th>MFR_aircraft</th>\n",
       "      <th>MODEL_aircraft</th>\n",
       "      <th>TYPE-ENG</th>\n",
       "      <th>WeatherDelay</th>\n",
       "    </tr>\n",
       "  </thead>\n",
       "  <tbody>\n",
       "    <tr>\n",
       "      <th>24733033</th>\n",
       "      <td>1</td>\n",
       "      <td>1</td>\n",
       "      <td>4</td>\n",
       "      <td>5</td>\n",
       "      <td>1400</td>\n",
       "      <td>1510</td>\n",
       "      <td>70</td>\n",
       "      <td>190</td>\n",
       "      <td>1</td>\n",
       "      <td>2003.0</td>\n",
       "      <td>...</td>\n",
       "      <td>1T</td>\n",
       "      <td>5</td>\n",
       "      <td>V</td>\n",
       "      <td>GE</td>\n",
       "      <td>CF34 SERIES</td>\n",
       "      <td>5.0</td>\n",
       "      <td>BOMBARDIER INC</td>\n",
       "      <td>CL-600-2B19</td>\n",
       "      <td>5.0</td>\n",
       "      <td>0</td>\n",
       "    </tr>\n",
       "    <tr>\n",
       "      <th>24733034</th>\n",
       "      <td>1</td>\n",
       "      <td>1</td>\n",
       "      <td>4</td>\n",
       "      <td>5</td>\n",
       "      <td>0935</td>\n",
       "      <td>1118</td>\n",
       "      <td>103</td>\n",
       "      <td>438</td>\n",
       "      <td>2</td>\n",
       "      <td>2002.0</td>\n",
       "      <td>...</td>\n",
       "      <td>1T</td>\n",
       "      <td>5</td>\n",
       "      <td>V</td>\n",
       "      <td>GE</td>\n",
       "      <td>CF34 SERIES</td>\n",
       "      <td>5.0</td>\n",
       "      <td>BOMBARDIER INC</td>\n",
       "      <td>CL-600-2B19</td>\n",
       "      <td>5.0</td>\n",
       "      <td>0</td>\n",
       "    </tr>\n",
       "    <tr>\n",
       "      <th>24733035</th>\n",
       "      <td>1</td>\n",
       "      <td>1</td>\n",
       "      <td>4</td>\n",
       "      <td>5</td>\n",
       "      <td>0643</td>\n",
       "      <td>0855</td>\n",
       "      <td>132</td>\n",
       "      <td>513</td>\n",
       "      <td>3</td>\n",
       "      <td>2002.0</td>\n",
       "      <td>...</td>\n",
       "      <td>1T</td>\n",
       "      <td>5</td>\n",
       "      <td>V</td>\n",
       "      <td>GE</td>\n",
       "      <td>CF34 SERIES</td>\n",
       "      <td>5.0</td>\n",
       "      <td>BOMBARDIER INC</td>\n",
       "      <td>CL-600-2B19</td>\n",
       "      <td>5.0</td>\n",
       "      <td>0</td>\n",
       "    </tr>\n",
       "    <tr>\n",
       "      <th>24733036</th>\n",
       "      <td>1</td>\n",
       "      <td>1</td>\n",
       "      <td>4</td>\n",
       "      <td>5</td>\n",
       "      <td>1335</td>\n",
       "      <td>1433</td>\n",
       "      <td>118</td>\n",
       "      <td>576</td>\n",
       "      <td>3</td>\n",
       "      <td>2002.0</td>\n",
       "      <td>...</td>\n",
       "      <td>1T</td>\n",
       "      <td>5</td>\n",
       "      <td>V</td>\n",
       "      <td>GE</td>\n",
       "      <td>CF34 SERIES</td>\n",
       "      <td>5.0</td>\n",
       "      <td>BOMBARDIER INC</td>\n",
       "      <td>CL-600-2B19</td>\n",
       "      <td>5.0</td>\n",
       "      <td>0</td>\n",
       "    </tr>\n",
       "    <tr>\n",
       "      <th>24733037</th>\n",
       "      <td>1</td>\n",
       "      <td>1</td>\n",
       "      <td>4</td>\n",
       "      <td>5</td>\n",
       "      <td>0836</td>\n",
       "      <td>1040</td>\n",
       "      <td>184</td>\n",
       "      <td>896</td>\n",
       "      <td>4</td>\n",
       "      <td>2014.0</td>\n",
       "      <td>...</td>\n",
       "      <td>1T</td>\n",
       "      <td>5</td>\n",
       "      <td>V</td>\n",
       "      <td>GE</td>\n",
       "      <td>CF34-8E5</td>\n",
       "      <td>5.0</td>\n",
       "      <td>EMBRAER S A</td>\n",
       "      <td>ERJ 170-200 LR</td>\n",
       "      <td>5.0</td>\n",
       "      <td>0</td>\n",
       "    </tr>\n",
       "  </tbody>\n",
       "</table>\n",
       "<p>5 rows × 33 columns</p>\n",
       "</div>"
      ],
      "text/plain": [
       "          Quarter  Month  DayofMonth  DayOfWeek CRSDepTime CRSArrTime  \\\n",
       "24733033        1      1           4          5       1400       1510   \n",
       "24733034        1      1           4          5       0935       1118   \n",
       "24733035        1      1           4          5       0643       0855   \n",
       "24733036        1      1           4          5       1335       1433   \n",
       "24733037        1      1           4          5       0836       1040   \n",
       "\n",
       "          CRSElapsedTime  Distance DistanceGroup  YEAR MFR  ...  \\\n",
       "24733033              70       190             1    2003.0  ...   \n",
       "24733034             103       438             2    2002.0  ...   \n",
       "24733035             132       513             3    2002.0  ...   \n",
       "24733036             118       576             3    2002.0  ...   \n",
       "24733037             184       896             4    2014.0  ...   \n",
       "\n",
       "          CERTIFICATION  TYPE ENGINE  STATUS CODE         MFR          MODEL  \\\n",
       "24733033     1T                    5           V   GE          CF34 SERIES     \n",
       "24733034     1T                    5           V   GE          CF34 SERIES     \n",
       "24733035     1T                    5           V   GE          CF34 SERIES     \n",
       "24733036     1T                    5           V   GE          CF34 SERIES     \n",
       "24733037     1T                    5           V   GE          CF34-8E5        \n",
       "\n",
       "          TYPE                    MFR_aircraft        MODEL_aircraft TYPE-ENG  \\\n",
       "24733033   5.0  BOMBARDIER INC                  CL-600-2B19               5.0   \n",
       "24733034   5.0  BOMBARDIER INC                  CL-600-2B19               5.0   \n",
       "24733035   5.0  BOMBARDIER INC                  CL-600-2B19               5.0   \n",
       "24733036   5.0  BOMBARDIER INC                  CL-600-2B19               5.0   \n",
       "24733037   5.0  EMBRAER S A                     ERJ 170-200 LR            5.0   \n",
       "\n",
       "         WeatherDelay  \n",
       "24733033            0  \n",
       "24733034            0  \n",
       "24733035            0  \n",
       "24733036            0  \n",
       "24733037            0  \n",
       "\n",
       "[5 rows x 33 columns]"
      ]
     },
     "execution_count": 16,
     "metadata": {},
     "output_type": "execute_result"
    }
   ],
   "source": [
    "weather_df = consolidated_df[num_cols + cat_cols].copy()\n",
    "\n",
    "weather_df.head()"
   ]
  },
  {
   "cell_type": "code",
   "execution_count": 17,
   "metadata": {},
   "outputs": [
    {
     "data": {
      "text/html": [
       "<div>\n",
       "<style scoped>\n",
       "    .dataframe tbody tr th:only-of-type {\n",
       "        vertical-align: middle;\n",
       "    }\n",
       "\n",
       "    .dataframe tbody tr th {\n",
       "        vertical-align: top;\n",
       "    }\n",
       "\n",
       "    .dataframe thead th {\n",
       "        text-align: right;\n",
       "    }\n",
       "</style>\n",
       "<table border=\"1\" class=\"dataframe\">\n",
       "  <thead>\n",
       "    <tr style=\"text-align: right;\">\n",
       "      <th></th>\n",
       "      <th>TYPE REGISTRANT</th>\n",
       "      <th>CERTIFICATION</th>\n",
       "      <th>TYPE ENGINE</th>\n",
       "      <th>STATUS CODE</th>\n",
       "      <th>MFR</th>\n",
       "      <th>MODEL</th>\n",
       "      <th>TYPE</th>\n",
       "      <th>MFR_aircraft</th>\n",
       "      <th>MODEL_aircraft</th>\n",
       "      <th>TYPE-ENG</th>\n",
       "    </tr>\n",
       "  </thead>\n",
       "  <tbody>\n",
       "    <tr>\n",
       "      <th>24733033</th>\n",
       "      <td>3.0</td>\n",
       "      <td>1T</td>\n",
       "      <td>5</td>\n",
       "      <td>V</td>\n",
       "      <td>GE</td>\n",
       "      <td>CF34 SERIES</td>\n",
       "      <td>5.0</td>\n",
       "      <td>BOMBARDIER INC</td>\n",
       "      <td>CL-600-2B19</td>\n",
       "      <td>5.0</td>\n",
       "    </tr>\n",
       "    <tr>\n",
       "      <th>24733034</th>\n",
       "      <td>3.0</td>\n",
       "      <td>1T</td>\n",
       "      <td>5</td>\n",
       "      <td>V</td>\n",
       "      <td>GE</td>\n",
       "      <td>CF34 SERIES</td>\n",
       "      <td>5.0</td>\n",
       "      <td>BOMBARDIER INC</td>\n",
       "      <td>CL-600-2B19</td>\n",
       "      <td>5.0</td>\n",
       "    </tr>\n",
       "    <tr>\n",
       "      <th>24733035</th>\n",
       "      <td>3.0</td>\n",
       "      <td>1T</td>\n",
       "      <td>5</td>\n",
       "      <td>V</td>\n",
       "      <td>GE</td>\n",
       "      <td>CF34 SERIES</td>\n",
       "      <td>5.0</td>\n",
       "      <td>BOMBARDIER INC</td>\n",
       "      <td>CL-600-2B19</td>\n",
       "      <td>5.0</td>\n",
       "    </tr>\n",
       "    <tr>\n",
       "      <th>24733036</th>\n",
       "      <td>3.0</td>\n",
       "      <td>1T</td>\n",
       "      <td>5</td>\n",
       "      <td>V</td>\n",
       "      <td>GE</td>\n",
       "      <td>CF34 SERIES</td>\n",
       "      <td>5.0</td>\n",
       "      <td>BOMBARDIER INC</td>\n",
       "      <td>CL-600-2B19</td>\n",
       "      <td>5.0</td>\n",
       "    </tr>\n",
       "    <tr>\n",
       "      <th>24733037</th>\n",
       "      <td>3.0</td>\n",
       "      <td>1T</td>\n",
       "      <td>5</td>\n",
       "      <td>V</td>\n",
       "      <td>GE</td>\n",
       "      <td>CF34-8E5</td>\n",
       "      <td>5.0</td>\n",
       "      <td>EMBRAER S A</td>\n",
       "      <td>ERJ 170-200 LR</td>\n",
       "      <td>5.0</td>\n",
       "    </tr>\n",
       "    <tr>\n",
       "      <th>...</th>\n",
       "      <td>...</td>\n",
       "      <td>...</td>\n",
       "      <td>...</td>\n",
       "      <td>...</td>\n",
       "      <td>...</td>\n",
       "      <td>...</td>\n",
       "      <td>...</td>\n",
       "      <td>...</td>\n",
       "      <td>...</td>\n",
       "      <td>...</td>\n",
       "    </tr>\n",
       "    <tr>\n",
       "      <th>32288695</th>\n",
       "      <td>3.0</td>\n",
       "      <td>1T</td>\n",
       "      <td>5</td>\n",
       "      <td>V</td>\n",
       "      <td>CFM INTL</td>\n",
       "      <td>CFM56-5B3/3</td>\n",
       "      <td>5.0</td>\n",
       "      <td>AIRBUS</td>\n",
       "      <td>A321-211</td>\n",
       "      <td>5.0</td>\n",
       "    </tr>\n",
       "    <tr>\n",
       "      <th>32288696</th>\n",
       "      <td>3.0</td>\n",
       "      <td>1T</td>\n",
       "      <td>5</td>\n",
       "      <td>V</td>\n",
       "      <td>P &amp; W</td>\n",
       "      <td>PW2037</td>\n",
       "      <td>5.0</td>\n",
       "      <td>BOEING</td>\n",
       "      <td>757-232</td>\n",
       "      <td>5.0</td>\n",
       "    </tr>\n",
       "    <tr>\n",
       "      <th>32288697</th>\n",
       "      <td>3.0</td>\n",
       "      <td>1T</td>\n",
       "      <td>5</td>\n",
       "      <td>V</td>\n",
       "      <td>P &amp; W</td>\n",
       "      <td>PW2037</td>\n",
       "      <td>5.0</td>\n",
       "      <td>BOEING</td>\n",
       "      <td>757-232</td>\n",
       "      <td>5.0</td>\n",
       "    </tr>\n",
       "    <tr>\n",
       "      <th>32288698</th>\n",
       "      <td>3.0</td>\n",
       "      <td>1T</td>\n",
       "      <td>5</td>\n",
       "      <td>V</td>\n",
       "      <td>P &amp; W</td>\n",
       "      <td>PW2037</td>\n",
       "      <td>5.0</td>\n",
       "      <td>BOEING</td>\n",
       "      <td>757-232</td>\n",
       "      <td>5.0</td>\n",
       "    </tr>\n",
       "    <tr>\n",
       "      <th>32288699</th>\n",
       "      <td>3.0</td>\n",
       "      <td>1T</td>\n",
       "      <td>5</td>\n",
       "      <td>V</td>\n",
       "      <td>P &amp; W</td>\n",
       "      <td>PW2037</td>\n",
       "      <td>5.0</td>\n",
       "      <td>BOEING</td>\n",
       "      <td>757-232</td>\n",
       "      <td>5.0</td>\n",
       "    </tr>\n",
       "  </tbody>\n",
       "</table>\n",
       "<p>7127086 rows × 10 columns</p>\n",
       "</div>"
      ],
      "text/plain": [
       "          TYPE REGISTRANT CERTIFICATION TYPE ENGINE STATUS CODE         MFR  \\\n",
       "24733033              3.0    1T                   5          V   GE           \n",
       "24733034              3.0    1T                   5          V   GE           \n",
       "24733035              3.0    1T                   5          V   GE           \n",
       "24733036              3.0    1T                   5          V   GE           \n",
       "24733037              3.0    1T                   5          V   GE           \n",
       "...                   ...           ...         ...         ...         ...   \n",
       "32288695              3.0    1T                   5          V   CFM INTL     \n",
       "32288696              3.0    1T                   5          V   P & W        \n",
       "32288697              3.0    1T                   5          V   P & W        \n",
       "32288698              3.0    1T                   5          V   P & W        \n",
       "32288699              3.0    1T                   5          V   P & W        \n",
       "\n",
       "                  MODEL  TYPE                    MFR_aircraft  \\\n",
       "24733033  CF34 SERIES     5.0  BOMBARDIER INC                   \n",
       "24733034  CF34 SERIES     5.0  BOMBARDIER INC                   \n",
       "24733035  CF34 SERIES     5.0  BOMBARDIER INC                   \n",
       "24733036  CF34 SERIES     5.0  BOMBARDIER INC                   \n",
       "24733037  CF34-8E5        5.0  EMBRAER S A                      \n",
       "...                 ...   ...                             ...   \n",
       "32288695  CFM56-5B3/3     5.0  AIRBUS                           \n",
       "32288696  PW2037          5.0  BOEING                           \n",
       "32288697  PW2037          5.0  BOEING                           \n",
       "32288698  PW2037          5.0  BOEING                           \n",
       "32288699  PW2037          5.0  BOEING                           \n",
       "\n",
       "                MODEL_aircraft  TYPE-ENG  \n",
       "24733033  CL-600-2B19                5.0  \n",
       "24733034  CL-600-2B19                5.0  \n",
       "24733035  CL-600-2B19                5.0  \n",
       "24733036  CL-600-2B19                5.0  \n",
       "24733037  ERJ 170-200 LR             5.0  \n",
       "...                        ...       ...  \n",
       "32288695  A321-211                   5.0  \n",
       "32288696  757-232                    5.0  \n",
       "32288697  757-232                    5.0  \n",
       "32288698  757-232                    5.0  \n",
       "32288699  757-232                    5.0  \n",
       "\n",
       "[7127086 rows x 10 columns]"
      ]
     },
     "execution_count": 17,
     "metadata": {},
     "output_type": "execute_result"
    }
   ],
   "source": [
    "weather_df[\n",
    "    [\n",
    "        \"TYPE REGISTRANT\",  # 7 or 3\n",
    "        # \"NAME\", # correlated to \"Reporting_Airline\"\n",
    "        \"CERTIFICATION\",  # condense this: (1T, other)\n",
    "        \"TYPE ENGINE\",  # 4 or 5\n",
    "        \"STATUS CODE\",  # condense this: (V, other)\n",
    "        \"MFR\",  # condense this: (GE, CFM INTL, IAE, ROLLS-ROYCE, P & W, other)\n",
    "        \"MODEL\",\n",
    "        \"TYPE\",  # 4 or 5\n",
    "        \"MFR_aircraft\",  # condense this: (BOEING, AIRBUS, BOMBARDIER INC, EMBRAER, MCDONNELL DOUGLAS, other)\n",
    "        \"MODEL_aircraft\",\n",
    "        \"TYPE-ENG\",  # 4 or 5\n",
    "    ]\n",
    "]"
   ]
  },
  {
   "cell_type": "code",
   "execution_count": 18,
   "metadata": {},
   "outputs": [
    {
     "data": {
      "text/plain": [
       "MFR_aircraft\n",
       "BOEING               2831659\n",
       "AIRBUS               1696719\n",
       "BOMBARDIER INC       1262314\n",
       "EMBRAER              1130835\n",
       "MCDONNELL DOUGLAS     193831\n",
       "other                  11728\n",
       "Name: count, dtype: int64"
      ]
     },
     "execution_count": 18,
     "metadata": {},
     "output_type": "execute_result"
    }
   ],
   "source": [
    "# BOEING                            2831659\n",
    "# BOMBARDIER INC                    1262314\n",
    "# AIRBUS                            1109980\n",
    "# EMBRAER                            545175\n",
    "# AIRBUS INDUSTRIE                   544195\n",
    "# EMBRAER S A                        502448\n",
    "# MCDONNELL DOUGLAS AIRCRAFT CO      103413\n",
    "# EMBRAER-EMPRESA BRASILEIRA DE       83212\n",
    "# MCDONNELL DOUGLAS                   64522\n",
    "# AIRBUS SAS                          35971\n",
    "# MCDONNELL DOUGLAS CORPORATION       25896\n",
    "# C SERIES AIRCRAFT LTD PTNRSP         9258\n",
    "# AIRBUS CANADA LTD PTNRSP             6573\n",
    "# CANADAIR                             1948\n",
    "# GULFSTREAM AEROSPACE CORP             229\n",
    "# PILATUS AIRCRAFT LTD                   76\n",
    "# DASSAULT                               75\n",
    "# GULFSTREAM AEROSPACE                   72\n",
    "# CESSNA                                 70\n",
    "\n",
    "weather_df[\"MFR_aircraft\"] = (\n",
    "    weather_df[\"MFR_aircraft\"]\n",
    "    .replace(r\".*AIRBUS.*\", \"AIRBUS\", regex=True)\n",
    "    .replace(r\".*EMBRAER.*\", \"EMBRAER\", regex=True)\n",
    "    .replace(r\".*MCDONNELL DOUGLAS.*\", \"MCDONNELL DOUGLAS\", regex=True)\n",
    "    .replace(r\".*YABORA.*\", \"YABORA\", regex=True)\n",
    ")\n",
    "\n",
    "mfr_aircraft_replacements = {\n",
    "    \"C SERIES AIRCRAFT LTD PTNRSP\": \"other\",\n",
    "    \"CANADAIR\": \"other\",\n",
    "    \"GULFSTREAM AEROSPACE CORP\": \"other\",\n",
    "    \"PILATUS AIRCRAFT LTD\": \"other\",\n",
    "    \"DASSAULT\": \"other\",\n",
    "    \"GULFSTREAM AEROSPACE\": \"other\",\n",
    "    \"CESSNA\": \"other\",\n",
    "}\n",
    "\n",
    "weather_df[\"MFR_aircraft\"] = (\n",
    "    weather_df[\"MFR_aircraft\"].str.strip().replace(mfr_aircraft_replacements)\n",
    ")\n",
    "\n",
    "weather_df.value_counts(\"MFR_aircraft\")"
   ]
  },
  {
   "cell_type": "code",
   "execution_count": 19,
   "metadata": {},
   "outputs": [
    {
     "data": {
      "text/plain": [
       "CERTIFICATION\n",
       "1T       7086132\n",
       "other      40954\n",
       "Name: count, dtype: int64"
      ]
     },
     "execution_count": 19,
     "metadata": {},
     "output_type": "execute_result"
    }
   ],
   "source": [
    "# CERTIFICATION\n",
    "# 1T            7086132\n",
    "# 41              10924\n",
    "# 1N              10000\n",
    "# 1                8931\n",
    "# 1A               4097\n",
    "# 410              2977\n",
    "# 40               2397\n",
    "# 4103             1482\n",
    "# 1C                 76\n",
    "# 1NU                70\n",
    "\n",
    "certification_replacements = {\n",
    "    \"41\": \"other\",\n",
    "    \"1N\": \"other\",\n",
    "    \"1\": \"other\",\n",
    "    \"1A\": \"other\",\n",
    "    \"410\": \"other\",\n",
    "    \"40\": \"other\",\n",
    "    \"4103\": \"other\",\n",
    "    \"1C\": \"other\",\n",
    "    \"1NU\": \"other\",\n",
    "}\n",
    "\n",
    "weather_df[\"CERTIFICATION\"] = (\n",
    "    weather_df[\"CERTIFICATION\"].str.strip().replace(certification_replacements)\n",
    ")\n",
    "\n",
    "weather_df.value_counts(\"CERTIFICATION\")"
   ]
  },
  {
   "cell_type": "code",
   "execution_count": 20,
   "metadata": {},
   "outputs": [
    {
     "data": {
      "text/plain": [
       "STATUS CODE\n",
       "V        7087375\n",
       "other      39711\n",
       "Name: count, dtype: int64"
      ]
     },
     "execution_count": 20,
     "metadata": {},
     "output_type": "execute_result"
    }
   ],
   "source": [
    "# STATUS CODE\n",
    "# V     7087375\n",
    "# 25      31022\n",
    "# 26       5074\n",
    "# 28       2099\n",
    "# 27       1516\n",
    "\n",
    "status_code_replacements = {\n",
    "    \"25\": \"other\",\n",
    "    \"26\": \"other\",\n",
    "    \"28\": \"other\",\n",
    "    \"27\": \"other\",\n",
    "}\n",
    "\n",
    "weather_df[\"STATUS CODE\"] = (\n",
    "    weather_df[\"STATUS CODE\"].str.strip().replace(status_code_replacements)\n",
    ")\n",
    "\n",
    "weather_df.value_counts(\"STATUS CODE\")"
   ]
  },
  {
   "cell_type": "code",
   "execution_count": 21,
   "metadata": {},
   "outputs": [
    {
     "data": {
      "text/plain": [
       "MFR\n",
       "CFM INTL       3221295\n",
       "GE             2195782\n",
       "IAE             960007\n",
       "ROLLS-ROYCE     440826\n",
       "P & W           307749\n",
       "other             1427\n",
       "Name: count, dtype: int64"
      ]
     },
     "execution_count": 21,
     "metadata": {},
     "output_type": "execute_result"
    }
   ],
   "source": [
    "# MFR\n",
    "# GE            2195782\n",
    "# CFM INTL      2055793\n",
    "# CFM INTL.     1165502\n",
    "# IAE            960007\n",
    "# ROLLS-ROYC     421279\n",
    "# ROLLS DEUT      19537\n",
    "# ROLLS-ROY          10\n",
    "# P & W          287551\n",
    "# P&W             20128\n",
    "# P&W CANADA         70\n",
    "# IVCHENKO         1276\n",
    "# WILLIAMS           76\n",
    "# HONEYWELL          75\n",
    "\n",
    "mfr_replacements = {\n",
    "    \"CFM INTL.\": \"CFM INTL\",\n",
    "    \"ROLLS-ROYC\": \"ROLLS-ROYCE\",\n",
    "    \"ROLLS DEUT\": \"ROLLS-ROYCE\",\n",
    "    \"ROLLS-ROY\": \"ROLLS-ROYCE\",\n",
    "    \"P&W\": \"P & W\",\n",
    "    \"P&W CANADA\": \"P & W\",\n",
    "    \"IVCHENKO\": \"other\",\n",
    "    \"WILLIAMS\": \"other\",\n",
    "    \"HONEYWELL\": \"other\",\n",
    "}\n",
    "\n",
    "weather_df[\"MFR\"] = weather_df[\"MFR\"].str.strip().replace(mfr_replacements)\n",
    "\n",
    "weather_df.value_counts(\"MFR\")"
   ]
  },
  {
   "cell_type": "code",
   "execution_count": 22,
   "metadata": {},
   "outputs": [
    {
     "data": {
      "text/html": [
       "<div>\n",
       "<style scoped>\n",
       "    .dataframe tbody tr th:only-of-type {\n",
       "        vertical-align: middle;\n",
       "    }\n",
       "\n",
       "    .dataframe tbody tr th {\n",
       "        vertical-align: top;\n",
       "    }\n",
       "\n",
       "    .dataframe thead th {\n",
       "        text-align: right;\n",
       "    }\n",
       "</style>\n",
       "<table border=\"1\" class=\"dataframe\">\n",
       "  <thead>\n",
       "    <tr style=\"text-align: right;\">\n",
       "      <th></th>\n",
       "      <th>Quarter</th>\n",
       "      <th>Month</th>\n",
       "      <th>DayofMonth</th>\n",
       "      <th>DayOfWeek</th>\n",
       "      <th>CRSDepTime</th>\n",
       "      <th>CRSArrTime</th>\n",
       "      <th>CRSElapsedTime</th>\n",
       "      <th>Distance</th>\n",
       "      <th>DistanceGroup</th>\n",
       "      <th>YEAR MFR</th>\n",
       "      <th>...</th>\n",
       "      <th>CERTIFICATION</th>\n",
       "      <th>TYPE ENGINE</th>\n",
       "      <th>STATUS CODE</th>\n",
       "      <th>MFR</th>\n",
       "      <th>MODEL</th>\n",
       "      <th>TYPE</th>\n",
       "      <th>MFR_aircraft</th>\n",
       "      <th>MODEL_aircraft</th>\n",
       "      <th>TYPE-ENG</th>\n",
       "      <th>WeatherDelay</th>\n",
       "    </tr>\n",
       "  </thead>\n",
       "  <tbody>\n",
       "    <tr>\n",
       "      <th>24733033</th>\n",
       "      <td>1</td>\n",
       "      <td>1</td>\n",
       "      <td>4</td>\n",
       "      <td>5</td>\n",
       "      <td>1400</td>\n",
       "      <td>1510</td>\n",
       "      <td>70</td>\n",
       "      <td>190</td>\n",
       "      <td>1</td>\n",
       "      <td>2003.0</td>\n",
       "      <td>...</td>\n",
       "      <td>1T</td>\n",
       "      <td>5</td>\n",
       "      <td>V</td>\n",
       "      <td>GE</td>\n",
       "      <td>CF34 SERIES</td>\n",
       "      <td>5.0</td>\n",
       "      <td>BOMBARDIER INC</td>\n",
       "      <td>CL-600-2B19</td>\n",
       "      <td>5.0</td>\n",
       "      <td>0</td>\n",
       "    </tr>\n",
       "    <tr>\n",
       "      <th>24733034</th>\n",
       "      <td>1</td>\n",
       "      <td>1</td>\n",
       "      <td>4</td>\n",
       "      <td>5</td>\n",
       "      <td>0935</td>\n",
       "      <td>1118</td>\n",
       "      <td>103</td>\n",
       "      <td>438</td>\n",
       "      <td>2</td>\n",
       "      <td>2002.0</td>\n",
       "      <td>...</td>\n",
       "      <td>1T</td>\n",
       "      <td>5</td>\n",
       "      <td>V</td>\n",
       "      <td>GE</td>\n",
       "      <td>CF34 SERIES</td>\n",
       "      <td>5.0</td>\n",
       "      <td>BOMBARDIER INC</td>\n",
       "      <td>CL-600-2B19</td>\n",
       "      <td>5.0</td>\n",
       "      <td>0</td>\n",
       "    </tr>\n",
       "    <tr>\n",
       "      <th>24733035</th>\n",
       "      <td>1</td>\n",
       "      <td>1</td>\n",
       "      <td>4</td>\n",
       "      <td>5</td>\n",
       "      <td>0643</td>\n",
       "      <td>0855</td>\n",
       "      <td>132</td>\n",
       "      <td>513</td>\n",
       "      <td>3</td>\n",
       "      <td>2002.0</td>\n",
       "      <td>...</td>\n",
       "      <td>1T</td>\n",
       "      <td>5</td>\n",
       "      <td>V</td>\n",
       "      <td>GE</td>\n",
       "      <td>CF34 SERIES</td>\n",
       "      <td>5.0</td>\n",
       "      <td>BOMBARDIER INC</td>\n",
       "      <td>CL-600-2B19</td>\n",
       "      <td>5.0</td>\n",
       "      <td>0</td>\n",
       "    </tr>\n",
       "    <tr>\n",
       "      <th>24733036</th>\n",
       "      <td>1</td>\n",
       "      <td>1</td>\n",
       "      <td>4</td>\n",
       "      <td>5</td>\n",
       "      <td>1335</td>\n",
       "      <td>1433</td>\n",
       "      <td>118</td>\n",
       "      <td>576</td>\n",
       "      <td>3</td>\n",
       "      <td>2002.0</td>\n",
       "      <td>...</td>\n",
       "      <td>1T</td>\n",
       "      <td>5</td>\n",
       "      <td>V</td>\n",
       "      <td>GE</td>\n",
       "      <td>CF34 SERIES</td>\n",
       "      <td>5.0</td>\n",
       "      <td>BOMBARDIER INC</td>\n",
       "      <td>CL-600-2B19</td>\n",
       "      <td>5.0</td>\n",
       "      <td>0</td>\n",
       "    </tr>\n",
       "    <tr>\n",
       "      <th>24733037</th>\n",
       "      <td>1</td>\n",
       "      <td>1</td>\n",
       "      <td>4</td>\n",
       "      <td>5</td>\n",
       "      <td>0836</td>\n",
       "      <td>1040</td>\n",
       "      <td>184</td>\n",
       "      <td>896</td>\n",
       "      <td>4</td>\n",
       "      <td>2014.0</td>\n",
       "      <td>...</td>\n",
       "      <td>1T</td>\n",
       "      <td>5</td>\n",
       "      <td>V</td>\n",
       "      <td>GE</td>\n",
       "      <td>CF34-8E5</td>\n",
       "      <td>5.0</td>\n",
       "      <td>EMBRAER</td>\n",
       "      <td>ERJ 170-200 LR</td>\n",
       "      <td>5.0</td>\n",
       "      <td>0</td>\n",
       "    </tr>\n",
       "    <tr>\n",
       "      <th>...</th>\n",
       "      <td>...</td>\n",
       "      <td>...</td>\n",
       "      <td>...</td>\n",
       "      <td>...</td>\n",
       "      <td>...</td>\n",
       "      <td>...</td>\n",
       "      <td>...</td>\n",
       "      <td>...</td>\n",
       "      <td>...</td>\n",
       "      <td>...</td>\n",
       "      <td>...</td>\n",
       "      <td>...</td>\n",
       "      <td>...</td>\n",
       "      <td>...</td>\n",
       "      <td>...</td>\n",
       "      <td>...</td>\n",
       "      <td>...</td>\n",
       "      <td>...</td>\n",
       "      <td>...</td>\n",
       "      <td>...</td>\n",
       "      <td>...</td>\n",
       "    </tr>\n",
       "    <tr>\n",
       "      <th>32288695</th>\n",
       "      <td>4</td>\n",
       "      <td>12</td>\n",
       "      <td>1</td>\n",
       "      <td>7</td>\n",
       "      <td>0600</td>\n",
       "      <td>0802</td>\n",
       "      <td>122</td>\n",
       "      <td>762</td>\n",
       "      <td>4</td>\n",
       "      <td>2018.0</td>\n",
       "      <td>...</td>\n",
       "      <td>1T</td>\n",
       "      <td>5</td>\n",
       "      <td>V</td>\n",
       "      <td>CFM INTL</td>\n",
       "      <td>CFM56-5B3/3</td>\n",
       "      <td>5.0</td>\n",
       "      <td>AIRBUS</td>\n",
       "      <td>A321-211</td>\n",
       "      <td>5.0</td>\n",
       "      <td>0</td>\n",
       "    </tr>\n",
       "    <tr>\n",
       "      <th>32288696</th>\n",
       "      <td>4</td>\n",
       "      <td>12</td>\n",
       "      <td>1</td>\n",
       "      <td>7</td>\n",
       "      <td>1209</td>\n",
       "      <td>1438</td>\n",
       "      <td>209</td>\n",
       "      <td>1310</td>\n",
       "      <td>6</td>\n",
       "      <td>1999.0</td>\n",
       "      <td>...</td>\n",
       "      <td>1T</td>\n",
       "      <td>5</td>\n",
       "      <td>V</td>\n",
       "      <td>P &amp; W</td>\n",
       "      <td>PW2037</td>\n",
       "      <td>5.0</td>\n",
       "      <td>BOEING</td>\n",
       "      <td>757-232</td>\n",
       "      <td>5.0</td>\n",
       "      <td>0</td>\n",
       "    </tr>\n",
       "    <tr>\n",
       "      <th>32288697</th>\n",
       "      <td>4</td>\n",
       "      <td>12</td>\n",
       "      <td>1</td>\n",
       "      <td>7</td>\n",
       "      <td>0650</td>\n",
       "      <td>1110</td>\n",
       "      <td>200</td>\n",
       "      <td>1310</td>\n",
       "      <td>6</td>\n",
       "      <td>1999.0</td>\n",
       "      <td>...</td>\n",
       "      <td>1T</td>\n",
       "      <td>5</td>\n",
       "      <td>V</td>\n",
       "      <td>P &amp; W</td>\n",
       "      <td>PW2037</td>\n",
       "      <td>5.0</td>\n",
       "      <td>BOEING</td>\n",
       "      <td>757-232</td>\n",
       "      <td>5.0</td>\n",
       "      <td>0</td>\n",
       "    </tr>\n",
       "    <tr>\n",
       "      <th>32288698</th>\n",
       "      <td>4</td>\n",
       "      <td>12</td>\n",
       "      <td>1</td>\n",
       "      <td>7</td>\n",
       "      <td>1639</td>\n",
       "      <td>1932</td>\n",
       "      <td>293</td>\n",
       "      <td>1851</td>\n",
       "      <td>8</td>\n",
       "      <td>2000.0</td>\n",
       "      <td>...</td>\n",
       "      <td>1T</td>\n",
       "      <td>5</td>\n",
       "      <td>V</td>\n",
       "      <td>P &amp; W</td>\n",
       "      <td>PW2037</td>\n",
       "      <td>5.0</td>\n",
       "      <td>BOEING</td>\n",
       "      <td>757-232</td>\n",
       "      <td>5.0</td>\n",
       "      <td>0</td>\n",
       "    </tr>\n",
       "    <tr>\n",
       "      <th>32288699</th>\n",
       "      <td>4</td>\n",
       "      <td>12</td>\n",
       "      <td>1</td>\n",
       "      <td>7</td>\n",
       "      <td>0935</td>\n",
       "      <td>1539</td>\n",
       "      <td>244</td>\n",
       "      <td>1851</td>\n",
       "      <td>8</td>\n",
       "      <td>2000.0</td>\n",
       "      <td>...</td>\n",
       "      <td>1T</td>\n",
       "      <td>5</td>\n",
       "      <td>V</td>\n",
       "      <td>P &amp; W</td>\n",
       "      <td>PW2037</td>\n",
       "      <td>5.0</td>\n",
       "      <td>BOEING</td>\n",
       "      <td>757-232</td>\n",
       "      <td>5.0</td>\n",
       "      <td>0</td>\n",
       "    </tr>\n",
       "  </tbody>\n",
       "</table>\n",
       "<p>7127086 rows × 33 columns</p>\n",
       "</div>"
      ],
      "text/plain": [
       "          Quarter  Month  DayofMonth  DayOfWeek CRSDepTime CRSArrTime  \\\n",
       "24733033        1      1           4          5       1400       1510   \n",
       "24733034        1      1           4          5       0935       1118   \n",
       "24733035        1      1           4          5       0643       0855   \n",
       "24733036        1      1           4          5       1335       1433   \n",
       "24733037        1      1           4          5       0836       1040   \n",
       "...           ...    ...         ...        ...        ...        ...   \n",
       "32288695        4     12           1          7       0600       0802   \n",
       "32288696        4     12           1          7       1209       1438   \n",
       "32288697        4     12           1          7       0650       1110   \n",
       "32288698        4     12           1          7       1639       1932   \n",
       "32288699        4     12           1          7       0935       1539   \n",
       "\n",
       "          CRSElapsedTime  Distance DistanceGroup  YEAR MFR  ...  \\\n",
       "24733033              70       190             1    2003.0  ...   \n",
       "24733034             103       438             2    2002.0  ...   \n",
       "24733035             132       513             3    2002.0  ...   \n",
       "24733036             118       576             3    2002.0  ...   \n",
       "24733037             184       896             4    2014.0  ...   \n",
       "...                  ...       ...           ...       ...  ...   \n",
       "32288695             122       762             4    2018.0  ...   \n",
       "32288696             209      1310             6    1999.0  ...   \n",
       "32288697             200      1310             6    1999.0  ...   \n",
       "32288698             293      1851             8    2000.0  ...   \n",
       "32288699             244      1851             8    2000.0  ...   \n",
       "\n",
       "          CERTIFICATION  TYPE ENGINE  STATUS CODE       MFR          MODEL  \\\n",
       "24733033             1T            5            V        GE  CF34 SERIES     \n",
       "24733034             1T            5            V        GE  CF34 SERIES     \n",
       "24733035             1T            5            V        GE  CF34 SERIES     \n",
       "24733036             1T            5            V        GE  CF34 SERIES     \n",
       "24733037             1T            5            V        GE  CF34-8E5        \n",
       "...                 ...          ...          ...       ...            ...   \n",
       "32288695             1T            5            V  CFM INTL  CFM56-5B3/3     \n",
       "32288696             1T            5            V     P & W  PW2037          \n",
       "32288697             1T            5            V     P & W  PW2037          \n",
       "32288698             1T            5            V     P & W  PW2037          \n",
       "32288699             1T            5            V     P & W  PW2037          \n",
       "\n",
       "          TYPE    MFR_aircraft        MODEL_aircraft TYPE-ENG WeatherDelay  \n",
       "24733033   5.0  BOMBARDIER INC  CL-600-2B19               5.0            0  \n",
       "24733034   5.0  BOMBARDIER INC  CL-600-2B19               5.0            0  \n",
       "24733035   5.0  BOMBARDIER INC  CL-600-2B19               5.0            0  \n",
       "24733036   5.0  BOMBARDIER INC  CL-600-2B19               5.0            0  \n",
       "24733037   5.0         EMBRAER  ERJ 170-200 LR            5.0            0  \n",
       "...        ...             ...                   ...      ...          ...  \n",
       "32288695   5.0          AIRBUS  A321-211                  5.0            0  \n",
       "32288696   5.0          BOEING  757-232                   5.0            0  \n",
       "32288697   5.0          BOEING  757-232                   5.0            0  \n",
       "32288698   5.0          BOEING  757-232                   5.0            0  \n",
       "32288699   5.0          BOEING  757-232                   5.0            0  \n",
       "\n",
       "[7127086 rows x 33 columns]"
      ]
     },
     "execution_count": 22,
     "metadata": {},
     "output_type": "execute_result"
    }
   ],
   "source": [
    "weather_df\n",
    "\n",
    "# 7127086 rows × 33 columns"
   ]
  },
  {
   "cell_type": "code",
   "execution_count": 3,
   "metadata": {},
   "outputs": [],
   "source": [
    "# Checkpoint\n",
    "\n",
    "# weather_df.to_parquet(f\"{SCRATCH_DIR}/weather_features_2019.parquet\")\n",
    "\n",
    "weather_df = pd.read_parquet(f\"{SCRATCH_DIR}/weather_features_2019.parquet\")"
   ]
  },
  {
   "cell_type": "code",
   "execution_count": 4,
   "metadata": {},
   "outputs": [
    {
     "data": {
      "text/plain": [
       "delayed\n",
       "False    7037279\n",
       "True       52754\n",
       "Name: count, dtype: int64"
      ]
     },
     "execution_count": 4,
     "metadata": {},
     "output_type": "execute_result"
    }
   ],
   "source": [
    "list(weather_df.columns)\n",
    "\n",
    "num_cols = [\n",
    "    \"Quarter\",\n",
    "    \"Month\",\n",
    "    \"DayofMonth\",\n",
    "    \"DayOfWeek\",\n",
    "    \"CRSDepTime\",\n",
    "    \"CRSArrTime\",\n",
    "    \"CRSElapsedTime\",\n",
    "    \"Distance\",\n",
    "    \"DistanceGroup\",\n",
    "    \"YEAR MFR\",\n",
    "    \"HORSEPOWER\",\n",
    "    \"THRUST\",\n",
    "    \"NO-SEATS\",\n",
    "    \"Origin_LATITUDE\",\n",
    "    \"Origin_LONGITUDE\",\n",
    "    \"Dest_LATITUDE\",\n",
    "    \"Dest_LONGITUDE\",\n",
    "]\n",
    "cat_cols = [\n",
    "    \"Reporting_Airline\",\n",
    "    \"Tail_Number\",\n",
    "    \"Origin\",\n",
    "    \"Dest\",\n",
    "    \"TYPE REGISTRANT\",\n",
    "    \"NAME\",\n",
    "    \"CERTIFICATION\",\n",
    "    \"TYPE ENGINE\",\n",
    "    \"STATUS CODE\",\n",
    "    \"MFR\",\n",
    "    \"MODEL\",\n",
    "    \"TYPE\",\n",
    "    \"MFR_aircraft\",\n",
    "    \"MODEL_aircraft\",\n",
    "    \"TYPE-ENG\",\n",
    "    #  'WeatherDelay' # convert this to \"delayed\"\n",
    "]\n",
    "\n",
    "weather_df[\"delayed\"] = weather_df[\"WeatherDelay\"].gt(15)\n",
    "\n",
    "labeled_df = weather_df.drop(\"WeatherDelay\", axis=1)\n",
    "\n",
    "labeled_df = labeled_df.dropna(axis=\"index\", how=(\"any\"))\n",
    "\n",
    "labeled_df.value_counts(\"delayed\")\n",
    "# False    7074065\n",
    "# True       53021"
   ]
  },
  {
   "cell_type": "code",
   "execution_count": 5,
   "metadata": {},
   "outputs": [
    {
     "name": "stdout",
     "output_type": "stream",
     "text": [
      "Elapsed time: 48.3881 seconds\n"
     ]
    }
   ],
   "source": [
    "from sklearn.preprocessing import StandardScaler, OneHotEncoder\n",
    "from sklearn.compose import ColumnTransformer\n",
    "\n",
    "\n",
    "start_time = time.time()\n",
    "\n",
    "X = labeled_df.drop(\"delayed\", axis=1)\n",
    "y = labeled_df[\"delayed\"]\n",
    "\n",
    "preprocessor = ColumnTransformer(\n",
    "    transformers=[\n",
    "        (\"num\", StandardScaler(), num_cols),\n",
    "        (\"cat\", OneHotEncoder(), cat_cols),\n",
    "    ]\n",
    ")\n",
    "\n",
    "X_transformed = preprocessor.fit_transform(X)\n",
    "\n",
    "end_time = time.time()\n",
    "\n",
    "print(f\"Elapsed time: {(end_time - start_time):.4f} seconds\")"
   ]
  },
  {
   "cell_type": "code",
   "execution_count": 6,
   "metadata": {},
   "outputs": [
    {
     "name": "stdout",
     "output_type": "stream",
     "text": [
      "Elapsed time: 3.8956 seconds\n"
     ]
    }
   ],
   "source": [
    "from sklearn.model_selection import train_test_split\n",
    "\n",
    "\n",
    "start_time = time.time()\n",
    "\n",
    "X_train, X_test, y_train, y_test = train_test_split(\n",
    "    X_transformed, y, test_size=0.2, random_state=42\n",
    ")\n",
    "\n",
    "end_time = time.time()\n",
    "\n",
    "print(f\"Elapsed time: {(end_time - start_time):.4f} seconds\")"
   ]
  },
  {
   "cell_type": "code",
   "execution_count": 7,
   "metadata": {},
   "outputs": [
    {
     "name": "stdout",
     "output_type": "stream",
     "text": [
      "Elapsed time: 1242.5752 seconds\n"
     ]
    }
   ],
   "source": [
    "from imblearn.over_sampling import SMOTE\n",
    "\n",
    "start_time = time.time()\n",
    "\n",
    "smote = SMOTE(sampling_strategy=1, random_state=42)\n",
    "X_res, y_res = smote.fit_resample(X_train, y_train)\n",
    "\n",
    "end_time = time.time()\n",
    "\n",
    "print(f\"Elapsed time: {(end_time - start_time):.4f} seconds\")"
   ]
  },
  {
   "cell_type": "code",
   "execution_count": 10,
   "metadata": {},
   "outputs": [],
   "source": [
    "with open(f\"{SCRATCH_DIR}/14_weather_2019_X_res_auto.pkl\", \"wb\") as f:\n",
    "    pickle.dump(X_res, f)\n",
    "\n",
    "with open(f\"{SCRATCH_DIR}/14_weather_2019_y_res_auto.pkl\", \"wb\") as f:\n",
    "    pickle.dump(y_res, f)"
   ]
  },
  {
   "cell_type": "code",
   "execution_count": 7,
   "metadata": {},
   "outputs": [],
   "source": [
    "from sklearn.model_selection import GridSearchCV\n",
    "from sklearn.ensemble import HistGradientBoostingClassifier\n",
    "\n",
    "\n",
    "def fit_grid_search_gradient_boost(fit_X_train, fit_y_train):\n",
    "    hist_gb_param_grid = {\n",
    "        \"learning_rate\": [0.1], #[0.01, 0.1, 0.5],\n",
    "        \"max_iter\": [100], #[50, 100, 200],\n",
    "        \"max_depth\": [None], #[None, 10, 20],\n",
    "        \"min_samples_leaf\": [40], #[20, 40, 60],\n",
    "        \"l2_regularization\": [0], #[0.0, 1.0, 2.0]\n",
    "    }\n",
    "\n",
    "    hist_gb_grid_search = GridSearchCV(HistGradientBoostingClassifier(), hist_gb_param_grid, cv=5)\n",
    "\n",
    "    hist_gb_grid_search.fit(fit_X_train, fit_y_train)\n",
    "\n",
    "    print(\"Best HistGradientBoosting parameters: \", hist_gb_grid_search.best_params_)\n",
    "    print(\"Best HistGradientBoosting score: \", hist_gb_grid_search.best_score_)\n",
    "    \n",
    "    return hist_gb_grid_search"
   ]
  },
  {
   "cell_type": "code",
   "execution_count": 8,
   "metadata": {},
   "outputs": [
    {
     "name": "stdout",
     "output_type": "stream",
     "text": [
      "Best HistGradientBoosting parameters:  {'l2_regularization': 0, 'learning_rate': 0.1, 'max_depth': None, 'max_iter': 100, 'min_samples_leaf': 40}\n",
      "Best HistGradientBoosting score:  0.992322143804134\n",
      "Elapsed time: 574.2873 seconds\n"
     ]
    }
   ],
   "source": [
    "start_time = time.time()\n",
    "\n",
    "model = fit_grid_search_gradient_boost(X_train, y_train)\n",
    "\n",
    "end_time = time.time()\n",
    "\n",
    "print(f\"Elapsed time: {(end_time - start_time):.4f} seconds\")"
   ]
  },
  {
   "cell_type": "code",
   "execution_count": 9,
   "metadata": {},
   "outputs": [],
   "source": [
    "# Checkpoint on the Gradient Boost model\n",
    "\n",
    "with open(f\"{SCRATCH_DIR}/14_weather_delays_gradient_boost.pkl\", \"wb\") as f:\n",
    "    pickle.dump(model, f)\n",
    "\n",
    "# with open(f\"{SCRATCH_DIR}/14_weather_delays_gradient_boost.pkl\", \"rb\") as f:\n",
    "#     model = pickle.load(f)"
   ]
  },
  {
   "cell_type": "markdown",
   "metadata": {},
   "source": [
    "# Model Evaluation"
   ]
  },
  {
   "cell_type": "code",
   "execution_count": 10,
   "metadata": {},
   "outputs": [],
   "source": [
    "from sklearn.metrics import (\n",
    "    accuracy_score,\n",
    "    precision_score,\n",
    "    recall_score,\n",
    "    f1_score,\n",
    "    confusion_matrix,\n",
    "    ConfusionMatrixDisplay,\n",
    "    roc_curve,\n",
    "    precision_recall_curve,\n",
    ")\n",
    "\n",
    "y_pred = model.predict(X_test)"
   ]
  },
  {
   "cell_type": "code",
   "execution_count": 11,
   "metadata": {},
   "outputs": [
    {
     "data": {
      "image/png": "[encoded data removed]",
      "text/plain": [
       "<Figure size 640x480 with 2 Axes>"
      ]
     },
     "metadata": {},
     "output_type": "display_data"
    }
   ],
   "source": [
    "cm = confusion_matrix(y_test, y_pred)\n",
    "\n",
    "ConfusionMatrixDisplay(\n",
    "    confusion_matrix=cm, display_labels=[\"Not Delayed\", \"Delayed\"]\n",
    ").plot(cmap=\"Blues\")\n",
    "plt.title(\"Confusion Matrix\")\n",
    "plt.show()"
   ]
  },
  {
   "cell_type": "code",
   "execution_count": 138,
   "metadata": {},
   "outputs": [
    {
     "data": {
      "text/plain": [
       "array([[1225409,  182135],\n",
       "       [   2756,    7707]])"
      ]
     },
     "execution_count": 138,
     "metadata": {},
     "output_type": "execute_result"
    }
   ],
   "source": [
    "cm\n",
    "\n",
    "# DL Confusion Matrix\n",
    "# array([[97923, 45244],\n",
    "#        [11049, 20599]])"
   ]
  },
  {
   "cell_type": "code",
   "execution_count": 12,
   "metadata": {},
   "outputs": [
    {
     "data": {
      "image/png": "[encoded data removed]",
      "text/plain": [
       "<Figure size 640x480 with 1 Axes>"
      ]
     },
     "metadata": {},
     "output_type": "display_data"
    }
   ],
   "source": [
    "y_scores = model.predict_proba(X_test)[:, 1]\n",
    "\n",
    "precision, recall, _ = precision_recall_curve(y_test, y_scores)\n",
    "\n",
    "plt.figure()\n",
    "plt.step(recall, precision, where='post')\n",
    "plt.xlabel('Recall')\n",
    "plt.ylabel('Precision')\n",
    "plt.title('Precision-Recall Curve')\n",
    "plt.show()\n"
   ]
  },
  {
   "cell_type": "code",
   "execution_count": 13,
   "metadata": {},
   "outputs": [
    {
     "data": {
      "text/plain": [
       "0.5217898759241941"
      ]
     },
     "execution_count": 13,
     "metadata": {},
     "output_type": "execute_result"
    }
   ],
   "source": [
    "from sklearn.metrics import roc_auc_score\n",
    "\n",
    "\n",
    "y_pred_proba = model.best_estimator_.predict_proba(X_test)\n",
    "\n",
    "ra_score = roc_auc_score(y_test, y_pred, average=\"macro\", multi_class=\"ovr\")\n",
    "\n",
    "# xgboost\n",
    "# 0.803598235336136\n",
    "\n",
    "# gradient boost\n",
    "# 0.5217898759241941\n",
    "ra_score"
   ]
  },
  {
   "cell_type": "code",
   "execution_count": 16,
   "metadata": {},
   "outputs": [
    {
     "data": {
      "image/png": "[encoded data removed]",
      "text/plain": [
       "<Figure size 640x480 with 1 Axes>"
      ]
     },
     "metadata": {},
     "output_type": "display_data"
    }
   ],
   "source": [
    "fpr, tpr, _ = roc_curve(y_test, model.predict_proba(X_test)[:, 1])\n",
    "\n",
    "plt.figure()\n",
    "plt.plot(fpr, tpr, color=\"darkorange\", label=\"ROC curve\")\n",
    "plt.plot([0, 1], [0, 1], color=\"navy\", linestyle=\"--\")\n",
    "plt.xlabel(\"False Positive Rate\")\n",
    "plt.ylabel(\"True Positive Rate\")\n",
    "plt.title(\"Receiver Operating Characteristic\")\n",
    "plt.legend(loc=\"lower right\")\n",
    "plt.show()"
   ]
  },
  {
   "cell_type": "code",
   "execution_count": 17,
   "metadata": {},
   "outputs": [
    {
     "data": {
      "application/vnd.plotly.v1+json": {
       "config": {
        "plotlyServerURL": "https://plot.ly"
       },
       "data": [
        {
         "alignmentgroup": "True",
         "hovertemplate": "Metric=%{y}<br>Score=%{text}<extra></extra>",
         "legendgroup": "Accuracy",
         "marker": {
          "color": "#636efa",
          "pattern": {
           "shape": ""
          }
         },
         "name": "Accuracy",
         "offsetgroup": "Accuracy",
         "orientation": "h",
         "showlegend": true,
         "text": [
          0.9924697127729271
         ],
         "textposition": "auto",
         "type": "bar",
         "x": [
          0.9924697127729271
         ],
         "xaxis": "x",
         "y": [
          "Accuracy"
         ],
         "yaxis": "y"
        },
        {
         "alignmentgroup": "True",
         "hovertemplate": "Metric=%{y}<br>Score=%{text}<extra></extra>",
         "legendgroup": "Precision",
         "marker": {
          "color": "#EF553B",
          "pattern": {
           "shape": ""
          }
         },
         "name": "Precision",
         "offsetgroup": "Precision",
         "orientation": "h",
         "showlegend": true,
         "text": [
          0.405452946350044
         ],
         "textposition": "auto",
         "type": "bar",
         "x": [
          0.405452946350044
         ],
         "xaxis": "x",
         "y": [
          "Precision"
         ],
         "yaxis": "y"
        },
        {
         "alignmentgroup": "True",
         "hovertemplate": "Metric=%{y}<br>Score=%{text}<extra></extra>",
         "legendgroup": "Recall",
         "marker": {
          "color": "#00cc96",
          "pattern": {
           "shape": ""
          }
         },
         "name": "Recall",
         "offsetgroup": "Recall",
         "orientation": "h",
         "showlegend": true,
         "text": [
          0.044060021026474244
         ],
         "textposition": "auto",
         "type": "bar",
         "x": [
          0.044060021026474244
         ],
         "xaxis": "x",
         "y": [
          "Recall"
         ],
         "yaxis": "y"
        },
        {
         "alignmentgroup": "True",
         "hovertemplate": "Metric=%{y}<br>Score=%{text}<extra></extra>",
         "legendgroup": "F1 Score",
         "marker": {
          "color": "#ab63fa",
          "pattern": {
           "shape": ""
          }
         },
         "name": "F1 Score",
         "offsetgroup": "F1 Score",
         "orientation": "h",
         "showlegend": true,
         "text": [
          0.07948275862068965
         ],
         "textposition": "auto",
         "type": "bar",
         "x": [
          0.07948275862068965
         ],
         "xaxis": "x",
         "y": [
          "F1 Score"
         ],
         "yaxis": "y"
        }
       ],
       "layout": {
        "barmode": "relative",
        "legend": {
         "title": {
          "text": "Metric"
         },
         "tracegroupgap": 0
        },
        "showlegend": false,
        "template": {
         "data": {
          "bar": [
           {
            "error_x": {
             "color": "#2a3f5f"
            },
            "error_y": {
             "color": "#2a3f5f"
            },
            "marker": {
             "line": {
              "color": "#E5ECF6",
              "width": 0.5
             },
             "pattern": {
              "fillmode": "overlay",
              "size": 10,
              "solidity": 0.2
             }
            },
            "type": "bar"
           }
          ],
          "barpolar": [
           {
            "marker": {
             "line": {
              "color": "#E5ECF6",
              "width": 0.5
             },
             "pattern": {
              "fillmode": "overlay",
              "size": 10,
              "solidity": 0.2
             }
            },
            "type": "barpolar"
           }
          ],
          "carpet": [
           {
            "aaxis": {
             "endlinecolor": "#2a3f5f",
             "gridcolor": "white",
             "linecolor": "white",
             "minorgridcolor": "white",
             "startlinecolor": "#2a3f5f"
            },
            "baxis": {
             "endlinecolor": "#2a3f5f",
             "gridcolor": "white",
             "linecolor": "white",
             "minorgridcolor": "white",
             "startlinecolor": "#2a3f5f"
            },
            "type": "carpet"
           }
          ],
          "choropleth": [
           {
            "colorbar": {
             "outlinewidth": 0,
             "ticks": ""
            },
            "type": "choropleth"
           }
          ],
          "contour": [
           {
            "colorbar": {
             "outlinewidth": 0,
             "ticks": ""
            },
            "colorscale": [
             [
              0,
              "#0d0887"
             ],
             [
              0.1111111111111111,
              "#46039f"
             ],
             [
              0.2222222222222222,
              "#7201a8"
             ],
             [
              0.3333333333333333,
              "#9c179e"
             ],
             [
              0.4444444444444444,
              "#bd3786"
             ],
             [
              0.5555555555555556,
              "#d8576b"
             ],
             [
              0.6666666666666666,
              "#ed7953"
             ],
             [
              0.7777777777777778,
              "#fb9f3a"
             ],
             [
              0.8888888888888888,
              "#fdca26"
             ],
             [
              1,
              "#f0f921"
             ]
            ],
            "type": "contour"
           }
          ],
          "contourcarpet": [
           {
            "colorbar": {
             "outlinewidth": 0,
             "ticks": ""
            },
            "type": "contourcarpet"
           }
          ],
          "heatmap": [
           {
            "colorbar": {
             "outlinewidth": 0,
             "ticks": ""
            },
            "colorscale": [
             [
              0,
              "#0d0887"
             ],
             [
              0.1111111111111111,
              "#46039f"
             ],
             [
              0.2222222222222222,
              "#7201a8"
             ],
             [
              0.3333333333333333,
              "#9c179e"
             ],
             [
              0.4444444444444444,
              "#bd3786"
             ],
             [
              0.5555555555555556,
              "#d8576b"
             ],
             [
              0.6666666666666666,
              "#ed7953"
             ],
             [
              0.7777777777777778,
              "#fb9f3a"
             ],
             [
              0.8888888888888888,
              "#fdca26"
             ],
             [
              1,
              "#f0f921"
             ]
            ],
            "type": "heatmap"
           }
          ],
          "heatmapgl": [
           {
            "colorbar": {
             "outlinewidth": 0,
             "ticks": ""
            },
            "colorscale": [
             [
              0,
              "#0d0887"
             ],
             [
              0.1111111111111111,
              "#46039f"
             ],
             [
              0.2222222222222222,
              "#7201a8"
             ],
             [
              0.3333333333333333,
              "#9c179e"
             ],
             [
              0.4444444444444444,
              "#bd3786"
             ],
             [
              0.5555555555555556,
              "#d8576b"
             ],
             [
              0.6666666666666666,
              "#ed7953"
             ],
             [
              0.7777777777777778,
              "#fb9f3a"
             ],
             [
              0.8888888888888888,
              "#fdca26"
             ],
             [
              1,
              "#f0f921"
             ]
            ],
            "type": "heatmapgl"
           }
          ],
          "histogram": [
           {
            "marker": {
             "pattern": {
              "fillmode": "overlay",
              "size": 10,
              "solidity": 0.2
             }
            },
            "type": "histogram"
           }
          ],
          "histogram2d": [
           {
            "colorbar": {
             "outlinewidth": 0,
             "ticks": ""
            },
            "colorscale": [
             [
              0,
              "#0d0887"
             ],
             [
              0.1111111111111111,
              "#46039f"
             ],
             [
              0.2222222222222222,
              "#7201a8"
             ],
             [
              0.3333333333333333,
              "#9c179e"
             ],
             [
              0.4444444444444444,
              "#bd3786"
             ],
             [
              0.5555555555555556,
              "#d8576b"
             ],
             [
              0.6666666666666666,
              "#ed7953"
             ],
             [
              0.7777777777777778,
              "#fb9f3a"
             ],
             [
              0.8888888888888888,
              "#fdca26"
             ],
             [
              1,
              "#f0f921"
             ]
            ],
            "type": "histogram2d"
           }
          ],
          "histogram2dcontour": [
           {
            "colorbar": {
             "outlinewidth": 0,
             "ticks": ""
            },
            "colorscale": [
             [
              0,
              "#0d0887"
             ],
             [
              0.1111111111111111,
              "#46039f"
             ],
             [
              0.2222222222222222,
              "#7201a8"
             ],
             [
              0.3333333333333333,
              "#9c179e"
             ],
             [
              0.4444444444444444,
              "#bd3786"
             ],
             [
              0.5555555555555556,
              "#d8576b"
             ],
             [
              0.6666666666666666,
              "#ed7953"
             ],
             [
              0.7777777777777778,
              "#fb9f3a"
             ],
             [
              0.8888888888888888,
              "#fdca26"
             ],
             [
              1,
              "#f0f921"
             ]
            ],
            "type": "histogram2dcontour"
           }
          ],
          "mesh3d": [
           {
            "colorbar": {
             "outlinewidth": 0,
             "ticks": ""
            },
            "type": "mesh3d"
           }
          ],
          "parcoords": [
           {
            "line": {
             "colorbar": {
              "outlinewidth": 0,
              "ticks": ""
             }
            },
            "type": "parcoords"
           }
          ],
          "pie": [
           {
            "automargin": true,
            "type": "pie"
           }
          ],
          "scatter": [
           {
            "fillpattern": {
             "fillmode": "overlay",
             "size": 10,
             "solidity": 0.2
            },
            "type": "scatter"
           }
          ],
          "scatter3d": [
           {
            "line": {
             "colorbar": {
              "outlinewidth": 0,
              "ticks": ""
             }
            },
            "marker": {
             "colorbar": {
              "outlinewidth": 0,
              "ticks": ""
             }
            },
            "type": "scatter3d"
           }
          ],
          "scattercarpet": [
           {
            "marker": {
             "colorbar": {
              "outlinewidth": 0,
              "ticks": ""
             }
            },
            "type": "scattercarpet"
           }
          ],
          "scattergeo": [
           {
            "marker": {
             "colorbar": {
              "outlinewidth": 0,
              "ticks": ""
             }
            },
            "type": "scattergeo"
           }
          ],
          "scattergl": [
           {
            "marker": {
             "colorbar": {
              "outlinewidth": 0,
              "ticks": ""
             }
            },
            "type": "scattergl"
           }
          ],
          "scattermapbox": [
           {
            "marker": {
             "colorbar": {
              "outlinewidth": 0,
              "ticks": ""
             }
            },
            "type": "scattermapbox"
           }
          ],
          "scatterpolar": [
           {
            "marker": {
             "colorbar": {
              "outlinewidth": 0,
              "ticks": ""
             }
            },
            "type": "scatterpolar"
           }
          ],
          "scatterpolargl": [
           {
            "marker": {
             "colorbar": {
              "outlinewidth": 0,
              "ticks": ""
             }
            },
            "type": "scatterpolargl"
           }
          ],
          "scatterternary": [
           {
            "marker": {
             "colorbar": {
              "outlinewidth": 0,
              "ticks": ""
             }
            },
            "type": "scatterternary"
           }
          ],
          "surface": [
           {
            "colorbar": {
             "outlinewidth": 0,
             "ticks": ""
            },
            "colorscale": [
             [
              0,
              "#0d0887"
             ],
             [
              0.1111111111111111,
              "#46039f"
             ],
             [
              0.2222222222222222,
              "#7201a8"
             ],
             [
              0.3333333333333333,
              "#9c179e"
             ],
             [
              0.4444444444444444,
              "#bd3786"
             ],
             [
              0.5555555555555556,
              "#d8576b"
             ],
             [
              0.6666666666666666,
              "#ed7953"
             ],
             [
              0.7777777777777778,
              "#fb9f3a"
             ],
             [
              0.8888888888888888,
              "#fdca26"
             ],
             [
              1,
              "#f0f921"
             ]
            ],
            "type": "surface"
           }
          ],
          "table": [
           {
            "cells": {
             "fill": {
              "color": "#EBF0F8"
             },
             "line": {
              "color": "white"
             }
            },
            "header": {
             "fill": {
              "color": "#C8D4E3"
             },
             "line": {
              "color": "white"
             }
            },
            "type": "table"
           }
          ]
         },
         "layout": {
          "annotationdefaults": {
           "arrowcolor": "#2a3f5f",
           "arrowhead": 0,
           "arrowwidth": 1
          },
          "autotypenumbers": "strict",
          "coloraxis": {
           "colorbar": {
            "outlinewidth": 0,
            "ticks": ""
           }
          },
          "colorscale": {
           "diverging": [
            [
             0,
             "#8e0152"
            ],
            [
             0.1,
             "#c51b7d"
            ],
            [
             0.2,
             "#de77ae"
            ],
            [
             0.3,
             "#f1b6da"
            ],
            [
             0.4,
             "#fde0ef"
            ],
            [
             0.5,
             "#f7f7f7"
            ],
            [
             0.6,
             "#e6f5d0"
            ],
            [
             0.7,
             "#b8e186"
            ],
            [
             0.8,
             "#7fbc41"
            ],
            [
             0.9,
             "#4d9221"
            ],
            [
             1,
             "#276419"
            ]
           ],
           "sequential": [
            [
             0,
             "#0d0887"
            ],
            [
             0.1111111111111111,
             "#46039f"
            ],
            [
             0.2222222222222222,
             "#7201a8"
            ],
            [
             0.3333333333333333,
             "#9c179e"
            ],
            [
             0.4444444444444444,
             "#bd3786"
            ],
            [
             0.5555555555555556,
             "#d8576b"
            ],
            [
             0.6666666666666666,
             "#ed7953"
            ],
            [
             0.7777777777777778,
             "#fb9f3a"
            ],
            [
             0.8888888888888888,
             "#fdca26"
            ],
            [
             1,
             "#f0f921"
            ]
           ],
           "sequentialminus": [
            [
             0,
             "#0d0887"
            ],
            [
             0.1111111111111111,
             "#46039f"
            ],
            [
             0.2222222222222222,
             "#7201a8"
            ],
            [
             0.3333333333333333,
             "#9c179e"
            ],
            [
             0.4444444444444444,
             "#bd3786"
            ],
            [
             0.5555555555555556,
             "#d8576b"
            ],
            [
             0.6666666666666666,
             "#ed7953"
            ],
            [
             0.7777777777777778,
             "#fb9f3a"
            ],
            [
             0.8888888888888888,
             "#fdca26"
            ],
            [
             1,
             "#f0f921"
            ]
           ]
          },
          "colorway": [
           "#636efa",
           "#EF553B",
           "#00cc96",
           "#ab63fa",
           "#FFA15A",
           "#19d3f3",
           "#FF6692",
           "#B6E880",
           "#FF97FF",
           "#FECB52"
          ],
          "font": {
           "color": "#2a3f5f"
          },
          "geo": {
           "bgcolor": "white",
           "lakecolor": "white",
           "landcolor": "#E5ECF6",
           "showlakes": true,
           "showland": true,
           "subunitcolor": "white"
          },
          "hoverlabel": {
           "align": "left"
          },
          "hovermode": "closest",
          "mapbox": {
           "style": "light"
          },
          "paper_bgcolor": "white",
          "plot_bgcolor": "#E5ECF6",
          "polar": {
           "angularaxis": {
            "gridcolor": "white",
            "linecolor": "white",
            "ticks": ""
           },
           "bgcolor": "#E5ECF6",
           "radialaxis": {
            "gridcolor": "white",
            "linecolor": "white",
            "ticks": ""
           }
          },
          "scene": {
           "xaxis": {
            "backgroundcolor": "#E5ECF6",
            "gridcolor": "white",
            "gridwidth": 2,
            "linecolor": "white",
            "showbackground": true,
            "ticks": "",
            "zerolinecolor": "white"
           },
           "yaxis": {
            "backgroundcolor": "#E5ECF6",
            "gridcolor": "white",
            "gridwidth": 2,
            "linecolor": "white",
            "showbackground": true,
            "ticks": "",
            "zerolinecolor": "white"
           },
           "zaxis": {
            "backgroundcolor": "#E5ECF6",
            "gridcolor": "white",
            "gridwidth": 2,
            "linecolor": "white",
            "showbackground": true,
            "ticks": "",
            "zerolinecolor": "white"
           }
          },
          "shapedefaults": {
           "line": {
            "color": "#2a3f5f"
           }
          },
          "ternary": {
           "aaxis": {
            "gridcolor": "white",
            "linecolor": "white",
            "ticks": ""
           },
           "baxis": {
            "gridcolor": "white",
            "linecolor": "white",
            "ticks": ""
           },
           "bgcolor": "#E5ECF6",
           "caxis": {
            "gridcolor": "white",
            "linecolor": "white",
            "ticks": ""
           }
          },
          "title": {
           "x": 0.05
          },
          "xaxis": {
           "automargin": true,
           "gridcolor": "white",
           "linecolor": "white",
           "ticks": "",
           "title": {
            "standoff": 15
           },
           "zerolinecolor": "white",
           "zerolinewidth": 2
          },
          "yaxis": {
           "automargin": true,
           "gridcolor": "white",
           "linecolor": "white",
           "ticks": "",
           "title": {
            "standoff": 15
           },
           "zerolinecolor": "white",
           "zerolinewidth": 2
          }
         }
        },
        "title": {
         "text": "Evaluation Metrics"
        },
        "xaxis": {
         "anchor": "y",
         "domain": [
          0,
          1
         ],
         "title": {
          "text": "Score"
         }
        },
        "yaxis": {
         "anchor": "x",
         "categoryarray": [
          "F1 Score",
          "Recall",
          "Precision",
          "Accuracy"
         ],
         "categoryorder": "array",
         "domain": [
          0,
          1
         ],
         "title": {
          "text": "Metric"
         }
        }
       }
      },
      "text/html": [
       "<div>                            <div id=\"9708aaa5-d710-45df-9a67-baf871acd7af\" class=\"plotly-graph-div\" style=\"height:525px; width:100%;\"></div>            <script type=\"text/javascript\">                require([\"plotly\"], function(Plotly) {                    window.PLOTLYENV=window.PLOTLYENV || {};                                    if (document.getElementById(\"9708aaa5-d710-45df-9a67-baf871acd7af\")) {                    Plotly.newPlot(                        \"9708aaa5-d710-45df-9a67-baf871acd7af\",                        [{\"alignmentgroup\":\"True\",\"hovertemplate\":\"Metric=%{y}<br>Score=%{text}<extra></extra>\",\"legendgroup\":\"Accuracy\",\"marker\":{\"color\":\"#636efa\",\"pattern\":{\"shape\":\"\"}},\"name\":\"Accuracy\",\"offsetgroup\":\"Accuracy\",\"orientation\":\"h\",\"showlegend\":true,\"text\":[0.9924697127729271],\"textposition\":\"auto\",\"x\":[0.9924697127729271],\"xaxis\":\"x\",\"y\":[\"Accuracy\"],\"yaxis\":\"y\",\"type\":\"bar\"},{\"alignmentgroup\":\"True\",\"hovertemplate\":\"Metric=%{y}<br>Score=%{text}<extra></extra>\",\"legendgroup\":\"Precision\",\"marker\":{\"color\":\"#EF553B\",\"pattern\":{\"shape\":\"\"}},\"name\":\"Precision\",\"offsetgroup\":\"Precision\",\"orientation\":\"h\",\"showlegend\":true,\"text\":[0.405452946350044],\"textposition\":\"auto\",\"x\":[0.405452946350044],\"xaxis\":\"x\",\"y\":[\"Precision\"],\"yaxis\":\"y\",\"type\":\"bar\"},{\"alignmentgroup\":\"True\",\"hovertemplate\":\"Metric=%{y}<br>Score=%{text}<extra></extra>\",\"legendgroup\":\"Recall\",\"marker\":{\"color\":\"#00cc96\",\"pattern\":{\"shape\":\"\"}},\"name\":\"Recall\",\"offsetgroup\":\"Recall\",\"orientation\":\"h\",\"showlegend\":true,\"text\":[0.044060021026474244],\"textposition\":\"auto\",\"x\":[0.044060021026474244],\"xaxis\":\"x\",\"y\":[\"Recall\"],\"yaxis\":\"y\",\"type\":\"bar\"},{\"alignmentgroup\":\"True\",\"hovertemplate\":\"Metric=%{y}<br>Score=%{text}<extra></extra>\",\"legendgroup\":\"F1 Score\",\"marker\":{\"color\":\"#ab63fa\",\"pattern\":{\"shape\":\"\"}},\"name\":\"F1 Score\",\"offsetgroup\":\"F1 Score\",\"orientation\":\"h\",\"showlegend\":true,\"text\":[0.07948275862068965],\"textposition\":\"auto\",\"x\":[0.07948275862068965],\"xaxis\":\"x\",\"y\":[\"F1 Score\"],\"yaxis\":\"y\",\"type\":\"bar\"}],                        {\"template\":{\"data\":{\"histogram2dcontour\":[{\"type\":\"histogram2dcontour\",\"colorbar\":{\"outlinewidth\":0,\"ticks\":\"\"},\"colorscale\":[[0.0,\"#0d0887\"],[0.1111111111111111,\"#46039f\"],[0.2222222222222222,\"#7201a8\"],[0.3333333333333333,\"#9c179e\"],[0.4444444444444444,\"#bd3786\"],[0.5555555555555556,\"#d8576b\"],[0.6666666666666666,\"#ed7953\"],[0.7777777777777778,\"#fb9f3a\"],[0.8888888888888888,\"#fdca26\"],[1.0,\"#f0f921\"]]}],\"choropleth\":[{\"type\":\"choropleth\",\"colorbar\":{\"outlinewidth\":0,\"ticks\":\"\"}}],\"histogram2d\":[{\"type\":\"histogram2d\",\"colorbar\":{\"outlinewidth\":0,\"ticks\":\"\"},\"colorscale\":[[0.0,\"#0d0887\"],[0.1111111111111111,\"#46039f\"],[0.2222222222222222,\"#7201a8\"],[0.3333333333333333,\"#9c179e\"],[0.4444444444444444,\"#bd3786\"],[0.5555555555555556,\"#d8576b\"],[0.6666666666666666,\"#ed7953\"],[0.7777777777777778,\"#fb9f3a\"],[0.8888888888888888,\"#fdca26\"],[1.0,\"#f0f921\"]]}],\"heatmap\":[{\"type\":\"heatmap\",\"colorbar\":{\"outlinewidth\":0,\"ticks\":\"\"},\"colorscale\":[[0.0,\"#0d0887\"],[0.1111111111111111,\"#46039f\"],[0.2222222222222222,\"#7201a8\"],[0.3333333333333333,\"#9c179e\"],[0.4444444444444444,\"#bd3786\"],[0.5555555555555556,\"#d8576b\"],[0.6666666666666666,\"#ed7953\"],[0.7777777777777778,\"#fb9f3a\"],[0.8888888888888888,\"#fdca26\"],[1.0,\"#f0f921\"]]}],\"heatmapgl\":[{\"type\":\"heatmapgl\",\"colorbar\":{\"outlinewidth\":0,\"ticks\":\"\"},\"colorscale\":[[0.0,\"#0d0887\"],[0.1111111111111111,\"#46039f\"],[0.2222222222222222,\"#7201a8\"],[0.3333333333333333,\"#9c179e\"],[0.4444444444444444,\"#bd3786\"],[0.5555555555555556,\"#d8576b\"],[0.6666666666666666,\"#ed7953\"],[0.7777777777777778,\"#fb9f3a\"],[0.8888888888888888,\"#fdca26\"],[1.0,\"#f0f921\"]]}],\"contourcarpet\":[{\"type\":\"contourcarpet\",\"colorbar\":{\"outlinewidth\":0,\"ticks\":\"\"}}],\"contour\":[{\"type\":\"contour\",\"colorbar\":{\"outlinewidth\":0,\"ticks\":\"\"},\"colorscale\":[[0.0,\"#0d0887\"],[0.1111111111111111,\"#46039f\"],[0.2222222222222222,\"#7201a8\"],[0.3333333333333333,\"#9c179e\"],[0.4444444444444444,\"#bd3786\"],[0.5555555555555556,\"#d8576b\"],[0.6666666666666666,\"#ed7953\"],[0.7777777777777778,\"#fb9f3a\"],[0.8888888888888888,\"#fdca26\"],[1.0,\"#f0f921\"]]}],\"surface\":[{\"type\":\"surface\",\"colorbar\":{\"outlinewidth\":0,\"ticks\":\"\"},\"colorscale\":[[0.0,\"#0d0887\"],[0.1111111111111111,\"#46039f\"],[0.2222222222222222,\"#7201a8\"],[0.3333333333333333,\"#9c179e\"],[0.4444444444444444,\"#bd3786\"],[0.5555555555555556,\"#d8576b\"],[0.6666666666666666,\"#ed7953\"],[0.7777777777777778,\"#fb9f3a\"],[0.8888888888888888,\"#fdca26\"],[1.0,\"#f0f921\"]]}],\"mesh3d\":[{\"type\":\"mesh3d\",\"colorbar\":{\"outlinewidth\":0,\"ticks\":\"\"}}],\"scatter\":[{\"fillpattern\":{\"fillmode\":\"overlay\",\"size\":10,\"solidity\":0.2},\"type\":\"scatter\"}],\"parcoords\":[{\"type\":\"parcoords\",\"line\":{\"colorbar\":{\"outlinewidth\":0,\"ticks\":\"\"}}}],\"scatterpolargl\":[{\"type\":\"scatterpolargl\",\"marker\":{\"colorbar\":{\"outlinewidth\":0,\"ticks\":\"\"}}}],\"bar\":[{\"error_x\":{\"color\":\"#2a3f5f\"},\"error_y\":{\"color\":\"#2a3f5f\"},\"marker\":{\"line\":{\"color\":\"#E5ECF6\",\"width\":0.5},\"pattern\":{\"fillmode\":\"overlay\",\"size\":10,\"solidity\":0.2}},\"type\":\"bar\"}],\"scattergeo\":[{\"type\":\"scattergeo\",\"marker\":{\"colorbar\":{\"outlinewidth\":0,\"ticks\":\"\"}}}],\"scatterpolar\":[{\"type\":\"scatterpolar\",\"marker\":{\"colorbar\":{\"outlinewidth\":0,\"ticks\":\"\"}}}],\"histogram\":[{\"marker\":{\"pattern\":{\"fillmode\":\"overlay\",\"size\":10,\"solidity\":0.2}},\"type\":\"histogram\"}],\"scattergl\":[{\"type\":\"scattergl\",\"marker\":{\"colorbar\":{\"outlinewidth\":0,\"ticks\":\"\"}}}],\"scatter3d\":[{\"type\":\"scatter3d\",\"line\":{\"colorbar\":{\"outlinewidth\":0,\"ticks\":\"\"}},\"marker\":{\"colorbar\":{\"outlinewidth\":0,\"ticks\":\"\"}}}],\"scattermapbox\":[{\"type\":\"scattermapbox\",\"marker\":{\"colorbar\":{\"outlinewidth\":0,\"ticks\":\"\"}}}],\"scatterternary\":[{\"type\":\"scatterternary\",\"marker\":{\"colorbar\":{\"outlinewidth\":0,\"ticks\":\"\"}}}],\"scattercarpet\":[{\"type\":\"scattercarpet\",\"marker\":{\"colorbar\":{\"outlinewidth\":0,\"ticks\":\"\"}}}],\"carpet\":[{\"aaxis\":{\"endlinecolor\":\"#2a3f5f\",\"gridcolor\":\"white\",\"linecolor\":\"white\",\"minorgridcolor\":\"white\",\"startlinecolor\":\"#2a3f5f\"},\"baxis\":{\"endlinecolor\":\"#2a3f5f\",\"gridcolor\":\"white\",\"linecolor\":\"white\",\"minorgridcolor\":\"white\",\"startlinecolor\":\"#2a3f5f\"},\"type\":\"carpet\"}],\"table\":[{\"cells\":{\"fill\":{\"color\":\"#EBF0F8\"},\"line\":{\"color\":\"white\"}},\"header\":{\"fill\":{\"color\":\"#C8D4E3\"},\"line\":{\"color\":\"white\"}},\"type\":\"table\"}],\"barpolar\":[{\"marker\":{\"line\":{\"color\":\"#E5ECF6\",\"width\":0.5},\"pattern\":{\"fillmode\":\"overlay\",\"size\":10,\"solidity\":0.2}},\"type\":\"barpolar\"}],\"pie\":[{\"automargin\":true,\"type\":\"pie\"}]},\"layout\":{\"autotypenumbers\":\"strict\",\"colorway\":[\"#636efa\",\"#EF553B\",\"#00cc96\",\"#ab63fa\",\"#FFA15A\",\"#19d3f3\",\"#FF6692\",\"#B6E880\",\"#FF97FF\",\"#FECB52\"],\"font\":{\"color\":\"#2a3f5f\"},\"hovermode\":\"closest\",\"hoverlabel\":{\"align\":\"left\"},\"paper_bgcolor\":\"white\",\"plot_bgcolor\":\"#E5ECF6\",\"polar\":{\"bgcolor\":\"#E5ECF6\",\"angularaxis\":{\"gridcolor\":\"white\",\"linecolor\":\"white\",\"ticks\":\"\"},\"radialaxis\":{\"gridcolor\":\"white\",\"linecolor\":\"white\",\"ticks\":\"\"}},\"ternary\":{\"bgcolor\":\"#E5ECF6\",\"aaxis\":{\"gridcolor\":\"white\",\"linecolor\":\"white\",\"ticks\":\"\"},\"baxis\":{\"gridcolor\":\"white\",\"linecolor\":\"white\",\"ticks\":\"\"},\"caxis\":{\"gridcolor\":\"white\",\"linecolor\":\"white\",\"ticks\":\"\"}},\"coloraxis\":{\"colorbar\":{\"outlinewidth\":0,\"ticks\":\"\"}},\"colorscale\":{\"sequential\":[[0.0,\"#0d0887\"],[0.1111111111111111,\"#46039f\"],[0.2222222222222222,\"#7201a8\"],[0.3333333333333333,\"#9c179e\"],[0.4444444444444444,\"#bd3786\"],[0.5555555555555556,\"#d8576b\"],[0.6666666666666666,\"#ed7953\"],[0.7777777777777778,\"#fb9f3a\"],[0.8888888888888888,\"#fdca26\"],[1.0,\"#f0f921\"]],\"sequentialminus\":[[0.0,\"#0d0887\"],[0.1111111111111111,\"#46039f\"],[0.2222222222222222,\"#7201a8\"],[0.3333333333333333,\"#9c179e\"],[0.4444444444444444,\"#bd3786\"],[0.5555555555555556,\"#d8576b\"],[0.6666666666666666,\"#ed7953\"],[0.7777777777777778,\"#fb9f3a\"],[0.8888888888888888,\"#fdca26\"],[1.0,\"#f0f921\"]],\"diverging\":[[0,\"#8e0152\"],[0.1,\"#c51b7d\"],[0.2,\"#de77ae\"],[0.3,\"#f1b6da\"],[0.4,\"#fde0ef\"],[0.5,\"#f7f7f7\"],[0.6,\"#e6f5d0\"],[0.7,\"#b8e186\"],[0.8,\"#7fbc41\"],[0.9,\"#4d9221\"],[1,\"#276419\"]]},\"xaxis\":{\"gridcolor\":\"white\",\"linecolor\":\"white\",\"ticks\":\"\",\"title\":{\"standoff\":15},\"zerolinecolor\":\"white\",\"automargin\":true,\"zerolinewidth\":2},\"yaxis\":{\"gridcolor\":\"white\",\"linecolor\":\"white\",\"ticks\":\"\",\"title\":{\"standoff\":15},\"zerolinecolor\":\"white\",\"automargin\":true,\"zerolinewidth\":2},\"scene\":{\"xaxis\":{\"backgroundcolor\":\"#E5ECF6\",\"gridcolor\":\"white\",\"linecolor\":\"white\",\"showbackground\":true,\"ticks\":\"\",\"zerolinecolor\":\"white\",\"gridwidth\":2},\"yaxis\":{\"backgroundcolor\":\"#E5ECF6\",\"gridcolor\":\"white\",\"linecolor\":\"white\",\"showbackground\":true,\"ticks\":\"\",\"zerolinecolor\":\"white\",\"gridwidth\":2},\"zaxis\":{\"backgroundcolor\":\"#E5ECF6\",\"gridcolor\":\"white\",\"linecolor\":\"white\",\"showbackground\":true,\"ticks\":\"\",\"zerolinecolor\":\"white\",\"gridwidth\":2}},\"shapedefaults\":{\"line\":{\"color\":\"#2a3f5f\"}},\"annotationdefaults\":{\"arrowcolor\":\"#2a3f5f\",\"arrowhead\":0,\"arrowwidth\":1},\"geo\":{\"bgcolor\":\"white\",\"landcolor\":\"#E5ECF6\",\"subunitcolor\":\"white\",\"showland\":true,\"showlakes\":true,\"lakecolor\":\"white\"},\"title\":{\"x\":0.05},\"mapbox\":{\"style\":\"light\"}}},\"xaxis\":{\"anchor\":\"y\",\"domain\":[0.0,1.0],\"title\":{\"text\":\"Score\"}},\"yaxis\":{\"anchor\":\"x\",\"domain\":[0.0,1.0],\"title\":{\"text\":\"Metric\"},\"categoryorder\":\"array\",\"categoryarray\":[\"F1 Score\",\"Recall\",\"Precision\",\"Accuracy\"]},\"legend\":{\"title\":{\"text\":\"Metric\"},\"tracegroupgap\":0},\"title\":{\"text\":\"Evaluation Metrics\"},\"barmode\":\"relative\",\"showlegend\":false},                        {\"responsive\": true}                    ).then(function(){\n",
       "                            \n",
       "var gd = document.getElementById('9708aaa5-d710-45df-9a67-baf871acd7af');\n",
       "var x = new MutationObserver(function (mutations, observer) {{\n",
       "        var display = window.getComputedStyle(gd).display;\n",
       "        if (!display || display === 'none') {{\n",
       "            console.log([gd, 'removed!']);\n",
       "            Plotly.purge(gd);\n",
       "            observer.disconnect();\n",
       "        }}\n",
       "}});\n",
       "\n",
       "// Listen for the removal of the full notebook cells\n",
       "var notebookContainer = gd.closest('#notebook-container');\n",
       "if (notebookContainer) {{\n",
       "    x.observe(notebookContainer, {childList: true});\n",
       "}}\n",
       "\n",
       "// Listen for the clearing of the current output cell\n",
       "var outputEl = gd.closest('.output');\n",
       "if (outputEl) {{\n",
       "    x.observe(outputEl, {childList: true});\n",
       "}}\n",
       "\n",
       "                        })                };                });            </script>        </div>"
      ]
     },
     "metadata": {},
     "output_type": "display_data"
    }
   ],
   "source": [
    "accuracy = accuracy_score(y_test, y_pred)\n",
    "precision = precision_score(y_test, y_pred)\n",
    "recall = recall_score(y_test, y_pred)\n",
    "f1 = f1_score(y_test, y_pred)\n",
    "\n",
    "metrics_scores = {'Accuracy': accuracy, 'Precision': precision, 'Recall': recall, 'F1 Score': f1}\n",
    "df_metrics = pd.DataFrame(list(metrics_scores.items()), columns=['Metric', 'Score'])\n",
    "\n",
    "fig = px.bar(df_metrics, \n",
    "             x='Score', \n",
    "             y='Metric', \n",
    "             orientation='h', \n",
    "             color='Metric', \n",
    "             text='Score',\n",
    "             title='Evaluation Metrics')\n",
    "\n",
    "fig.update_layout(showlegend=False)\n",
    "\n",
    "fig.show()"
   ]
  },
  {
   "cell_type": "code",
   "execution_count": null,
   "metadata": {},
   "outputs": [],
   "source": [
    "metrics_scores = {\n",
    "    \"Accuracy\": accuracy_score(y_test, y_pred),\n",
    "    \"Precision\": precision_score(y_test, y_pred),\n",
    "    \"Recall\": recall_score(y_test, y_pred),\n",
    "    \"F1 Score\": f1_score(y_test, y_pred),\n",
    "}\n",
    "\n",
    "df_metrics = pd.DataFrame(list(metrics_scores.items()), columns=[\"Metric\", \"Score\"])\n",
    "\n",
    "base = alt.Chart(df_metrics).encode(\n",
    "    y=alt.Y(\"Metric:N\", axis=alt.Axis(title=\"Metric\")),\n",
    "    x=alt.X(\"Score:Q\", axis=alt.Axis(title=\"Score\"), scale=alt.Scale(domain=[0, 1])),\n",
    ")\n",
    "\n",
    "bar = base.mark_bar().encode(color=\"Metric:N\", text=alt.Text(\"Score:Q\", format=\".2f\"))\n",
    "\n",
    "text = base.mark_text(\n",
    "    align=\"right\",\n",
    "    baseline=\"middle\",\n",
    "    color=\"white\",\n",
    "    dx=-10,\n",
    ").encode(text=alt.Text(\"Score:Q\", format=\".2f\"))\n",
    "\n",
    "chart = (\n",
    "    (bar + text)\n",
    "    .properties(title=\"Evaluation Metrics\", width=600, height=300)\n",
    "    .configure_axis(labelFontSize=12, titleFontSize=14)\n",
    ")\n",
    "\n",
    "chart"
   ]
  }
 ],
 "metadata": {
  "kernelspec": {
   "display_name": "Python 3 (ipykernel)",
   "language": "python",
   "name": "python3"
  },
  "language_info": {
   "codemirror_mode": {
    "name": "ipython",
    "version": 3
   },
   "file_extension": ".py",
   "mimetype": "text/x-python",
   "name": "python",
   "nbconvert_exporter": "python",
   "pygments_lexer": "ipython3",
   "version": "3.10.9"
  }
 },
 "nbformat": 4,
 "nbformat_minor": 2
}
