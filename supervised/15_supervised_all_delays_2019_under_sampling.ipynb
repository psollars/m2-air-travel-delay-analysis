{
 "cells": [
  {
   "cell_type": "code",
   "execution_count": 1,
   "metadata": {},
   "outputs": [
    {
     "data": {
      "text/plain": [
       "('2.1.1', '1.3.1')"
      ]
     },
     "execution_count": 1,
     "metadata": {},
     "output_type": "execute_result"
    }
   ],
   "source": [
    "import pandas as pd\n",
    "import numpy as np\n",
    "import plotly.express as px\n",
    "import matplotlib.pyplot as plt\n",
    "import altair as alt\n",
    "import time\n",
    "import sklearn\n",
    "import warnings\n",
    "import pickle\n",
    "\n",
    "warnings.filterwarnings(action='ignore', category=FutureWarning)\n",
    "\n",
    "pd.__version__, sklearn.__version__"
   ]
  },
  {
   "cell_type": "code",
   "execution_count": 2,
   "metadata": {},
   "outputs": [],
   "source": [
    "SCRATCH_DIR = \"/scratch/siads696f23_class_root/siads696f23_class/psollars\"\n",
    "\n",
    "# For local dev\n",
    "SCRATCH_DIR = \"./../data\""
   ]
  },
  {
   "cell_type": "code",
   "execution_count": 3,
   "metadata": {},
   "outputs": [
    {
     "data": {
      "text/plain": [
       "['Quarter',\n",
       " 'Month',\n",
       " 'DayofMonth',\n",
       " 'DayOfWeek',\n",
       " 'CRSDepTime',\n",
       " 'CRSArrTime',\n",
       " 'CRSElapsedTime',\n",
       " 'Distance',\n",
       " 'DistanceGroup',\n",
       " 'YEAR MFR',\n",
       " 'HORSEPOWER',\n",
       " 'THRUST',\n",
       " 'NO-SEATS',\n",
       " 'Origin_LATITUDE',\n",
       " 'Origin_LONGITUDE',\n",
       " 'Dest_LATITUDE',\n",
       " 'Dest_LONGITUDE',\n",
       " 'Reporting_Airline',\n",
       " 'Tail_Number',\n",
       " 'Origin',\n",
       " 'Dest',\n",
       " 'TYPE REGISTRANT',\n",
       " 'NAME',\n",
       " 'CERTIFICATION',\n",
       " 'TYPE ENGINE',\n",
       " 'STATUS CODE',\n",
       " 'MFR',\n",
       " 'MODEL',\n",
       " 'TYPE',\n",
       " 'MFR_aircraft',\n",
       " 'MODEL_aircraft',\n",
       " 'TYPE-ENG',\n",
       " 'BUILD-CERT-IND',\n",
       " 'Origin_DISPLAY_AIRPORT_NAME',\n",
       " 'Origin_DISPLAY_AIRPORT_CITY_NAME_FULL',\n",
       " 'Dest_DISPLAY_AIRPORT_NAME',\n",
       " 'Dest_DISPLAY_AIRPORT_CITY_NAME_FULL',\n",
       " 'DepDel15',\n",
       " 'ArrDel15',\n",
       " 'CarrierDelay',\n",
       " 'WeatherDelay',\n",
       " 'NASDelay',\n",
       " 'SecurityDelay',\n",
       " 'LateAircraftDelay']"
      ]
     },
     "execution_count": 3,
     "metadata": {},
     "output_type": "execute_result"
    }
   ],
   "source": [
    "# Checkpoint\n",
    "consolidated_df = pd.read_parquet(f\"{SCRATCH_DIR}/consolidated_features_2019.parquet\")\n",
    "\n",
    "list(consolidated_df.columns)"
   ]
  },
  {
   "cell_type": "code",
   "execution_count": 4,
   "metadata": {},
   "outputs": [],
   "source": [
    "num_cols = [\n",
    "    \"Quarter\",\n",
    "    \"Month\",\n",
    "    \"DayofMonth\",\n",
    "    \"DayOfWeek\",\n",
    "    \"CRSDepTime\",\n",
    "    \"CRSArrTime\",\n",
    "    \"CRSElapsedTime\",\n",
    "    \"Distance\",\n",
    "    # \"DistanceGroup\",\n",
    "    \"YEAR MFR\",\n",
    "    # \"HORSEPOWER\",\n",
    "    # \"THRUST\",\n",
    "    # \"NO-SEATS\",\n",
    "    \"Origin_LATITUDE\",\n",
    "    \"Origin_LONGITUDE\",\n",
    "    \"Dest_LATITUDE\",\n",
    "    \"Dest_LONGITUDE\",\n",
    "]\n",
    "\n",
    "cat_cols = [\n",
    "    \"Reporting_Airline\",\n",
    "    # \"Tail_Number\",\n",
    "    \"Origin\",\n",
    "    \"Dest\",\n",
    "    # \"TYPE REGISTRANT\",\n",
    "    # \"NAME\",\n",
    "    # \"CERTIFICATION\",\n",
    "    # \"TYPE ENGINE\",\n",
    "    # \"STATUS CODE\",\n",
    "    # \"MFR\",\n",
    "    # \"MODEL\",\n",
    "    # \"TYPE\",\n",
    "    # \"MFR_aircraft\",\n",
    "    # \"MODEL_aircraft\",\n",
    "    # \"TYPE-ENG\",\n",
    "    #\n",
    "    \"DepDel15\",\n",
    "    \"ArrDel15\",\n",
    "    # \"CarrierDelay\",\n",
    "    # \"WeatherDelay\",\n",
    "    # \"NASDelay\",\n",
    "    # \"SecurityDelay\",\n",
    "    # \"LateAircraftDelay\",\n",
    "]"
   ]
  },
  {
   "cell_type": "code",
   "execution_count": 5,
   "metadata": {},
   "outputs": [
    {
     "data": {
      "text/plain": [
       "delayed\n",
       "False    5372372\n",
       "True     1588465\n",
       "Name: count, dtype: int64"
      ]
     },
     "execution_count": 5,
     "metadata": {},
     "output_type": "execute_result"
    }
   ],
   "source": [
    "num_cols = [\n",
    "    \"Quarter\",\n",
    "    \"Month\",\n",
    "    \"DayofMonth\",\n",
    "    \"DayOfWeek\",\n",
    "    \"CRSDepTime\",\n",
    "    \"CRSArrTime\",\n",
    "    \"CRSElapsedTime\",\n",
    "    \"Distance\",\n",
    "    \"YEAR MFR\",\n",
    "    \"Origin_LATITUDE\",\n",
    "    \"Origin_LONGITUDE\",\n",
    "    \"Dest_LATITUDE\",\n",
    "    \"Dest_LONGITUDE\",\n",
    "]\n",
    "\n",
    "cat_cols = [\n",
    "    \"Reporting_Airline\",\n",
    "    \"Origin\",\n",
    "    \"Dest\",\n",
    "    # convert these to \"delayed\"\n",
    "    \"DepDel15\",\n",
    "    \"ArrDel15\",\n",
    "]\n",
    "\n",
    "\n",
    "delay_df = consolidated_df[num_cols + cat_cols].copy()\n",
    "\n",
    "# If the flight is delayed on departure or arrival, consider it delayed overall\n",
    "delay_df[\"delayed\"] = (delay_df[\"DepDel15\"].eq(1)) | (delay_df[\"ArrDel15\"].eq(1))\n",
    "\n",
    "delay_df = delay_df.drop(columns=[\"DepDel15\", \"ArrDel15\"], axis=1)\n",
    "\n",
    "delay_df = delay_df.dropna(how=(\"any\"), axis=\"index\")\n",
    "\n",
    "# Redefine this variable for the rest of the notebook\n",
    "cat_cols = [\"Reporting_Airline\", \"Origin\", \"Dest\"]\n",
    "\n",
    "delay_df.value_counts(\"delayed\")\n",
    "# False    7074065\n",
    "# True       53021"
   ]
  },
  {
   "cell_type": "code",
   "execution_count": 6,
   "metadata": {},
   "outputs": [
    {
     "name": "stdout",
     "output_type": "stream",
     "text": [
      "Elapsed time: 33.7355 seconds\n"
     ]
    }
   ],
   "source": [
    "from sklearn.preprocessing import StandardScaler, OneHotEncoder, OrdinalEncoder\n",
    "from sklearn.compose import ColumnTransformer\n",
    "\n",
    "\n",
    "start_time = time.time()\n",
    "\n",
    "\n",
    "X = delay_df.drop(\"delayed\", axis=1)\n",
    "y = delay_df[\"delayed\"]\n",
    "\n",
    "\n",
    "preprocessor = ColumnTransformer(\n",
    "    transformers=[\n",
    "        (\"num\", StandardScaler(), num_cols),\n",
    "        # (\"cat\", OneHotEncoder(), cat_cols),\n",
    "        (\"cat\", OrdinalEncoder(), cat_cols),\n",
    "    ]\n",
    ")\n",
    "\n",
    "X_transformed = preprocessor.fit_transform(X)\n",
    "\n",
    "end_time = time.time()\n",
    "\n",
    "print(f\"Elapsed time: {(end_time - start_time):.4f} seconds\")"
   ]
  },
  {
   "cell_type": "code",
   "execution_count": 7,
   "metadata": {},
   "outputs": [],
   "source": [
    "from sklearn.model_selection import train_test_split\n",
    "\n",
    "X_train, X_test, y_train, y_test = train_test_split(\n",
    "    X_transformed, y, test_size=0.2, random_state=42\n",
    ")"
   ]
  },
  {
   "cell_type": "code",
   "execution_count": 33,
   "metadata": {},
   "outputs": [
    {
     "name": "stdout",
     "output_type": "stream",
     "text": [
      "Elapsed time: 60482.8906 seconds\n"
     ]
    }
   ],
   "source": [
    "from imblearn.over_sampling import SMOTE\n",
    "from imblearn.combine import SMOTEENN\n",
    "from imblearn.under_sampling import EditedNearestNeighbours\n",
    "\n",
    "\n",
    "start_time = time.time()\n",
    "\n",
    "# 'not minority': resample all classes but the minority class;\n",
    "# smote = SMOTE(sampling_strategy=\"not minority\", random_state=42)\n",
    "\n",
    "# The SMOTE configuration can be set as a SMOTE object via the “smote” argument, \n",
    "# and the ENN configuration can be set via the EditedNearestNeighbours object \n",
    "# via the “enn” argument. SMOTE defaults to balancing the distribution, \n",
    "# followed by ENN that by default removes misclassified examples from all classes.\n",
    "\n",
    "# We could change the ENN to only remove examples from the majority class by setting the “enn” argument \n",
    "# to an EditedNearestNeighbours instance with sampling_strategy argument set to ‘majority‘.\n",
    "smote = SMOTEENN(enn=EditedNearestNeighbours(sampling_strategy='majority'), n_jobs=-1)\n",
    "X_res, y_res = smote.fit_resample(X_train, y_train)\n",
    "\n",
    "end_time = time.time()\n",
    "\n",
    "print(f\"Elapsed time: {(end_time - start_time):.4f} seconds\")"
   ]
  },
  {
   "cell_type": "code",
   "execution_count": 34,
   "metadata": {},
   "outputs": [],
   "source": [
    "with open(f\"{SCRATCH_DIR}/15_delays_2019_X_res_smoteenn.pkl\", \"wb\") as f:\n",
    "    pickle.dump(X_res, f)\n",
    "\n",
    "with open(f\"{SCRATCH_DIR}/15_delays_2019_y_res_smoteenn.pkl\", \"wb\") as f:\n",
    "    pickle.dump(y_res, f)\n",
    "\n",
    "# with open(f\"{SCRATCH_DIR}/15_delays_2019_X_res_auto.pkl\", \"rb\") as f:\n",
    "#     X_res = pickle.load(f)\n",
    "\n",
    "# with open(f\"{SCRATCH_DIR}/15_delays_2019_y_res_auto.pkl\", \"rb\") as f:\n",
    "#     y_res = pickle.load(f)"
   ]
  },
  {
   "cell_type": "code",
   "execution_count": 35,
   "metadata": {},
   "outputs": [],
   "source": [
    "from sklearn.model_selection import GridSearchCV\n",
    "from sklearn.metrics import make_scorer, fbeta_score\n",
    "import xgboost as xgb\n",
    "\n",
    "\n",
    "def fit_grid_search_xg_boost(fit_X_train, fit_y_train):\n",
    "    print(\">>>\", sum(fit_y_train == 0) / sum(fit_y_train == 1))\n",
    "\n",
    "    xgb_clf = xgb.XGBClassifier(\n",
    "        objective=\"binary:logistic\",\n",
    "        eval_metric=\"logloss\",\n",
    "        # Handle imbalance\n",
    "        scale_pos_weight=sum(fit_y_train == 0) / sum(fit_y_train == 1),\n",
    "    )\n",
    "\n",
    "    f_score_half = make_scorer(fbeta_score, beta=0.5)\n",
    "    f_score_one = make_scorer(fbeta_score, beta=1)\n",
    "    f_score_two = make_scorer(fbeta_score, beta=2)\n",
    "\n",
    "    grid_search = GridSearchCV(\n",
    "        estimator=xgb_clf,\n",
    "        param_grid={\n",
    "            \"learning_rate\": [0.1],  # , 0.2, 0.3],\n",
    "            \"max_depth\": [10],  # [5, 7, 10],\n",
    "            \"n_estimators\": [150],  # , 250, 500],\n",
    "            \"subsample\": [0.7],  # [0.6, 0.7, 0.8],\n",
    "            \"colsample_bytree\": [0.7],  # [0.6, 0.7, 0.8],\n",
    "            \"scoring\": [f_score_half, f_score_one, f_score_two],\n",
    "        },\n",
    "        # scoring=scorer, # \"average_precision\",  # AUC-PR\n",
    "        cv=5,\n",
    "        n_jobs=-1,\n",
    "    )\n",
    "\n",
    "    grid_search.fit(fit_X_train, fit_y_train)\n",
    "\n",
    "    return grid_search"
   ]
  },
  {
   "cell_type": "code",
   "execution_count": 36,
   "metadata": {},
   "outputs": [
    {
     "name": "stdout",
     "output_type": "stream",
     "text": [
      ">>> 0.46934490058126305\n"
     ]
    },
    {
     "name": "stderr",
     "output_type": "stream",
     "text": [
      "/Users/Pat/Documents/umich/2023-09 SIADS 696/.venv/lib/python3.10/site-packages/xgboost/data.py:520: FutureWarning: is_sparse is deprecated and will be removed in a future version. Check `isinstance(dtype, pd.SparseDtype)` instead.\n",
      "  if is_sparse(data):\n",
      "/Users/Pat/Documents/umich/2023-09 SIADS 696/.venv/lib/python3.10/site-packages/xgboost/data.py:520: FutureWarning: is_sparse is deprecated and will be removed in a future version. Check `isinstance(dtype, pd.SparseDtype)` instead.\n",
      "  if is_sparse(data):\n",
      "/Users/Pat/Documents/umich/2023-09 SIADS 696/.venv/lib/python3.10/site-packages/xgboost/data.py:520: FutureWarning: is_sparse is deprecated and will be removed in a future version. Check `isinstance(dtype, pd.SparseDtype)` instead.\n",
      "  if is_sparse(data):\n",
      "/Users/Pat/Documents/umich/2023-09 SIADS 696/.venv/lib/python3.10/site-packages/xgboost/data.py:520: FutureWarning: is_sparse is deprecated and will be removed in a future version. Check `isinstance(dtype, pd.SparseDtype)` instead.\n",
      "  if is_sparse(data):\n",
      "/Users/Pat/Documents/umich/2023-09 SIADS 696/.venv/lib/python3.10/site-packages/xgboost/data.py:520: FutureWarning: is_sparse is deprecated and will be removed in a future version. Check `isinstance(dtype, pd.SparseDtype)` instead.\n",
      "  if is_sparse(data):\n",
      "/Users/Pat/Documents/umich/2023-09 SIADS 696/.venv/lib/python3.10/site-packages/xgboost/data.py:520: FutureWarning: is_sparse is deprecated and will be removed in a future version. Check `isinstance(dtype, pd.SparseDtype)` instead.\n",
      "  if is_sparse(data):\n",
      "/Users/Pat/Documents/umich/2023-09 SIADS 696/.venv/lib/python3.10/site-packages/xgboost/data.py:520: FutureWarning: is_sparse is deprecated and will be removed in a future version. Check `isinstance(dtype, pd.SparseDtype)` instead.\n",
      "  if is_sparse(data):\n",
      "/Users/Pat/Documents/umich/2023-09 SIADS 696/.venv/lib/python3.10/site-packages/xgboost/data.py:520: FutureWarning: is_sparse is deprecated and will be removed in a future version. Check `isinstance(dtype, pd.SparseDtype)` instead.\n",
      "  if is_sparse(data):\n",
      "/Users/Pat/Documents/umich/2023-09 SIADS 696/.venv/lib/python3.10/site-packages/xgboost/data.py:520: FutureWarning: is_sparse is deprecated and will be removed in a future version. Check `isinstance(dtype, pd.SparseDtype)` instead.\n",
      "  if is_sparse(data):\n",
      "/Users/Pat/Documents/umich/2023-09 SIADS 696/.venv/lib/python3.10/site-packages/xgboost/data.py:520: FutureWarning: is_sparse is deprecated and will be removed in a future version. Check `isinstance(dtype, pd.SparseDtype)` instead.\n",
      "  if is_sparse(data):\n",
      "/Users/Pat/Documents/umich/2023-09 SIADS 696/.venv/lib/python3.10/site-packages/xgboost/data.py:520: FutureWarning: is_sparse is deprecated and will be removed in a future version. Check `isinstance(dtype, pd.SparseDtype)` instead.\n",
      "  if is_sparse(data):\n",
      "/Users/Pat/Documents/umich/2023-09 SIADS 696/.venv/lib/python3.10/site-packages/xgboost/data.py:520: FutureWarning: is_sparse is deprecated and will be removed in a future version. Check `isinstance(dtype, pd.SparseDtype)` instead.\n",
      "  if is_sparse(data):\n",
      "/Users/Pat/Documents/umich/2023-09 SIADS 696/.venv/lib/python3.10/site-packages/xgboost/data.py:520: FutureWarning: is_sparse is deprecated and will be removed in a future version. Check `isinstance(dtype, pd.SparseDtype)` instead.\n",
      "  if is_sparse(data):\n",
      "/Users/Pat/Documents/umich/2023-09 SIADS 696/.venv/lib/python3.10/site-packages/xgboost/data.py:520: FutureWarning: is_sparse is deprecated and will be removed in a future version. Check `isinstance(dtype, pd.SparseDtype)` instead.\n",
      "  if is_sparse(data):\n",
      "/Users/Pat/Documents/umich/2023-09 SIADS 696/.venv/lib/python3.10/site-packages/xgboost/data.py:520: FutureWarning: is_sparse is deprecated and will be removed in a future version. Check `isinstance(dtype, pd.SparseDtype)` instead.\n",
      "  if is_sparse(data):\n"
     ]
    },
    {
     "name": "stdout",
     "output_type": "stream",
     "text": [
      "Elapsed time: 817.1979 seconds\n"
     ]
    }
   ],
   "source": [
    "start_time = time.time()\n",
    "\n",
    "model = fit_grid_search_xg_boost(X_res, y_res)\n",
    "\n",
    "end_time = time.time()\n",
    "\n",
    "print(f\"Elapsed time: {(end_time - start_time):.4f} seconds\")"
   ]
  },
  {
   "cell_type": "code",
   "execution_count": 37,
   "metadata": {},
   "outputs": [],
   "source": [
    "# Checkpoint on the xgboost model\n",
    "\n",
    "with open(f\"{SCRATCH_DIR}/15_all_delays_xgboost_smote_smoteenn.pkl\", \"wb\") as f:\n",
    "    pickle.dump(model, f)\n",
    "\n",
    "# with open(f\"{SCRATCH_DIR}/15_all_delays_xgboost_smote.pkl\", \"rb\") as f:\n",
    "#     model = pickle.load(f)"
   ]
  },
  {
   "cell_type": "markdown",
   "metadata": {},
   "source": [
    "# Model Evaluation"
   ]
  },
  {
   "cell_type": "code",
   "execution_count": 38,
   "metadata": {},
   "outputs": [
    {
     "data": {
      "text/plain": [
       "(XGBClassifier(base_score=None, booster=None, callbacks=None,\n",
       "               colsample_bylevel=None, colsample_bynode=None,\n",
       "               colsample_bytree=0.7, device=None, early_stopping_rounds=None,\n",
       "               enable_categorical=False, eval_metric='logloss',\n",
       "               feature_types=None, gamma=None, grow_policy=None,\n",
       "               importance_type=None, interaction_constraints=None,\n",
       "               learning_rate=0.1, max_bin=None, max_cat_threshold=None,\n",
       "               max_cat_to_onehot=None, max_delta_step=None, max_depth=10,\n",
       "               max_leaves=None, min_child_weight=None, missing=nan,\n",
       "               monotone_constraints=None, multi_strategy=None, n_estimators=150,\n",
       "               n_jobs=None, num_parallel_tree=None, random_state=None, ...),\n",
       " {'colsample_bytree': 0.7,\n",
       "  'learning_rate': 0.1,\n",
       "  'max_depth': 10,\n",
       "  'n_estimators': 150,\n",
       "  'scoring': make_scorer(fbeta_score, beta=0.5),\n",
       "  'subsample': 0.7})"
      ]
     },
     "execution_count": 38,
     "metadata": {},
     "output_type": "execute_result"
    }
   ],
   "source": [
    "model.best_estimator_, model.best_params_"
   ]
  },
  {
   "cell_type": "code",
   "execution_count": 39,
   "metadata": {},
   "outputs": [],
   "source": [
    "from sklearn.metrics import (\n",
    "    accuracy_score,\n",
    "    precision_score,\n",
    "    recall_score,\n",
    "    f1_score,\n",
    "    confusion_matrix,\n",
    "    ConfusionMatrixDisplay,\n",
    "    roc_curve,\n",
    "    precision_recall_curve,\n",
    ")\n",
    "\n",
    "y_pred = model.predict(X_test)"
   ]
  },
  {
   "cell_type": "code",
   "execution_count": 40,
   "metadata": {},
   "outputs": [
    {
     "data": {
      "image/png": "[encoded data removed]",
      "text/plain": [
       "<Figure size 640x480 with 2 Axes>"
      ]
     },
     "metadata": {},
     "output_type": "display_data"
    }
   ],
   "source": [
    "cm = confusion_matrix(y_test, y_pred)\n",
    "\n",
    "ConfusionMatrixDisplay(\n",
    "    confusion_matrix=cm, display_labels=[\"Not Delayed\", \"Delayed\"]\n",
    ").plot(cmap=\"Blues\")\n",
    "plt.title(\"Confusion Matrix\")\n",
    "plt.show()"
   ]
  },
  {
   "cell_type": "code",
   "execution_count": 41,
   "metadata": {},
   "outputs": [
    {
     "data": {
      "text/plain": [
       "array([[945075, 129415],\n",
       "       [201904, 115774]])"
      ]
     },
     "execution_count": 41,
     "metadata": {},
     "output_type": "execute_result"
    }
   ],
   "source": [
    "cm\n",
    "\n",
    "# XGBoost\n",
    "# array([[1225409,  182135],\n",
    "#        [   2756,    7707]])\n",
    "\n",
    "# Random Forest\n",
    "# array([[1407521,      23],\n",
    "#        [  10375,      88]])"
   ]
  },
  {
   "cell_type": "code",
   "execution_count": 42,
   "metadata": {},
   "outputs": [
    {
     "data": {
      "image/png": "[encoded data removed]",
      "text/plain": [
       "<Figure size 640x480 with 1 Axes>"
      ]
     },
     "metadata": {},
     "output_type": "display_data"
    }
   ],
   "source": [
    "y_scores = model.predict_proba(X_test)[:, 1]\n",
    "\n",
    "precision, recall, _ = precision_recall_curve(y_test, y_scores)\n",
    "\n",
    "plt.figure()\n",
    "plt.step(recall, precision, where='post')\n",
    "plt.xlabel('Recall')\n",
    "plt.ylabel('Precision')\n",
    "plt.title('Precision-Recall Curve')\n",
    "plt.show()\n"
   ]
  },
  {
   "cell_type": "code",
   "execution_count": 43,
   "metadata": {},
   "outputs": [
    {
     "data": {
      "text/plain": [
       "0.6219975088613385"
      ]
     },
     "execution_count": 43,
     "metadata": {},
     "output_type": "execute_result"
    }
   ],
   "source": [
    "from sklearn.metrics import roc_auc_score\n",
    "\n",
    "\n",
    "y_pred_proba = model.best_estimator_.predict_proba(X_test)\n",
    "\n",
    "ra_score = roc_auc_score(y_test, y_pred, average=\"macro\", multi_class=\"ovr\")\n",
    "\n",
    "# xgboost\n",
    "# 0.803598235336136\n",
    "\n",
    "# random forest\n",
    "# 0.5041971245888275\n",
    "\n",
    "ra_score"
   ]
  },
  {
   "cell_type": "code",
   "execution_count": 44,
   "metadata": {},
   "outputs": [
    {
     "data": {
      "image/png": "[encoded data removed]",
      "text/plain": [
       "<Figure size 640x480 with 1 Axes>"
      ]
     },
     "metadata": {},
     "output_type": "display_data"
    }
   ],
   "source": [
    "fpr, tpr, _ = roc_curve(y_test, model.predict_proba(X_test)[:, 1])\n",
    "\n",
    "plt.figure()\n",
    "plt.plot(fpr, tpr, color=\"darkorange\", label=\"ROC curve\")\n",
    "plt.plot([0, 1], [0, 1], color=\"navy\", linestyle=\"--\")\n",
    "plt.xlabel(\"False Positive Rate\")\n",
    "plt.ylabel(\"True Positive Rate\")\n",
    "plt.title(\"Receiver Operating Characteristic\")\n",
    "plt.legend(loc=\"lower right\")\n",
    "plt.show()"
   ]
  },
  {
   "cell_type": "code",
   "execution_count": 46,
   "metadata": {},
   "outputs": [
    {
     "data": {
      "text/html": [
       "\n",
       "<style>\n",
       "  #altair-viz-fe0c889f1d3642c5913221c80fc643cb.vega-embed {\n",
       "    width: 100%;\n",
       "    display: flex;\n",
       "  }\n",
       "\n",
       "  #altair-viz-fe0c889f1d3642c5913221c80fc643cb.vega-embed details,\n",
       "  #altair-viz-fe0c889f1d3642c5913221c80fc643cb.vega-embed details summary {\n",
       "    position: relative;\n",
       "  }\n",
       "</style>\n",
       "<div id=\"altair-viz-fe0c889f1d3642c5913221c80fc643cb\"></div>\n",
       "<script type=\"text/javascript\">\n",
       "  var VEGA_DEBUG = (typeof VEGA_DEBUG == \"undefined\") ? {} : VEGA_DEBUG;\n",
       "  (function(spec, embedOpt){\n",
       "    let outputDiv = document.currentScript.previousElementSibling;\n",
       "    if (outputDiv.id !== \"altair-viz-fe0c889f1d3642c5913221c80fc643cb\") {\n",
       "      outputDiv = document.getElementById(\"altair-viz-fe0c889f1d3642c5913221c80fc643cb\");\n",
       "    }\n",
       "    const paths = {\n",
       "      \"vega\": \"https://cdn.jsdelivr.net/npm/vega@5?noext\",\n",
       "      \"vega-lib\": \"https://cdn.jsdelivr.net/npm/vega-lib?noext\",\n",
       "      \"vega-lite\": \"https://cdn.jsdelivr.net/npm/vega-lite@5.14.1?noext\",\n",
       "      \"vega-embed\": \"https://cdn.jsdelivr.net/npm/vega-embed@6?noext\",\n",
       "    };\n",
       "\n",
       "    function maybeLoadScript(lib, version) {\n",
       "      var key = `${lib.replace(\"-\", \"\")}_version`;\n",
       "      return (VEGA_DEBUG[key] == version) ?\n",
       "        Promise.resolve(paths[lib]) :\n",
       "        new Promise(function(resolve, reject) {\n",
       "          var s = document.createElement('script');\n",
       "          document.getElementsByTagName(\"head\")[0].appendChild(s);\n",
       "          s.async = true;\n",
       "          s.onload = () => {\n",
       "            VEGA_DEBUG[key] = version;\n",
       "            return resolve(paths[lib]);\n",
       "          };\n",
       "          s.onerror = () => reject(`Error loading script: ${paths[lib]}`);\n",
       "          s.src = paths[lib];\n",
       "        });\n",
       "    }\n",
       "\n",
       "    function showError(err) {\n",
       "      outputDiv.innerHTML = `<div class=\"error\" style=\"color:red;\">${err}</div>`;\n",
       "      throw err;\n",
       "    }\n",
       "\n",
       "    function displayChart(vegaEmbed) {\n",
       "      vegaEmbed(outputDiv, spec, embedOpt)\n",
       "        .catch(err => showError(`Javascript Error: ${err.message}<br>This usually means there's a typo in your chart specification. See the javascript console for the full traceback.`));\n",
       "    }\n",
       "\n",
       "    if(typeof define === \"function\" && define.amd) {\n",
       "      requirejs.config({paths});\n",
       "      require([\"vega-embed\"], displayChart, err => showError(`Error loading script: ${err.message}`));\n",
       "    } else {\n",
       "      maybeLoadScript(\"vega\", \"5\")\n",
       "        .then(() => maybeLoadScript(\"vega-lite\", \"5.14.1\"))\n",
       "        .then(() => maybeLoadScript(\"vega-embed\", \"6\"))\n",
       "        .catch(showError)\n",
       "        .then(() => displayChart(vegaEmbed));\n",
       "    }\n",
       "  })({\"config\": {\"view\": {\"continuousWidth\": 300, \"continuousHeight\": 300}, \"axis\": {\"labelFontSize\": 12, \"titleFontSize\": 14}}, \"layer\": [{\"mark\": {\"type\": \"bar\"}, \"encoding\": {\"color\": {\"field\": \"Metric\", \"legend\": null, \"type\": \"nominal\"}, \"text\": {\"field\": \"Score\", \"format\": \".2f\", \"type\": \"quantitative\"}, \"x\": {\"axis\": {\"title\": \"Score\"}, \"field\": \"Score\", \"scale\": {\"domain\": [0, 1]}, \"type\": \"quantitative\"}, \"y\": {\"axis\": {\"title\": \"Metric\"}, \"field\": \"Metric\", \"type\": \"nominal\"}}}, {\"mark\": {\"type\": \"text\", \"align\": \"right\", \"baseline\": \"middle\", \"color\": \"white\", \"dx\": -10}, \"encoding\": {\"text\": {\"field\": \"Score\", \"format\": \".2f\", \"type\": \"quantitative\"}, \"x\": {\"axis\": {\"title\": \"Score\"}, \"field\": \"Score\", \"scale\": {\"domain\": [0, 1]}, \"type\": \"quantitative\"}, \"y\": {\"axis\": {\"title\": \"Metric\"}, \"field\": \"Metric\", \"type\": \"nominal\"}}}], \"data\": {\"name\": \"data-5afcc08bc6ed99b34fc1422ec327339d\"}, \"height\": 300, \"title\": \"Evaluation Metrics\", \"width\": 600, \"$schema\": \"https://vega.github.io/schema/vega-lite/v5.14.1.json\", \"datasets\": {\"data-5afcc08bc6ed99b34fc1422ec327339d\": [{\"Metric\": \"Accuracy\", \"Score\": 0.7620121996770505}, {\"Metric\": \"Precision\", \"Score\": 0.4721826835624763}, {\"Metric\": \"Recall\", \"Score\": 0.3644382047230214}, {\"Metric\": \"F1 Score\", \"Score\": 0.4113724911924131}]}}, {\"mode\": \"vega-lite\"});\n",
       "</script>"
      ],
      "text/plain": [
       "alt.LayerChart(...)"
      ]
     },
     "execution_count": 46,
     "metadata": {},
     "output_type": "execute_result"
    }
   ],
   "source": [
    "metrics_scores = {\n",
    "    \"Accuracy\": accuracy_score(y_test, y_pred),\n",
    "    \"Precision\": precision_score(y_test, y_pred),\n",
    "    \"Recall\": recall_score(y_test, y_pred),\n",
    "    \"F1 Score\": f1_score(y_test, y_pred),\n",
    "}\n",
    "\n",
    "df_metrics = pd.DataFrame(list(metrics_scores.items()), columns=[\"Metric\", \"Score\"])\n",
    "\n",
    "base = alt.Chart(df_metrics).encode(\n",
    "    y=alt.Y(\"Metric:N\", axis=alt.Axis(title=\"Metric\")),\n",
    "    x=alt.X(\"Score:Q\", axis=alt.Axis(title=\"Score\"), scale=alt.Scale(domain=[0, 1])),\n",
    ")\n",
    "\n",
    "bar = base.mark_bar().encode(\n",
    "    color=alt.Color(\"Metric:N\", legend=None), text=alt.Text(\"Score:Q\", format=\".2f\")\n",
    ")\n",
    "\n",
    "text = base.mark_text(\n",
    "    align=\"right\",\n",
    "    baseline=\"middle\",\n",
    "    color=\"white\",\n",
    "    dx=-10,\n",
    ").encode(text=alt.Text(\"Score:Q\", format=\".2f\"))\n",
    "\n",
    "chart = (\n",
    "    (bar + text)\n",
    "    .properties(title=\"Evaluation Metrics\", width=600, height=300)\n",
    "    .configure_axis(labelFontSize=12, titleFontSize=14)\n",
    ")\n",
    "\n",
    "chart"
   ]
  }
 ],
 "metadata": {
  "kernelspec": {
   "display_name": "Python 3 (ipykernel)",
   "language": "python",
   "name": "python3"
  },
  "language_info": {
   "codemirror_mode": {
    "name": "ipython",
    "version": 3
   },
   "file_extension": ".py",
   "mimetype": "text/x-python",
   "name": "python",
   "nbconvert_exporter": "python",
   "pygments_lexer": "ipython3",
   "version": "3.10.11"
  }
 },
 "nbformat": 4,
 "nbformat_minor": 2
}
