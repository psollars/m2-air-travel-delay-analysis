{
 "cells": [
  {
   "cell_type": "code",
   "execution_count": 1,
   "metadata": {},
   "outputs": [
    {
     "data": {
      "text/plain": [
       "('2.1.1', '1.2.1')"
      ]
     },
     "execution_count": 1,
     "metadata": {},
     "output_type": "execute_result"
    }
   ],
   "source": [
    "import pandas as pd\n",
    "import numpy as np\n",
    "import plotly.express as px\n",
    "import matplotlib.pyplot as plt\n",
    "import time\n",
    "import sklearn\n",
    "import warnings\n",
    "import pickle\n",
    "\n",
    "warnings.filterwarnings(action='ignore', category=FutureWarning)\n",
    "\n",
    "pd.__version__, sklearn.__version__"
   ]
  },
  {
   "cell_type": "code",
   "execution_count": 2,
   "metadata": {},
   "outputs": [],
   "source": [
    "SCRATCH_DIR = \"/scratch/siads696f23_class_root/siads696f23_class/psollars\""
   ]
  },
  {
   "cell_type": "code",
   "execution_count": 3,
   "metadata": {},
   "outputs": [
    {
     "name": "stdout",
     "output_type": "stream",
     "text": [
      "Elapsed time: 36.7149 seconds\n"
     ]
    },
    {
     "data": {
      "text/html": [
       "<div>\n",
       "<style scoped>\n",
       "    .dataframe tbody tr th:only-of-type {\n",
       "        vertical-align: middle;\n",
       "    }\n",
       "\n",
       "    .dataframe tbody tr th {\n",
       "        vertical-align: top;\n",
       "    }\n",
       "\n",
       "    .dataframe thead th {\n",
       "        text-align: right;\n",
       "    }\n",
       "</style>\n",
       "<table border=\"1\" class=\"dataframe\">\n",
       "  <thead>\n",
       "    <tr style=\"text-align: right;\">\n",
       "      <th></th>\n",
       "      <th>Year</th>\n",
       "      <th>Quarter</th>\n",
       "      <th>Month</th>\n",
       "      <th>DayofMonth</th>\n",
       "      <th>DayOfWeek</th>\n",
       "      <th>FlightDate</th>\n",
       "      <th>Reporting_Airline</th>\n",
       "      <th>Tail_Number</th>\n",
       "      <th>Flight_Number_Reporting_Airline</th>\n",
       "      <th>OriginCityMarketID</th>\n",
       "      <th>...</th>\n",
       "      <th>TC-DATA-HOLDER</th>\n",
       "      <th>faa_registration_origin</th>\n",
       "      <th>Origin_DISPLAY_AIRPORT_NAME</th>\n",
       "      <th>Origin_DISPLAY_AIRPORT_CITY_NAME_FULL</th>\n",
       "      <th>Origin_LATITUDE</th>\n",
       "      <th>Origin_LONGITUDE</th>\n",
       "      <th>Dest_DISPLAY_AIRPORT_NAME</th>\n",
       "      <th>Dest_DISPLAY_AIRPORT_CITY_NAME_FULL</th>\n",
       "      <th>Dest_LATITUDE</th>\n",
       "      <th>Dest_LONGITUDE</th>\n",
       "    </tr>\n",
       "  </thead>\n",
       "  <tbody>\n",
       "    <tr>\n",
       "      <th>24733033</th>\n",
       "      <td>2019</td>\n",
       "      <td>1</td>\n",
       "      <td>1</td>\n",
       "      <td>4</td>\n",
       "      <td>5</td>\n",
       "      <td>2019-01-04 00:00:00</td>\n",
       "      <td>OO</td>\n",
       "      <td>945SW</td>\n",
       "      <td>5657</td>\n",
       "      <td>34236</td>\n",
       "      <td>...</td>\n",
       "      <td>...</td>\n",
       "      <td>2023.0</td>\n",
       "      <td>San Luis County Regional</td>\n",
       "      <td>San Luis Obispo, CA</td>\n",
       "      <td>35.237222</td>\n",
       "      <td>-120.642500</td>\n",
       "      <td>San Francisco International</td>\n",
       "      <td>San Francisco, CA</td>\n",
       "      <td>37.618889</td>\n",
       "      <td>-122.375556</td>\n",
       "    </tr>\n",
       "    <tr>\n",
       "      <th>24733034</th>\n",
       "      <td>2019</td>\n",
       "      <td>1</td>\n",
       "      <td>1</td>\n",
       "      <td>4</td>\n",
       "      <td>5</td>\n",
       "      <td>2019-01-04 00:00:00</td>\n",
       "      <td>OO</td>\n",
       "      <td>932SW</td>\n",
       "      <td>5658</td>\n",
       "      <td>31453</td>\n",
       "      <td>...</td>\n",
       "      <td>...</td>\n",
       "      <td>2023.0</td>\n",
       "      <td>George Bush Intercontinental/Houston</td>\n",
       "      <td>Houston, TX</td>\n",
       "      <td>29.984444</td>\n",
       "      <td>-95.341389</td>\n",
       "      <td>Northwest Arkansas National</td>\n",
       "      <td>Fayetteville, AR</td>\n",
       "      <td>36.281667</td>\n",
       "      <td>-94.307778</td>\n",
       "    </tr>\n",
       "    <tr>\n",
       "      <th>24733035</th>\n",
       "      <td>2019</td>\n",
       "      <td>1</td>\n",
       "      <td>1</td>\n",
       "      <td>4</td>\n",
       "      <td>5</td>\n",
       "      <td>2019-01-04 00:00:00</td>\n",
       "      <td>OO</td>\n",
       "      <td>932SW</td>\n",
       "      <td>5658</td>\n",
       "      <td>34783</td>\n",
       "      <td>...</td>\n",
       "      <td>...</td>\n",
       "      <td>2023.0</td>\n",
       "      <td>Springfield-Branson National</td>\n",
       "      <td>Springfield, MO</td>\n",
       "      <td>37.245556</td>\n",
       "      <td>-93.388611</td>\n",
       "      <td>George Bush Intercontinental/Houston</td>\n",
       "      <td>Houston, TX</td>\n",
       "      <td>29.984444</td>\n",
       "      <td>-95.341389</td>\n",
       "    </tr>\n",
       "    <tr>\n",
       "      <th>24733036</th>\n",
       "      <td>2019</td>\n",
       "      <td>1</td>\n",
       "      <td>1</td>\n",
       "      <td>4</td>\n",
       "      <td>5</td>\n",
       "      <td>2019-01-04 00:00:00</td>\n",
       "      <td>OO</td>\n",
       "      <td>916SW</td>\n",
       "      <td>5659</td>\n",
       "      <td>32389</td>\n",
       "      <td>...</td>\n",
       "      <td>...</td>\n",
       "      <td>2023.0</td>\n",
       "      <td>Sloulin Field International</td>\n",
       "      <td>Williston, ND</td>\n",
       "      <td>48.178056</td>\n",
       "      <td>-103.642222</td>\n",
       "      <td>Denver International</td>\n",
       "      <td>Denver, CO</td>\n",
       "      <td>39.861667</td>\n",
       "      <td>-104.673056</td>\n",
       "    </tr>\n",
       "    <tr>\n",
       "      <th>24733037</th>\n",
       "      <td>2019</td>\n",
       "      <td>1</td>\n",
       "      <td>1</td>\n",
       "      <td>4</td>\n",
       "      <td>5</td>\n",
       "      <td>2019-01-04 00:00:00</td>\n",
       "      <td>OO</td>\n",
       "      <td>107SY</td>\n",
       "      <td>5660</td>\n",
       "      <td>33342</td>\n",
       "      <td>...</td>\n",
       "      <td>...</td>\n",
       "      <td>2023.0</td>\n",
       "      <td>General Mitchell International</td>\n",
       "      <td>Milwaukee, WI</td>\n",
       "      <td>42.946944</td>\n",
       "      <td>-87.896944</td>\n",
       "      <td>Denver International</td>\n",
       "      <td>Denver, CO</td>\n",
       "      <td>39.861667</td>\n",
       "      <td>-104.673056</td>\n",
       "    </tr>\n",
       "    <tr>\n",
       "      <th>...</th>\n",
       "      <td>...</td>\n",
       "      <td>...</td>\n",
       "      <td>...</td>\n",
       "      <td>...</td>\n",
       "      <td>...</td>\n",
       "      <td>...</td>\n",
       "      <td>...</td>\n",
       "      <td>...</td>\n",
       "      <td>...</td>\n",
       "      <td>...</td>\n",
       "      <td>...</td>\n",
       "      <td>...</td>\n",
       "      <td>...</td>\n",
       "      <td>...</td>\n",
       "      <td>...</td>\n",
       "      <td>...</td>\n",
       "      <td>...</td>\n",
       "      <td>...</td>\n",
       "      <td>...</td>\n",
       "      <td>...</td>\n",
       "      <td>...</td>\n",
       "    </tr>\n",
       "    <tr>\n",
       "      <th>32288695</th>\n",
       "      <td>2019</td>\n",
       "      <td>4</td>\n",
       "      <td>12</td>\n",
       "      <td>1</td>\n",
       "      <td>7</td>\n",
       "      <td>2019-12-01 00:00:00</td>\n",
       "      <td>DL</td>\n",
       "      <td>346DN</td>\n",
       "      <td>830</td>\n",
       "      <td>30397</td>\n",
       "      <td>...</td>\n",
       "      <td>AIRBUS SAS                                    ...</td>\n",
       "      <td>2023.0</td>\n",
       "      <td>Hartsfield-Jackson Atlanta International</td>\n",
       "      <td>Atlanta, GA</td>\n",
       "      <td>33.636667</td>\n",
       "      <td>-84.427778</td>\n",
       "      <td>LaGuardia</td>\n",
       "      <td>New York, NY</td>\n",
       "      <td>40.777222</td>\n",
       "      <td>-73.872500</td>\n",
       "    </tr>\n",
       "    <tr>\n",
       "      <th>32288696</th>\n",
       "      <td>2019</td>\n",
       "      <td>4</td>\n",
       "      <td>12</td>\n",
       "      <td>1</td>\n",
       "      <td>7</td>\n",
       "      <td>2019-12-01 00:00:00</td>\n",
       "      <td>DL</td>\n",
       "      <td>697DL</td>\n",
       "      <td>831</td>\n",
       "      <td>31454</td>\n",
       "      <td>...</td>\n",
       "      <td>...</td>\n",
       "      <td>2023.0</td>\n",
       "      <td>Orlando International</td>\n",
       "      <td>Orlando, FL</td>\n",
       "      <td>28.429444</td>\n",
       "      <td>-81.308889</td>\n",
       "      <td>Minneapolis-St Paul International</td>\n",
       "      <td>Minneapolis, MN</td>\n",
       "      <td>44.881944</td>\n",
       "      <td>-93.221667</td>\n",
       "    </tr>\n",
       "    <tr>\n",
       "      <th>32288697</th>\n",
       "      <td>2019</td>\n",
       "      <td>4</td>\n",
       "      <td>12</td>\n",
       "      <td>1</td>\n",
       "      <td>7</td>\n",
       "      <td>2019-12-01 00:00:00</td>\n",
       "      <td>DL</td>\n",
       "      <td>697DL</td>\n",
       "      <td>831</td>\n",
       "      <td>31650</td>\n",
       "      <td>...</td>\n",
       "      <td>...</td>\n",
       "      <td>2023.0</td>\n",
       "      <td>Minneapolis-St Paul International</td>\n",
       "      <td>Minneapolis, MN</td>\n",
       "      <td>44.881944</td>\n",
       "      <td>-93.221667</td>\n",
       "      <td>Orlando International</td>\n",
       "      <td>Orlando, FL</td>\n",
       "      <td>28.429444</td>\n",
       "      <td>-81.308889</td>\n",
       "    </tr>\n",
       "    <tr>\n",
       "      <th>32288698</th>\n",
       "      <td>2019</td>\n",
       "      <td>4</td>\n",
       "      <td>12</td>\n",
       "      <td>1</td>\n",
       "      <td>7</td>\n",
       "      <td>2019-12-01 00:00:00</td>\n",
       "      <td>DL</td>\n",
       "      <td>6714Q</td>\n",
       "      <td>832</td>\n",
       "      <td>30852</td>\n",
       "      <td>...</td>\n",
       "      <td>...</td>\n",
       "      <td>2023.0</td>\n",
       "      <td>Ronald Reagan Washington National</td>\n",
       "      <td>Washington, DC</td>\n",
       "      <td>38.851389</td>\n",
       "      <td>-77.037778</td>\n",
       "      <td>Salt Lake City International</td>\n",
       "      <td>Salt Lake City, UT</td>\n",
       "      <td>40.788333</td>\n",
       "      <td>-111.977778</td>\n",
       "    </tr>\n",
       "    <tr>\n",
       "      <th>32288699</th>\n",
       "      <td>2019</td>\n",
       "      <td>4</td>\n",
       "      <td>12</td>\n",
       "      <td>1</td>\n",
       "      <td>7</td>\n",
       "      <td>2019-12-01 00:00:00</td>\n",
       "      <td>DL</td>\n",
       "      <td>6714Q</td>\n",
       "      <td>832</td>\n",
       "      <td>34614</td>\n",
       "      <td>...</td>\n",
       "      <td>...</td>\n",
       "      <td>2023.0</td>\n",
       "      <td>Salt Lake City International</td>\n",
       "      <td>Salt Lake City, UT</td>\n",
       "      <td>40.788333</td>\n",
       "      <td>-111.977778</td>\n",
       "      <td>Ronald Reagan Washington National</td>\n",
       "      <td>Washington, DC</td>\n",
       "      <td>38.851389</td>\n",
       "      <td>-77.037778</td>\n",
       "    </tr>\n",
       "  </tbody>\n",
       "</table>\n",
       "<p>7537349 rows × 108 columns</p>\n",
       "</div>"
      ],
      "text/plain": [
       "          Year  Quarter  Month  DayofMonth  DayOfWeek           FlightDate  \\\n",
       "24733033  2019        1      1           4          5  2019-01-04 00:00:00   \n",
       "24733034  2019        1      1           4          5  2019-01-04 00:00:00   \n",
       "24733035  2019        1      1           4          5  2019-01-04 00:00:00   \n",
       "24733036  2019        1      1           4          5  2019-01-04 00:00:00   \n",
       "24733037  2019        1      1           4          5  2019-01-04 00:00:00   \n",
       "...        ...      ...    ...         ...        ...                  ...   \n",
       "32288695  2019        4     12           1          7  2019-12-01 00:00:00   \n",
       "32288696  2019        4     12           1          7  2019-12-01 00:00:00   \n",
       "32288697  2019        4     12           1          7  2019-12-01 00:00:00   \n",
       "32288698  2019        4     12           1          7  2019-12-01 00:00:00   \n",
       "32288699  2019        4     12           1          7  2019-12-01 00:00:00   \n",
       "\n",
       "         Reporting_Airline Tail_Number  Flight_Number_Reporting_Airline  \\\n",
       "24733033                OO       945SW                             5657   \n",
       "24733034                OO       932SW                             5658   \n",
       "24733035                OO       932SW                             5658   \n",
       "24733036                OO       916SW                             5659   \n",
       "24733037                OO       107SY                             5660   \n",
       "...                    ...         ...                              ...   \n",
       "32288695                DL       346DN                              830   \n",
       "32288696                DL       697DL                              831   \n",
       "32288697                DL       697DL                              831   \n",
       "32288698                DL       6714Q                              832   \n",
       "32288699                DL       6714Q                              832   \n",
       "\n",
       "          OriginCityMarketID  ...  \\\n",
       "24733033               34236  ...   \n",
       "24733034               31453  ...   \n",
       "24733035               34783  ...   \n",
       "24733036               32389  ...   \n",
       "24733037               33342  ...   \n",
       "...                      ...  ...   \n",
       "32288695               30397  ...   \n",
       "32288696               31454  ...   \n",
       "32288697               31650  ...   \n",
       "32288698               30852  ...   \n",
       "32288699               34614  ...   \n",
       "\n",
       "                                             TC-DATA-HOLDER  \\\n",
       "24733033                                                ...   \n",
       "24733034                                                ...   \n",
       "24733035                                                ...   \n",
       "24733036                                                ...   \n",
       "24733037                                                ...   \n",
       "...                                                     ...   \n",
       "32288695  AIRBUS SAS                                    ...   \n",
       "32288696                                                ...   \n",
       "32288697                                                ...   \n",
       "32288698                                                ...   \n",
       "32288699                                                ...   \n",
       "\n",
       "         faa_registration_origin               Origin_DISPLAY_AIRPORT_NAME  \\\n",
       "24733033                  2023.0                  San Luis County Regional   \n",
       "24733034                  2023.0      George Bush Intercontinental/Houston   \n",
       "24733035                  2023.0              Springfield-Branson National   \n",
       "24733036                  2023.0               Sloulin Field International   \n",
       "24733037                  2023.0            General Mitchell International   \n",
       "...                          ...                                       ...   \n",
       "32288695                  2023.0  Hartsfield-Jackson Atlanta International   \n",
       "32288696                  2023.0                     Orlando International   \n",
       "32288697                  2023.0         Minneapolis-St Paul International   \n",
       "32288698                  2023.0         Ronald Reagan Washington National   \n",
       "32288699                  2023.0              Salt Lake City International   \n",
       "\n",
       "         Origin_DISPLAY_AIRPORT_CITY_NAME_FULL Origin_LATITUDE  \\\n",
       "24733033                   San Luis Obispo, CA       35.237222   \n",
       "24733034                           Houston, TX       29.984444   \n",
       "24733035                       Springfield, MO       37.245556   \n",
       "24733036                         Williston, ND       48.178056   \n",
       "24733037                         Milwaukee, WI       42.946944   \n",
       "...                                        ...             ...   \n",
       "32288695                           Atlanta, GA       33.636667   \n",
       "32288696                           Orlando, FL       28.429444   \n",
       "32288697                       Minneapolis, MN       44.881944   \n",
       "32288698                        Washington, DC       38.851389   \n",
       "32288699                    Salt Lake City, UT       40.788333   \n",
       "\n",
       "          Origin_LONGITUDE             Dest_DISPLAY_AIRPORT_NAME  \\\n",
       "24733033       -120.642500           San Francisco International   \n",
       "24733034        -95.341389           Northwest Arkansas National   \n",
       "24733035        -93.388611  George Bush Intercontinental/Houston   \n",
       "24733036       -103.642222                  Denver International   \n",
       "24733037        -87.896944                  Denver International   \n",
       "...                    ...                                   ...   \n",
       "32288695        -84.427778                             LaGuardia   \n",
       "32288696        -81.308889     Minneapolis-St Paul International   \n",
       "32288697        -93.221667                 Orlando International   \n",
       "32288698        -77.037778          Salt Lake City International   \n",
       "32288699       -111.977778     Ronald Reagan Washington National   \n",
       "\n",
       "          Dest_DISPLAY_AIRPORT_CITY_NAME_FULL Dest_LATITUDE Dest_LONGITUDE  \n",
       "24733033                    San Francisco, CA     37.618889    -122.375556  \n",
       "24733034                     Fayetteville, AR     36.281667     -94.307778  \n",
       "24733035                          Houston, TX     29.984444     -95.341389  \n",
       "24733036                           Denver, CO     39.861667    -104.673056  \n",
       "24733037                           Denver, CO     39.861667    -104.673056  \n",
       "...                                       ...           ...            ...  \n",
       "32288695                         New York, NY     40.777222     -73.872500  \n",
       "32288696                      Minneapolis, MN     44.881944     -93.221667  \n",
       "32288697                          Orlando, FL     28.429444     -81.308889  \n",
       "32288698                   Salt Lake City, UT     40.788333    -111.977778  \n",
       "32288699                       Washington, DC     38.851389     -77.037778  \n",
       "\n",
       "[7537349 rows x 108 columns]"
      ]
     },
     "execution_count": 3,
     "metadata": {},
     "output_type": "execute_result"
    }
   ],
   "source": [
    "start_time = time.time()\n",
    "all_features_2019 = pd.read_parquet(f\"{SCRATCH_DIR}/all_features_2019.parquet\")\n",
    "end_time = time.time()\n",
    "\n",
    "print(f\"Elapsed time: {(end_time - start_time):.4f} seconds\")\n",
    "\n",
    "all_features_2019"
   ]
  },
  {
   "cell_type": "code",
   "execution_count": 4,
   "metadata": {},
   "outputs": [
    {
     "name": "stdout",
     "output_type": "stream",
     "text": [
      "Removed 484833 rows\n"
     ]
    }
   ],
   "source": [
    "united_df = all_features_2019[all_features_2019[\"Reporting_Airline\"].eq(\"UA\")].drop(\"Reporting_Airline\", axis=1)\n",
    "\n",
    "df = united_df[united_df[\"Cancelled\"].eq(0) & united_df[\"Diverted\"].eq(0)].copy()\n",
    "\n",
    "df = df[df[\"Origin\"].eq(\"ORD\") | df[\"Dest\"].eq(\"ORD\")]\n",
    "\n",
    "df[\"delayed\"] = (df[\"DepDel15\"].eq(1)) | (df[\"ArrDel15\"].eq(1))\n",
    "\n",
    "print(f\"Removed {len(united_df) - len(df)} rows\")"
   ]
  },
  {
   "cell_type": "code",
   "execution_count": 5,
   "metadata": {},
   "outputs": [],
   "source": [
    "# Feature selection from \"feature_selection_2019_UA-for-real.ipynb\"\n",
    "\n",
    "num_cols = [\n",
    "    \"Quarter\",\n",
    "    \"Month\",\n",
    "    \"DayofMonth\",\n",
    "    \"DayOfWeek\",\n",
    "    \"CRSDepTime\",\n",
    "    \"CRSArrTime\",\n",
    "    \"CRSElapsedTime\",\n",
    "    \"Distance\",\n",
    "    \"DistanceGroup\",\n",
    "    \"YEAR MFR\",\n",
    "    \"HORSEPOWER\",\n",
    "    \"THRUST\",\n",
    "    \"NO-SEATS\",\n",
    "    \"Origin_LATITUDE\",\n",
    "    \"Origin_LONGITUDE\",\n",
    "    \"Dest_LATITUDE\",\n",
    "    \"Dest_LONGITUDE\",\n",
    "]\n",
    "\n",
    "cat_cols = [\n",
    "    \"FlightDate\",\n",
    "    \"Tail_Number\",\n",
    "    \"Origin\",\n",
    "    \"DestCityMarketID\",\n",
    "    \"Dest\",\n",
    "    \"N-NUMBER\",\n",
    "    \"MFR MDL CODE\",\n",
    "    \"ENG MFR MDL\",\n",
    "    \"TYPE REGISTRANT\",\n",
    "    \"NAME\",\n",
    "    \"CERTIFICATION\",\n",
    "    \"TYPE ENGINE\",\n",
    "    \"STATUS CODE\",\n",
    "    \"MODE S CODE\",\n",
    "    \"MODE S CODE HEX\",\n",
    "    \"CODE\",\n",
    "    \"MFR\",\n",
    "    \"MODEL\",\n",
    "    \"TYPE\",\n",
    "    \"CODE_aircraft\",\n",
    "    \"MFR_aircraft\",\n",
    "    \"MODEL_aircraft\",\n",
    "    \"TYPE-ENG\",\n",
    "    \"BUILD-CERT-IND\",\n",
    "    \"faa_registration_origin\",\n",
    "    \"Origin_DISPLAY_AIRPORT_NAME\",\n",
    "    \"Origin_DISPLAY_AIRPORT_CITY_NAME_FULL\",\n",
    "    \"Dest_DISPLAY_AIRPORT_NAME\",\n",
    "    \"Dest_DISPLAY_AIRPORT_CITY_NAME_FULL\",\n",
    "]"
   ]
  },
  {
   "cell_type": "code",
   "execution_count": 6,
   "metadata": {},
   "outputs": [],
   "source": [
    "from sklearn.preprocessing import StandardScaler, OneHotEncoder\n",
    "from sklearn.compose import ColumnTransformer\n",
    "\n",
    "\n",
    "def preprocess_data(df):\n",
    "    X = df.drop(\"delayed\", axis=1)\n",
    "    y = df[\"delayed\"]\n",
    "\n",
    "    preprocessor = ColumnTransformer(\n",
    "        transformers=[\n",
    "            (\"num\", StandardScaler(), num_cols),\n",
    "            (\"cat\", OneHotEncoder(), cat_cols),\n",
    "        ]\n",
    "    )\n",
    "\n",
    "    X_transformed = preprocessor.fit_transform(X)\n",
    "    \n",
    "    return X_transformed, y"
   ]
  },
  {
   "cell_type": "code",
   "execution_count": 7,
   "metadata": {},
   "outputs": [],
   "source": [
    "from sklearn.linear_model import LogisticRegression\n",
    "\n",
    "\n",
    "def fit_logistic_regression(X_train, y_train):\n",
    "    logistic_regression = LogisticRegression(solver='saga', max_iter=1000)\n",
    "    logistic_regression.fit(X_train, y_train)\n",
    "\n",
    "    return logistic_regression"
   ]
  },
  {
   "cell_type": "code",
   "execution_count": 8,
   "metadata": {},
   "outputs": [
    {
     "name": "stdout",
     "output_type": "stream",
     "text": [
      "Column YEAR MFR contains non-convertible values.\n"
     ]
    }
   ],
   "source": [
    "# Identify problematic columns\n",
    "for col in num_cols:\n",
    "    try:\n",
    "        df[col].astype(float)\n",
    "    except ValueError:\n",
    "        print(f\"Column {col} contains non-convertible values.\")"
   ]
  },
  {
   "cell_type": "code",
   "execution_count": 9,
   "metadata": {},
   "outputs": [
    {
     "data": {
      "text/plain": [
       "25272188    2001.0\n",
       "25272196    2002.0\n",
       "25272197    2015.0\n",
       "25272202    2004.0\n",
       "25272222    2004.0\n",
       "             ...  \n",
       "32219984    1994.0\n",
       "32219989    2014.0\n",
       "32219991    1999.0\n",
       "32219994    2008.0\n",
       "32219995    2004.0\n",
       "Name: YEAR MFR, Length: 155218, dtype: float64"
      ]
     },
     "execution_count": 9,
     "metadata": {},
     "output_type": "execute_result"
    }
   ],
   "source": [
    "df[\"YEAR MFR\"] = df[\"YEAR MFR\"].replace(r'^\\s*$', np.nan, regex=True)\n",
    "\n",
    "df[\"YEAR MFR\"].astype(float)"
   ]
  },
  {
   "cell_type": "code",
   "execution_count": 10,
   "metadata": {},
   "outputs": [
    {
     "name": "stdout",
     "output_type": "stream",
     "text": [
      "Removed 858 rows\n"
     ]
    },
    {
     "data": {
      "text/html": [
       "<div>\n",
       "<style scoped>\n",
       "    .dataframe tbody tr th:only-of-type {\n",
       "        vertical-align: middle;\n",
       "    }\n",
       "\n",
       "    .dataframe tbody tr th {\n",
       "        vertical-align: top;\n",
       "    }\n",
       "\n",
       "    .dataframe thead th {\n",
       "        text-align: right;\n",
       "    }\n",
       "</style>\n",
       "<table border=\"1\" class=\"dataframe\">\n",
       "  <thead>\n",
       "    <tr style=\"text-align: right;\">\n",
       "      <th></th>\n",
       "      <th>Quarter</th>\n",
       "      <th>Month</th>\n",
       "      <th>DayofMonth</th>\n",
       "      <th>DayOfWeek</th>\n",
       "      <th>CRSDepTime</th>\n",
       "      <th>CRSArrTime</th>\n",
       "      <th>CRSElapsedTime</th>\n",
       "      <th>Distance</th>\n",
       "      <th>DistanceGroup</th>\n",
       "      <th>YEAR MFR</th>\n",
       "      <th>...</th>\n",
       "      <th>MFR_aircraft</th>\n",
       "      <th>MODEL_aircraft</th>\n",
       "      <th>TYPE-ENG</th>\n",
       "      <th>BUILD-CERT-IND</th>\n",
       "      <th>faa_registration_origin</th>\n",
       "      <th>Origin_DISPLAY_AIRPORT_NAME</th>\n",
       "      <th>Origin_DISPLAY_AIRPORT_CITY_NAME_FULL</th>\n",
       "      <th>Dest_DISPLAY_AIRPORT_NAME</th>\n",
       "      <th>Dest_DISPLAY_AIRPORT_CITY_NAME_FULL</th>\n",
       "      <th>delayed</th>\n",
       "    </tr>\n",
       "  </thead>\n",
       "  <tbody>\n",
       "    <tr>\n",
       "      <th>25272188</th>\n",
       "      <td>1</td>\n",
       "      <td>1</td>\n",
       "      <td>22</td>\n",
       "      <td>2</td>\n",
       "      <td>1315</td>\n",
       "      <td>1932</td>\n",
       "      <td>257</td>\n",
       "      <td>1846</td>\n",
       "      <td>8</td>\n",
       "      <td>2001</td>\n",
       "      <td>...</td>\n",
       "      <td>BOEING</td>\n",
       "      <td>757-33N</td>\n",
       "      <td>5.0</td>\n",
       "      <td>0.0</td>\n",
       "      <td>2023.0</td>\n",
       "      <td>San Francisco International</td>\n",
       "      <td>San Francisco, CA</td>\n",
       "      <td>Chicago O'Hare International</td>\n",
       "      <td>Chicago, IL</td>\n",
       "      <td>True</td>\n",
       "    </tr>\n",
       "    <tr>\n",
       "      <th>25272196</th>\n",
       "      <td>1</td>\n",
       "      <td>1</td>\n",
       "      <td>22</td>\n",
       "      <td>2</td>\n",
       "      <td>1000</td>\n",
       "      <td>1144</td>\n",
       "      <td>164</td>\n",
       "      <td>733</td>\n",
       "      <td>3</td>\n",
       "      <td>2002</td>\n",
       "      <td>...</td>\n",
       "      <td>BOEING</td>\n",
       "      <td>737-700</td>\n",
       "      <td>5.0</td>\n",
       "      <td>0.0</td>\n",
       "      <td>2023.0</td>\n",
       "      <td>LaGuardia</td>\n",
       "      <td>New York, NY</td>\n",
       "      <td>Chicago O'Hare International</td>\n",
       "      <td>Chicago, IL</td>\n",
       "      <td>False</td>\n",
       "    </tr>\n",
       "    <tr>\n",
       "      <th>25272197</th>\n",
       "      <td>1</td>\n",
       "      <td>1</td>\n",
       "      <td>22</td>\n",
       "      <td>2</td>\n",
       "      <td>1430</td>\n",
       "      <td>1650</td>\n",
       "      <td>80</td>\n",
       "      <td>296</td>\n",
       "      <td>2</td>\n",
       "      <td>2015</td>\n",
       "      <td>...</td>\n",
       "      <td>BOEING</td>\n",
       "      <td>737-924ER</td>\n",
       "      <td>5.0</td>\n",
       "      <td>0.0</td>\n",
       "      <td>2023.0</td>\n",
       "      <td>Chicago O'Hare International</td>\n",
       "      <td>Chicago, IL</td>\n",
       "      <td>John Glenn Columbus International</td>\n",
       "      <td>Columbus, OH</td>\n",
       "      <td>True</td>\n",
       "    </tr>\n",
       "    <tr>\n",
       "      <th>25272202</th>\n",
       "      <td>1</td>\n",
       "      <td>1</td>\n",
       "      <td>22</td>\n",
       "      <td>2</td>\n",
       "      <td>1011</td>\n",
       "      <td>1200</td>\n",
       "      <td>169</td>\n",
       "      <td>888</td>\n",
       "      <td>4</td>\n",
       "      <td>2004</td>\n",
       "      <td>...</td>\n",
       "      <td>BOEING</td>\n",
       "      <td>757-324</td>\n",
       "      <td>5.0</td>\n",
       "      <td>0.0</td>\n",
       "      <td>2023.0</td>\n",
       "      <td>Chicago O'Hare International</td>\n",
       "      <td>Chicago, IL</td>\n",
       "      <td>Denver International</td>\n",
       "      <td>Denver, CO</td>\n",
       "      <td>True</td>\n",
       "    </tr>\n",
       "    <tr>\n",
       "      <th>25272222</th>\n",
       "      <td>1</td>\n",
       "      <td>1</td>\n",
       "      <td>22</td>\n",
       "      <td>2</td>\n",
       "      <td>1423</td>\n",
       "      <td>2024</td>\n",
       "      <td>241</td>\n",
       "      <td>1723</td>\n",
       "      <td>7</td>\n",
       "      <td>2004</td>\n",
       "      <td>...</td>\n",
       "      <td>BOEING</td>\n",
       "      <td>737-824</td>\n",
       "      <td>5.0</td>\n",
       "      <td>0.0</td>\n",
       "      <td>2023.0</td>\n",
       "      <td>San Diego International</td>\n",
       "      <td>San Diego, CA</td>\n",
       "      <td>Chicago O'Hare International</td>\n",
       "      <td>Chicago, IL</td>\n",
       "      <td>True</td>\n",
       "    </tr>\n",
       "    <tr>\n",
       "      <th>...</th>\n",
       "      <td>...</td>\n",
       "      <td>...</td>\n",
       "      <td>...</td>\n",
       "      <td>...</td>\n",
       "      <td>...</td>\n",
       "      <td>...</td>\n",
       "      <td>...</td>\n",
       "      <td>...</td>\n",
       "      <td>...</td>\n",
       "      <td>...</td>\n",
       "      <td>...</td>\n",
       "      <td>...</td>\n",
       "      <td>...</td>\n",
       "      <td>...</td>\n",
       "      <td>...</td>\n",
       "      <td>...</td>\n",
       "      <td>...</td>\n",
       "      <td>...</td>\n",
       "      <td>...</td>\n",
       "      <td>...</td>\n",
       "      <td>...</td>\n",
       "    </tr>\n",
       "    <tr>\n",
       "      <th>32219984</th>\n",
       "      <td>4</td>\n",
       "      <td>12</td>\n",
       "      <td>28</td>\n",
       "      <td>6</td>\n",
       "      <td>1747</td>\n",
       "      <td>2014</td>\n",
       "      <td>207</td>\n",
       "      <td>1197</td>\n",
       "      <td>5</td>\n",
       "      <td>1994</td>\n",
       "      <td>...</td>\n",
       "      <td>AIRBUS INDUSTRIE</td>\n",
       "      <td>A320-232</td>\n",
       "      <td>5.0</td>\n",
       "      <td>0.0</td>\n",
       "      <td>2023.0</td>\n",
       "      <td>Miami International</td>\n",
       "      <td>Miami, FL</td>\n",
       "      <td>Chicago O'Hare International</td>\n",
       "      <td>Chicago, IL</td>\n",
       "      <td>True</td>\n",
       "    </tr>\n",
       "    <tr>\n",
       "      <th>32219989</th>\n",
       "      <td>4</td>\n",
       "      <td>12</td>\n",
       "      <td>28</td>\n",
       "      <td>6</td>\n",
       "      <td>0755</td>\n",
       "      <td>1049</td>\n",
       "      <td>174</td>\n",
       "      <td>925</td>\n",
       "      <td>4</td>\n",
       "      <td>2014</td>\n",
       "      <td>...</td>\n",
       "      <td>BOEING</td>\n",
       "      <td>737-924ER</td>\n",
       "      <td>5.0</td>\n",
       "      <td>0.0</td>\n",
       "      <td>2023.0</td>\n",
       "      <td>Chicago O'Hare International</td>\n",
       "      <td>Chicago, IL</td>\n",
       "      <td>George Bush Intercontinental/Houston</td>\n",
       "      <td>Houston, TX</td>\n",
       "      <td>False</td>\n",
       "    </tr>\n",
       "    <tr>\n",
       "      <th>32219991</th>\n",
       "      <td>4</td>\n",
       "      <td>12</td>\n",
       "      <td>28</td>\n",
       "      <td>6</td>\n",
       "      <td>2324</td>\n",
       "      <td>0510</td>\n",
       "      <td>226</td>\n",
       "      <td>1739</td>\n",
       "      <td>7</td>\n",
       "      <td>1999</td>\n",
       "      <td>...</td>\n",
       "      <td>BOEING</td>\n",
       "      <td>737-824</td>\n",
       "      <td>5.0</td>\n",
       "      <td>0.0</td>\n",
       "      <td>2023.0</td>\n",
       "      <td>Portland International</td>\n",
       "      <td>Portland, OR</td>\n",
       "      <td>Chicago O'Hare International</td>\n",
       "      <td>Chicago, IL</td>\n",
       "      <td>False</td>\n",
       "    </tr>\n",
       "    <tr>\n",
       "      <th>32219994</th>\n",
       "      <td>4</td>\n",
       "      <td>12</td>\n",
       "      <td>28</td>\n",
       "      <td>6</td>\n",
       "      <td>0745</td>\n",
       "      <td>1145</td>\n",
       "      <td>180</td>\n",
       "      <td>1120</td>\n",
       "      <td>5</td>\n",
       "      <td>2008</td>\n",
       "      <td>...</td>\n",
       "      <td>BOEING</td>\n",
       "      <td>737-924ER</td>\n",
       "      <td>5.0</td>\n",
       "      <td>0.0</td>\n",
       "      <td>2023.0</td>\n",
       "      <td>Chicago O'Hare International</td>\n",
       "      <td>Chicago, IL</td>\n",
       "      <td>Southwest Florida International</td>\n",
       "      <td>Fort Myers, FL</td>\n",
       "      <td>False</td>\n",
       "    </tr>\n",
       "    <tr>\n",
       "      <th>32219995</th>\n",
       "      <td>4</td>\n",
       "      <td>12</td>\n",
       "      <td>28</td>\n",
       "      <td>6</td>\n",
       "      <td>2111</td>\n",
       "      <td>2357</td>\n",
       "      <td>286</td>\n",
       "      <td>1846</td>\n",
       "      <td>8</td>\n",
       "      <td>2004</td>\n",
       "      <td>...</td>\n",
       "      <td>BOEING</td>\n",
       "      <td>757-324</td>\n",
       "      <td>5.0</td>\n",
       "      <td>0.0</td>\n",
       "      <td>2023.0</td>\n",
       "      <td>Chicago O'Hare International</td>\n",
       "      <td>Chicago, IL</td>\n",
       "      <td>San Francisco International</td>\n",
       "      <td>San Francisco, CA</td>\n",
       "      <td>False</td>\n",
       "    </tr>\n",
       "  </tbody>\n",
       "</table>\n",
       "<p>154360 rows × 47 columns</p>\n",
       "</div>"
      ],
      "text/plain": [
       "          Quarter  Month  DayofMonth  DayOfWeek CRSDepTime CRSArrTime  \\\n",
       "25272188        1      1          22          2       1315       1932   \n",
       "25272196        1      1          22          2       1000       1144   \n",
       "25272197        1      1          22          2       1430       1650   \n",
       "25272202        1      1          22          2       1011       1200   \n",
       "25272222        1      1          22          2       1423       2024   \n",
       "...           ...    ...         ...        ...        ...        ...   \n",
       "32219984        4     12          28          6       1747       2014   \n",
       "32219989        4     12          28          6       0755       1049   \n",
       "32219991        4     12          28          6       2324       0510   \n",
       "32219994        4     12          28          6       0745       1145   \n",
       "32219995        4     12          28          6       2111       2357   \n",
       "\n",
       "          CRSElapsedTime  Distance DistanceGroup YEAR MFR  ...  \\\n",
       "25272188             257      1846             8     2001  ...   \n",
       "25272196             164       733             3     2002  ...   \n",
       "25272197              80       296             2     2015  ...   \n",
       "25272202             169       888             4     2004  ...   \n",
       "25272222             241      1723             7     2004  ...   \n",
       "...                  ...       ...           ...      ...  ...   \n",
       "32219984             207      1197             5     1994  ...   \n",
       "32219989             174       925             4     2014  ...   \n",
       "32219991             226      1739             7     1999  ...   \n",
       "32219994             180      1120             5     2008  ...   \n",
       "32219995             286      1846             8     2004  ...   \n",
       "\n",
       "                            MFR_aircraft        MODEL_aircraft  TYPE-ENG  \\\n",
       "25272188  BOEING                          757-33N                    5.0   \n",
       "25272196  BOEING                          737-700                    5.0   \n",
       "25272197  BOEING                          737-924ER                  5.0   \n",
       "25272202  BOEING                          757-324                    5.0   \n",
       "25272222  BOEING                          737-824                    5.0   \n",
       "...                                  ...                   ...       ...   \n",
       "32219984  AIRBUS INDUSTRIE                A320-232                   5.0   \n",
       "32219989  BOEING                          737-924ER                  5.0   \n",
       "32219991  BOEING                          737-824                    5.0   \n",
       "32219994  BOEING                          737-924ER                  5.0   \n",
       "32219995  BOEING                          757-324                    5.0   \n",
       "\n",
       "          BUILD-CERT-IND  faa_registration_origin  \\\n",
       "25272188             0.0                   2023.0   \n",
       "25272196             0.0                   2023.0   \n",
       "25272197             0.0                   2023.0   \n",
       "25272202             0.0                   2023.0   \n",
       "25272222             0.0                   2023.0   \n",
       "...                  ...                      ...   \n",
       "32219984             0.0                   2023.0   \n",
       "32219989             0.0                   2023.0   \n",
       "32219991             0.0                   2023.0   \n",
       "32219994             0.0                   2023.0   \n",
       "32219995             0.0                   2023.0   \n",
       "\n",
       "           Origin_DISPLAY_AIRPORT_NAME  Origin_DISPLAY_AIRPORT_CITY_NAME_FULL  \\\n",
       "25272188   San Francisco International                      San Francisco, CA   \n",
       "25272196                     LaGuardia                           New York, NY   \n",
       "25272197  Chicago O'Hare International                            Chicago, IL   \n",
       "25272202  Chicago O'Hare International                            Chicago, IL   \n",
       "25272222       San Diego International                          San Diego, CA   \n",
       "...                                ...                                    ...   \n",
       "32219984           Miami International                              Miami, FL   \n",
       "32219989  Chicago O'Hare International                            Chicago, IL   \n",
       "32219991        Portland International                           Portland, OR   \n",
       "32219994  Chicago O'Hare International                            Chicago, IL   \n",
       "32219995  Chicago O'Hare International                            Chicago, IL   \n",
       "\n",
       "                     Dest_DISPLAY_AIRPORT_NAME  \\\n",
       "25272188          Chicago O'Hare International   \n",
       "25272196          Chicago O'Hare International   \n",
       "25272197     John Glenn Columbus International   \n",
       "25272202                  Denver International   \n",
       "25272222          Chicago O'Hare International   \n",
       "...                                        ...   \n",
       "32219984          Chicago O'Hare International   \n",
       "32219989  George Bush Intercontinental/Houston   \n",
       "32219991          Chicago O'Hare International   \n",
       "32219994       Southwest Florida International   \n",
       "32219995           San Francisco International   \n",
       "\n",
       "         Dest_DISPLAY_AIRPORT_CITY_NAME_FULL delayed  \n",
       "25272188                         Chicago, IL    True  \n",
       "25272196                         Chicago, IL   False  \n",
       "25272197                        Columbus, OH    True  \n",
       "25272202                          Denver, CO    True  \n",
       "25272222                         Chicago, IL    True  \n",
       "...                                      ...     ...  \n",
       "32219984                         Chicago, IL    True  \n",
       "32219989                         Houston, TX   False  \n",
       "32219991                         Chicago, IL   False  \n",
       "32219994                      Fort Myers, FL   False  \n",
       "32219995                   San Francisco, CA   False  \n",
       "\n",
       "[154360 rows x 47 columns]"
      ]
     },
     "execution_count": 10,
     "metadata": {},
     "output_type": "execute_result"
    }
   ],
   "source": [
    "df_dropped_na = df[num_cols + cat_cols + [\"delayed\"]].copy()\n",
    "\n",
    "df_dropped_na = df_dropped_na.dropna(how=\"any\", axis=\"index\")\n",
    "\n",
    "print(f\"Removed {len(df) - len(df_dropped_na)} rows\")\n",
    "\n",
    "df_dropped_na"
   ]
  },
  {
   "cell_type": "code",
   "execution_count": 11,
   "metadata": {},
   "outputs": [
    {
     "name": "stdout",
     "output_type": "stream",
     "text": [
      "Elapsed time: 21.8121 seconds\n"
     ]
    }
   ],
   "source": [
    "from sklearn.model_selection import train_test_split\n",
    "\n",
    "start_time = time.time()\n",
    "\n",
    "X, y = preprocess_data(df_dropped_na)\n",
    "\n",
    "X_train, X_test, y_train, y_test = train_test_split(X, y, test_size=0.2, random_state=42)\n",
    "\n",
    "model = fit_logistic_regression(X_train, y_train)\n",
    "\n",
    "end_time = time.time()\n",
    "\n",
    "print(f\"Elapsed time: {(end_time - start_time):.4f} seconds\")"
   ]
  },
  {
   "cell_type": "code",
   "execution_count": 12,
   "metadata": {},
   "outputs": [],
   "source": [
    "with open(f\"{SCRATCH_DIR}/08_logistic_regression_2019_ORD_UA.pkl\", \"wb\") as f:\n",
    "    pickle.dump(model, f)"
   ]
  },
  {
   "cell_type": "code",
   "execution_count": 18,
   "metadata": {},
   "outputs": [
    {
     "name": "stdout",
     "output_type": "stream",
     "text": [
      "Elapsed time: 1423.9185 seconds\n"
     ]
    },
    {
     "data": {
      "text/html": [
       "<style>#sk-container-id-1 {color: black;background-color: white;}#sk-container-id-1 pre{padding: 0;}#sk-container-id-1 div.sk-toggleable {background-color: white;}#sk-container-id-1 label.sk-toggleable__label {cursor: pointer;display: block;width: 100%;margin-bottom: 0;padding: 0.3em;box-sizing: border-box;text-align: center;}#sk-container-id-1 label.sk-toggleable__label-arrow:before {content: \"▸\";float: left;margin-right: 0.25em;color: #696969;}#sk-container-id-1 label.sk-toggleable__label-arrow:hover:before {color: black;}#sk-container-id-1 div.sk-estimator:hover label.sk-toggleable__label-arrow:before {color: black;}#sk-container-id-1 div.sk-toggleable__content {max-height: 0;max-width: 0;overflow: hidden;text-align: left;background-color: #f0f8ff;}#sk-container-id-1 div.sk-toggleable__content pre {margin: 0.2em;color: black;border-radius: 0.25em;background-color: #f0f8ff;}#sk-container-id-1 input.sk-toggleable__control:checked~div.sk-toggleable__content {max-height: 200px;max-width: 100%;overflow: auto;}#sk-container-id-1 input.sk-toggleable__control:checked~label.sk-toggleable__label-arrow:before {content: \"▾\";}#sk-container-id-1 div.sk-estimator input.sk-toggleable__control:checked~label.sk-toggleable__label {background-color: #d4ebff;}#sk-container-id-1 div.sk-label input.sk-toggleable__control:checked~label.sk-toggleable__label {background-color: #d4ebff;}#sk-container-id-1 input.sk-hidden--visually {border: 0;clip: rect(1px 1px 1px 1px);clip: rect(1px, 1px, 1px, 1px);height: 1px;margin: -1px;overflow: hidden;padding: 0;position: absolute;width: 1px;}#sk-container-id-1 div.sk-estimator {font-family: monospace;background-color: #f0f8ff;border: 1px dotted black;border-radius: 0.25em;box-sizing: border-box;margin-bottom: 0.5em;}#sk-container-id-1 div.sk-estimator:hover {background-color: #d4ebff;}#sk-container-id-1 div.sk-parallel-item::after {content: \"\";width: 100%;border-bottom: 1px solid gray;flex-grow: 1;}#sk-container-id-1 div.sk-label:hover label.sk-toggleable__label {background-color: #d4ebff;}#sk-container-id-1 div.sk-serial::before {content: \"\";position: absolute;border-left: 1px solid gray;box-sizing: border-box;top: 0;bottom: 0;left: 50%;z-index: 0;}#sk-container-id-1 div.sk-serial {display: flex;flex-direction: column;align-items: center;background-color: white;padding-right: 0.2em;padding-left: 0.2em;position: relative;}#sk-container-id-1 div.sk-item {position: relative;z-index: 1;}#sk-container-id-1 div.sk-parallel {display: flex;align-items: stretch;justify-content: center;background-color: white;position: relative;}#sk-container-id-1 div.sk-item::before, #sk-container-id-1 div.sk-parallel-item::before {content: \"\";position: absolute;border-left: 1px solid gray;box-sizing: border-box;top: 0;bottom: 0;left: 50%;z-index: -1;}#sk-container-id-1 div.sk-parallel-item {display: flex;flex-direction: column;z-index: 1;position: relative;background-color: white;}#sk-container-id-1 div.sk-parallel-item:first-child::after {align-self: flex-end;width: 50%;}#sk-container-id-1 div.sk-parallel-item:last-child::after {align-self: flex-start;width: 50%;}#sk-container-id-1 div.sk-parallel-item:only-child::after {width: 0;}#sk-container-id-1 div.sk-dashed-wrapped {border: 1px dashed gray;margin: 0 0.4em 0.5em 0.4em;box-sizing: border-box;padding-bottom: 0.4em;background-color: white;}#sk-container-id-1 div.sk-label label {font-family: monospace;font-weight: bold;display: inline-block;line-height: 1.2em;}#sk-container-id-1 div.sk-label-container {text-align: center;}#sk-container-id-1 div.sk-container {/* jupyter's `normalize.less` sets `[hidden] { display: none; }` but bootstrap.min.css set `[hidden] { display: none !important; }` so we also need the `!important` here to be able to override the default hidden behavior on the sphinx rendered scikit-learn.org. See: https://github.com/scikit-learn/scikit-learn/issues/21755 */display: inline-block !important;position: relative;}#sk-container-id-1 div.sk-text-repr-fallback {display: none;}</style><div id=\"sk-container-id-1\" class=\"sk-top-container\"><div class=\"sk-text-repr-fallback\"><pre>GridSearchCV(estimator=LogisticRegression(max_iter=1000, solver=&#x27;saga&#x27;),\n",
       "             param_grid={}, scoring=make_scorer(recall_score))</pre><b>In a Jupyter environment, please rerun this cell to show the HTML representation or trust the notebook. <br />On GitHub, the HTML representation is unable to render, please try loading this page with nbviewer.org.</b></div><div class=\"sk-container\" hidden><div class=\"sk-item sk-dashed-wrapped\"><div class=\"sk-label-container\"><div class=\"sk-label sk-toggleable\"><input class=\"sk-toggleable__control sk-hidden--visually\" id=\"sk-estimator-id-1\" type=\"checkbox\" ><label for=\"sk-estimator-id-1\" class=\"sk-toggleable__label sk-toggleable__label-arrow\">GridSearchCV</label><div class=\"sk-toggleable__content\"><pre>GridSearchCV(estimator=LogisticRegression(max_iter=1000, solver=&#x27;saga&#x27;),\n",
       "             param_grid={}, scoring=make_scorer(recall_score))</pre></div></div></div><div class=\"sk-parallel\"><div class=\"sk-parallel-item\"><div class=\"sk-item\"><div class=\"sk-label-container\"><div class=\"sk-label sk-toggleable\"><input class=\"sk-toggleable__control sk-hidden--visually\" id=\"sk-estimator-id-2\" type=\"checkbox\" ><label for=\"sk-estimator-id-2\" class=\"sk-toggleable__label sk-toggleable__label-arrow\">estimator: LogisticRegression</label><div class=\"sk-toggleable__content\"><pre>LogisticRegression(max_iter=1000, solver=&#x27;saga&#x27;)</pre></div></div></div><div class=\"sk-serial\"><div class=\"sk-item\"><div class=\"sk-estimator sk-toggleable\"><input class=\"sk-toggleable__control sk-hidden--visually\" id=\"sk-estimator-id-3\" type=\"checkbox\" ><label for=\"sk-estimator-id-3\" class=\"sk-toggleable__label sk-toggleable__label-arrow\">LogisticRegression</label><div class=\"sk-toggleable__content\"><pre>LogisticRegression(max_iter=1000, solver=&#x27;saga&#x27;)</pre></div></div></div></div></div></div></div></div></div></div>"
      ],
      "text/plain": [
       "GridSearchCV(estimator=LogisticRegression(max_iter=1000, solver='saga'),\n",
       "             param_grid={}, scoring=make_scorer(recall_score))"
      ]
     },
     "execution_count": 18,
     "metadata": {},
     "output_type": "execute_result"
    }
   ],
   "source": [
    "# Trying a grid search to improve recall\n",
    "\n",
    "from sklearn.linear_model import LogisticRegression\n",
    "from sklearn.metrics import make_scorer, recall_score\n",
    "from sklearn.model_selection import GridSearchCV\n",
    "from imblearn.over_sampling import SMOTE\n",
    "\n",
    "start_time = time.time()\n",
    "\n",
    "smote = SMOTE(random_state=42)\n",
    "\n",
    "X_train_res, y_train_res = smote.fit_resample(X_train, y_train)\n",
    "\n",
    "scorer = make_scorer(recall_score)\n",
    "\n",
    "model = GridSearchCV(LogisticRegression(solver='saga', max_iter=1000), param_grid={}, scoring=scorer)\n",
    "\n",
    "model.fit(X_train_res, y_train_res)\n",
    "\n",
    "end_time = time.time()\n",
    "\n",
    "print(f\"Elapsed time: {(end_time - start_time):.4f} seconds\")\n",
    "\n",
    "model"
   ]
  },
  {
   "cell_type": "code",
   "execution_count": 19,
   "metadata": {},
   "outputs": [],
   "source": [
    "with open(f\"{SCRATCH_DIR}/08_GridSearchCV_2019_ORD_UA.pkl\", \"wb\") as f:\n",
    "    pickle.dump(model, f)"
   ]
  },
  {
   "cell_type": "code",
   "execution_count": 20,
   "metadata": {},
   "outputs": [],
   "source": [
    "from sklearn.metrics import (\n",
    "    accuracy_score,\n",
    "    precision_score,\n",
    "    recall_score,\n",
    "    f1_score,\n",
    "    confusion_matrix,\n",
    "    ConfusionMatrixDisplay,\n",
    "    roc_curve,\n",
    "    precision_recall_curve,\n",
    ")\n",
    "\n",
    "y_pred = model.predict(X_test)"
   ]
  },
  {
   "cell_type": "code",
   "execution_count": 21,
   "metadata": {},
   "outputs": [
    {
     "data": {
      "image/png": "[encoded data removed]",
      "text/plain": [
       "<Figure size 640x480 with 2 Axes>"
      ]
     },
     "metadata": {},
     "output_type": "display_data"
    }
   ],
   "source": [
    "cm = confusion_matrix(y_test, y_pred)\n",
    "\n",
    "ConfusionMatrixDisplay(\n",
    "    confusion_matrix=cm, display_labels=[\"Not Delayed\", \"Delayed\"]\n",
    ").plot(cmap=\"Blues\")\n",
    "plt.title(\"Confusion Matrix\")\n",
    "plt.show()"
   ]
  },
  {
   "cell_type": "code",
   "execution_count": 22,
   "metadata": {},
   "outputs": [
    {
     "data": {
      "image/png": "[encoded data removed]",
      "text/plain": [
       "<Figure size 640x480 with 1 Axes>"
      ]
     },
     "metadata": {},
     "output_type": "display_data"
    }
   ],
   "source": [
    "fpr, tpr, _ = roc_curve(y_test, model.predict_proba(X_test)[:, 1])\n",
    "\n",
    "plt.figure()\n",
    "plt.plot(fpr, tpr, color=\"darkorange\", label=\"ROC curve\")\n",
    "plt.plot([0, 1], [0, 1], color=\"navy\", linestyle=\"--\")\n",
    "plt.xlabel(\"False Positive Rate\")\n",
    "plt.ylabel(\"True Positive Rate\")\n",
    "plt.title(\"Receiver Operating Characteristic\")\n",
    "plt.legend(loc=\"lower right\")\n",
    "plt.show()"
   ]
  },
  {
   "cell_type": "code",
   "execution_count": 23,
   "metadata": {},
   "outputs": [
    {
     "data": {
      "image/png": "[encoded data removed]",
      "text/plain": [
       "<Figure size 640x480 with 1 Axes>"
      ]
     },
     "metadata": {},
     "output_type": "display_data"
    }
   ],
   "source": [
    "precision, recall, _ = precision_recall_curve(\n",
    "    y_test, model.predict_proba(X_test)[:, 1]\n",
    ")\n",
    "\n",
    "plt.figure()\n",
    "plt.plot(recall, precision, label=\"Precision-Recall curve\")\n",
    "plt.xlabel(\"Recall\")\n",
    "plt.ylabel(\"Precision\")\n",
    "plt.title(\"Precision-Recall Curve\")\n",
    "plt.legend(loc=\"lower left\")\n",
    "plt.show()"
   ]
  },
  {
   "cell_type": "code",
   "execution_count": 24,
   "metadata": {},
   "outputs": [
    {
     "data": {
      "application/vnd.plotly.v1+json": {
       "config": {
        "plotlyServerURL": "https://plot.ly"
       },
       "data": [
        {
         "alignmentgroup": "True",
         "hovertemplate": "Metric=%{y}<br>Score=%{text}<extra></extra>",
         "legendgroup": "Accuracy",
         "marker": {
          "color": "#636efa",
          "pattern": {
           "shape": ""
          }
         },
         "name": "Accuracy",
         "offsetgroup": "Accuracy",
         "orientation": "h",
         "showlegend": true,
         "text": [
          0.6970717802539518
         ],
         "textposition": "auto",
         "type": "bar",
         "x": [
          0.6970717802539518
         ],
         "xaxis": "x",
         "y": [
          "Accuracy"
         ],
         "yaxis": "y"
        },
        {
         "alignmentgroup": "True",
         "hovertemplate": "Metric=%{y}<br>Score=%{text}<extra></extra>",
         "legendgroup": "Precision",
         "marker": {
          "color": "#EF553B",
          "pattern": {
           "shape": ""
          }
         },
         "name": "Precision",
         "offsetgroup": "Precision",
         "orientation": "h",
         "showlegend": true,
         "text": [
          0.4319593944167323
         ],
         "textposition": "auto",
         "type": "bar",
         "x": [
          0.4319593944167323
         ],
         "xaxis": "x",
         "y": [
          "Precision"
         ],
         "yaxis": "y"
        },
        {
         "alignmentgroup": "True",
         "hovertemplate": "Metric=%{y}<br>Score=%{text}<extra></extra>",
         "legendgroup": "Recall",
         "marker": {
          "color": "#00cc96",
          "pattern": {
           "shape": ""
          }
         },
         "name": "Recall",
         "offsetgroup": "Recall",
         "orientation": "h",
         "showlegend": true,
         "text": [
          0.6330639989739644
         ],
         "textposition": "auto",
         "type": "bar",
         "x": [
          0.6330639989739644
         ],
         "xaxis": "x",
         "y": [
          "Recall"
         ],
         "yaxis": "y"
        },
        {
         "alignmentgroup": "True",
         "hovertemplate": "Metric=%{y}<br>Score=%{text}<extra></extra>",
         "legendgroup": "F1 Score",
         "marker": {
          "color": "#ab63fa",
          "pattern": {
           "shape": ""
          }
         },
         "name": "F1 Score",
         "offsetgroup": "F1 Score",
         "orientation": "h",
         "showlegend": true,
         "text": [
          0.5135247607157719
         ],
         "textposition": "auto",
         "type": "bar",
         "x": [
          0.5135247607157719
         ],
         "xaxis": "x",
         "y": [
          "F1 Score"
         ],
         "yaxis": "y"
        }
       ],
       "layout": {
        "barmode": "relative",
        "legend": {
         "title": {
          "text": "Metric"
         },
         "tracegroupgap": 0
        },
        "showlegend": false,
        "template": {
         "data": {
          "bar": [
           {
            "error_x": {
             "color": "#2a3f5f"
            },
            "error_y": {
             "color": "#2a3f5f"
            },
            "marker": {
             "line": {
              "color": "#E5ECF6",
              "width": 0.5
             },
             "pattern": {
              "fillmode": "overlay",
              "size": 10,
              "solidity": 0.2
             }
            },
            "type": "bar"
           }
          ],
          "barpolar": [
           {
            "marker": {
             "line": {
              "color": "#E5ECF6",
              "width": 0.5
             },
             "pattern": {
              "fillmode": "overlay",
              "size": 10,
              "solidity": 0.2
             }
            },
            "type": "barpolar"
           }
          ],
          "carpet": [
           {
            "aaxis": {
             "endlinecolor": "#2a3f5f",
             "gridcolor": "white",
             "linecolor": "white",
             "minorgridcolor": "white",
             "startlinecolor": "#2a3f5f"
            },
            "baxis": {
             "endlinecolor": "#2a3f5f",
             "gridcolor": "white",
             "linecolor": "white",
             "minorgridcolor": "white",
             "startlinecolor": "#2a3f5f"
            },
            "type": "carpet"
           }
          ],
          "choropleth": [
           {
            "colorbar": {
             "outlinewidth": 0,
             "ticks": ""
            },
            "type": "choropleth"
           }
          ],
          "contour": [
           {
            "colorbar": {
             "outlinewidth": 0,
             "ticks": ""
            },
            "colorscale": [
             [
              0,
              "#0d0887"
             ],
             [
              0.1111111111111111,
              "#46039f"
             ],
             [
              0.2222222222222222,
              "#7201a8"
             ],
             [
              0.3333333333333333,
              "#9c179e"
             ],
             [
              0.4444444444444444,
              "#bd3786"
             ],
             [
              0.5555555555555556,
              "#d8576b"
             ],
             [
              0.6666666666666666,
              "#ed7953"
             ],
             [
              0.7777777777777778,
              "#fb9f3a"
             ],
             [
              0.8888888888888888,
              "#fdca26"
             ],
             [
              1,
              "#f0f921"
             ]
            ],
            "type": "contour"
           }
          ],
          "contourcarpet": [
           {
            "colorbar": {
             "outlinewidth": 0,
             "ticks": ""
            },
            "type": "contourcarpet"
           }
          ],
          "heatmap": [
           {
            "colorbar": {
             "outlinewidth": 0,
             "ticks": ""
            },
            "colorscale": [
             [
              0,
              "#0d0887"
             ],
             [
              0.1111111111111111,
              "#46039f"
             ],
             [
              0.2222222222222222,
              "#7201a8"
             ],
             [
              0.3333333333333333,
              "#9c179e"
             ],
             [
              0.4444444444444444,
              "#bd3786"
             ],
             [
              0.5555555555555556,
              "#d8576b"
             ],
             [
              0.6666666666666666,
              "#ed7953"
             ],
             [
              0.7777777777777778,
              "#fb9f3a"
             ],
             [
              0.8888888888888888,
              "#fdca26"
             ],
             [
              1,
              "#f0f921"
             ]
            ],
            "type": "heatmap"
           }
          ],
          "heatmapgl": [
           {
            "colorbar": {
             "outlinewidth": 0,
             "ticks": ""
            },
            "colorscale": [
             [
              0,
              "#0d0887"
             ],
             [
              0.1111111111111111,
              "#46039f"
             ],
             [
              0.2222222222222222,
              "#7201a8"
             ],
             [
              0.3333333333333333,
              "#9c179e"
             ],
             [
              0.4444444444444444,
              "#bd3786"
             ],
             [
              0.5555555555555556,
              "#d8576b"
             ],
             [
              0.6666666666666666,
              "#ed7953"
             ],
             [
              0.7777777777777778,
              "#fb9f3a"
             ],
             [
              0.8888888888888888,
              "#fdca26"
             ],
             [
              1,
              "#f0f921"
             ]
            ],
            "type": "heatmapgl"
           }
          ],
          "histogram": [
           {
            "marker": {
             "pattern": {
              "fillmode": "overlay",
              "size": 10,
              "solidity": 0.2
             }
            },
            "type": "histogram"
           }
          ],
          "histogram2d": [
           {
            "colorbar": {
             "outlinewidth": 0,
             "ticks": ""
            },
            "colorscale": [
             [
              0,
              "#0d0887"
             ],
             [
              0.1111111111111111,
              "#46039f"
             ],
             [
              0.2222222222222222,
              "#7201a8"
             ],
             [
              0.3333333333333333,
              "#9c179e"
             ],
             [
              0.4444444444444444,
              "#bd3786"
             ],
             [
              0.5555555555555556,
              "#d8576b"
             ],
             [
              0.6666666666666666,
              "#ed7953"
             ],
             [
              0.7777777777777778,
              "#fb9f3a"
             ],
             [
              0.8888888888888888,
              "#fdca26"
             ],
             [
              1,
              "#f0f921"
             ]
            ],
            "type": "histogram2d"
           }
          ],
          "histogram2dcontour": [
           {
            "colorbar": {
             "outlinewidth": 0,
             "ticks": ""
            },
            "colorscale": [
             [
              0,
              "#0d0887"
             ],
             [
              0.1111111111111111,
              "#46039f"
             ],
             [
              0.2222222222222222,
              "#7201a8"
             ],
             [
              0.3333333333333333,
              "#9c179e"
             ],
             [
              0.4444444444444444,
              "#bd3786"
             ],
             [
              0.5555555555555556,
              "#d8576b"
             ],
             [
              0.6666666666666666,
              "#ed7953"
             ],
             [
              0.7777777777777778,
              "#fb9f3a"
             ],
             [
              0.8888888888888888,
              "#fdca26"
             ],
             [
              1,
              "#f0f921"
             ]
            ],
            "type": "histogram2dcontour"
           }
          ],
          "mesh3d": [
           {
            "colorbar": {
             "outlinewidth": 0,
             "ticks": ""
            },
            "type": "mesh3d"
           }
          ],
          "parcoords": [
           {
            "line": {
             "colorbar": {
              "outlinewidth": 0,
              "ticks": ""
             }
            },
            "type": "parcoords"
           }
          ],
          "pie": [
           {
            "automargin": true,
            "type": "pie"
           }
          ],
          "scatter": [
           {
            "fillpattern": {
             "fillmode": "overlay",
             "size": 10,
             "solidity": 0.2
            },
            "type": "scatter"
           }
          ],
          "scatter3d": [
           {
            "line": {
             "colorbar": {
              "outlinewidth": 0,
              "ticks": ""
             }
            },
            "marker": {
             "colorbar": {
              "outlinewidth": 0,
              "ticks": ""
             }
            },
            "type": "scatter3d"
           }
          ],
          "scattercarpet": [
           {
            "marker": {
             "colorbar": {
              "outlinewidth": 0,
              "ticks": ""
             }
            },
            "type": "scattercarpet"
           }
          ],
          "scattergeo": [
           {
            "marker": {
             "colorbar": {
              "outlinewidth": 0,
              "ticks": ""
             }
            },
            "type": "scattergeo"
           }
          ],
          "scattergl": [
           {
            "marker": {
             "colorbar": {
              "outlinewidth": 0,
              "ticks": ""
             }
            },
            "type": "scattergl"
           }
          ],
          "scattermapbox": [
           {
            "marker": {
             "colorbar": {
              "outlinewidth": 0,
              "ticks": ""
             }
            },
            "type": "scattermapbox"
           }
          ],
          "scatterpolar": [
           {
            "marker": {
             "colorbar": {
              "outlinewidth": 0,
              "ticks": ""
             }
            },
            "type": "scatterpolar"
           }
          ],
          "scatterpolargl": [
           {
            "marker": {
             "colorbar": {
              "outlinewidth": 0,
              "ticks": ""
             }
            },
            "type": "scatterpolargl"
           }
          ],
          "scatterternary": [
           {
            "marker": {
             "colorbar": {
              "outlinewidth": 0,
              "ticks": ""
             }
            },
            "type": "scatterternary"
           }
          ],
          "surface": [
           {
            "colorbar": {
             "outlinewidth": 0,
             "ticks": ""
            },
            "colorscale": [
             [
              0,
              "#0d0887"
             ],
             [
              0.1111111111111111,
              "#46039f"
             ],
             [
              0.2222222222222222,
              "#7201a8"
             ],
             [
              0.3333333333333333,
              "#9c179e"
             ],
             [
              0.4444444444444444,
              "#bd3786"
             ],
             [
              0.5555555555555556,
              "#d8576b"
             ],
             [
              0.6666666666666666,
              "#ed7953"
             ],
             [
              0.7777777777777778,
              "#fb9f3a"
             ],
             [
              0.8888888888888888,
              "#fdca26"
             ],
             [
              1,
              "#f0f921"
             ]
            ],
            "type": "surface"
           }
          ],
          "table": [
           {
            "cells": {
             "fill": {
              "color": "#EBF0F8"
             },
             "line": {
              "color": "white"
             }
            },
            "header": {
             "fill": {
              "color": "#C8D4E3"
             },
             "line": {
              "color": "white"
             }
            },
            "type": "table"
           }
          ]
         },
         "layout": {
          "annotationdefaults": {
           "arrowcolor": "#2a3f5f",
           "arrowhead": 0,
           "arrowwidth": 1
          },
          "autotypenumbers": "strict",
          "coloraxis": {
           "colorbar": {
            "outlinewidth": 0,
            "ticks": ""
           }
          },
          "colorscale": {
           "diverging": [
            [
             0,
             "#8e0152"
            ],
            [
             0.1,
             "#c51b7d"
            ],
            [
             0.2,
             "#de77ae"
            ],
            [
             0.3,
             "#f1b6da"
            ],
            [
             0.4,
             "#fde0ef"
            ],
            [
             0.5,
             "#f7f7f7"
            ],
            [
             0.6,
             "#e6f5d0"
            ],
            [
             0.7,
             "#b8e186"
            ],
            [
             0.8,
             "#7fbc41"
            ],
            [
             0.9,
             "#4d9221"
            ],
            [
             1,
             "#276419"
            ]
           ],
           "sequential": [
            [
             0,
             "#0d0887"
            ],
            [
             0.1111111111111111,
             "#46039f"
            ],
            [
             0.2222222222222222,
             "#7201a8"
            ],
            [
             0.3333333333333333,
             "#9c179e"
            ],
            [
             0.4444444444444444,
             "#bd3786"
            ],
            [
             0.5555555555555556,
             "#d8576b"
            ],
            [
             0.6666666666666666,
             "#ed7953"
            ],
            [
             0.7777777777777778,
             "#fb9f3a"
            ],
            [
             0.8888888888888888,
             "#fdca26"
            ],
            [
             1,
             "#f0f921"
            ]
           ],
           "sequentialminus": [
            [
             0,
             "#0d0887"
            ],
            [
             0.1111111111111111,
             "#46039f"
            ],
            [
             0.2222222222222222,
             "#7201a8"
            ],
            [
             0.3333333333333333,
             "#9c179e"
            ],
            [
             0.4444444444444444,
             "#bd3786"
            ],
            [
             0.5555555555555556,
             "#d8576b"
            ],
            [
             0.6666666666666666,
             "#ed7953"
            ],
            [
             0.7777777777777778,
             "#fb9f3a"
            ],
            [
             0.8888888888888888,
             "#fdca26"
            ],
            [
             1,
             "#f0f921"
            ]
           ]
          },
          "colorway": [
           "#636efa",
           "#EF553B",
           "#00cc96",
           "#ab63fa",
           "#FFA15A",
           "#19d3f3",
           "#FF6692",
           "#B6E880",
           "#FF97FF",
           "#FECB52"
          ],
          "font": {
           "color": "#2a3f5f"
          },
          "geo": {
           "bgcolor": "white",
           "lakecolor": "white",
           "landcolor": "#E5ECF6",
           "showlakes": true,
           "showland": true,
           "subunitcolor": "white"
          },
          "hoverlabel": {
           "align": "left"
          },
          "hovermode": "closest",
          "mapbox": {
           "style": "light"
          },
          "paper_bgcolor": "white",
          "plot_bgcolor": "#E5ECF6",
          "polar": {
           "angularaxis": {
            "gridcolor": "white",
            "linecolor": "white",
            "ticks": ""
           },
           "bgcolor": "#E5ECF6",
           "radialaxis": {
            "gridcolor": "white",
            "linecolor": "white",
            "ticks": ""
           }
          },
          "scene": {
           "xaxis": {
            "backgroundcolor": "#E5ECF6",
            "gridcolor": "white",
            "gridwidth": 2,
            "linecolor": "white",
            "showbackground": true,
            "ticks": "",
            "zerolinecolor": "white"
           },
           "yaxis": {
            "backgroundcolor": "#E5ECF6",
            "gridcolor": "white",
            "gridwidth": 2,
            "linecolor": "white",
            "showbackground": true,
            "ticks": "",
            "zerolinecolor": "white"
           },
           "zaxis": {
            "backgroundcolor": "#E5ECF6",
            "gridcolor": "white",
            "gridwidth": 2,
            "linecolor": "white",
            "showbackground": true,
            "ticks": "",
            "zerolinecolor": "white"
           }
          },
          "shapedefaults": {
           "line": {
            "color": "#2a3f5f"
           }
          },
          "ternary": {
           "aaxis": {
            "gridcolor": "white",
            "linecolor": "white",
            "ticks": ""
           },
           "baxis": {
            "gridcolor": "white",
            "linecolor": "white",
            "ticks": ""
           },
           "bgcolor": "#E5ECF6",
           "caxis": {
            "gridcolor": "white",
            "linecolor": "white",
            "ticks": ""
           }
          },
          "title": {
           "x": 0.05
          },
          "xaxis": {
           "automargin": true,
           "gridcolor": "white",
           "linecolor": "white",
           "ticks": "",
           "title": {
            "standoff": 15
           },
           "zerolinecolor": "white",
           "zerolinewidth": 2
          },
          "yaxis": {
           "automargin": true,
           "gridcolor": "white",
           "linecolor": "white",
           "ticks": "",
           "title": {
            "standoff": 15
           },
           "zerolinecolor": "white",
           "zerolinewidth": 2
          }
         }
        },
        "title": {
         "text": "Evaluation Metrics"
        },
        "xaxis": {
         "anchor": "y",
         "domain": [
          0,
          1
         ],
         "title": {
          "text": "Score"
         }
        },
        "yaxis": {
         "anchor": "x",
         "categoryarray": [
          "F1 Score",
          "Recall",
          "Precision",
          "Accuracy"
         ],
         "categoryorder": "array",
         "domain": [
          0,
          1
         ],
         "title": {
          "text": "Metric"
         }
        }
       }
      },
      "text/html": [
       "<div>                            <div id=\"46608257-4cd2-4f48-a2b6-3d85c85ef3e4\" class=\"plotly-graph-div\" style=\"height:525px; width:100%;\"></div>            <script type=\"text/javascript\">                require([\"plotly\"], function(Plotly) {                    window.PLOTLYENV=window.PLOTLYENV || {};                                    if (document.getElementById(\"46608257-4cd2-4f48-a2b6-3d85c85ef3e4\")) {                    Plotly.newPlot(                        \"46608257-4cd2-4f48-a2b6-3d85c85ef3e4\",                        [{\"alignmentgroup\":\"True\",\"hovertemplate\":\"Metric=%{y}<br>Score=%{text}<extra></extra>\",\"legendgroup\":\"Accuracy\",\"marker\":{\"color\":\"#636efa\",\"pattern\":{\"shape\":\"\"}},\"name\":\"Accuracy\",\"offsetgroup\":\"Accuracy\",\"orientation\":\"h\",\"showlegend\":true,\"text\":[0.6970717802539518],\"textposition\":\"auto\",\"x\":[0.6970717802539518],\"xaxis\":\"x\",\"y\":[\"Accuracy\"],\"yaxis\":\"y\",\"type\":\"bar\"},{\"alignmentgroup\":\"True\",\"hovertemplate\":\"Metric=%{y}<br>Score=%{text}<extra></extra>\",\"legendgroup\":\"Precision\",\"marker\":{\"color\":\"#EF553B\",\"pattern\":{\"shape\":\"\"}},\"name\":\"Precision\",\"offsetgroup\":\"Precision\",\"orientation\":\"h\",\"showlegend\":true,\"text\":[0.4319593944167323],\"textposition\":\"auto\",\"x\":[0.4319593944167323],\"xaxis\":\"x\",\"y\":[\"Precision\"],\"yaxis\":\"y\",\"type\":\"bar\"},{\"alignmentgroup\":\"True\",\"hovertemplate\":\"Metric=%{y}<br>Score=%{text}<extra></extra>\",\"legendgroup\":\"Recall\",\"marker\":{\"color\":\"#00cc96\",\"pattern\":{\"shape\":\"\"}},\"name\":\"Recall\",\"offsetgroup\":\"Recall\",\"orientation\":\"h\",\"showlegend\":true,\"text\":[0.6330639989739644],\"textposition\":\"auto\",\"x\":[0.6330639989739644],\"xaxis\":\"x\",\"y\":[\"Recall\"],\"yaxis\":\"y\",\"type\":\"bar\"},{\"alignmentgroup\":\"True\",\"hovertemplate\":\"Metric=%{y}<br>Score=%{text}<extra></extra>\",\"legendgroup\":\"F1 Score\",\"marker\":{\"color\":\"#ab63fa\",\"pattern\":{\"shape\":\"\"}},\"name\":\"F1 Score\",\"offsetgroup\":\"F1 Score\",\"orientation\":\"h\",\"showlegend\":true,\"text\":[0.5135247607157719],\"textposition\":\"auto\",\"x\":[0.5135247607157719],\"xaxis\":\"x\",\"y\":[\"F1 Score\"],\"yaxis\":\"y\",\"type\":\"bar\"}],                        {\"template\":{\"data\":{\"histogram2dcontour\":[{\"type\":\"histogram2dcontour\",\"colorbar\":{\"outlinewidth\":0,\"ticks\":\"\"},\"colorscale\":[[0.0,\"#0d0887\"],[0.1111111111111111,\"#46039f\"],[0.2222222222222222,\"#7201a8\"],[0.3333333333333333,\"#9c179e\"],[0.4444444444444444,\"#bd3786\"],[0.5555555555555556,\"#d8576b\"],[0.6666666666666666,\"#ed7953\"],[0.7777777777777778,\"#fb9f3a\"],[0.8888888888888888,\"#fdca26\"],[1.0,\"#f0f921\"]]}],\"choropleth\":[{\"type\":\"choropleth\",\"colorbar\":{\"outlinewidth\":0,\"ticks\":\"\"}}],\"histogram2d\":[{\"type\":\"histogram2d\",\"colorbar\":{\"outlinewidth\":0,\"ticks\":\"\"},\"colorscale\":[[0.0,\"#0d0887\"],[0.1111111111111111,\"#46039f\"],[0.2222222222222222,\"#7201a8\"],[0.3333333333333333,\"#9c179e\"],[0.4444444444444444,\"#bd3786\"],[0.5555555555555556,\"#d8576b\"],[0.6666666666666666,\"#ed7953\"],[0.7777777777777778,\"#fb9f3a\"],[0.8888888888888888,\"#fdca26\"],[1.0,\"#f0f921\"]]}],\"heatmap\":[{\"type\":\"heatmap\",\"colorbar\":{\"outlinewidth\":0,\"ticks\":\"\"},\"colorscale\":[[0.0,\"#0d0887\"],[0.1111111111111111,\"#46039f\"],[0.2222222222222222,\"#7201a8\"],[0.3333333333333333,\"#9c179e\"],[0.4444444444444444,\"#bd3786\"],[0.5555555555555556,\"#d8576b\"],[0.6666666666666666,\"#ed7953\"],[0.7777777777777778,\"#fb9f3a\"],[0.8888888888888888,\"#fdca26\"],[1.0,\"#f0f921\"]]}],\"heatmapgl\":[{\"type\":\"heatmapgl\",\"colorbar\":{\"outlinewidth\":0,\"ticks\":\"\"},\"colorscale\":[[0.0,\"#0d0887\"],[0.1111111111111111,\"#46039f\"],[0.2222222222222222,\"#7201a8\"],[0.3333333333333333,\"#9c179e\"],[0.4444444444444444,\"#bd3786\"],[0.5555555555555556,\"#d8576b\"],[0.6666666666666666,\"#ed7953\"],[0.7777777777777778,\"#fb9f3a\"],[0.8888888888888888,\"#fdca26\"],[1.0,\"#f0f921\"]]}],\"contourcarpet\":[{\"type\":\"contourcarpet\",\"colorbar\":{\"outlinewidth\":0,\"ticks\":\"\"}}],\"contour\":[{\"type\":\"contour\",\"colorbar\":{\"outlinewidth\":0,\"ticks\":\"\"},\"colorscale\":[[0.0,\"#0d0887\"],[0.1111111111111111,\"#46039f\"],[0.2222222222222222,\"#7201a8\"],[0.3333333333333333,\"#9c179e\"],[0.4444444444444444,\"#bd3786\"],[0.5555555555555556,\"#d8576b\"],[0.6666666666666666,\"#ed7953\"],[0.7777777777777778,\"#fb9f3a\"],[0.8888888888888888,\"#fdca26\"],[1.0,\"#f0f921\"]]}],\"surface\":[{\"type\":\"surface\",\"colorbar\":{\"outlinewidth\":0,\"ticks\":\"\"},\"colorscale\":[[0.0,\"#0d0887\"],[0.1111111111111111,\"#46039f\"],[0.2222222222222222,\"#7201a8\"],[0.3333333333333333,\"#9c179e\"],[0.4444444444444444,\"#bd3786\"],[0.5555555555555556,\"#d8576b\"],[0.6666666666666666,\"#ed7953\"],[0.7777777777777778,\"#fb9f3a\"],[0.8888888888888888,\"#fdca26\"],[1.0,\"#f0f921\"]]}],\"mesh3d\":[{\"type\":\"mesh3d\",\"colorbar\":{\"outlinewidth\":0,\"ticks\":\"\"}}],\"scatter\":[{\"fillpattern\":{\"fillmode\":\"overlay\",\"size\":10,\"solidity\":0.2},\"type\":\"scatter\"}],\"parcoords\":[{\"type\":\"parcoords\",\"line\":{\"colorbar\":{\"outlinewidth\":0,\"ticks\":\"\"}}}],\"scatterpolargl\":[{\"type\":\"scatterpolargl\",\"marker\":{\"colorbar\":{\"outlinewidth\":0,\"ticks\":\"\"}}}],\"bar\":[{\"error_x\":{\"color\":\"#2a3f5f\"},\"error_y\":{\"color\":\"#2a3f5f\"},\"marker\":{\"line\":{\"color\":\"#E5ECF6\",\"width\":0.5},\"pattern\":{\"fillmode\":\"overlay\",\"size\":10,\"solidity\":0.2}},\"type\":\"bar\"}],\"scattergeo\":[{\"type\":\"scattergeo\",\"marker\":{\"colorbar\":{\"outlinewidth\":0,\"ticks\":\"\"}}}],\"scatterpolar\":[{\"type\":\"scatterpolar\",\"marker\":{\"colorbar\":{\"outlinewidth\":0,\"ticks\":\"\"}}}],\"histogram\":[{\"marker\":{\"pattern\":{\"fillmode\":\"overlay\",\"size\":10,\"solidity\":0.2}},\"type\":\"histogram\"}],\"scattergl\":[{\"type\":\"scattergl\",\"marker\":{\"colorbar\":{\"outlinewidth\":0,\"ticks\":\"\"}}}],\"scatter3d\":[{\"type\":\"scatter3d\",\"line\":{\"colorbar\":{\"outlinewidth\":0,\"ticks\":\"\"}},\"marker\":{\"colorbar\":{\"outlinewidth\":0,\"ticks\":\"\"}}}],\"scattermapbox\":[{\"type\":\"scattermapbox\",\"marker\":{\"colorbar\":{\"outlinewidth\":0,\"ticks\":\"\"}}}],\"scatterternary\":[{\"type\":\"scatterternary\",\"marker\":{\"colorbar\":{\"outlinewidth\":0,\"ticks\":\"\"}}}],\"scattercarpet\":[{\"type\":\"scattercarpet\",\"marker\":{\"colorbar\":{\"outlinewidth\":0,\"ticks\":\"\"}}}],\"carpet\":[{\"aaxis\":{\"endlinecolor\":\"#2a3f5f\",\"gridcolor\":\"white\",\"linecolor\":\"white\",\"minorgridcolor\":\"white\",\"startlinecolor\":\"#2a3f5f\"},\"baxis\":{\"endlinecolor\":\"#2a3f5f\",\"gridcolor\":\"white\",\"linecolor\":\"white\",\"minorgridcolor\":\"white\",\"startlinecolor\":\"#2a3f5f\"},\"type\":\"carpet\"}],\"table\":[{\"cells\":{\"fill\":{\"color\":\"#EBF0F8\"},\"line\":{\"color\":\"white\"}},\"header\":{\"fill\":{\"color\":\"#C8D4E3\"},\"line\":{\"color\":\"white\"}},\"type\":\"table\"}],\"barpolar\":[{\"marker\":{\"line\":{\"color\":\"#E5ECF6\",\"width\":0.5},\"pattern\":{\"fillmode\":\"overlay\",\"size\":10,\"solidity\":0.2}},\"type\":\"barpolar\"}],\"pie\":[{\"automargin\":true,\"type\":\"pie\"}]},\"layout\":{\"autotypenumbers\":\"strict\",\"colorway\":[\"#636efa\",\"#EF553B\",\"#00cc96\",\"#ab63fa\",\"#FFA15A\",\"#19d3f3\",\"#FF6692\",\"#B6E880\",\"#FF97FF\",\"#FECB52\"],\"font\":{\"color\":\"#2a3f5f\"},\"hovermode\":\"closest\",\"hoverlabel\":{\"align\":\"left\"},\"paper_bgcolor\":\"white\",\"plot_bgcolor\":\"#E5ECF6\",\"polar\":{\"bgcolor\":\"#E5ECF6\",\"angularaxis\":{\"gridcolor\":\"white\",\"linecolor\":\"white\",\"ticks\":\"\"},\"radialaxis\":{\"gridcolor\":\"white\",\"linecolor\":\"white\",\"ticks\":\"\"}},\"ternary\":{\"bgcolor\":\"#E5ECF6\",\"aaxis\":{\"gridcolor\":\"white\",\"linecolor\":\"white\",\"ticks\":\"\"},\"baxis\":{\"gridcolor\":\"white\",\"linecolor\":\"white\",\"ticks\":\"\"},\"caxis\":{\"gridcolor\":\"white\",\"linecolor\":\"white\",\"ticks\":\"\"}},\"coloraxis\":{\"colorbar\":{\"outlinewidth\":0,\"ticks\":\"\"}},\"colorscale\":{\"sequential\":[[0.0,\"#0d0887\"],[0.1111111111111111,\"#46039f\"],[0.2222222222222222,\"#7201a8\"],[0.3333333333333333,\"#9c179e\"],[0.4444444444444444,\"#bd3786\"],[0.5555555555555556,\"#d8576b\"],[0.6666666666666666,\"#ed7953\"],[0.7777777777777778,\"#fb9f3a\"],[0.8888888888888888,\"#fdca26\"],[1.0,\"#f0f921\"]],\"sequentialminus\":[[0.0,\"#0d0887\"],[0.1111111111111111,\"#46039f\"],[0.2222222222222222,\"#7201a8\"],[0.3333333333333333,\"#9c179e\"],[0.4444444444444444,\"#bd3786\"],[0.5555555555555556,\"#d8576b\"],[0.6666666666666666,\"#ed7953\"],[0.7777777777777778,\"#fb9f3a\"],[0.8888888888888888,\"#fdca26\"],[1.0,\"#f0f921\"]],\"diverging\":[[0,\"#8e0152\"],[0.1,\"#c51b7d\"],[0.2,\"#de77ae\"],[0.3,\"#f1b6da\"],[0.4,\"#fde0ef\"],[0.5,\"#f7f7f7\"],[0.6,\"#e6f5d0\"],[0.7,\"#b8e186\"],[0.8,\"#7fbc41\"],[0.9,\"#4d9221\"],[1,\"#276419\"]]},\"xaxis\":{\"gridcolor\":\"white\",\"linecolor\":\"white\",\"ticks\":\"\",\"title\":{\"standoff\":15},\"zerolinecolor\":\"white\",\"automargin\":true,\"zerolinewidth\":2},\"yaxis\":{\"gridcolor\":\"white\",\"linecolor\":\"white\",\"ticks\":\"\",\"title\":{\"standoff\":15},\"zerolinecolor\":\"white\",\"automargin\":true,\"zerolinewidth\":2},\"scene\":{\"xaxis\":{\"backgroundcolor\":\"#E5ECF6\",\"gridcolor\":\"white\",\"linecolor\":\"white\",\"showbackground\":true,\"ticks\":\"\",\"zerolinecolor\":\"white\",\"gridwidth\":2},\"yaxis\":{\"backgroundcolor\":\"#E5ECF6\",\"gridcolor\":\"white\",\"linecolor\":\"white\",\"showbackground\":true,\"ticks\":\"\",\"zerolinecolor\":\"white\",\"gridwidth\":2},\"zaxis\":{\"backgroundcolor\":\"#E5ECF6\",\"gridcolor\":\"white\",\"linecolor\":\"white\",\"showbackground\":true,\"ticks\":\"\",\"zerolinecolor\":\"white\",\"gridwidth\":2}},\"shapedefaults\":{\"line\":{\"color\":\"#2a3f5f\"}},\"annotationdefaults\":{\"arrowcolor\":\"#2a3f5f\",\"arrowhead\":0,\"arrowwidth\":1},\"geo\":{\"bgcolor\":\"white\",\"landcolor\":\"#E5ECF6\",\"subunitcolor\":\"white\",\"showland\":true,\"showlakes\":true,\"lakecolor\":\"white\"},\"title\":{\"x\":0.05},\"mapbox\":{\"style\":\"light\"}}},\"xaxis\":{\"anchor\":\"y\",\"domain\":[0.0,1.0],\"title\":{\"text\":\"Score\"}},\"yaxis\":{\"anchor\":\"x\",\"domain\":[0.0,1.0],\"title\":{\"text\":\"Metric\"},\"categoryorder\":\"array\",\"categoryarray\":[\"F1 Score\",\"Recall\",\"Precision\",\"Accuracy\"]},\"legend\":{\"title\":{\"text\":\"Metric\"},\"tracegroupgap\":0},\"title\":{\"text\":\"Evaluation Metrics\"},\"barmode\":\"relative\",\"showlegend\":false},                        {\"responsive\": true}                    ).then(function(){\n",
       "                            \n",
       "var gd = document.getElementById('46608257-4cd2-4f48-a2b6-3d85c85ef3e4');\n",
       "var x = new MutationObserver(function (mutations, observer) {{\n",
       "        var display = window.getComputedStyle(gd).display;\n",
       "        if (!display || display === 'none') {{\n",
       "            console.log([gd, 'removed!']);\n",
       "            Plotly.purge(gd);\n",
       "            observer.disconnect();\n",
       "        }}\n",
       "}});\n",
       "\n",
       "// Listen for the removal of the full notebook cells\n",
       "var notebookContainer = gd.closest('#notebook-container');\n",
       "if (notebookContainer) {{\n",
       "    x.observe(notebookContainer, {childList: true});\n",
       "}}\n",
       "\n",
       "// Listen for the clearing of the current output cell\n",
       "var outputEl = gd.closest('.output');\n",
       "if (outputEl) {{\n",
       "    x.observe(outputEl, {childList: true});\n",
       "}}\n",
       "\n",
       "                        })                };                });            </script>        </div>"
      ]
     },
     "metadata": {},
     "output_type": "display_data"
    }
   ],
   "source": [
    "accuracy = accuracy_score(y_test, y_pred)\n",
    "precision = precision_score(y_test, y_pred)\n",
    "recall = recall_score(y_test, y_pred)\n",
    "f1 = f1_score(y_test, y_pred)\n",
    "\n",
    "metrics_scores = {'Accuracy': accuracy, 'Precision': precision, 'Recall': recall, 'F1 Score': f1}\n",
    "df_metrics = pd.DataFrame(list(metrics_scores.items()), columns=['Metric', 'Score'])\n",
    "\n",
    "fig = px.bar(df_metrics, \n",
    "             x='Score', \n",
    "             y='Metric', \n",
    "             orientation='h', \n",
    "             color='Metric', \n",
    "             text='Score',\n",
    "             title='Evaluation Metrics')\n",
    "\n",
    "fig.update_layout(showlegend=False)\n",
    "\n",
    "fig.show()"
   ]
  },
  {
   "cell_type": "code",
   "execution_count": null,
   "metadata": {},
   "outputs": [],
   "source": []
  }
 ],
 "metadata": {
  "kernelspec": {
   "display_name": "Python 3 (ipykernel)",
   "language": "python",
   "name": "python3"
  },
  "language_info": {
   "codemirror_mode": {
    "name": "ipython",
    "version": 3
   },
   "file_extension": ".py",
   "mimetype": "text/x-python",
   "name": "python",
   "nbconvert_exporter": "python",
   "pygments_lexer": "ipython3",
   "version": "3.10.9"
  }
 },
 "nbformat": 4,
 "nbformat_minor": 2
}
