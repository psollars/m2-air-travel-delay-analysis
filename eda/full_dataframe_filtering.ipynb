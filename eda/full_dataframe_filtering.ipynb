{
 "cells": [
  {
   "cell_type": "code",
   "execution_count": 4,
   "metadata": {},
   "outputs": [
    {
     "data": {
      "text/plain": [
       "'2.1.1'"
      ]
     },
     "execution_count": 4,
     "metadata": {},
     "output_type": "execute_result"
    }
   ],
   "source": [
    "import pandas as pd\n",
    "import time\n",
    "\n",
    "pd.__version__"
   ]
  },
  {
   "cell_type": "code",
   "execution_count": 5,
   "metadata": {},
   "outputs": [],
   "source": [
    "SCRATCH_DIR = \"/scratch/siads696f23_class_root/siads696f23_class/psollars\""
   ]
  },
  {
   "cell_type": "code",
   "execution_count": null,
   "metadata": {},
   "outputs": [],
   "source": [
    "start_time = time.time()\n",
    "full_df = pd.read_parquet(f\"{SCRATCH_DIR}/bts_faa_coords.parquet\")\n",
    "end_time = time.time()\n",
    "\n",
    "print(f\"Elapsed time: {(end_time - start_time):.4f} seconds\")\n",
    "\n",
    "full_df"
   ]
  },
  {
   "cell_type": "code",
   "execution_count": 4,
   "metadata": {},
   "outputs": [
    {
     "name": "stdout",
     "output_type": "stream",
     "text": [
      "Elapsed time: 11.3710 seconds\n"
     ]
    },
    {
     "data": {
      "text/html": [
       "<div>\n",
       "<style scoped>\n",
       "    .dataframe tbody tr th:only-of-type {\n",
       "        vertical-align: middle;\n",
       "    }\n",
       "\n",
       "    .dataframe tbody tr th {\n",
       "        vertical-align: top;\n",
       "    }\n",
       "\n",
       "    .dataframe thead th {\n",
       "        text-align: right;\n",
       "    }\n",
       "</style>\n",
       "<table border=\"1\" class=\"dataframe\">\n",
       "  <thead>\n",
       "    <tr style=\"text-align: right;\">\n",
       "      <th></th>\n",
       "      <th>Year</th>\n",
       "      <th>Quarter</th>\n",
       "      <th>Month</th>\n",
       "      <th>DayofMonth</th>\n",
       "      <th>DayOfWeek</th>\n",
       "      <th>FlightDate</th>\n",
       "      <th>Reporting_Airline</th>\n",
       "      <th>Tail_Number</th>\n",
       "      <th>Flight_Number_Reporting_Airline</th>\n",
       "      <th>OriginCityMarketID</th>\n",
       "      <th>...</th>\n",
       "      <th>TC-DATA-HOLDER</th>\n",
       "      <th>faa_registration_origin</th>\n",
       "      <th>Origin_DISPLAY_AIRPORT_NAME</th>\n",
       "      <th>Origin_DISPLAY_AIRPORT_CITY_NAME_FULL</th>\n",
       "      <th>Origin_LATITUDE</th>\n",
       "      <th>Origin_LONGITUDE</th>\n",
       "      <th>Dest_DISPLAY_AIRPORT_NAME</th>\n",
       "      <th>Dest_DISPLAY_AIRPORT_CITY_NAME_FULL</th>\n",
       "      <th>Dest_LATITUDE</th>\n",
       "      <th>Dest_LONGITUDE</th>\n",
       "    </tr>\n",
       "  </thead>\n",
       "  <tbody>\n",
       "    <tr>\n",
       "      <th>17400315</th>\n",
       "      <td>2018</td>\n",
       "      <td>1</td>\n",
       "      <td>1</td>\n",
       "      <td>17</td>\n",
       "      <td>3</td>\n",
       "      <td>2018-01-17 00:00:00</td>\n",
       "      <td>B6</td>\n",
       "      <td>516JB</td>\n",
       "      <td>375</td>\n",
       "      <td>34100</td>\n",
       "      <td>...</td>\n",
       "      <td>AIRBUS SAS                                    ...</td>\n",
       "      <td>2023.0</td>\n",
       "      <td>Philadelphia International</td>\n",
       "      <td>Philadelphia, PA</td>\n",
       "      <td>39.871944</td>\n",
       "      <td>-75.240556</td>\n",
       "      <td>Fort Lauderdale-Hollywood International</td>\n",
       "      <td>Fort Lauderdale, FL</td>\n",
       "      <td>26.071667</td>\n",
       "      <td>-80.149722</td>\n",
       "    </tr>\n",
       "    <tr>\n",
       "      <th>17400316</th>\n",
       "      <td>2018</td>\n",
       "      <td>1</td>\n",
       "      <td>1</td>\n",
       "      <td>17</td>\n",
       "      <td>3</td>\n",
       "      <td>2018-01-17 00:00:00</td>\n",
       "      <td>B6</td>\n",
       "      <td>565JB</td>\n",
       "      <td>376</td>\n",
       "      <td>32467</td>\n",
       "      <td>...</td>\n",
       "      <td>AIRBUS SAS                                    ...</td>\n",
       "      <td>2023.0</td>\n",
       "      <td>Fort Lauderdale-Hollywood International</td>\n",
       "      <td>Fort Lauderdale, FL</td>\n",
       "      <td>26.071667</td>\n",
       "      <td>-80.149722</td>\n",
       "      <td>Philadelphia International</td>\n",
       "      <td>Philadelphia, PA</td>\n",
       "      <td>39.871944</td>\n",
       "      <td>-75.240556</td>\n",
       "    </tr>\n",
       "    <tr>\n",
       "      <th>17400317</th>\n",
       "      <td>2018</td>\n",
       "      <td>1</td>\n",
       "      <td>1</td>\n",
       "      <td>17</td>\n",
       "      <td>3</td>\n",
       "      <td>2018-01-17 00:00:00</td>\n",
       "      <td>B6</td>\n",
       "      <td>507JB</td>\n",
       "      <td>380</td>\n",
       "      <td>32575</td>\n",
       "      <td>...</td>\n",
       "      <td>...</td>\n",
       "      <td>2023.0</td>\n",
       "      <td>Long Beach Airport</td>\n",
       "      <td>Long Beach, CA</td>\n",
       "      <td>33.818056</td>\n",
       "      <td>-118.151944</td>\n",
       "      <td>Harry Reid International</td>\n",
       "      <td>Las Vegas, NV</td>\n",
       "      <td>36.080000</td>\n",
       "      <td>-115.152222</td>\n",
       "    </tr>\n",
       "    <tr>\n",
       "      <th>17400318</th>\n",
       "      <td>2018</td>\n",
       "      <td>1</td>\n",
       "      <td>1</td>\n",
       "      <td>17</td>\n",
       "      <td>3</td>\n",
       "      <td>2018-01-17 00:00:00</td>\n",
       "      <td>B6</td>\n",
       "      <td>197JB</td>\n",
       "      <td>381</td>\n",
       "      <td>30721</td>\n",
       "      <td>...</td>\n",
       "      <td>YABORA INDUSTRIA AERONAUTICA S A              ...</td>\n",
       "      <td>2023.0</td>\n",
       "      <td>Logan International</td>\n",
       "      <td>Boston, MA</td>\n",
       "      <td>42.363056</td>\n",
       "      <td>-71.006389</td>\n",
       "      <td>Richmond International</td>\n",
       "      <td>Richmond, VA</td>\n",
       "      <td>37.505278</td>\n",
       "      <td>-77.319722</td>\n",
       "    </tr>\n",
       "    <tr>\n",
       "      <th>17400319</th>\n",
       "      <td>2018</td>\n",
       "      <td>1</td>\n",
       "      <td>1</td>\n",
       "      <td>17</td>\n",
       "      <td>3</td>\n",
       "      <td>2018-01-17 00:00:00</td>\n",
       "      <td>B6</td>\n",
       "      <td>238JB</td>\n",
       "      <td>382</td>\n",
       "      <td>34524</td>\n",
       "      <td>...</td>\n",
       "      <td>YABORA INDUSTRIA AERONAUTICA S A              ...</td>\n",
       "      <td>2023.0</td>\n",
       "      <td>Richmond International</td>\n",
       "      <td>Richmond, VA</td>\n",
       "      <td>37.505278</td>\n",
       "      <td>-77.319722</td>\n",
       "      <td>Logan International</td>\n",
       "      <td>Boston, MA</td>\n",
       "      <td>42.363056</td>\n",
       "      <td>-71.006389</td>\n",
       "    </tr>\n",
       "    <tr>\n",
       "      <th>...</th>\n",
       "      <td>...</td>\n",
       "      <td>...</td>\n",
       "      <td>...</td>\n",
       "      <td>...</td>\n",
       "      <td>...</td>\n",
       "      <td>...</td>\n",
       "      <td>...</td>\n",
       "      <td>...</td>\n",
       "      <td>...</td>\n",
       "      <td>...</td>\n",
       "      <td>...</td>\n",
       "      <td>...</td>\n",
       "      <td>...</td>\n",
       "      <td>...</td>\n",
       "      <td>...</td>\n",
       "      <td>...</td>\n",
       "      <td>...</td>\n",
       "      <td>...</td>\n",
       "      <td>...</td>\n",
       "      <td>...</td>\n",
       "      <td>...</td>\n",
       "    </tr>\n",
       "    <tr>\n",
       "      <th>32288695</th>\n",
       "      <td>2019</td>\n",
       "      <td>4</td>\n",
       "      <td>12</td>\n",
       "      <td>1</td>\n",
       "      <td>7</td>\n",
       "      <td>2019-12-01 00:00:00</td>\n",
       "      <td>DL</td>\n",
       "      <td>346DN</td>\n",
       "      <td>830</td>\n",
       "      <td>30397</td>\n",
       "      <td>...</td>\n",
       "      <td>AIRBUS SAS                                    ...</td>\n",
       "      <td>2023.0</td>\n",
       "      <td>Hartsfield-Jackson Atlanta International</td>\n",
       "      <td>Atlanta, GA</td>\n",
       "      <td>33.636667</td>\n",
       "      <td>-84.427778</td>\n",
       "      <td>LaGuardia</td>\n",
       "      <td>New York, NY</td>\n",
       "      <td>40.777222</td>\n",
       "      <td>-73.872500</td>\n",
       "    </tr>\n",
       "    <tr>\n",
       "      <th>32288696</th>\n",
       "      <td>2019</td>\n",
       "      <td>4</td>\n",
       "      <td>12</td>\n",
       "      <td>1</td>\n",
       "      <td>7</td>\n",
       "      <td>2019-12-01 00:00:00</td>\n",
       "      <td>DL</td>\n",
       "      <td>697DL</td>\n",
       "      <td>831</td>\n",
       "      <td>31454</td>\n",
       "      <td>...</td>\n",
       "      <td>...</td>\n",
       "      <td>2023.0</td>\n",
       "      <td>Orlando International</td>\n",
       "      <td>Orlando, FL</td>\n",
       "      <td>28.429444</td>\n",
       "      <td>-81.308889</td>\n",
       "      <td>Minneapolis-St Paul International</td>\n",
       "      <td>Minneapolis, MN</td>\n",
       "      <td>44.881944</td>\n",
       "      <td>-93.221667</td>\n",
       "    </tr>\n",
       "    <tr>\n",
       "      <th>32288697</th>\n",
       "      <td>2019</td>\n",
       "      <td>4</td>\n",
       "      <td>12</td>\n",
       "      <td>1</td>\n",
       "      <td>7</td>\n",
       "      <td>2019-12-01 00:00:00</td>\n",
       "      <td>DL</td>\n",
       "      <td>697DL</td>\n",
       "      <td>831</td>\n",
       "      <td>31650</td>\n",
       "      <td>...</td>\n",
       "      <td>...</td>\n",
       "      <td>2023.0</td>\n",
       "      <td>Minneapolis-St Paul International</td>\n",
       "      <td>Minneapolis, MN</td>\n",
       "      <td>44.881944</td>\n",
       "      <td>-93.221667</td>\n",
       "      <td>Orlando International</td>\n",
       "      <td>Orlando, FL</td>\n",
       "      <td>28.429444</td>\n",
       "      <td>-81.308889</td>\n",
       "    </tr>\n",
       "    <tr>\n",
       "      <th>32288698</th>\n",
       "      <td>2019</td>\n",
       "      <td>4</td>\n",
       "      <td>12</td>\n",
       "      <td>1</td>\n",
       "      <td>7</td>\n",
       "      <td>2019-12-01 00:00:00</td>\n",
       "      <td>DL</td>\n",
       "      <td>6714Q</td>\n",
       "      <td>832</td>\n",
       "      <td>30852</td>\n",
       "      <td>...</td>\n",
       "      <td>...</td>\n",
       "      <td>2023.0</td>\n",
       "      <td>Ronald Reagan Washington National</td>\n",
       "      <td>Washington, DC</td>\n",
       "      <td>38.851389</td>\n",
       "      <td>-77.037778</td>\n",
       "      <td>Salt Lake City International</td>\n",
       "      <td>Salt Lake City, UT</td>\n",
       "      <td>40.788333</td>\n",
       "      <td>-111.977778</td>\n",
       "    </tr>\n",
       "    <tr>\n",
       "      <th>32288699</th>\n",
       "      <td>2019</td>\n",
       "      <td>4</td>\n",
       "      <td>12</td>\n",
       "      <td>1</td>\n",
       "      <td>7</td>\n",
       "      <td>2019-12-01 00:00:00</td>\n",
       "      <td>DL</td>\n",
       "      <td>6714Q</td>\n",
       "      <td>832</td>\n",
       "      <td>34614</td>\n",
       "      <td>...</td>\n",
       "      <td>...</td>\n",
       "      <td>2023.0</td>\n",
       "      <td>Salt Lake City International</td>\n",
       "      <td>Salt Lake City, UT</td>\n",
       "      <td>40.788333</td>\n",
       "      <td>-111.977778</td>\n",
       "      <td>Ronald Reagan Washington National</td>\n",
       "      <td>Washington, DC</td>\n",
       "      <td>38.851389</td>\n",
       "      <td>-77.037778</td>\n",
       "    </tr>\n",
       "  </tbody>\n",
       "</table>\n",
       "<p>14870153 rows × 108 columns</p>\n",
       "</div>"
      ],
      "text/plain": [
       "          Year  Quarter  Month  DayofMonth  DayOfWeek           FlightDate  \\\n",
       "17400315  2018        1      1          17          3  2018-01-17 00:00:00   \n",
       "17400316  2018        1      1          17          3  2018-01-17 00:00:00   \n",
       "17400317  2018        1      1          17          3  2018-01-17 00:00:00   \n",
       "17400318  2018        1      1          17          3  2018-01-17 00:00:00   \n",
       "17400319  2018        1      1          17          3  2018-01-17 00:00:00   \n",
       "...        ...      ...    ...         ...        ...                  ...   \n",
       "32288695  2019        4     12           1          7  2019-12-01 00:00:00   \n",
       "32288696  2019        4     12           1          7  2019-12-01 00:00:00   \n",
       "32288697  2019        4     12           1          7  2019-12-01 00:00:00   \n",
       "32288698  2019        4     12           1          7  2019-12-01 00:00:00   \n",
       "32288699  2019        4     12           1          7  2019-12-01 00:00:00   \n",
       "\n",
       "         Reporting_Airline Tail_Number  Flight_Number_Reporting_Airline  \\\n",
       "17400315                B6       516JB                              375   \n",
       "17400316                B6       565JB                              376   \n",
       "17400317                B6       507JB                              380   \n",
       "17400318                B6       197JB                              381   \n",
       "17400319                B6       238JB                              382   \n",
       "...                    ...         ...                              ...   \n",
       "32288695                DL       346DN                              830   \n",
       "32288696                DL       697DL                              831   \n",
       "32288697                DL       697DL                              831   \n",
       "32288698                DL       6714Q                              832   \n",
       "32288699                DL       6714Q                              832   \n",
       "\n",
       "          OriginCityMarketID  ...  \\\n",
       "17400315               34100  ...   \n",
       "17400316               32467  ...   \n",
       "17400317               32575  ...   \n",
       "17400318               30721  ...   \n",
       "17400319               34524  ...   \n",
       "...                      ...  ...   \n",
       "32288695               30397  ...   \n",
       "32288696               31454  ...   \n",
       "32288697               31650  ...   \n",
       "32288698               30852  ...   \n",
       "32288699               34614  ...   \n",
       "\n",
       "                                             TC-DATA-HOLDER  \\\n",
       "17400315  AIRBUS SAS                                    ...   \n",
       "17400316  AIRBUS SAS                                    ...   \n",
       "17400317                                                ...   \n",
       "17400318  YABORA INDUSTRIA AERONAUTICA S A              ...   \n",
       "17400319  YABORA INDUSTRIA AERONAUTICA S A              ...   \n",
       "...                                                     ...   \n",
       "32288695  AIRBUS SAS                                    ...   \n",
       "32288696                                                ...   \n",
       "32288697                                                ...   \n",
       "32288698                                                ...   \n",
       "32288699                                                ...   \n",
       "\n",
       "         faa_registration_origin               Origin_DISPLAY_AIRPORT_NAME  \\\n",
       "17400315                  2023.0                Philadelphia International   \n",
       "17400316                  2023.0   Fort Lauderdale-Hollywood International   \n",
       "17400317                  2023.0                        Long Beach Airport   \n",
       "17400318                  2023.0                       Logan International   \n",
       "17400319                  2023.0                    Richmond International   \n",
       "...                          ...                                       ...   \n",
       "32288695                  2023.0  Hartsfield-Jackson Atlanta International   \n",
       "32288696                  2023.0                     Orlando International   \n",
       "32288697                  2023.0         Minneapolis-St Paul International   \n",
       "32288698                  2023.0         Ronald Reagan Washington National   \n",
       "32288699                  2023.0              Salt Lake City International   \n",
       "\n",
       "         Origin_DISPLAY_AIRPORT_CITY_NAME_FULL Origin_LATITUDE  \\\n",
       "17400315                      Philadelphia, PA       39.871944   \n",
       "17400316                   Fort Lauderdale, FL       26.071667   \n",
       "17400317                        Long Beach, CA       33.818056   \n",
       "17400318                            Boston, MA       42.363056   \n",
       "17400319                          Richmond, VA       37.505278   \n",
       "...                                        ...             ...   \n",
       "32288695                           Atlanta, GA       33.636667   \n",
       "32288696                           Orlando, FL       28.429444   \n",
       "32288697                       Minneapolis, MN       44.881944   \n",
       "32288698                        Washington, DC       38.851389   \n",
       "32288699                    Salt Lake City, UT       40.788333   \n",
       "\n",
       "          Origin_LONGITUDE                Dest_DISPLAY_AIRPORT_NAME  \\\n",
       "17400315        -75.240556  Fort Lauderdale-Hollywood International   \n",
       "17400316        -80.149722               Philadelphia International   \n",
       "17400317       -118.151944                 Harry Reid International   \n",
       "17400318        -71.006389                   Richmond International   \n",
       "17400319        -77.319722                      Logan International   \n",
       "...                    ...                                      ...   \n",
       "32288695        -84.427778                                LaGuardia   \n",
       "32288696        -81.308889        Minneapolis-St Paul International   \n",
       "32288697        -93.221667                    Orlando International   \n",
       "32288698        -77.037778             Salt Lake City International   \n",
       "32288699       -111.977778        Ronald Reagan Washington National   \n",
       "\n",
       "          Dest_DISPLAY_AIRPORT_CITY_NAME_FULL Dest_LATITUDE Dest_LONGITUDE  \n",
       "17400315                  Fort Lauderdale, FL     26.071667     -80.149722  \n",
       "17400316                     Philadelphia, PA     39.871944     -75.240556  \n",
       "17400317                        Las Vegas, NV     36.080000    -115.152222  \n",
       "17400318                         Richmond, VA     37.505278     -77.319722  \n",
       "17400319                           Boston, MA     42.363056     -71.006389  \n",
       "...                                       ...           ...            ...  \n",
       "32288695                         New York, NY     40.777222     -73.872500  \n",
       "32288696                      Minneapolis, MN     44.881944     -93.221667  \n",
       "32288697                          Orlando, FL     28.429444     -81.308889  \n",
       "32288698                   Salt Lake City, UT     40.788333    -111.977778  \n",
       "32288699                       Washington, DC     38.851389     -77.037778  \n",
       "\n",
       "[14870153 rows x 108 columns]"
      ]
     },
     "execution_count": 4,
     "metadata": {},
     "output_type": "execute_result"
    }
   ],
   "source": [
    "start_time = time.time()\n",
    "two_year_df = full_df[full_df[\"FlightDate\"].gt(\"2018-01-01 00:00:00\") & full_df[\"FlightDate\"].lt(\"2020-01-01 00:00:00\")]\n",
    "end_time = time.time()\n",
    "\n",
    "print(f\"Elapsed time: {(end_time - start_time):.4f} seconds\")\n",
    "\n",
    "two_year_df"
   ]
  },
  {
   "cell_type": "code",
   "execution_count": 5,
   "metadata": {},
   "outputs": [
    {
     "name": "stdout",
     "output_type": "stream",
     "text": [
      "Elapsed time: 81.0477 seconds\n"
     ]
    }
   ],
   "source": [
    "start_time = time.time()\n",
    "two_year_df.to_parquet(f\"{SCRATCH_DIR}/all_features_18_19.parquet\")\n",
    "end_time = time.time()\n",
    "\n",
    "print(f\"Elapsed time: {(end_time - start_time):.4f} seconds\")"
   ]
  },
  {
   "cell_type": "code",
   "execution_count": null,
   "metadata": {},
   "outputs": [],
   "source": [
    "start_time = time.time()\n",
    "one_year_df = full_df[\n",
    "    full_df[\"FlightDate\"].gt(\"2019-01-01 00:00:00\")\n",
    "    & full_df[\"FlightDate\"].lt(\"2020-01-01 00:00:00\")\n",
    "]\n",
    "end_time = time.time()\n",
    "\n",
    "print(f\"Elapsed time: {(end_time - start_time):.4f} seconds\")\n",
    "\n",
    "one_year_df"
   ]
  },
  {
   "cell_type": "code",
   "execution_count": null,
   "metadata": {},
   "outputs": [],
   "source": [
    "start_time = time.time()\n",
    "two_year_df.to_parquet(f\"{SCRATCH_DIR}/all_features_2019.parquet\")\n",
    "end_time = time.time()\n",
    "\n",
    "print(f\"Elapsed time: {(end_time - start_time):.4f} seconds\")"
   ]
  },
  {
   "cell_type": "code",
   "execution_count": 6,
   "metadata": {},
   "outputs": [
    {
     "name": "stdout",
     "output_type": "stream",
     "text": [
      "Elapsed time: 417.1650 seconds\n"
     ]
    },
    {
     "data": {
      "text/plain": [
       "{'Year': 0.0,\n",
       " 'Quarter': 0.0,\n",
       " 'Month': 0.0,\n",
       " 'DayofMonth': 0.0,\n",
       " 'DayOfWeek': 0.0,\n",
       " 'FlightDate': 0.0,\n",
       " 'Reporting_Airline': 0.0,\n",
       " 'Tail_Number': 0.22180000434427272,\n",
       " 'Flight_Number_Reporting_Airline': 0.0,\n",
       " 'OriginCityMarketID': 0.0,\n",
       " 'Origin': 0.0,\n",
       " 'DestCityMarketID': 0.0,\n",
       " 'Dest': 0.0,\n",
       " 'CRSDepTime': 0.0,\n",
       " 'DepTime': 1.6469232024714202,\n",
       " 'DepDelay': 0.0,\n",
       " 'DepDelayMinutes': 0.0,\n",
       " 'DepDel15': 0.0,\n",
       " 'DepartureDelayGroups': 1.6526124512639513,\n",
       " 'DepTimeBlk': 0.0,\n",
       " 'TaxiOut': 0.0,\n",
       " 'WheelsOff': 1.6970370109843524,\n",
       " 'WheelsOn': 1.7450190324201773,\n",
       " 'TaxiIn': 0.0,\n",
       " 'CRSArrTime': 0.0,\n",
       " 'ArrTime': 1.7449988577790694,\n",
       " 'ArrDelay': 0.0,\n",
       " 'ArrDelayMinutes': 0.0,\n",
       " 'ArrDel15': 0.0,\n",
       " 'ArrivalDelayGroups': 1.9614324075885432,\n",
       " 'ArrTimeBlk': 0.0,\n",
       " 'Cancelled': 0.0,\n",
       " 'CancellationCode': 98.29146344358394,\n",
       " 'Diverted': 0.0,\n",
       " 'CRSElapsedTime': 0.0,\n",
       " 'ActualElapsedTime': 0.0,\n",
       " 'AirTime': 0.0,\n",
       " 'Flights': 0.0,\n",
       " 'Distance': 0.0,\n",
       " 'DistanceGroup': 0.0,\n",
       " 'CarrierDelay': 0.0,\n",
       " 'WeatherDelay': 0.0,\n",
       " 'NASDelay': 0.0,\n",
       " 'SecurityDelay': 0.0,\n",
       " 'LateAircraftDelay': 0.0,\n",
       " 'DivAirportLandings': 6.7248803694218885e-06,\n",
       " 'N-NUMBER': 0.27665485351764707,\n",
       " 'SERIAL NUMBER': 0.3446635686936106,\n",
       " 'MFR MDL CODE': 0.3446635686936106,\n",
       " 'ENG MFR MDL': 2.1935214788980315,\n",
       " 'YEAR MFR': 2.636590222037393,\n",
       " 'TYPE REGISTRANT': 0.5685213864309264,\n",
       " 'NAME': 0.27665485351764707,\n",
       " 'STREET': 0.30604258073202073,\n",
       " 'STREET2': 60.976763319113125,\n",
       " 'CITY': 0.30604258073202073,\n",
       " 'STATE': 0.33265293235382315,\n",
       " 'ZIP CODE': 0.30604258073202073,\n",
       " 'REGION': 0.30604258073202073,\n",
       " 'COUNTY': 0.33265293235382315,\n",
       " 'COUNTRY': 0.30604258073202073,\n",
       " 'LAST ACTION DATE': 0.3446635686936106,\n",
       " 'CERT ISSUE DATE': 0.4112533341116262,\n",
       " 'CERTIFICATION': 2.1641270268032886,\n",
       " 'TYPE AIRCRAFT': 0.3446635686936106,\n",
       " 'TYPE ENGINE': 0.3446635686936106,\n",
       " 'STATUS CODE': 0.27665485351764707,\n",
       " 'MODE S CODE': 0.27665485351764707,\n",
       " 'FRACT OWNER': 99.94010821542993,\n",
       " 'AIR WORTH DATE': 2.1555864287341224,\n",
       " 'OTHER NAMES(1)': 99.41340886001643,\n",
       " 'OTHER NAMES(2)': 100.0,\n",
       " 'OTHER NAMES(3)': 100.0,\n",
       " 'OTHER NAMES(4)': 100.0,\n",
       " 'OTHER NAMES(5)': 100.0,\n",
       " 'EXPIRATION DATE': 0.37263234615003626,\n",
       " 'UNIQUE ID': 0.3446635686936106,\n",
       " 'KIT MFR': 99.95528627042371,\n",
       " ' KIT MODEL': 99.95528627042371,\n",
       " 'MODE S CODE HEX': 0.5685213864309264,\n",
       " 'CODE': 4.484009007842757,\n",
       " 'MFR': 4.487270574821927,\n",
       " 'MODEL': 4.487270574821927,\n",
       " 'TYPE': 4.82376341386669,\n",
       " 'HORSEPOWER': 4.487270574821927,\n",
       " 'THRUST': 4.487270574821927,\n",
       " 'CODE_aircraft': 0.3541927241770814,\n",
       " 'MFR_aircraft': 0.35093115719791185,\n",
       " 'MODEL_aircraft': 0.35093115719791185,\n",
       " 'TYPE-ACFT': 0.35093115719791185,\n",
       " 'TYPE-ENG': 0.35093115719791185,\n",
       " 'AC-CAT': 0.35093115719791185,\n",
       " 'BUILD-CERT-IND': 0.35093115719791185,\n",
       " 'NO-ENG': 0.35093115719791185,\n",
       " 'NO-SEATS': 0.35093115719791185,\n",
       " 'AC-WEIGHT': 0.35093115719791185,\n",
       " 'SPEED': 0.35093115719791185,\n",
       " 'TC-DATA-SHEET': 74.16086438384326,\n",
       " 'TC-DATA-HOLDER': 74.16086438384326,\n",
       " 'faa_registration_origin': 0.27665485351764707,\n",
       " 'Origin_DISPLAY_AIRPORT_NAME': 0.0,\n",
       " 'Origin_DISPLAY_AIRPORT_CITY_NAME_FULL': 0.0,\n",
       " 'Origin_LATITUDE': 0.0,\n",
       " 'Origin_LONGITUDE': 0.0,\n",
       " 'Dest_DISPLAY_AIRPORT_NAME': 0.0,\n",
       " 'Dest_DISPLAY_AIRPORT_CITY_NAME_FULL': 0.0,\n",
       " 'Dest_LATITUDE': 0.0,\n",
       " 'Dest_LONGITUDE': 0.0}"
      ]
     },
     "execution_count": 6,
     "metadata": {},
     "output_type": "execute_result"
    }
   ],
   "source": [
    "def evaluate_completeness(df):\n",
    "    total_rows = len(df)\n",
    "    completeness = {}\n",
    "\n",
    "    all_missing = df.isna() | (df == \"\") | (df.map(str).map(str.strip) == \"\")\n",
    "\n",
    "    completeness = (all_missing.sum() / total_rows * 100).to_dict()\n",
    "\n",
    "    return completeness\n",
    "\n",
    "\n",
    "start_time = time.time()\n",
    "completeness = evaluate_completeness(two_year_df)\n",
    "end_time = time.time()\n",
    "\n",
    "print(f\"Elapsed time: {(end_time - start_time):.4f} seconds\")\n",
    "\n",
    "completeness"
   ]
  },
  {
   "cell_type": "code",
   "execution_count": 7,
   "metadata": {},
   "outputs": [
    {
     "data": {
      "text/plain": [
       "{'CancellationCode': 98.29146344358394,\n",
       " 'STREET2': 60.976763319113125,\n",
       " 'FRACT OWNER': 99.94010821542993,\n",
       " 'OTHER NAMES(1)': 99.41340886001643,\n",
       " 'OTHER NAMES(2)': 100.0,\n",
       " 'OTHER NAMES(3)': 100.0,\n",
       " 'OTHER NAMES(4)': 100.0,\n",
       " 'OTHER NAMES(5)': 100.0,\n",
       " 'KIT MFR': 99.95528627042371,\n",
       " ' KIT MODEL': 99.95528627042371,\n",
       " 'TC-DATA-SHEET': 74.16086438384326,\n",
       " 'TC-DATA-HOLDER': 74.16086438384326}"
      ]
     },
     "execution_count": 7,
     "metadata": {},
     "output_type": "execute_result"
    }
   ],
   "source": [
    "remove_cols = {}\n",
    "\n",
    "for feature, comp in completeness.items():\n",
    "    if comp > 5:\n",
    "        remove_cols[feature] = comp\n",
    "\n",
    "remove_cols"
   ]
  },
  {
   "cell_type": "code",
   "execution_count": 8,
   "metadata": {},
   "outputs": [],
   "source": [
    "# Remove columns with low data completeness\n",
    "\n",
    "df = two_year_df.drop(remove_cols.keys(), axis=\"columns\")"
   ]
  },
  {
   "cell_type": "code",
   "execution_count": 9,
   "metadata": {},
   "outputs": [
    {
     "data": {
      "text/plain": [
       "Index(['Year', 'Quarter', 'Month', 'DayofMonth', 'DayOfWeek', 'FlightDate',\n",
       "       'Reporting_Airline', 'Tail_Number', 'Flight_Number_Reporting_Airline',\n",
       "       'OriginCityMarketID', 'Origin', 'DestCityMarketID', 'Dest',\n",
       "       'CRSDepTime', 'DepTime', 'DepDelay', 'DepDelayMinutes', 'DepDel15',\n",
       "       'DepartureDelayGroups', 'DepTimeBlk', 'TaxiOut', 'WheelsOff',\n",
       "       'WheelsOn', 'TaxiIn', 'CRSArrTime', 'ArrTime', 'ArrDelay',\n",
       "       'ArrDelayMinutes', 'ArrDel15', 'ArrivalDelayGroups', 'ArrTimeBlk',\n",
       "       'Cancelled', 'Diverted', 'CRSElapsedTime', 'ActualElapsedTime',\n",
       "       'AirTime', 'Flights', 'Distance', 'DistanceGroup', 'CarrierDelay',\n",
       "       'WeatherDelay', 'NASDelay', 'SecurityDelay', 'LateAircraftDelay',\n",
       "       'DivAirportLandings', 'N-NUMBER', 'SERIAL NUMBER', 'MFR MDL CODE',\n",
       "       'ENG MFR MDL', 'YEAR MFR', 'TYPE REGISTRANT', 'NAME', 'STREET', 'CITY',\n",
       "       'STATE', 'ZIP CODE', 'REGION', 'COUNTY', 'COUNTRY', 'LAST ACTION DATE',\n",
       "       'CERT ISSUE DATE', 'CERTIFICATION', 'TYPE AIRCRAFT', 'TYPE ENGINE',\n",
       "       'STATUS CODE', 'MODE S CODE', 'AIR WORTH DATE', 'EXPIRATION DATE',\n",
       "       'UNIQUE ID', 'MODE S CODE HEX', 'CODE', 'MFR', 'MODEL', 'TYPE',\n",
       "       'HORSEPOWER', 'THRUST', 'CODE_aircraft', 'MFR_aircraft',\n",
       "       'MODEL_aircraft', 'TYPE-ACFT', 'TYPE-ENG', 'AC-CAT', 'BUILD-CERT-IND',\n",
       "       'NO-ENG', 'NO-SEATS', 'AC-WEIGHT', 'SPEED', 'faa_registration_origin',\n",
       "       'Origin_DISPLAY_AIRPORT_NAME', 'Origin_DISPLAY_AIRPORT_CITY_NAME_FULL',\n",
       "       'Origin_LATITUDE', 'Origin_LONGITUDE', 'Dest_DISPLAY_AIRPORT_NAME',\n",
       "       'Dest_DISPLAY_AIRPORT_CITY_NAME_FULL', 'Dest_LATITUDE',\n",
       "       'Dest_LONGITUDE'],\n",
       "      dtype='object')"
      ]
     },
     "execution_count": 9,
     "metadata": {},
     "output_type": "execute_result"
    }
   ],
   "source": [
    "df.columns"
   ]
  },
  {
   "cell_type": "code",
   "execution_count": 10,
   "metadata": {},
   "outputs": [
    {
     "name": "stdout",
     "output_type": "stream",
     "text": [
      "Removed 291315 rows\n"
     ]
    }
   ],
   "source": [
    "# Remove cancelled and diverted flights\n",
    "\n",
    "df = df[df[\"Cancelled\"].eq(0) & df[\"Diverted\"].eq(0)]\n",
    "\n",
    "print(f\"Removed {len(two_year_df) - len(df)} rows\")"
   ]
  },
  {
   "cell_type": "code",
   "execution_count": 12,
   "metadata": {},
   "outputs": [
    {
     "data": {
      "text/html": [
       "<div>\n",
       "<style scoped>\n",
       "    .dataframe tbody tr th:only-of-type {\n",
       "        vertical-align: middle;\n",
       "    }\n",
       "\n",
       "    .dataframe tbody tr th {\n",
       "        vertical-align: top;\n",
       "    }\n",
       "\n",
       "    .dataframe thead th {\n",
       "        text-align: right;\n",
       "    }\n",
       "</style>\n",
       "<table border=\"1\" class=\"dataframe\">\n",
       "  <thead>\n",
       "    <tr style=\"text-align: right;\">\n",
       "      <th></th>\n",
       "      <th>Year</th>\n",
       "      <th>Quarter</th>\n",
       "      <th>Month</th>\n",
       "      <th>DayofMonth</th>\n",
       "      <th>DayOfWeek</th>\n",
       "      <th>FlightDate</th>\n",
       "      <th>Reporting_Airline</th>\n",
       "      <th>Tail_Number</th>\n",
       "      <th>Flight_Number_Reporting_Airline</th>\n",
       "      <th>OriginCityMarketID</th>\n",
       "      <th>...</th>\n",
       "      <th>faa_registration_origin</th>\n",
       "      <th>Origin_DISPLAY_AIRPORT_NAME</th>\n",
       "      <th>Origin_DISPLAY_AIRPORT_CITY_NAME_FULL</th>\n",
       "      <th>Origin_LATITUDE</th>\n",
       "      <th>Origin_LONGITUDE</th>\n",
       "      <th>Dest_DISPLAY_AIRPORT_NAME</th>\n",
       "      <th>Dest_DISPLAY_AIRPORT_CITY_NAME_FULL</th>\n",
       "      <th>Dest_LATITUDE</th>\n",
       "      <th>Dest_LONGITUDE</th>\n",
       "      <th>delayed</th>\n",
       "    </tr>\n",
       "  </thead>\n",
       "  <tbody>\n",
       "    <tr>\n",
       "      <th>17400315</th>\n",
       "      <td>2018</td>\n",
       "      <td>1</td>\n",
       "      <td>1</td>\n",
       "      <td>17</td>\n",
       "      <td>3</td>\n",
       "      <td>2018-01-17 00:00:00</td>\n",
       "      <td>B6</td>\n",
       "      <td>516JB</td>\n",
       "      <td>375</td>\n",
       "      <td>34100</td>\n",
       "      <td>...</td>\n",
       "      <td>2023.0</td>\n",
       "      <td>Philadelphia International</td>\n",
       "      <td>Philadelphia, PA</td>\n",
       "      <td>39.871944</td>\n",
       "      <td>-75.240556</td>\n",
       "      <td>Fort Lauderdale-Hollywood International</td>\n",
       "      <td>Fort Lauderdale, FL</td>\n",
       "      <td>26.071667</td>\n",
       "      <td>-80.149722</td>\n",
       "      <td>False</td>\n",
       "    </tr>\n",
       "    <tr>\n",
       "      <th>17400316</th>\n",
       "      <td>2018</td>\n",
       "      <td>1</td>\n",
       "      <td>1</td>\n",
       "      <td>17</td>\n",
       "      <td>3</td>\n",
       "      <td>2018-01-17 00:00:00</td>\n",
       "      <td>B6</td>\n",
       "      <td>565JB</td>\n",
       "      <td>376</td>\n",
       "      <td>32467</td>\n",
       "      <td>...</td>\n",
       "      <td>2023.0</td>\n",
       "      <td>Fort Lauderdale-Hollywood International</td>\n",
       "      <td>Fort Lauderdale, FL</td>\n",
       "      <td>26.071667</td>\n",
       "      <td>-80.149722</td>\n",
       "      <td>Philadelphia International</td>\n",
       "      <td>Philadelphia, PA</td>\n",
       "      <td>39.871944</td>\n",
       "      <td>-75.240556</td>\n",
       "      <td>True</td>\n",
       "    </tr>\n",
       "    <tr>\n",
       "      <th>17400317</th>\n",
       "      <td>2018</td>\n",
       "      <td>1</td>\n",
       "      <td>1</td>\n",
       "      <td>17</td>\n",
       "      <td>3</td>\n",
       "      <td>2018-01-17 00:00:00</td>\n",
       "      <td>B6</td>\n",
       "      <td>507JB</td>\n",
       "      <td>380</td>\n",
       "      <td>32575</td>\n",
       "      <td>...</td>\n",
       "      <td>2023.0</td>\n",
       "      <td>Long Beach Airport</td>\n",
       "      <td>Long Beach, CA</td>\n",
       "      <td>33.818056</td>\n",
       "      <td>-118.151944</td>\n",
       "      <td>Harry Reid International</td>\n",
       "      <td>Las Vegas, NV</td>\n",
       "      <td>36.080000</td>\n",
       "      <td>-115.152222</td>\n",
       "      <td>False</td>\n",
       "    </tr>\n",
       "    <tr>\n",
       "      <th>17400320</th>\n",
       "      <td>2018</td>\n",
       "      <td>1</td>\n",
       "      <td>1</td>\n",
       "      <td>17</td>\n",
       "      <td>3</td>\n",
       "      <td>2018-01-17 00:00:00</td>\n",
       "      <td>B6</td>\n",
       "      <td>258JB</td>\n",
       "      <td>389</td>\n",
       "      <td>30721</td>\n",
       "      <td>...</td>\n",
       "      <td>2023.0</td>\n",
       "      <td>Logan International</td>\n",
       "      <td>Boston, MA</td>\n",
       "      <td>42.363056</td>\n",
       "      <td>-71.006389</td>\n",
       "      <td>Ronald Reagan Washington National</td>\n",
       "      <td>Washington, DC</td>\n",
       "      <td>38.851389</td>\n",
       "      <td>-77.037778</td>\n",
       "      <td>True</td>\n",
       "    </tr>\n",
       "    <tr>\n",
       "      <th>17400323</th>\n",
       "      <td>2018</td>\n",
       "      <td>1</td>\n",
       "      <td>1</td>\n",
       "      <td>17</td>\n",
       "      <td>3</td>\n",
       "      <td>2018-01-17 00:00:00</td>\n",
       "      <td>B6</td>\n",
       "      <td>594JB</td>\n",
       "      <td>392</td>\n",
       "      <td>33195</td>\n",
       "      <td>...</td>\n",
       "      <td>2023.0</td>\n",
       "      <td>Tampa International</td>\n",
       "      <td>Tampa, FL</td>\n",
       "      <td>27.975556</td>\n",
       "      <td>-82.533333</td>\n",
       "      <td>Logan International</td>\n",
       "      <td>Boston, MA</td>\n",
       "      <td>42.363056</td>\n",
       "      <td>-71.006389</td>\n",
       "      <td>True</td>\n",
       "    </tr>\n",
       "    <tr>\n",
       "      <th>...</th>\n",
       "      <td>...</td>\n",
       "      <td>...</td>\n",
       "      <td>...</td>\n",
       "      <td>...</td>\n",
       "      <td>...</td>\n",
       "      <td>...</td>\n",
       "      <td>...</td>\n",
       "      <td>...</td>\n",
       "      <td>...</td>\n",
       "      <td>...</td>\n",
       "      <td>...</td>\n",
       "      <td>...</td>\n",
       "      <td>...</td>\n",
       "      <td>...</td>\n",
       "      <td>...</td>\n",
       "      <td>...</td>\n",
       "      <td>...</td>\n",
       "      <td>...</td>\n",
       "      <td>...</td>\n",
       "      <td>...</td>\n",
       "      <td>...</td>\n",
       "    </tr>\n",
       "    <tr>\n",
       "      <th>32288695</th>\n",
       "      <td>2019</td>\n",
       "      <td>4</td>\n",
       "      <td>12</td>\n",
       "      <td>1</td>\n",
       "      <td>7</td>\n",
       "      <td>2019-12-01 00:00:00</td>\n",
       "      <td>DL</td>\n",
       "      <td>346DN</td>\n",
       "      <td>830</td>\n",
       "      <td>30397</td>\n",
       "      <td>...</td>\n",
       "      <td>2023.0</td>\n",
       "      <td>Hartsfield-Jackson Atlanta International</td>\n",
       "      <td>Atlanta, GA</td>\n",
       "      <td>33.636667</td>\n",
       "      <td>-84.427778</td>\n",
       "      <td>LaGuardia</td>\n",
       "      <td>New York, NY</td>\n",
       "      <td>40.777222</td>\n",
       "      <td>-73.872500</td>\n",
       "      <td>False</td>\n",
       "    </tr>\n",
       "    <tr>\n",
       "      <th>32288696</th>\n",
       "      <td>2019</td>\n",
       "      <td>4</td>\n",
       "      <td>12</td>\n",
       "      <td>1</td>\n",
       "      <td>7</td>\n",
       "      <td>2019-12-01 00:00:00</td>\n",
       "      <td>DL</td>\n",
       "      <td>697DL</td>\n",
       "      <td>831</td>\n",
       "      <td>31454</td>\n",
       "      <td>...</td>\n",
       "      <td>2023.0</td>\n",
       "      <td>Orlando International</td>\n",
       "      <td>Orlando, FL</td>\n",
       "      <td>28.429444</td>\n",
       "      <td>-81.308889</td>\n",
       "      <td>Minneapolis-St Paul International</td>\n",
       "      <td>Minneapolis, MN</td>\n",
       "      <td>44.881944</td>\n",
       "      <td>-93.221667</td>\n",
       "      <td>True</td>\n",
       "    </tr>\n",
       "    <tr>\n",
       "      <th>32288697</th>\n",
       "      <td>2019</td>\n",
       "      <td>4</td>\n",
       "      <td>12</td>\n",
       "      <td>1</td>\n",
       "      <td>7</td>\n",
       "      <td>2019-12-01 00:00:00</td>\n",
       "      <td>DL</td>\n",
       "      <td>697DL</td>\n",
       "      <td>831</td>\n",
       "      <td>31650</td>\n",
       "      <td>...</td>\n",
       "      <td>2023.0</td>\n",
       "      <td>Minneapolis-St Paul International</td>\n",
       "      <td>Minneapolis, MN</td>\n",
       "      <td>44.881944</td>\n",
       "      <td>-93.221667</td>\n",
       "      <td>Orlando International</td>\n",
       "      <td>Orlando, FL</td>\n",
       "      <td>28.429444</td>\n",
       "      <td>-81.308889</td>\n",
       "      <td>True</td>\n",
       "    </tr>\n",
       "    <tr>\n",
       "      <th>32288698</th>\n",
       "      <td>2019</td>\n",
       "      <td>4</td>\n",
       "      <td>12</td>\n",
       "      <td>1</td>\n",
       "      <td>7</td>\n",
       "      <td>2019-12-01 00:00:00</td>\n",
       "      <td>DL</td>\n",
       "      <td>6714Q</td>\n",
       "      <td>832</td>\n",
       "      <td>30852</td>\n",
       "      <td>...</td>\n",
       "      <td>2023.0</td>\n",
       "      <td>Ronald Reagan Washington National</td>\n",
       "      <td>Washington, DC</td>\n",
       "      <td>38.851389</td>\n",
       "      <td>-77.037778</td>\n",
       "      <td>Salt Lake City International</td>\n",
       "      <td>Salt Lake City, UT</td>\n",
       "      <td>40.788333</td>\n",
       "      <td>-111.977778</td>\n",
       "      <td>False</td>\n",
       "    </tr>\n",
       "    <tr>\n",
       "      <th>32288699</th>\n",
       "      <td>2019</td>\n",
       "      <td>4</td>\n",
       "      <td>12</td>\n",
       "      <td>1</td>\n",
       "      <td>7</td>\n",
       "      <td>2019-12-01 00:00:00</td>\n",
       "      <td>DL</td>\n",
       "      <td>6714Q</td>\n",
       "      <td>832</td>\n",
       "      <td>34614</td>\n",
       "      <td>...</td>\n",
       "      <td>2023.0</td>\n",
       "      <td>Salt Lake City International</td>\n",
       "      <td>Salt Lake City, UT</td>\n",
       "      <td>40.788333</td>\n",
       "      <td>-111.977778</td>\n",
       "      <td>Ronald Reagan Washington National</td>\n",
       "      <td>Washington, DC</td>\n",
       "      <td>38.851389</td>\n",
       "      <td>-77.037778</td>\n",
       "      <td>False</td>\n",
       "    </tr>\n",
       "  </tbody>\n",
       "</table>\n",
       "<p>14578838 rows × 97 columns</p>\n",
       "</div>"
      ],
      "text/plain": [
       "          Year  Quarter  Month  DayofMonth  DayOfWeek           FlightDate  \\\n",
       "17400315  2018        1      1          17          3  2018-01-17 00:00:00   \n",
       "17400316  2018        1      1          17          3  2018-01-17 00:00:00   \n",
       "17400317  2018        1      1          17          3  2018-01-17 00:00:00   \n",
       "17400320  2018        1      1          17          3  2018-01-17 00:00:00   \n",
       "17400323  2018        1      1          17          3  2018-01-17 00:00:00   \n",
       "...        ...      ...    ...         ...        ...                  ...   \n",
       "32288695  2019        4     12           1          7  2019-12-01 00:00:00   \n",
       "32288696  2019        4     12           1          7  2019-12-01 00:00:00   \n",
       "32288697  2019        4     12           1          7  2019-12-01 00:00:00   \n",
       "32288698  2019        4     12           1          7  2019-12-01 00:00:00   \n",
       "32288699  2019        4     12           1          7  2019-12-01 00:00:00   \n",
       "\n",
       "         Reporting_Airline Tail_Number  Flight_Number_Reporting_Airline  \\\n",
       "17400315                B6       516JB                              375   \n",
       "17400316                B6       565JB                              376   \n",
       "17400317                B6       507JB                              380   \n",
       "17400320                B6       258JB                              389   \n",
       "17400323                B6       594JB                              392   \n",
       "...                    ...         ...                              ...   \n",
       "32288695                DL       346DN                              830   \n",
       "32288696                DL       697DL                              831   \n",
       "32288697                DL       697DL                              831   \n",
       "32288698                DL       6714Q                              832   \n",
       "32288699                DL       6714Q                              832   \n",
       "\n",
       "          OriginCityMarketID  ... faa_registration_origin  \\\n",
       "17400315               34100  ...                  2023.0   \n",
       "17400316               32467  ...                  2023.0   \n",
       "17400317               32575  ...                  2023.0   \n",
       "17400320               30721  ...                  2023.0   \n",
       "17400323               33195  ...                  2023.0   \n",
       "...                      ...  ...                     ...   \n",
       "32288695               30397  ...                  2023.0   \n",
       "32288696               31454  ...                  2023.0   \n",
       "32288697               31650  ...                  2023.0   \n",
       "32288698               30852  ...                  2023.0   \n",
       "32288699               34614  ...                  2023.0   \n",
       "\n",
       "                       Origin_DISPLAY_AIRPORT_NAME  \\\n",
       "17400315                Philadelphia International   \n",
       "17400316   Fort Lauderdale-Hollywood International   \n",
       "17400317                        Long Beach Airport   \n",
       "17400320                       Logan International   \n",
       "17400323                       Tampa International   \n",
       "...                                            ...   \n",
       "32288695  Hartsfield-Jackson Atlanta International   \n",
       "32288696                     Orlando International   \n",
       "32288697         Minneapolis-St Paul International   \n",
       "32288698         Ronald Reagan Washington National   \n",
       "32288699              Salt Lake City International   \n",
       "\n",
       "         Origin_DISPLAY_AIRPORT_CITY_NAME_FULL Origin_LATITUDE  \\\n",
       "17400315                      Philadelphia, PA       39.871944   \n",
       "17400316                   Fort Lauderdale, FL       26.071667   \n",
       "17400317                        Long Beach, CA       33.818056   \n",
       "17400320                            Boston, MA       42.363056   \n",
       "17400323                             Tampa, FL       27.975556   \n",
       "...                                        ...             ...   \n",
       "32288695                           Atlanta, GA       33.636667   \n",
       "32288696                           Orlando, FL       28.429444   \n",
       "32288697                       Minneapolis, MN       44.881944   \n",
       "32288698                        Washington, DC       38.851389   \n",
       "32288699                    Salt Lake City, UT       40.788333   \n",
       "\n",
       "         Origin_LONGITUDE                Dest_DISPLAY_AIRPORT_NAME  \\\n",
       "17400315       -75.240556  Fort Lauderdale-Hollywood International   \n",
       "17400316       -80.149722               Philadelphia International   \n",
       "17400317      -118.151944                 Harry Reid International   \n",
       "17400320       -71.006389        Ronald Reagan Washington National   \n",
       "17400323       -82.533333                      Logan International   \n",
       "...                   ...                                      ...   \n",
       "32288695       -84.427778                                LaGuardia   \n",
       "32288696       -81.308889        Minneapolis-St Paul International   \n",
       "32288697       -93.221667                    Orlando International   \n",
       "32288698       -77.037778             Salt Lake City International   \n",
       "32288699      -111.977778        Ronald Reagan Washington National   \n",
       "\n",
       "          Dest_DISPLAY_AIRPORT_CITY_NAME_FULL  Dest_LATITUDE Dest_LONGITUDE  \\\n",
       "17400315                  Fort Lauderdale, FL      26.071667     -80.149722   \n",
       "17400316                     Philadelphia, PA      39.871944     -75.240556   \n",
       "17400317                        Las Vegas, NV      36.080000    -115.152222   \n",
       "17400320                       Washington, DC      38.851389     -77.037778   \n",
       "17400323                           Boston, MA      42.363056     -71.006389   \n",
       "...                                       ...            ...            ...   \n",
       "32288695                         New York, NY      40.777222     -73.872500   \n",
       "32288696                      Minneapolis, MN      44.881944     -93.221667   \n",
       "32288697                          Orlando, FL      28.429444     -81.308889   \n",
       "32288698                   Salt Lake City, UT      40.788333    -111.977778   \n",
       "32288699                       Washington, DC      38.851389     -77.037778   \n",
       "\n",
       "         delayed  \n",
       "17400315   False  \n",
       "17400316    True  \n",
       "17400317   False  \n",
       "17400320    True  \n",
       "17400323    True  \n",
       "...          ...  \n",
       "32288695   False  \n",
       "32288696    True  \n",
       "32288697    True  \n",
       "32288698   False  \n",
       "32288699   False  \n",
       "\n",
       "[14578838 rows x 97 columns]"
      ]
     },
     "execution_count": 12,
     "metadata": {},
     "output_type": "execute_result"
    }
   ],
   "source": [
    "# If the flight is delayed on departure or arrival, consider it delayed overall\n",
    "\n",
    "# df[\"delayed\"] = (df[\"DepDelay\"].gt(0)) | (df[\"ArrDelay\"].gt(0))\n",
    "df[\"delayed\"] = (df[\"DepDel15\"].eq(1)) | (df[\"ArrDel15\"].eq(1))\n",
    "\n",
    "df"
   ]
  },
  {
   "cell_type": "code",
   "execution_count": 13,
   "metadata": {},
   "outputs": [],
   "source": [
    "# Remove columns that we _expect_ to have low predictive value\n",
    "\n",
    "features = [\n",
    "  # temporal data\n",
    "  # Take the Month and day of the week, if we expect to see some predictive power in the date it probably involves the temporal rhythm of seasonality or the shorter rhythm of the weekly routine. We shrunk the dataset down to only two years so not much is given by the year column, quarter is another encoding of month, DayofMonth doesn't deliver much information unless it happens to be the 25th day of the 12th month, for example. and the FlightDate is a timestamp, a combination of all of these values.\n",
    "  # \"Year\",\n",
    "  # \"Quarter\",\n",
    "  \"Month\",\n",
    "  # \"DayofMonth\",\n",
    "  \"DayOfWeek\",\n",
    "  # \"FlightDate\",\n",
    "  # Identifying the categorical airline\n",
    "  \"Reporting_Airline\",\n",
    "  # This may identify the route per airline, but we have the origin/destination airports, as well as the distance\n",
    "  # \"Flight_Number_Reporting_Airline\",\n",
    "  # Identifying the individual aircraft\n",
    "  \"Tail_Number\",\n",
    "  # Scratching the origin and destination airports in lieu of latitude and longitude values, this gives us slightly more information even though it's split up into two features we expect to see similarities for northern vs southern airports, especially in winter months\n",
    "  # \"OriginCityMarketID\",\n",
    "  # \"Origin\",\n",
    "  # \"DestCityMarketID\",\n",
    "  # \"Dest\",\n",
    "  #   \"Origin_DISPLAY_AIRPORT_NAME\",\n",
    "  # \"Origin_DISPLAY_AIRPORT_CITY_NAME_FULL\",\n",
    "  \"Origin_LATITUDE\",\n",
    "  \"Origin_LONGITUDE\",\n",
    "  # \"Dest_DISPLAY_AIRPORT_NAME\",\n",
    "  # \"Dest_DISPLAY_AIRPORT_CITY_NAME_FULL\",\n",
    "  \"Dest_LATITUDE\",\n",
    "  \"Dest_LONGITUDE\",\n",
    "  # Flight timing\n",
    "  # CRS is Computer Reservation System, this is the planned departure and arrival time, any delay can be calculated by the difference between this and the actual\n",
    "  # For supervised learning, the delay will be our dependent variable, it will be an OR combination of departure delay and arrival delay, if either are true, we consider the label delayed\n",
    "  \"CRSDepTime\",\n",
    "  # \"DepTime\",\n",
    "  # \"DepDelay\", # Create delayed label from this\n",
    "  # \"DepDelayMinutes\",\n",
    "  # \"DepDel15\",\n",
    "  # \"DepartureDelayGroups\",\n",
    "  # \"DepTimeBlk\",\n",
    "  # \"TaxiOut\",\n",
    "  # \"WheelsOff\",\n",
    "  # \"WheelsOn\",\n",
    "  # \"TaxiIn\",\n",
    "  \"CRSArrTime\",\n",
    "  # \"ArrTime\",\n",
    "  # \"ArrDelay\", # Create delayed label from this\n",
    "  # \"ArrDelayMinutes\",\n",
    "  # \"ArrDel15\",\n",
    "  # \"ArrivalDelayGroups\",\n",
    "  # \"ArrTimeBlk\",\n",
    "  # Remove cancelled and diverted flights\n",
    "  # \"Cancelled\",\n",
    "  # \"Diverted\",\n",
    "  # This is just the difference between the planned departure and arrival\n",
    "  # \"CRSElapsedTime\",\n",
    "  # This encodes some factor of the delay\n",
    "  # \"ActualElapsedTime\",\n",
    "  # \"AirTime\",\n",
    "  # Flights is always 1\n",
    "  # \"Flights\",\n",
    "  # We may see some benefit of using the group vs the raw distance here, experimentation needed, we might only care if it is a short, medium, or long distance flight\n",
    "  # \"Distance\",\n",
    "  \"DistanceGroup\",\n",
    "  # The reason for the delay, we can't include this in the supervised learning model\n",
    "  # \"CarrierDelay\",\n",
    "  # \"WeatherDelay\",\n",
    "  # \"NASDelay\",\n",
    "  # \"SecurityDelay\",\n",
    "  # \"LateAircraftDelay\",\n",
    "  # Only matters for diversions, which we're filtering off\n",
    "  # \"DivAirportLandings\",\n",
    "  # Duplicate\n",
    "  # \"N-NUMBER\",\n",
    "  # Granular aircraft data\n",
    "  # \"SERIAL NUMBER\",\n",
    "  # \"MFR MDL CODE\",\n",
    "  # \"ENG MFR MDL\",\n",
    "  \"YEAR MFR\",\n",
    "  # This is really only ever 3 or 7 for a commercial flight\n",
    "  # \"TYPE REGISTRANT\",\n",
    "  # Name is a proxy for the airline\n",
    "  # \"NAME\",\n",
    "  # The registrants address and registration information\n",
    "  # \"STREET\",\n",
    "  # \"CITY\",\n",
    "  # \"STATE\",\n",
    "  # \"ZIP CODE\",\n",
    "  # \"REGION\",\n",
    "  # \"COUNTY\",\n",
    "  # \"COUNTRY\",\n",
    "  # \"LAST ACTION DATE\",\n",
    "  # \"CERT ISSUE DATE\",\n",
    "  # \"CERTIFICATION\",\n",
    "  # Only 5 could be plausible\n",
    "  # 1 - Glider\n",
    "  # 2 - Balloon\n",
    "  # 3 - Blimp/Dirigible\n",
    "  # 4 - Fixed wing single engine\n",
    "  #     5 - Fixed wing multi engine\n",
    "  # 6 - Rotorcraft\n",
    "  # 7 - Weight-shift-control\n",
    "  # 8 - Powered Parachute\n",
    "  # 9 - Gyroplane\n",
    "  # H - Hybrid Lift\n",
    "  # O - Other\n",
    "  # \"TYPE AIRCRAFT\",\n",
    "  # Only 5 could be plausible\n",
    "  # 0 - None\n",
    "  # 1 - Reciprocating\n",
    "  # 2 - Turbo-prop\n",
    "  # 3 - Turbo-shaft\n",
    "  # 4 - Turbo-jet\n",
    "  #     5 - Turbo-fan\n",
    "  # 6 - Ramjet\n",
    "  # 7 - 2 Cycle\n",
    "  # 8 - 4 Cycle\n",
    "  # 9 – Unknown\n",
    "  # 10 – Electric\n",
    "  # 11 - Rotary\n",
    "  # \"TYPE ENGINE\",\n",
    "  # \"STATUS CODE\",\n",
    "  # \"MODE S CODE\",\n",
    "  # \"AIR WORTH DATE\",\n",
    "  # \"EXPIRATION DATE\",\n",
    "  # \"UNIQUE ID\",\n",
    "  # \"MODE S CODE HEX\",\n",
    "  # \"CODE\",\n",
    "  \"MFR\", # this is the engine manufacturer, unsure about its utility\n",
    "  \"MODEL\",\n",
    "  # \"TYPE\",\n",
    "  # horsepower and thrust aren't very complete, and they are properly encoded as the aircraft model\n",
    "  # \"HORSEPOWER\",\n",
    "  # \"THRUST\",\n",
    "  # \"CODE_aircraft\",\n",
    "  \"MFR_aircraft\",\n",
    "  \"MODEL_aircraft\"\n",
    "  # \"TYPE-ACFT\",\n",
    "  # \"TYPE-ENG\",\n",
    "  # \"AC-CAT\",\n",
    "  # \"BUILD-CERT-IND\",\n",
    "  # \"NO-ENG\",\n",
    "  # Seats is encoded in the model\n",
    "  # \"NO-SEATS\",\n",
    "  # \"AC-WEIGHT\",\n",
    "  # \"SPEED\",\n",
    "  # \"faa_registration_origin\"\n",
    "]\n",
    "\n",
    "non_predictive_features = set(df.columns) - set(features + [\"delayed\"])\n",
    "\n",
    "df_features = df.drop(non_predictive_features, axis=\"columns\")"
   ]
  },
  {
   "cell_type": "code",
   "execution_count": 14,
   "metadata": {},
   "outputs": [
    {
     "data": {
      "text/html": [
       "<div>\n",
       "<style scoped>\n",
       "    .dataframe tbody tr th:only-of-type {\n",
       "        vertical-align: middle;\n",
       "    }\n",
       "\n",
       "    .dataframe tbody tr th {\n",
       "        vertical-align: top;\n",
       "    }\n",
       "\n",
       "    .dataframe thead th {\n",
       "        text-align: right;\n",
       "    }\n",
       "</style>\n",
       "<table border=\"1\" class=\"dataframe\">\n",
       "  <thead>\n",
       "    <tr style=\"text-align: right;\">\n",
       "      <th></th>\n",
       "      <th>Month</th>\n",
       "      <th>DayOfWeek</th>\n",
       "      <th>Reporting_Airline</th>\n",
       "      <th>Tail_Number</th>\n",
       "      <th>CRSDepTime</th>\n",
       "      <th>CRSArrTime</th>\n",
       "      <th>DistanceGroup</th>\n",
       "      <th>YEAR MFR</th>\n",
       "      <th>MFR</th>\n",
       "      <th>MODEL</th>\n",
       "      <th>MFR_aircraft</th>\n",
       "      <th>MODEL_aircraft</th>\n",
       "      <th>Origin_LATITUDE</th>\n",
       "      <th>Origin_LONGITUDE</th>\n",
       "      <th>Dest_LATITUDE</th>\n",
       "      <th>Dest_LONGITUDE</th>\n",
       "      <th>delayed</th>\n",
       "    </tr>\n",
       "  </thead>\n",
       "  <tbody>\n",
       "    <tr>\n",
       "      <th>17400315</th>\n",
       "      <td>1</td>\n",
       "      <td>3</td>\n",
       "      <td>B6</td>\n",
       "      <td>516JB</td>\n",
       "      <td>0700</td>\n",
       "      <td>0958</td>\n",
       "      <td>4</td>\n",
       "      <td>2000</td>\n",
       "      <td>IAE</td>\n",
       "      <td>V2500SERIES</td>\n",
       "      <td>AIRBUS INDUSTRIE</td>\n",
       "      <td>A320-232</td>\n",
       "      <td>39.871944</td>\n",
       "      <td>-75.240556</td>\n",
       "      <td>26.071667</td>\n",
       "      <td>-80.149722</td>\n",
       "      <td>False</td>\n",
       "    </tr>\n",
       "    <tr>\n",
       "      <th>17400316</th>\n",
       "      <td>1</td>\n",
       "      <td>3</td>\n",
       "      <td>B6</td>\n",
       "      <td>565JB</td>\n",
       "      <td>1127</td>\n",
       "      <td>1411</td>\n",
       "      <td>4</td>\n",
       "      <td>2003</td>\n",
       "      <td>IAE</td>\n",
       "      <td>V2500SERIES</td>\n",
       "      <td>AIRBUS</td>\n",
       "      <td>A320-232</td>\n",
       "      <td>26.071667</td>\n",
       "      <td>-80.149722</td>\n",
       "      <td>39.871944</td>\n",
       "      <td>-75.240556</td>\n",
       "      <td>True</td>\n",
       "    </tr>\n",
       "    <tr>\n",
       "      <th>17400317</th>\n",
       "      <td>1</td>\n",
       "      <td>3</td>\n",
       "      <td>B6</td>\n",
       "      <td>507JB</td>\n",
       "      <td>1311</td>\n",
       "      <td>1419</td>\n",
       "      <td>1</td>\n",
       "      <td>1979</td>\n",
       "      <td>LYCOMING</td>\n",
       "      <td>TI0-540 SER</td>\n",
       "      <td>PIPER</td>\n",
       "      <td>PA-23-250</td>\n",
       "      <td>33.818056</td>\n",
       "      <td>-118.151944</td>\n",
       "      <td>36.080000</td>\n",
       "      <td>-115.152222</td>\n",
       "      <td>False</td>\n",
       "    </tr>\n",
       "    <tr>\n",
       "      <th>17400320</th>\n",
       "      <td>1</td>\n",
       "      <td>3</td>\n",
       "      <td>B6</td>\n",
       "      <td>258JB</td>\n",
       "      <td>0920</td>\n",
       "      <td>1102</td>\n",
       "      <td>2</td>\n",
       "      <td>2006</td>\n",
       "      <td>GE</td>\n",
       "      <td>CF34-10E6</td>\n",
       "      <td>EMBRAER</td>\n",
       "      <td>ERJ 190-100 IGW</td>\n",
       "      <td>42.363056</td>\n",
       "      <td>-71.006389</td>\n",
       "      <td>38.851389</td>\n",
       "      <td>-77.037778</td>\n",
       "      <td>True</td>\n",
       "    </tr>\n",
       "    <tr>\n",
       "      <th>17400323</th>\n",
       "      <td>1</td>\n",
       "      <td>3</td>\n",
       "      <td>B6</td>\n",
       "      <td>594JB</td>\n",
       "      <td>1934</td>\n",
       "      <td>2225</td>\n",
       "      <td>5</td>\n",
       "      <td>2004</td>\n",
       "      <td>IAE</td>\n",
       "      <td>V2500SERIES</td>\n",
       "      <td>AIRBUS</td>\n",
       "      <td>A320-232</td>\n",
       "      <td>27.975556</td>\n",
       "      <td>-82.533333</td>\n",
       "      <td>42.363056</td>\n",
       "      <td>-71.006389</td>\n",
       "      <td>True</td>\n",
       "    </tr>\n",
       "    <tr>\n",
       "      <th>...</th>\n",
       "      <td>...</td>\n",
       "      <td>...</td>\n",
       "      <td>...</td>\n",
       "      <td>...</td>\n",
       "      <td>...</td>\n",
       "      <td>...</td>\n",
       "      <td>...</td>\n",
       "      <td>...</td>\n",
       "      <td>...</td>\n",
       "      <td>...</td>\n",
       "      <td>...</td>\n",
       "      <td>...</td>\n",
       "      <td>...</td>\n",
       "      <td>...</td>\n",
       "      <td>...</td>\n",
       "      <td>...</td>\n",
       "      <td>...</td>\n",
       "    </tr>\n",
       "    <tr>\n",
       "      <th>32288695</th>\n",
       "      <td>12</td>\n",
       "      <td>7</td>\n",
       "      <td>DL</td>\n",
       "      <td>346DN</td>\n",
       "      <td>0600</td>\n",
       "      <td>0802</td>\n",
       "      <td>4</td>\n",
       "      <td>2018</td>\n",
       "      <td>CFM INTL</td>\n",
       "      <td>CFM56-5B3/3</td>\n",
       "      <td>AIRBUS</td>\n",
       "      <td>A321-211</td>\n",
       "      <td>33.636667</td>\n",
       "      <td>-84.427778</td>\n",
       "      <td>40.777222</td>\n",
       "      <td>-73.872500</td>\n",
       "      <td>False</td>\n",
       "    </tr>\n",
       "    <tr>\n",
       "      <th>32288696</th>\n",
       "      <td>12</td>\n",
       "      <td>7</td>\n",
       "      <td>DL</td>\n",
       "      <td>697DL</td>\n",
       "      <td>1209</td>\n",
       "      <td>1438</td>\n",
       "      <td>6</td>\n",
       "      <td>1999</td>\n",
       "      <td>P &amp; W</td>\n",
       "      <td>PW2037</td>\n",
       "      <td>BOEING</td>\n",
       "      <td>757-232</td>\n",
       "      <td>28.429444</td>\n",
       "      <td>-81.308889</td>\n",
       "      <td>44.881944</td>\n",
       "      <td>-93.221667</td>\n",
       "      <td>True</td>\n",
       "    </tr>\n",
       "    <tr>\n",
       "      <th>32288697</th>\n",
       "      <td>12</td>\n",
       "      <td>7</td>\n",
       "      <td>DL</td>\n",
       "      <td>697DL</td>\n",
       "      <td>0650</td>\n",
       "      <td>1110</td>\n",
       "      <td>6</td>\n",
       "      <td>1999</td>\n",
       "      <td>P &amp; W</td>\n",
       "      <td>PW2037</td>\n",
       "      <td>BOEING</td>\n",
       "      <td>757-232</td>\n",
       "      <td>44.881944</td>\n",
       "      <td>-93.221667</td>\n",
       "      <td>28.429444</td>\n",
       "      <td>-81.308889</td>\n",
       "      <td>True</td>\n",
       "    </tr>\n",
       "    <tr>\n",
       "      <th>32288698</th>\n",
       "      <td>12</td>\n",
       "      <td>7</td>\n",
       "      <td>DL</td>\n",
       "      <td>6714Q</td>\n",
       "      <td>1639</td>\n",
       "      <td>1932</td>\n",
       "      <td>8</td>\n",
       "      <td>2000</td>\n",
       "      <td>P &amp; W</td>\n",
       "      <td>PW2037</td>\n",
       "      <td>BOEING</td>\n",
       "      <td>757-232</td>\n",
       "      <td>38.851389</td>\n",
       "      <td>-77.037778</td>\n",
       "      <td>40.788333</td>\n",
       "      <td>-111.977778</td>\n",
       "      <td>False</td>\n",
       "    </tr>\n",
       "    <tr>\n",
       "      <th>32288699</th>\n",
       "      <td>12</td>\n",
       "      <td>7</td>\n",
       "      <td>DL</td>\n",
       "      <td>6714Q</td>\n",
       "      <td>0935</td>\n",
       "      <td>1539</td>\n",
       "      <td>8</td>\n",
       "      <td>2000</td>\n",
       "      <td>P &amp; W</td>\n",
       "      <td>PW2037</td>\n",
       "      <td>BOEING</td>\n",
       "      <td>757-232</td>\n",
       "      <td>40.788333</td>\n",
       "      <td>-111.977778</td>\n",
       "      <td>38.851389</td>\n",
       "      <td>-77.037778</td>\n",
       "      <td>False</td>\n",
       "    </tr>\n",
       "  </tbody>\n",
       "</table>\n",
       "<p>14578838 rows × 17 columns</p>\n",
       "</div>"
      ],
      "text/plain": [
       "          Month  DayOfWeek Reporting_Airline Tail_Number CRSDepTime  \\\n",
       "17400315      1          3                B6       516JB       0700   \n",
       "17400316      1          3                B6       565JB       1127   \n",
       "17400317      1          3                B6       507JB       1311   \n",
       "17400320      1          3                B6       258JB       0920   \n",
       "17400323      1          3                B6       594JB       1934   \n",
       "...         ...        ...               ...         ...        ...   \n",
       "32288695     12          7                DL       346DN       0600   \n",
       "32288696     12          7                DL       697DL       1209   \n",
       "32288697     12          7                DL       697DL       0650   \n",
       "32288698     12          7                DL       6714Q       1639   \n",
       "32288699     12          7                DL       6714Q       0935   \n",
       "\n",
       "         CRSArrTime DistanceGroup YEAR MFR         MFR          MODEL  \\\n",
       "17400315       0958             4     2000  IAE         V2500SERIES     \n",
       "17400316       1411             4     2003  IAE         V2500SERIES     \n",
       "17400317       1419             1     1979  LYCOMING    TI0-540 SER     \n",
       "17400320       1102             2     2006  GE          CF34-10E6       \n",
       "17400323       2225             5     2004  IAE         V2500SERIES     \n",
       "...             ...           ...      ...         ...            ...   \n",
       "32288695       0802             4     2018  CFM INTL    CFM56-5B3/3     \n",
       "32288696       1438             6     1999  P & W       PW2037          \n",
       "32288697       1110             6     1999  P & W       PW2037          \n",
       "32288698       1932             8     2000  P & W       PW2037          \n",
       "32288699       1539             8     2000  P & W       PW2037          \n",
       "\n",
       "                            MFR_aircraft        MODEL_aircraft  \\\n",
       "17400315  AIRBUS INDUSTRIE                A320-232               \n",
       "17400316  AIRBUS                          A320-232               \n",
       "17400317  PIPER                           PA-23-250              \n",
       "17400320  EMBRAER                         ERJ 190-100 IGW        \n",
       "17400323  AIRBUS                          A320-232               \n",
       "...                                  ...                   ...   \n",
       "32288695  AIRBUS                          A321-211               \n",
       "32288696  BOEING                          757-232                \n",
       "32288697  BOEING                          757-232                \n",
       "32288698  BOEING                          757-232                \n",
       "32288699  BOEING                          757-232                \n",
       "\n",
       "          Origin_LATITUDE  Origin_LONGITUDE  Dest_LATITUDE  Dest_LONGITUDE  \\\n",
       "17400315        39.871944        -75.240556      26.071667      -80.149722   \n",
       "17400316        26.071667        -80.149722      39.871944      -75.240556   \n",
       "17400317        33.818056       -118.151944      36.080000     -115.152222   \n",
       "17400320        42.363056        -71.006389      38.851389      -77.037778   \n",
       "17400323        27.975556        -82.533333      42.363056      -71.006389   \n",
       "...                   ...               ...            ...             ...   \n",
       "32288695        33.636667        -84.427778      40.777222      -73.872500   \n",
       "32288696        28.429444        -81.308889      44.881944      -93.221667   \n",
       "32288697        44.881944        -93.221667      28.429444      -81.308889   \n",
       "32288698        38.851389        -77.037778      40.788333     -111.977778   \n",
       "32288699        40.788333       -111.977778      38.851389      -77.037778   \n",
       "\n",
       "          delayed  \n",
       "17400315    False  \n",
       "17400316     True  \n",
       "17400317    False  \n",
       "17400320     True  \n",
       "17400323     True  \n",
       "...           ...  \n",
       "32288695    False  \n",
       "32288696     True  \n",
       "32288697     True  \n",
       "32288698    False  \n",
       "32288699    False  \n",
       "\n",
       "[14578838 rows x 17 columns]"
      ]
     },
     "execution_count": 14,
     "metadata": {},
     "output_type": "execute_result"
    }
   ],
   "source": [
    "df_features"
   ]
  },
  {
   "cell_type": "code",
   "execution_count": 24,
   "metadata": {},
   "outputs": [
    {
     "data": {
      "text/plain": [
       "delayed\n",
       "False    0.772752\n",
       "True     0.227248\n",
       "Name: proportion, dtype: float64"
      ]
     },
     "execution_count": 24,
     "metadata": {},
     "output_type": "execute_result"
    }
   ],
   "source": [
    "df[\"delayed\"].value_counts(normalize=True)"
   ]
  },
  {
   "cell_type": "code",
   "execution_count": 17,
   "metadata": {},
   "outputs": [
    {
     "data": {
      "text/plain": [
       "(DepDel15\n",
       " False    0.815245\n",
       " True     0.184755\n",
       " Name: proportion, dtype: float64,\n",
       " ArrDel15\n",
       " False    0.809113\n",
       " True     0.190887\n",
       " Name: proportion, dtype: float64)"
      ]
     },
     "execution_count": 17,
     "metadata": {},
     "output_type": "execute_result"
    }
   ],
   "source": [
    "dep_delay = (df['DepDel15'] > 0).value_counts(normalize=True)\n",
    "arr_delay = (df['ArrDel15'] > 0).value_counts(normalize=True)\n",
    "\n",
    "dep_delay, arr_delay"
   ]
  },
  {
   "cell_type": "markdown",
   "metadata": {},
   "source": [
    "**Written when I thought that a delay of 1 minute counted as a delay.**\n",
    "\n",
    "The proportions for both \"DepDelay\" and \"ArrDelay\" indicate that about one-third of the flights experience some form of delay, either at departure or upon arrival.\n",
    "\n",
    "Interestingly, these percentages are not as skewed as one might expect, but they do align reasonably well with each other. Given that the overall \"delayed\" rate combining both types of delays was around 44%, it seems that a significant number of flights experience either a departure or an arrival delay but not necessarily both.\n",
    "\n",
    "This also suggests that neither departure delays nor arrival delays overwhelmingly contribute to the overall delay rate. They are roughly equal contributors."
   ]
  },
  {
   "cell_type": "code",
   "execution_count": 21,
   "metadata": {},
   "outputs": [
    {
     "data": {
      "text/html": [
       "<div>\n",
       "<style scoped>\n",
       "    .dataframe tbody tr th:only-of-type {\n",
       "        vertical-align: middle;\n",
       "    }\n",
       "\n",
       "    .dataframe tbody tr th {\n",
       "        vertical-align: top;\n",
       "    }\n",
       "\n",
       "    .dataframe thead th {\n",
       "        text-align: right;\n",
       "    }\n",
       "</style>\n",
       "<table border=\"1\" class=\"dataframe\">\n",
       "  <thead>\n",
       "    <tr style=\"text-align: right;\">\n",
       "      <th></th>\n",
       "      <th>Month</th>\n",
       "      <th>DayOfWeek</th>\n",
       "      <th>Reporting_Airline</th>\n",
       "      <th>Tail_Number</th>\n",
       "      <th>CRSDepTime</th>\n",
       "      <th>CRSArrTime</th>\n",
       "      <th>DistanceGroup</th>\n",
       "      <th>YEAR MFR</th>\n",
       "      <th>engine_manufacturer</th>\n",
       "      <th>engine_model</th>\n",
       "      <th>aircraft_manufacturer</th>\n",
       "      <th>aircraft_model</th>\n",
       "      <th>Origin_LATITUDE</th>\n",
       "      <th>Origin_LONGITUDE</th>\n",
       "      <th>Dest_LATITUDE</th>\n",
       "      <th>Dest_LONGITUDE</th>\n",
       "      <th>delayed</th>\n",
       "    </tr>\n",
       "  </thead>\n",
       "  <tbody>\n",
       "    <tr>\n",
       "      <th>17400315</th>\n",
       "      <td>1</td>\n",
       "      <td>3</td>\n",
       "      <td>B6</td>\n",
       "      <td>516JB</td>\n",
       "      <td>0700</td>\n",
       "      <td>0958</td>\n",
       "      <td>4</td>\n",
       "      <td>2000</td>\n",
       "      <td>IAE</td>\n",
       "      <td>V2500SERIES</td>\n",
       "      <td>AIRBUS INDUSTRIE</td>\n",
       "      <td>A320-232</td>\n",
       "      <td>39.871944</td>\n",
       "      <td>-75.240556</td>\n",
       "      <td>26.071667</td>\n",
       "      <td>-80.149722</td>\n",
       "      <td>False</td>\n",
       "    </tr>\n",
       "    <tr>\n",
       "      <th>17400316</th>\n",
       "      <td>1</td>\n",
       "      <td>3</td>\n",
       "      <td>B6</td>\n",
       "      <td>565JB</td>\n",
       "      <td>1127</td>\n",
       "      <td>1411</td>\n",
       "      <td>4</td>\n",
       "      <td>2003</td>\n",
       "      <td>IAE</td>\n",
       "      <td>V2500SERIES</td>\n",
       "      <td>AIRBUS</td>\n",
       "      <td>A320-232</td>\n",
       "      <td>26.071667</td>\n",
       "      <td>-80.149722</td>\n",
       "      <td>39.871944</td>\n",
       "      <td>-75.240556</td>\n",
       "      <td>True</td>\n",
       "    </tr>\n",
       "    <tr>\n",
       "      <th>17400317</th>\n",
       "      <td>1</td>\n",
       "      <td>3</td>\n",
       "      <td>B6</td>\n",
       "      <td>507JB</td>\n",
       "      <td>1311</td>\n",
       "      <td>1419</td>\n",
       "      <td>1</td>\n",
       "      <td>1979</td>\n",
       "      <td>LYCOMING</td>\n",
       "      <td>TI0-540 SER</td>\n",
       "      <td>PIPER</td>\n",
       "      <td>PA-23-250</td>\n",
       "      <td>33.818056</td>\n",
       "      <td>-118.151944</td>\n",
       "      <td>36.080000</td>\n",
       "      <td>-115.152222</td>\n",
       "      <td>False</td>\n",
       "    </tr>\n",
       "    <tr>\n",
       "      <th>17400320</th>\n",
       "      <td>1</td>\n",
       "      <td>3</td>\n",
       "      <td>B6</td>\n",
       "      <td>258JB</td>\n",
       "      <td>0920</td>\n",
       "      <td>1102</td>\n",
       "      <td>2</td>\n",
       "      <td>2006</td>\n",
       "      <td>GE</td>\n",
       "      <td>CF34-10E6</td>\n",
       "      <td>EMBRAER</td>\n",
       "      <td>ERJ 190-100 IGW</td>\n",
       "      <td>42.363056</td>\n",
       "      <td>-71.006389</td>\n",
       "      <td>38.851389</td>\n",
       "      <td>-77.037778</td>\n",
       "      <td>True</td>\n",
       "    </tr>\n",
       "    <tr>\n",
       "      <th>17400323</th>\n",
       "      <td>1</td>\n",
       "      <td>3</td>\n",
       "      <td>B6</td>\n",
       "      <td>594JB</td>\n",
       "      <td>1934</td>\n",
       "      <td>2225</td>\n",
       "      <td>5</td>\n",
       "      <td>2004</td>\n",
       "      <td>IAE</td>\n",
       "      <td>V2500SERIES</td>\n",
       "      <td>AIRBUS</td>\n",
       "      <td>A320-232</td>\n",
       "      <td>27.975556</td>\n",
       "      <td>-82.533333</td>\n",
       "      <td>42.363056</td>\n",
       "      <td>-71.006389</td>\n",
       "      <td>True</td>\n",
       "    </tr>\n",
       "    <tr>\n",
       "      <th>...</th>\n",
       "      <td>...</td>\n",
       "      <td>...</td>\n",
       "      <td>...</td>\n",
       "      <td>...</td>\n",
       "      <td>...</td>\n",
       "      <td>...</td>\n",
       "      <td>...</td>\n",
       "      <td>...</td>\n",
       "      <td>...</td>\n",
       "      <td>...</td>\n",
       "      <td>...</td>\n",
       "      <td>...</td>\n",
       "      <td>...</td>\n",
       "      <td>...</td>\n",
       "      <td>...</td>\n",
       "      <td>...</td>\n",
       "      <td>...</td>\n",
       "    </tr>\n",
       "    <tr>\n",
       "      <th>32288695</th>\n",
       "      <td>12</td>\n",
       "      <td>7</td>\n",
       "      <td>DL</td>\n",
       "      <td>346DN</td>\n",
       "      <td>0600</td>\n",
       "      <td>0802</td>\n",
       "      <td>4</td>\n",
       "      <td>2018</td>\n",
       "      <td>CFM INTL</td>\n",
       "      <td>CFM56-5B3/3</td>\n",
       "      <td>AIRBUS</td>\n",
       "      <td>A321-211</td>\n",
       "      <td>33.636667</td>\n",
       "      <td>-84.427778</td>\n",
       "      <td>40.777222</td>\n",
       "      <td>-73.872500</td>\n",
       "      <td>False</td>\n",
       "    </tr>\n",
       "    <tr>\n",
       "      <th>32288696</th>\n",
       "      <td>12</td>\n",
       "      <td>7</td>\n",
       "      <td>DL</td>\n",
       "      <td>697DL</td>\n",
       "      <td>1209</td>\n",
       "      <td>1438</td>\n",
       "      <td>6</td>\n",
       "      <td>1999</td>\n",
       "      <td>P &amp; W</td>\n",
       "      <td>PW2037</td>\n",
       "      <td>BOEING</td>\n",
       "      <td>757-232</td>\n",
       "      <td>28.429444</td>\n",
       "      <td>-81.308889</td>\n",
       "      <td>44.881944</td>\n",
       "      <td>-93.221667</td>\n",
       "      <td>True</td>\n",
       "    </tr>\n",
       "    <tr>\n",
       "      <th>32288697</th>\n",
       "      <td>12</td>\n",
       "      <td>7</td>\n",
       "      <td>DL</td>\n",
       "      <td>697DL</td>\n",
       "      <td>0650</td>\n",
       "      <td>1110</td>\n",
       "      <td>6</td>\n",
       "      <td>1999</td>\n",
       "      <td>P &amp; W</td>\n",
       "      <td>PW2037</td>\n",
       "      <td>BOEING</td>\n",
       "      <td>757-232</td>\n",
       "      <td>44.881944</td>\n",
       "      <td>-93.221667</td>\n",
       "      <td>28.429444</td>\n",
       "      <td>-81.308889</td>\n",
       "      <td>True</td>\n",
       "    </tr>\n",
       "    <tr>\n",
       "      <th>32288698</th>\n",
       "      <td>12</td>\n",
       "      <td>7</td>\n",
       "      <td>DL</td>\n",
       "      <td>6714Q</td>\n",
       "      <td>1639</td>\n",
       "      <td>1932</td>\n",
       "      <td>8</td>\n",
       "      <td>2000</td>\n",
       "      <td>P &amp; W</td>\n",
       "      <td>PW2037</td>\n",
       "      <td>BOEING</td>\n",
       "      <td>757-232</td>\n",
       "      <td>38.851389</td>\n",
       "      <td>-77.037778</td>\n",
       "      <td>40.788333</td>\n",
       "      <td>-111.977778</td>\n",
       "      <td>False</td>\n",
       "    </tr>\n",
       "    <tr>\n",
       "      <th>32288699</th>\n",
       "      <td>12</td>\n",
       "      <td>7</td>\n",
       "      <td>DL</td>\n",
       "      <td>6714Q</td>\n",
       "      <td>0935</td>\n",
       "      <td>1539</td>\n",
       "      <td>8</td>\n",
       "      <td>2000</td>\n",
       "      <td>P &amp; W</td>\n",
       "      <td>PW2037</td>\n",
       "      <td>BOEING</td>\n",
       "      <td>757-232</td>\n",
       "      <td>40.788333</td>\n",
       "      <td>-111.977778</td>\n",
       "      <td>38.851389</td>\n",
       "      <td>-77.037778</td>\n",
       "      <td>False</td>\n",
       "    </tr>\n",
       "  </tbody>\n",
       "</table>\n",
       "<p>14578838 rows × 17 columns</p>\n",
       "</div>"
      ],
      "text/plain": [
       "          Month  DayOfWeek Reporting_Airline Tail_Number CRSDepTime  \\\n",
       "17400315      1          3                B6       516JB       0700   \n",
       "17400316      1          3                B6       565JB       1127   \n",
       "17400317      1          3                B6       507JB       1311   \n",
       "17400320      1          3                B6       258JB       0920   \n",
       "17400323      1          3                B6       594JB       1934   \n",
       "...         ...        ...               ...         ...        ...   \n",
       "32288695     12          7                DL       346DN       0600   \n",
       "32288696     12          7                DL       697DL       1209   \n",
       "32288697     12          7                DL       697DL       0650   \n",
       "32288698     12          7                DL       6714Q       1639   \n",
       "32288699     12          7                DL       6714Q       0935   \n",
       "\n",
       "         CRSArrTime DistanceGroup YEAR MFR engine_manufacturer   engine_model  \\\n",
       "17400315       0958             4     2000          IAE         V2500SERIES     \n",
       "17400316       1411             4     2003          IAE         V2500SERIES     \n",
       "17400317       1419             1     1979          LYCOMING    TI0-540 SER     \n",
       "17400320       1102             2     2006          GE          CF34-10E6       \n",
       "17400323       2225             5     2004          IAE         V2500SERIES     \n",
       "...             ...           ...      ...                 ...            ...   \n",
       "32288695       0802             4     2018          CFM INTL    CFM56-5B3/3     \n",
       "32288696       1438             6     1999          P & W       PW2037          \n",
       "32288697       1110             6     1999          P & W       PW2037          \n",
       "32288698       1932             8     2000          P & W       PW2037          \n",
       "32288699       1539             8     2000          P & W       PW2037          \n",
       "\n",
       "                   aircraft_manufacturer        aircraft_model  \\\n",
       "17400315  AIRBUS INDUSTRIE                A320-232               \n",
       "17400316  AIRBUS                          A320-232               \n",
       "17400317  PIPER                           PA-23-250              \n",
       "17400320  EMBRAER                         ERJ 190-100 IGW        \n",
       "17400323  AIRBUS                          A320-232               \n",
       "...                                  ...                   ...   \n",
       "32288695  AIRBUS                          A321-211               \n",
       "32288696  BOEING                          757-232                \n",
       "32288697  BOEING                          757-232                \n",
       "32288698  BOEING                          757-232                \n",
       "32288699  BOEING                          757-232                \n",
       "\n",
       "          Origin_LATITUDE  Origin_LONGITUDE  Dest_LATITUDE  Dest_LONGITUDE  \\\n",
       "17400315        39.871944        -75.240556      26.071667      -80.149722   \n",
       "17400316        26.071667        -80.149722      39.871944      -75.240556   \n",
       "17400317        33.818056       -118.151944      36.080000     -115.152222   \n",
       "17400320        42.363056        -71.006389      38.851389      -77.037778   \n",
       "17400323        27.975556        -82.533333      42.363056      -71.006389   \n",
       "...                   ...               ...            ...             ...   \n",
       "32288695        33.636667        -84.427778      40.777222      -73.872500   \n",
       "32288696        28.429444        -81.308889      44.881944      -93.221667   \n",
       "32288697        44.881944        -93.221667      28.429444      -81.308889   \n",
       "32288698        38.851389        -77.037778      40.788333     -111.977778   \n",
       "32288699        40.788333       -111.977778      38.851389      -77.037778   \n",
       "\n",
       "          delayed  \n",
       "17400315    False  \n",
       "17400316     True  \n",
       "17400317    False  \n",
       "17400320     True  \n",
       "17400323     True  \n",
       "...           ...  \n",
       "32288695    False  \n",
       "32288696     True  \n",
       "32288697     True  \n",
       "32288698    False  \n",
       "32288699    False  \n",
       "\n",
       "[14578838 rows x 17 columns]"
      ]
     },
     "execution_count": 21,
     "metadata": {},
     "output_type": "execute_result"
    }
   ],
   "source": [
    "df_features = df_features.rename(\n",
    "    columns={\n",
    "        \"MFR\": \"engine_manufacturer\",\n",
    "        \"MODEL\": \"engine_model\",\n",
    "        \"MFR_aircraft\": \"aircraft_manufacturer\",\n",
    "        \"MODEL_aircraft\": \"aircraft_model\",\n",
    "    }\n",
    ")\n",
    "\n",
    "df_features"
   ]
  },
  {
   "cell_type": "code",
   "execution_count": 22,
   "metadata": {},
   "outputs": [
    {
     "name": "stdout",
     "output_type": "stream",
     "text": [
      "Elapsed time: 11.7739 seconds\n"
     ]
    }
   ],
   "source": [
    "start_time = time.time()\n",
    "df_features.to_parquet(f\"{SCRATCH_DIR}/predictive_features_18_19.parquet\")\n",
    "end_time = time.time()\n",
    "\n",
    "print(f\"Elapsed time: {(end_time - start_time):.4f} seconds\")"
   ]
  },
  {
   "cell_type": "code",
   "execution_count": 49,
   "metadata": {},
   "outputs": [
    {
     "data": {
      "text/html": [
       "<div>\n",
       "<style scoped>\n",
       "    .dataframe tbody tr th:only-of-type {\n",
       "        vertical-align: middle;\n",
       "    }\n",
       "\n",
       "    .dataframe tbody tr th {\n",
       "        vertical-align: top;\n",
       "    }\n",
       "\n",
       "    .dataframe thead th {\n",
       "        text-align: right;\n",
       "    }\n",
       "</style>\n",
       "<table border=\"1\" class=\"dataframe\">\n",
       "  <thead>\n",
       "    <tr style=\"text-align: right;\">\n",
       "      <th></th>\n",
       "      <th>delayed</th>\n",
       "      <th>count</th>\n",
       "      <th>type</th>\n",
       "    </tr>\n",
       "  </thead>\n",
       "  <tbody>\n",
       "    <tr>\n",
       "      <th>0</th>\n",
       "      <td>False</td>\n",
       "      <td>11265828</td>\n",
       "      <td>On Time</td>\n",
       "    </tr>\n",
       "    <tr>\n",
       "      <th>1</th>\n",
       "      <td>True</td>\n",
       "      <td>530101</td>\n",
       "      <td>Departure</td>\n",
       "    </tr>\n",
       "    <tr>\n",
       "      <th>2</th>\n",
       "      <td>True</td>\n",
       "      <td>2163405</td>\n",
       "      <td>Both Dep/Arr</td>\n",
       "    </tr>\n",
       "    <tr>\n",
       "      <th>3</th>\n",
       "      <td>True</td>\n",
       "      <td>619504</td>\n",
       "      <td>Arrival</td>\n",
       "    </tr>\n",
       "  </tbody>\n",
       "</table>\n",
       "</div>"
      ],
      "text/plain": [
       "   delayed     count          type\n",
       "0    False  11265828       On Time\n",
       "1     True    530101     Departure\n",
       "2     True   2163405  Both Dep/Arr\n",
       "3     True    619504       Arrival"
      ]
     },
     "execution_count": 49,
     "metadata": {},
     "output_type": "execute_result"
    }
   ],
   "source": [
    "dep_delayed = df['DepDel15'].eq(1)\n",
    "arr_delayed = df['ArrDel15'].eq(1)\n",
    "\n",
    "only_dep_delayed = (dep_delayed & ~arr_delayed).sum()\n",
    "only_arr_delayed = (arr_delayed & ~dep_delayed).sum()\n",
    "both_delayed = (dep_delayed & arr_delayed).sum()\n",
    "neither_delayed = (~dep_delayed & ~arr_delayed).sum()\n",
    "\n",
    "\n",
    "delays = pd.DataFrame({\n",
    "    \"delayed\": [False, True, True, True],\n",
    "    \"count\": [neither_delayed, only_dep_delayed, both_delayed, only_arr_delayed],\n",
    "    \"type\": [\"On Time\", \"Departure\", \"Both Dep/Arr\", \"Arrival\"]\n",
    "})\n",
    "\n",
    "delays"
   ]
  },
  {
   "cell_type": "code",
   "execution_count": 48,
   "metadata": {},
   "outputs": [
    {
     "data": {
      "application/vnd.plotly.v1+json": {
       "config": {
        "plotlyServerURL": "https://plot.ly"
       },
       "data": [
        {
         "alignmentgroup": "True",
         "hovertemplate": "type=On Time<br>delayed=%{x}<br>count=%{y}<extra></extra>",
         "legendgroup": "On Time",
         "marker": {
          "color": "#636efa",
          "pattern": {
           "shape": ""
          }
         },
         "name": "On Time",
         "offsetgroup": "On Time",
         "orientation": "v",
         "showlegend": true,
         "textposition": "auto",
         "type": "bar",
         "x": [
          false
         ],
         "xaxis": "x",
         "y": [
          11265828
         ],
         "yaxis": "y"
        },
        {
         "alignmentgroup": "True",
         "hovertemplate": "type=Departure<br>delayed=%{x}<br>count=%{y}<extra></extra>",
         "legendgroup": "Departure",
         "marker": {
          "color": "#EF553B",
          "pattern": {
           "shape": ""
          }
         },
         "name": "Departure",
         "offsetgroup": "Departure",
         "orientation": "v",
         "showlegend": true,
         "textposition": "auto",
         "type": "bar",
         "x": [
          true
         ],
         "xaxis": "x",
         "y": [
          530101
         ],
         "yaxis": "y"
        },
        {
         "alignmentgroup": "True",
         "hovertemplate": "type=Both Dep/Arr<br>delayed=%{x}<br>count=%{y}<extra></extra>",
         "legendgroup": "Both Dep/Arr",
         "marker": {
          "color": "#00cc96",
          "pattern": {
           "shape": ""
          }
         },
         "name": "Both Dep/Arr",
         "offsetgroup": "Both Dep/Arr",
         "orientation": "v",
         "showlegend": true,
         "textposition": "auto",
         "type": "bar",
         "x": [
          true
         ],
         "xaxis": "x",
         "y": [
          2163405
         ],
         "yaxis": "y"
        },
        {
         "alignmentgroup": "True",
         "hovertemplate": "type=Arrival<br>delayed=%{x}<br>count=%{y}<extra></extra>",
         "legendgroup": "Arrival",
         "marker": {
          "color": "#ab63fa",
          "pattern": {
           "shape": ""
          }
         },
         "name": "Arrival",
         "offsetgroup": "Arrival",
         "orientation": "v",
         "showlegend": true,
         "textposition": "auto",
         "type": "bar",
         "x": [
          true
         ],
         "xaxis": "x",
         "y": [
          619504
         ],
         "yaxis": "y"
        }
       ],
       "layout": {
        "barmode": "relative",
        "legend": {
         "title": {
          "text": "type"
         },
         "tracegroupgap": 0
        },
        "template": {
         "data": {
          "bar": [
           {
            "error_x": {
             "color": "#2a3f5f"
            },
            "error_y": {
             "color": "#2a3f5f"
            },
            "marker": {
             "line": {
              "color": "#E5ECF6",
              "width": 0.5
             },
             "pattern": {
              "fillmode": "overlay",
              "size": 10,
              "solidity": 0.2
             }
            },
            "type": "bar"
           }
          ],
          "barpolar": [
           {
            "marker": {
             "line": {
              "color": "#E5ECF6",
              "width": 0.5
             },
             "pattern": {
              "fillmode": "overlay",
              "size": 10,
              "solidity": 0.2
             }
            },
            "type": "barpolar"
           }
          ],
          "carpet": [
           {
            "aaxis": {
             "endlinecolor": "#2a3f5f",
             "gridcolor": "white",
             "linecolor": "white",
             "minorgridcolor": "white",
             "startlinecolor": "#2a3f5f"
            },
            "baxis": {
             "endlinecolor": "#2a3f5f",
             "gridcolor": "white",
             "linecolor": "white",
             "minorgridcolor": "white",
             "startlinecolor": "#2a3f5f"
            },
            "type": "carpet"
           }
          ],
          "choropleth": [
           {
            "colorbar": {
             "outlinewidth": 0,
             "ticks": ""
            },
            "type": "choropleth"
           }
          ],
          "contour": [
           {
            "colorbar": {
             "outlinewidth": 0,
             "ticks": ""
            },
            "colorscale": [
             [
              0,
              "#0d0887"
             ],
             [
              0.1111111111111111,
              "#46039f"
             ],
             [
              0.2222222222222222,
              "#7201a8"
             ],
             [
              0.3333333333333333,
              "#9c179e"
             ],
             [
              0.4444444444444444,
              "#bd3786"
             ],
             [
              0.5555555555555556,
              "#d8576b"
             ],
             [
              0.6666666666666666,
              "#ed7953"
             ],
             [
              0.7777777777777778,
              "#fb9f3a"
             ],
             [
              0.8888888888888888,
              "#fdca26"
             ],
             [
              1,
              "#f0f921"
             ]
            ],
            "type": "contour"
           }
          ],
          "contourcarpet": [
           {
            "colorbar": {
             "outlinewidth": 0,
             "ticks": ""
            },
            "type": "contourcarpet"
           }
          ],
          "heatmap": [
           {
            "colorbar": {
             "outlinewidth": 0,
             "ticks": ""
            },
            "colorscale": [
             [
              0,
              "#0d0887"
             ],
             [
              0.1111111111111111,
              "#46039f"
             ],
             [
              0.2222222222222222,
              "#7201a8"
             ],
             [
              0.3333333333333333,
              "#9c179e"
             ],
             [
              0.4444444444444444,
              "#bd3786"
             ],
             [
              0.5555555555555556,
              "#d8576b"
             ],
             [
              0.6666666666666666,
              "#ed7953"
             ],
             [
              0.7777777777777778,
              "#fb9f3a"
             ],
             [
              0.8888888888888888,
              "#fdca26"
             ],
             [
              1,
              "#f0f921"
             ]
            ],
            "type": "heatmap"
           }
          ],
          "heatmapgl": [
           {
            "colorbar": {
             "outlinewidth": 0,
             "ticks": ""
            },
            "colorscale": [
             [
              0,
              "#0d0887"
             ],
             [
              0.1111111111111111,
              "#46039f"
             ],
             [
              0.2222222222222222,
              "#7201a8"
             ],
             [
              0.3333333333333333,
              "#9c179e"
             ],
             [
              0.4444444444444444,
              "#bd3786"
             ],
             [
              0.5555555555555556,
              "#d8576b"
             ],
             [
              0.6666666666666666,
              "#ed7953"
             ],
             [
              0.7777777777777778,
              "#fb9f3a"
             ],
             [
              0.8888888888888888,
              "#fdca26"
             ],
             [
              1,
              "#f0f921"
             ]
            ],
            "type": "heatmapgl"
           }
          ],
          "histogram": [
           {
            "marker": {
             "pattern": {
              "fillmode": "overlay",
              "size": 10,
              "solidity": 0.2
             }
            },
            "type": "histogram"
           }
          ],
          "histogram2d": [
           {
            "colorbar": {
             "outlinewidth": 0,
             "ticks": ""
            },
            "colorscale": [
             [
              0,
              "#0d0887"
             ],
             [
              0.1111111111111111,
              "#46039f"
             ],
             [
              0.2222222222222222,
              "#7201a8"
             ],
             [
              0.3333333333333333,
              "#9c179e"
             ],
             [
              0.4444444444444444,
              "#bd3786"
             ],
             [
              0.5555555555555556,
              "#d8576b"
             ],
             [
              0.6666666666666666,
              "#ed7953"
             ],
             [
              0.7777777777777778,
              "#fb9f3a"
             ],
             [
              0.8888888888888888,
              "#fdca26"
             ],
             [
              1,
              "#f0f921"
             ]
            ],
            "type": "histogram2d"
           }
          ],
          "histogram2dcontour": [
           {
            "colorbar": {
             "outlinewidth": 0,
             "ticks": ""
            },
            "colorscale": [
             [
              0,
              "#0d0887"
             ],
             [
              0.1111111111111111,
              "#46039f"
             ],
             [
              0.2222222222222222,
              "#7201a8"
             ],
             [
              0.3333333333333333,
              "#9c179e"
             ],
             [
              0.4444444444444444,
              "#bd3786"
             ],
             [
              0.5555555555555556,
              "#d8576b"
             ],
             [
              0.6666666666666666,
              "#ed7953"
             ],
             [
              0.7777777777777778,
              "#fb9f3a"
             ],
             [
              0.8888888888888888,
              "#fdca26"
             ],
             [
              1,
              "#f0f921"
             ]
            ],
            "type": "histogram2dcontour"
           }
          ],
          "mesh3d": [
           {
            "colorbar": {
             "outlinewidth": 0,
             "ticks": ""
            },
            "type": "mesh3d"
           }
          ],
          "parcoords": [
           {
            "line": {
             "colorbar": {
              "outlinewidth": 0,
              "ticks": ""
             }
            },
            "type": "parcoords"
           }
          ],
          "pie": [
           {
            "automargin": true,
            "type": "pie"
           }
          ],
          "scatter": [
           {
            "fillpattern": {
             "fillmode": "overlay",
             "size": 10,
             "solidity": 0.2
            },
            "type": "scatter"
           }
          ],
          "scatter3d": [
           {
            "line": {
             "colorbar": {
              "outlinewidth": 0,
              "ticks": ""
             }
            },
            "marker": {
             "colorbar": {
              "outlinewidth": 0,
              "ticks": ""
             }
            },
            "type": "scatter3d"
           }
          ],
          "scattercarpet": [
           {
            "marker": {
             "colorbar": {
              "outlinewidth": 0,
              "ticks": ""
             }
            },
            "type": "scattercarpet"
           }
          ],
          "scattergeo": [
           {
            "marker": {
             "colorbar": {
              "outlinewidth": 0,
              "ticks": ""
             }
            },
            "type": "scattergeo"
           }
          ],
          "scattergl": [
           {
            "marker": {
             "colorbar": {
              "outlinewidth": 0,
              "ticks": ""
             }
            },
            "type": "scattergl"
           }
          ],
          "scattermapbox": [
           {
            "marker": {
             "colorbar": {
              "outlinewidth": 0,
              "ticks": ""
             }
            },
            "type": "scattermapbox"
           }
          ],
          "scatterpolar": [
           {
            "marker": {
             "colorbar": {
              "outlinewidth": 0,
              "ticks": ""
             }
            },
            "type": "scatterpolar"
           }
          ],
          "scatterpolargl": [
           {
            "marker": {
             "colorbar": {
              "outlinewidth": 0,
              "ticks": ""
             }
            },
            "type": "scatterpolargl"
           }
          ],
          "scatterternary": [
           {
            "marker": {
             "colorbar": {
              "outlinewidth": 0,
              "ticks": ""
             }
            },
            "type": "scatterternary"
           }
          ],
          "surface": [
           {
            "colorbar": {
             "outlinewidth": 0,
             "ticks": ""
            },
            "colorscale": [
             [
              0,
              "#0d0887"
             ],
             [
              0.1111111111111111,
              "#46039f"
             ],
             [
              0.2222222222222222,
              "#7201a8"
             ],
             [
              0.3333333333333333,
              "#9c179e"
             ],
             [
              0.4444444444444444,
              "#bd3786"
             ],
             [
              0.5555555555555556,
              "#d8576b"
             ],
             [
              0.6666666666666666,
              "#ed7953"
             ],
             [
              0.7777777777777778,
              "#fb9f3a"
             ],
             [
              0.8888888888888888,
              "#fdca26"
             ],
             [
              1,
              "#f0f921"
             ]
            ],
            "type": "surface"
           }
          ],
          "table": [
           {
            "cells": {
             "fill": {
              "color": "#EBF0F8"
             },
             "line": {
              "color": "white"
             }
            },
            "header": {
             "fill": {
              "color": "#C8D4E3"
             },
             "line": {
              "color": "white"
             }
            },
            "type": "table"
           }
          ]
         },
         "layout": {
          "annotationdefaults": {
           "arrowcolor": "#2a3f5f",
           "arrowhead": 0,
           "arrowwidth": 1
          },
          "autotypenumbers": "strict",
          "coloraxis": {
           "colorbar": {
            "outlinewidth": 0,
            "ticks": ""
           }
          },
          "colorscale": {
           "diverging": [
            [
             0,
             "#8e0152"
            ],
            [
             0.1,
             "#c51b7d"
            ],
            [
             0.2,
             "#de77ae"
            ],
            [
             0.3,
             "#f1b6da"
            ],
            [
             0.4,
             "#fde0ef"
            ],
            [
             0.5,
             "#f7f7f7"
            ],
            [
             0.6,
             "#e6f5d0"
            ],
            [
             0.7,
             "#b8e186"
            ],
            [
             0.8,
             "#7fbc41"
            ],
            [
             0.9,
             "#4d9221"
            ],
            [
             1,
             "#276419"
            ]
           ],
           "sequential": [
            [
             0,
             "#0d0887"
            ],
            [
             0.1111111111111111,
             "#46039f"
            ],
            [
             0.2222222222222222,
             "#7201a8"
            ],
            [
             0.3333333333333333,
             "#9c179e"
            ],
            [
             0.4444444444444444,
             "#bd3786"
            ],
            [
             0.5555555555555556,
             "#d8576b"
            ],
            [
             0.6666666666666666,
             "#ed7953"
            ],
            [
             0.7777777777777778,
             "#fb9f3a"
            ],
            [
             0.8888888888888888,
             "#fdca26"
            ],
            [
             1,
             "#f0f921"
            ]
           ],
           "sequentialminus": [
            [
             0,
             "#0d0887"
            ],
            [
             0.1111111111111111,
             "#46039f"
            ],
            [
             0.2222222222222222,
             "#7201a8"
            ],
            [
             0.3333333333333333,
             "#9c179e"
            ],
            [
             0.4444444444444444,
             "#bd3786"
            ],
            [
             0.5555555555555556,
             "#d8576b"
            ],
            [
             0.6666666666666666,
             "#ed7953"
            ],
            [
             0.7777777777777778,
             "#fb9f3a"
            ],
            [
             0.8888888888888888,
             "#fdca26"
            ],
            [
             1,
             "#f0f921"
            ]
           ]
          },
          "colorway": [
           "#636efa",
           "#EF553B",
           "#00cc96",
           "#ab63fa",
           "#FFA15A",
           "#19d3f3",
           "#FF6692",
           "#B6E880",
           "#FF97FF",
           "#FECB52"
          ],
          "font": {
           "color": "#2a3f5f"
          },
          "geo": {
           "bgcolor": "white",
           "lakecolor": "white",
           "landcolor": "#E5ECF6",
           "showlakes": true,
           "showland": true,
           "subunitcolor": "white"
          },
          "hoverlabel": {
           "align": "left"
          },
          "hovermode": "closest",
          "mapbox": {
           "style": "light"
          },
          "paper_bgcolor": "white",
          "plot_bgcolor": "#E5ECF6",
          "polar": {
           "angularaxis": {
            "gridcolor": "white",
            "linecolor": "white",
            "ticks": ""
           },
           "bgcolor": "#E5ECF6",
           "radialaxis": {
            "gridcolor": "white",
            "linecolor": "white",
            "ticks": ""
           }
          },
          "scene": {
           "xaxis": {
            "backgroundcolor": "#E5ECF6",
            "gridcolor": "white",
            "gridwidth": 2,
            "linecolor": "white",
            "showbackground": true,
            "ticks": "",
            "zerolinecolor": "white"
           },
           "yaxis": {
            "backgroundcolor": "#E5ECF6",
            "gridcolor": "white",
            "gridwidth": 2,
            "linecolor": "white",
            "showbackground": true,
            "ticks": "",
            "zerolinecolor": "white"
           },
           "zaxis": {
            "backgroundcolor": "#E5ECF6",
            "gridcolor": "white",
            "gridwidth": 2,
            "linecolor": "white",
            "showbackground": true,
            "ticks": "",
            "zerolinecolor": "white"
           }
          },
          "shapedefaults": {
           "line": {
            "color": "#2a3f5f"
           }
          },
          "ternary": {
           "aaxis": {
            "gridcolor": "white",
            "linecolor": "white",
            "ticks": ""
           },
           "baxis": {
            "gridcolor": "white",
            "linecolor": "white",
            "ticks": ""
           },
           "bgcolor": "#E5ECF6",
           "caxis": {
            "gridcolor": "white",
            "linecolor": "white",
            "ticks": ""
           }
          },
          "title": {
           "x": 0.05
          },
          "xaxis": {
           "automargin": true,
           "gridcolor": "white",
           "linecolor": "white",
           "ticks": "",
           "title": {
            "standoff": 15
           },
           "zerolinecolor": "white",
           "zerolinewidth": 2
          },
          "yaxis": {
           "automargin": true,
           "gridcolor": "white",
           "linecolor": "white",
           "ticks": "",
           "title": {
            "standoff": 15
           },
           "zerolinecolor": "white",
           "zerolinewidth": 2
          }
         }
        },
        "title": {
         "text": "Delays by Type"
        },
        "xaxis": {
         "anchor": "y",
         "domain": [
          0,
          1
         ],
         "title": {
          "text": "delayed"
         }
        },
        "yaxis": {
         "anchor": "x",
         "domain": [
          0,
          1
         ],
         "title": {
          "text": "count"
         }
        }
       }
      },
      "text/html": [
       "<div>                            <div id=\"40673dd1-12a9-475e-b803-190dc85873f2\" class=\"plotly-graph-div\" style=\"height:525px; width:100%;\"></div>            <script type=\"text/javascript\">                require([\"plotly\"], function(Plotly) {                    window.PLOTLYENV=window.PLOTLYENV || {};                                    if (document.getElementById(\"40673dd1-12a9-475e-b803-190dc85873f2\")) {                    Plotly.newPlot(                        \"40673dd1-12a9-475e-b803-190dc85873f2\",                        [{\"alignmentgroup\":\"True\",\"hovertemplate\":\"type=On Time<br>delayed=%{x}<br>count=%{y}<extra></extra>\",\"legendgroup\":\"On Time\",\"marker\":{\"color\":\"#636efa\",\"pattern\":{\"shape\":\"\"}},\"name\":\"On Time\",\"offsetgroup\":\"On Time\",\"orientation\":\"v\",\"showlegend\":true,\"textposition\":\"auto\",\"x\":[false],\"xaxis\":\"x\",\"y\":[11265828],\"yaxis\":\"y\",\"type\":\"bar\"},{\"alignmentgroup\":\"True\",\"hovertemplate\":\"type=Departure<br>delayed=%{x}<br>count=%{y}<extra></extra>\",\"legendgroup\":\"Departure\",\"marker\":{\"color\":\"#EF553B\",\"pattern\":{\"shape\":\"\"}},\"name\":\"Departure\",\"offsetgroup\":\"Departure\",\"orientation\":\"v\",\"showlegend\":true,\"textposition\":\"auto\",\"x\":[true],\"xaxis\":\"x\",\"y\":[530101],\"yaxis\":\"y\",\"type\":\"bar\"},{\"alignmentgroup\":\"True\",\"hovertemplate\":\"type=Both Dep/Arr<br>delayed=%{x}<br>count=%{y}<extra></extra>\",\"legendgroup\":\"Both Dep/Arr\",\"marker\":{\"color\":\"#00cc96\",\"pattern\":{\"shape\":\"\"}},\"name\":\"Both Dep/Arr\",\"offsetgroup\":\"Both Dep/Arr\",\"orientation\":\"v\",\"showlegend\":true,\"textposition\":\"auto\",\"x\":[true],\"xaxis\":\"x\",\"y\":[2163405],\"yaxis\":\"y\",\"type\":\"bar\"},{\"alignmentgroup\":\"True\",\"hovertemplate\":\"type=Arrival<br>delayed=%{x}<br>count=%{y}<extra></extra>\",\"legendgroup\":\"Arrival\",\"marker\":{\"color\":\"#ab63fa\",\"pattern\":{\"shape\":\"\"}},\"name\":\"Arrival\",\"offsetgroup\":\"Arrival\",\"orientation\":\"v\",\"showlegend\":true,\"textposition\":\"auto\",\"x\":[true],\"xaxis\":\"x\",\"y\":[619504],\"yaxis\":\"y\",\"type\":\"bar\"}],                        {\"template\":{\"data\":{\"histogram2dcontour\":[{\"type\":\"histogram2dcontour\",\"colorbar\":{\"outlinewidth\":0,\"ticks\":\"\"},\"colorscale\":[[0.0,\"#0d0887\"],[0.1111111111111111,\"#46039f\"],[0.2222222222222222,\"#7201a8\"],[0.3333333333333333,\"#9c179e\"],[0.4444444444444444,\"#bd3786\"],[0.5555555555555556,\"#d8576b\"],[0.6666666666666666,\"#ed7953\"],[0.7777777777777778,\"#fb9f3a\"],[0.8888888888888888,\"#fdca26\"],[1.0,\"#f0f921\"]]}],\"choropleth\":[{\"type\":\"choropleth\",\"colorbar\":{\"outlinewidth\":0,\"ticks\":\"\"}}],\"histogram2d\":[{\"type\":\"histogram2d\",\"colorbar\":{\"outlinewidth\":0,\"ticks\":\"\"},\"colorscale\":[[0.0,\"#0d0887\"],[0.1111111111111111,\"#46039f\"],[0.2222222222222222,\"#7201a8\"],[0.3333333333333333,\"#9c179e\"],[0.4444444444444444,\"#bd3786\"],[0.5555555555555556,\"#d8576b\"],[0.6666666666666666,\"#ed7953\"],[0.7777777777777778,\"#fb9f3a\"],[0.8888888888888888,\"#fdca26\"],[1.0,\"#f0f921\"]]}],\"heatmap\":[{\"type\":\"heatmap\",\"colorbar\":{\"outlinewidth\":0,\"ticks\":\"\"},\"colorscale\":[[0.0,\"#0d0887\"],[0.1111111111111111,\"#46039f\"],[0.2222222222222222,\"#7201a8\"],[0.3333333333333333,\"#9c179e\"],[0.4444444444444444,\"#bd3786\"],[0.5555555555555556,\"#d8576b\"],[0.6666666666666666,\"#ed7953\"],[0.7777777777777778,\"#fb9f3a\"],[0.8888888888888888,\"#fdca26\"],[1.0,\"#f0f921\"]]}],\"heatmapgl\":[{\"type\":\"heatmapgl\",\"colorbar\":{\"outlinewidth\":0,\"ticks\":\"\"},\"colorscale\":[[0.0,\"#0d0887\"],[0.1111111111111111,\"#46039f\"],[0.2222222222222222,\"#7201a8\"],[0.3333333333333333,\"#9c179e\"],[0.4444444444444444,\"#bd3786\"],[0.5555555555555556,\"#d8576b\"],[0.6666666666666666,\"#ed7953\"],[0.7777777777777778,\"#fb9f3a\"],[0.8888888888888888,\"#fdca26\"],[1.0,\"#f0f921\"]]}],\"contourcarpet\":[{\"type\":\"contourcarpet\",\"colorbar\":{\"outlinewidth\":0,\"ticks\":\"\"}}],\"contour\":[{\"type\":\"contour\",\"colorbar\":{\"outlinewidth\":0,\"ticks\":\"\"},\"colorscale\":[[0.0,\"#0d0887\"],[0.1111111111111111,\"#46039f\"],[0.2222222222222222,\"#7201a8\"],[0.3333333333333333,\"#9c179e\"],[0.4444444444444444,\"#bd3786\"],[0.5555555555555556,\"#d8576b\"],[0.6666666666666666,\"#ed7953\"],[0.7777777777777778,\"#fb9f3a\"],[0.8888888888888888,\"#fdca26\"],[1.0,\"#f0f921\"]]}],\"surface\":[{\"type\":\"surface\",\"colorbar\":{\"outlinewidth\":0,\"ticks\":\"\"},\"colorscale\":[[0.0,\"#0d0887\"],[0.1111111111111111,\"#46039f\"],[0.2222222222222222,\"#7201a8\"],[0.3333333333333333,\"#9c179e\"],[0.4444444444444444,\"#bd3786\"],[0.5555555555555556,\"#d8576b\"],[0.6666666666666666,\"#ed7953\"],[0.7777777777777778,\"#fb9f3a\"],[0.8888888888888888,\"#fdca26\"],[1.0,\"#f0f921\"]]}],\"mesh3d\":[{\"type\":\"mesh3d\",\"colorbar\":{\"outlinewidth\":0,\"ticks\":\"\"}}],\"scatter\":[{\"fillpattern\":{\"fillmode\":\"overlay\",\"size\":10,\"solidity\":0.2},\"type\":\"scatter\"}],\"parcoords\":[{\"type\":\"parcoords\",\"line\":{\"colorbar\":{\"outlinewidth\":0,\"ticks\":\"\"}}}],\"scatterpolargl\":[{\"type\":\"scatterpolargl\",\"marker\":{\"colorbar\":{\"outlinewidth\":0,\"ticks\":\"\"}}}],\"bar\":[{\"error_x\":{\"color\":\"#2a3f5f\"},\"error_y\":{\"color\":\"#2a3f5f\"},\"marker\":{\"line\":{\"color\":\"#E5ECF6\",\"width\":0.5},\"pattern\":{\"fillmode\":\"overlay\",\"size\":10,\"solidity\":0.2}},\"type\":\"bar\"}],\"scattergeo\":[{\"type\":\"scattergeo\",\"marker\":{\"colorbar\":{\"outlinewidth\":0,\"ticks\":\"\"}}}],\"scatterpolar\":[{\"type\":\"scatterpolar\",\"marker\":{\"colorbar\":{\"outlinewidth\":0,\"ticks\":\"\"}}}],\"histogram\":[{\"marker\":{\"pattern\":{\"fillmode\":\"overlay\",\"size\":10,\"solidity\":0.2}},\"type\":\"histogram\"}],\"scattergl\":[{\"type\":\"scattergl\",\"marker\":{\"colorbar\":{\"outlinewidth\":0,\"ticks\":\"\"}}}],\"scatter3d\":[{\"type\":\"scatter3d\",\"line\":{\"colorbar\":{\"outlinewidth\":0,\"ticks\":\"\"}},\"marker\":{\"colorbar\":{\"outlinewidth\":0,\"ticks\":\"\"}}}],\"scattermapbox\":[{\"type\":\"scattermapbox\",\"marker\":{\"colorbar\":{\"outlinewidth\":0,\"ticks\":\"\"}}}],\"scatterternary\":[{\"type\":\"scatterternary\",\"marker\":{\"colorbar\":{\"outlinewidth\":0,\"ticks\":\"\"}}}],\"scattercarpet\":[{\"type\":\"scattercarpet\",\"marker\":{\"colorbar\":{\"outlinewidth\":0,\"ticks\":\"\"}}}],\"carpet\":[{\"aaxis\":{\"endlinecolor\":\"#2a3f5f\",\"gridcolor\":\"white\",\"linecolor\":\"white\",\"minorgridcolor\":\"white\",\"startlinecolor\":\"#2a3f5f\"},\"baxis\":{\"endlinecolor\":\"#2a3f5f\",\"gridcolor\":\"white\",\"linecolor\":\"white\",\"minorgridcolor\":\"white\",\"startlinecolor\":\"#2a3f5f\"},\"type\":\"carpet\"}],\"table\":[{\"cells\":{\"fill\":{\"color\":\"#EBF0F8\"},\"line\":{\"color\":\"white\"}},\"header\":{\"fill\":{\"color\":\"#C8D4E3\"},\"line\":{\"color\":\"white\"}},\"type\":\"table\"}],\"barpolar\":[{\"marker\":{\"line\":{\"color\":\"#E5ECF6\",\"width\":0.5},\"pattern\":{\"fillmode\":\"overlay\",\"size\":10,\"solidity\":0.2}},\"type\":\"barpolar\"}],\"pie\":[{\"automargin\":true,\"type\":\"pie\"}]},\"layout\":{\"autotypenumbers\":\"strict\",\"colorway\":[\"#636efa\",\"#EF553B\",\"#00cc96\",\"#ab63fa\",\"#FFA15A\",\"#19d3f3\",\"#FF6692\",\"#B6E880\",\"#FF97FF\",\"#FECB52\"],\"font\":{\"color\":\"#2a3f5f\"},\"hovermode\":\"closest\",\"hoverlabel\":{\"align\":\"left\"},\"paper_bgcolor\":\"white\",\"plot_bgcolor\":\"#E5ECF6\",\"polar\":{\"bgcolor\":\"#E5ECF6\",\"angularaxis\":{\"gridcolor\":\"white\",\"linecolor\":\"white\",\"ticks\":\"\"},\"radialaxis\":{\"gridcolor\":\"white\",\"linecolor\":\"white\",\"ticks\":\"\"}},\"ternary\":{\"bgcolor\":\"#E5ECF6\",\"aaxis\":{\"gridcolor\":\"white\",\"linecolor\":\"white\",\"ticks\":\"\"},\"baxis\":{\"gridcolor\":\"white\",\"linecolor\":\"white\",\"ticks\":\"\"},\"caxis\":{\"gridcolor\":\"white\",\"linecolor\":\"white\",\"ticks\":\"\"}},\"coloraxis\":{\"colorbar\":{\"outlinewidth\":0,\"ticks\":\"\"}},\"colorscale\":{\"sequential\":[[0.0,\"#0d0887\"],[0.1111111111111111,\"#46039f\"],[0.2222222222222222,\"#7201a8\"],[0.3333333333333333,\"#9c179e\"],[0.4444444444444444,\"#bd3786\"],[0.5555555555555556,\"#d8576b\"],[0.6666666666666666,\"#ed7953\"],[0.7777777777777778,\"#fb9f3a\"],[0.8888888888888888,\"#fdca26\"],[1.0,\"#f0f921\"]],\"sequentialminus\":[[0.0,\"#0d0887\"],[0.1111111111111111,\"#46039f\"],[0.2222222222222222,\"#7201a8\"],[0.3333333333333333,\"#9c179e\"],[0.4444444444444444,\"#bd3786\"],[0.5555555555555556,\"#d8576b\"],[0.6666666666666666,\"#ed7953\"],[0.7777777777777778,\"#fb9f3a\"],[0.8888888888888888,\"#fdca26\"],[1.0,\"#f0f921\"]],\"diverging\":[[0,\"#8e0152\"],[0.1,\"#c51b7d\"],[0.2,\"#de77ae\"],[0.3,\"#f1b6da\"],[0.4,\"#fde0ef\"],[0.5,\"#f7f7f7\"],[0.6,\"#e6f5d0\"],[0.7,\"#b8e186\"],[0.8,\"#7fbc41\"],[0.9,\"#4d9221\"],[1,\"#276419\"]]},\"xaxis\":{\"gridcolor\":\"white\",\"linecolor\":\"white\",\"ticks\":\"\",\"title\":{\"standoff\":15},\"zerolinecolor\":\"white\",\"automargin\":true,\"zerolinewidth\":2},\"yaxis\":{\"gridcolor\":\"white\",\"linecolor\":\"white\",\"ticks\":\"\",\"title\":{\"standoff\":15},\"zerolinecolor\":\"white\",\"automargin\":true,\"zerolinewidth\":2},\"scene\":{\"xaxis\":{\"backgroundcolor\":\"#E5ECF6\",\"gridcolor\":\"white\",\"linecolor\":\"white\",\"showbackground\":true,\"ticks\":\"\",\"zerolinecolor\":\"white\",\"gridwidth\":2},\"yaxis\":{\"backgroundcolor\":\"#E5ECF6\",\"gridcolor\":\"white\",\"linecolor\":\"white\",\"showbackground\":true,\"ticks\":\"\",\"zerolinecolor\":\"white\",\"gridwidth\":2},\"zaxis\":{\"backgroundcolor\":\"#E5ECF6\",\"gridcolor\":\"white\",\"linecolor\":\"white\",\"showbackground\":true,\"ticks\":\"\",\"zerolinecolor\":\"white\",\"gridwidth\":2}},\"shapedefaults\":{\"line\":{\"color\":\"#2a3f5f\"}},\"annotationdefaults\":{\"arrowcolor\":\"#2a3f5f\",\"arrowhead\":0,\"arrowwidth\":1},\"geo\":{\"bgcolor\":\"white\",\"landcolor\":\"#E5ECF6\",\"subunitcolor\":\"white\",\"showland\":true,\"showlakes\":true,\"lakecolor\":\"white\"},\"title\":{\"x\":0.05},\"mapbox\":{\"style\":\"light\"}}},\"xaxis\":{\"anchor\":\"y\",\"domain\":[0.0,1.0],\"title\":{\"text\":\"delayed\"}},\"yaxis\":{\"anchor\":\"x\",\"domain\":[0.0,1.0],\"title\":{\"text\":\"count\"}},\"legend\":{\"title\":{\"text\":\"type\"},\"tracegroupgap\":0},\"title\":{\"text\":\"Delays by Type\"},\"barmode\":\"relative\"},                        {\"responsive\": true}                    ).then(function(){\n",
       "                            \n",
       "var gd = document.getElementById('40673dd1-12a9-475e-b803-190dc85873f2');\n",
       "var x = new MutationObserver(function (mutations, observer) {{\n",
       "        var display = window.getComputedStyle(gd).display;\n",
       "        if (!display || display === 'none') {{\n",
       "            console.log([gd, 'removed!']);\n",
       "            Plotly.purge(gd);\n",
       "            observer.disconnect();\n",
       "        }}\n",
       "}});\n",
       "\n",
       "// Listen for the removal of the full notebook cells\n",
       "var notebookContainer = gd.closest('#notebook-container');\n",
       "if (notebookContainer) {{\n",
       "    x.observe(notebookContainer, {childList: true});\n",
       "}}\n",
       "\n",
       "// Listen for the clearing of the current output cell\n",
       "var outputEl = gd.closest('.output');\n",
       "if (outputEl) {{\n",
       "    x.observe(outputEl, {childList: true});\n",
       "}}\n",
       "\n",
       "                        })                };                });            </script>        </div>"
      ]
     },
     "metadata": {},
     "output_type": "display_data"
    }
   ],
   "source": [
    "import plotly.express as px\n",
    "\n",
    "fig = px.bar(delays, x=\"delayed\", y=\"count\", color=\"type\", title=\"Delays by Type\")\n",
    "fig.show()"
   ]
  },
  {
   "cell_type": "code",
   "execution_count": 50,
   "metadata": {},
   "outputs": [
    {
     "data": {
      "text/html": [
       "<div>\n",
       "<style scoped>\n",
       "    .dataframe tbody tr th:only-of-type {\n",
       "        vertical-align: middle;\n",
       "    }\n",
       "\n",
       "    .dataframe tbody tr th {\n",
       "        vertical-align: top;\n",
       "    }\n",
       "\n",
       "    .dataframe thead th {\n",
       "        text-align: right;\n",
       "    }\n",
       "</style>\n",
       "<table border=\"1\" class=\"dataframe\">\n",
       "  <thead>\n",
       "    <tr style=\"text-align: right;\">\n",
       "      <th></th>\n",
       "      <th>delayed</th>\n",
       "      <th>count</th>\n",
       "      <th>type</th>\n",
       "      <th>percentage</th>\n",
       "    </tr>\n",
       "  </thead>\n",
       "  <tbody>\n",
       "    <tr>\n",
       "      <th>0</th>\n",
       "      <td>False</td>\n",
       "      <td>11265828</td>\n",
       "      <td>On Time</td>\n",
       "      <td>77.275212</td>\n",
       "    </tr>\n",
       "    <tr>\n",
       "      <th>1</th>\n",
       "      <td>True</td>\n",
       "      <td>530101</td>\n",
       "      <td>Departure</td>\n",
       "      <td>3.636099</td>\n",
       "    </tr>\n",
       "    <tr>\n",
       "      <th>2</th>\n",
       "      <td>True</td>\n",
       "      <td>2163405</td>\n",
       "      <td>Both Dep/Arr</td>\n",
       "      <td>14.839351</td>\n",
       "    </tr>\n",
       "    <tr>\n",
       "      <th>3</th>\n",
       "      <td>True</td>\n",
       "      <td>619504</td>\n",
       "      <td>Arrival</td>\n",
       "      <td>4.249337</td>\n",
       "    </tr>\n",
       "  </tbody>\n",
       "</table>\n",
       "</div>"
      ],
      "text/plain": [
       "   delayed     count          type  percentage\n",
       "0    False  11265828       On Time   77.275212\n",
       "1     True    530101     Departure    3.636099\n",
       "2     True   2163405  Both Dep/Arr   14.839351\n",
       "3     True    619504       Arrival    4.249337"
      ]
     },
     "execution_count": 50,
     "metadata": {},
     "output_type": "execute_result"
    }
   ],
   "source": [
    "total_count = delays['count'].sum()\n",
    "\n",
    "delays['percentage'] = (delays['count'] / total_count) * 100\n",
    "\n",
    "delays\n"
   ]
  },
  {
   "cell_type": "code",
   "execution_count": 51,
   "metadata": {},
   "outputs": [
    {
     "data": {
      "application/vnd.plotly.v1+json": {
       "config": {
        "plotlyServerURL": "https://plot.ly"
       },
       "data": [
        {
         "alignmentgroup": "True",
         "hovertemplate": "type=On Time<br>delayed=%{x}<br>percentage=%{y}<extra></extra>",
         "legendgroup": "On Time",
         "marker": {
          "color": "#636efa",
          "pattern": {
           "shape": ""
          }
         },
         "name": "On Time",
         "offsetgroup": "On Time",
         "orientation": "v",
         "showlegend": true,
         "textposition": "auto",
         "type": "bar",
         "x": [
          false
         ],
         "xaxis": "x",
         "y": [
          77.27521219455214
         ],
         "yaxis": "y"
        },
        {
         "alignmentgroup": "True",
         "hovertemplate": "type=Departure<br>delayed=%{x}<br>percentage=%{y}<extra></extra>",
         "legendgroup": "Departure",
         "marker": {
          "color": "#EF553B",
          "pattern": {
           "shape": ""
          }
         },
         "name": "Departure",
         "offsetgroup": "Departure",
         "orientation": "v",
         "showlegend": true,
         "textposition": "auto",
         "type": "bar",
         "x": [
          true
         ],
         "xaxis": "x",
         "y": [
          3.6360991184619786
         ],
         "yaxis": "y"
        },
        {
         "alignmentgroup": "True",
         "hovertemplate": "type=Both Dep/Arr<br>delayed=%{x}<br>percentage=%{y}<extra></extra>",
         "legendgroup": "Both Dep/Arr",
         "marker": {
          "color": "#00cc96",
          "pattern": {
           "shape": ""
          }
         },
         "name": "Both Dep/Arr",
         "offsetgroup": "Both Dep/Arr",
         "orientation": "v",
         "showlegend": true,
         "textposition": "auto",
         "type": "bar",
         "x": [
          true
         ],
         "xaxis": "x",
         "y": [
          14.839351394123454
         ],
         "yaxis": "y"
        },
        {
         "alignmentgroup": "True",
         "hovertemplate": "type=Arrival<br>delayed=%{x}<br>percentage=%{y}<extra></extra>",
         "legendgroup": "Arrival",
         "marker": {
          "color": "#ab63fa",
          "pattern": {
           "shape": ""
          }
         },
         "name": "Arrival",
         "offsetgroup": "Arrival",
         "orientation": "v",
         "showlegend": true,
         "textposition": "auto",
         "type": "bar",
         "x": [
          true
         ],
         "xaxis": "x",
         "y": [
          4.249337292862435
         ],
         "yaxis": "y"
        }
       ],
       "layout": {
        "barmode": "relative",
        "legend": {
         "title": {
          "text": "type"
         },
         "tracegroupgap": 0
        },
        "template": {
         "data": {
          "bar": [
           {
            "error_x": {
             "color": "#2a3f5f"
            },
            "error_y": {
             "color": "#2a3f5f"
            },
            "marker": {
             "line": {
              "color": "#E5ECF6",
              "width": 0.5
             },
             "pattern": {
              "fillmode": "overlay",
              "size": 10,
              "solidity": 0.2
             }
            },
            "type": "bar"
           }
          ],
          "barpolar": [
           {
            "marker": {
             "line": {
              "color": "#E5ECF6",
              "width": 0.5
             },
             "pattern": {
              "fillmode": "overlay",
              "size": 10,
              "solidity": 0.2
             }
            },
            "type": "barpolar"
           }
          ],
          "carpet": [
           {
            "aaxis": {
             "endlinecolor": "#2a3f5f",
             "gridcolor": "white",
             "linecolor": "white",
             "minorgridcolor": "white",
             "startlinecolor": "#2a3f5f"
            },
            "baxis": {
             "endlinecolor": "#2a3f5f",
             "gridcolor": "white",
             "linecolor": "white",
             "minorgridcolor": "white",
             "startlinecolor": "#2a3f5f"
            },
            "type": "carpet"
           }
          ],
          "choropleth": [
           {
            "colorbar": {
             "outlinewidth": 0,
             "ticks": ""
            },
            "type": "choropleth"
           }
          ],
          "contour": [
           {
            "colorbar": {
             "outlinewidth": 0,
             "ticks": ""
            },
            "colorscale": [
             [
              0,
              "#0d0887"
             ],
             [
              0.1111111111111111,
              "#46039f"
             ],
             [
              0.2222222222222222,
              "#7201a8"
             ],
             [
              0.3333333333333333,
              "#9c179e"
             ],
             [
              0.4444444444444444,
              "#bd3786"
             ],
             [
              0.5555555555555556,
              "#d8576b"
             ],
             [
              0.6666666666666666,
              "#ed7953"
             ],
             [
              0.7777777777777778,
              "#fb9f3a"
             ],
             [
              0.8888888888888888,
              "#fdca26"
             ],
             [
              1,
              "#f0f921"
             ]
            ],
            "type": "contour"
           }
          ],
          "contourcarpet": [
           {
            "colorbar": {
             "outlinewidth": 0,
             "ticks": ""
            },
            "type": "contourcarpet"
           }
          ],
          "heatmap": [
           {
            "colorbar": {
             "outlinewidth": 0,
             "ticks": ""
            },
            "colorscale": [
             [
              0,
              "#0d0887"
             ],
             [
              0.1111111111111111,
              "#46039f"
             ],
             [
              0.2222222222222222,
              "#7201a8"
             ],
             [
              0.3333333333333333,
              "#9c179e"
             ],
             [
              0.4444444444444444,
              "#bd3786"
             ],
             [
              0.5555555555555556,
              "#d8576b"
             ],
             [
              0.6666666666666666,
              "#ed7953"
             ],
             [
              0.7777777777777778,
              "#fb9f3a"
             ],
             [
              0.8888888888888888,
              "#fdca26"
             ],
             [
              1,
              "#f0f921"
             ]
            ],
            "type": "heatmap"
           }
          ],
          "heatmapgl": [
           {
            "colorbar": {
             "outlinewidth": 0,
             "ticks": ""
            },
            "colorscale": [
             [
              0,
              "#0d0887"
             ],
             [
              0.1111111111111111,
              "#46039f"
             ],
             [
              0.2222222222222222,
              "#7201a8"
             ],
             [
              0.3333333333333333,
              "#9c179e"
             ],
             [
              0.4444444444444444,
              "#bd3786"
             ],
             [
              0.5555555555555556,
              "#d8576b"
             ],
             [
              0.6666666666666666,
              "#ed7953"
             ],
             [
              0.7777777777777778,
              "#fb9f3a"
             ],
             [
              0.8888888888888888,
              "#fdca26"
             ],
             [
              1,
              "#f0f921"
             ]
            ],
            "type": "heatmapgl"
           }
          ],
          "histogram": [
           {
            "marker": {
             "pattern": {
              "fillmode": "overlay",
              "size": 10,
              "solidity": 0.2
             }
            },
            "type": "histogram"
           }
          ],
          "histogram2d": [
           {
            "colorbar": {
             "outlinewidth": 0,
             "ticks": ""
            },
            "colorscale": [
             [
              0,
              "#0d0887"
             ],
             [
              0.1111111111111111,
              "#46039f"
             ],
             [
              0.2222222222222222,
              "#7201a8"
             ],
             [
              0.3333333333333333,
              "#9c179e"
             ],
             [
              0.4444444444444444,
              "#bd3786"
             ],
             [
              0.5555555555555556,
              "#d8576b"
             ],
             [
              0.6666666666666666,
              "#ed7953"
             ],
             [
              0.7777777777777778,
              "#fb9f3a"
             ],
             [
              0.8888888888888888,
              "#fdca26"
             ],
             [
              1,
              "#f0f921"
             ]
            ],
            "type": "histogram2d"
           }
          ],
          "histogram2dcontour": [
           {
            "colorbar": {
             "outlinewidth": 0,
             "ticks": ""
            },
            "colorscale": [
             [
              0,
              "#0d0887"
             ],
             [
              0.1111111111111111,
              "#46039f"
             ],
             [
              0.2222222222222222,
              "#7201a8"
             ],
             [
              0.3333333333333333,
              "#9c179e"
             ],
             [
              0.4444444444444444,
              "#bd3786"
             ],
             [
              0.5555555555555556,
              "#d8576b"
             ],
             [
              0.6666666666666666,
              "#ed7953"
             ],
             [
              0.7777777777777778,
              "#fb9f3a"
             ],
             [
              0.8888888888888888,
              "#fdca26"
             ],
             [
              1,
              "#f0f921"
             ]
            ],
            "type": "histogram2dcontour"
           }
          ],
          "mesh3d": [
           {
            "colorbar": {
             "outlinewidth": 0,
             "ticks": ""
            },
            "type": "mesh3d"
           }
          ],
          "parcoords": [
           {
            "line": {
             "colorbar": {
              "outlinewidth": 0,
              "ticks": ""
             }
            },
            "type": "parcoords"
           }
          ],
          "pie": [
           {
            "automargin": true,
            "type": "pie"
           }
          ],
          "scatter": [
           {
            "fillpattern": {
             "fillmode": "overlay",
             "size": 10,
             "solidity": 0.2
            },
            "type": "scatter"
           }
          ],
          "scatter3d": [
           {
            "line": {
             "colorbar": {
              "outlinewidth": 0,
              "ticks": ""
             }
            },
            "marker": {
             "colorbar": {
              "outlinewidth": 0,
              "ticks": ""
             }
            },
            "type": "scatter3d"
           }
          ],
          "scattercarpet": [
           {
            "marker": {
             "colorbar": {
              "outlinewidth": 0,
              "ticks": ""
             }
            },
            "type": "scattercarpet"
           }
          ],
          "scattergeo": [
           {
            "marker": {
             "colorbar": {
              "outlinewidth": 0,
              "ticks": ""
             }
            },
            "type": "scattergeo"
           }
          ],
          "scattergl": [
           {
            "marker": {
             "colorbar": {
              "outlinewidth": 0,
              "ticks": ""
             }
            },
            "type": "scattergl"
           }
          ],
          "scattermapbox": [
           {
            "marker": {
             "colorbar": {
              "outlinewidth": 0,
              "ticks": ""
             }
            },
            "type": "scattermapbox"
           }
          ],
          "scatterpolar": [
           {
            "marker": {
             "colorbar": {
              "outlinewidth": 0,
              "ticks": ""
             }
            },
            "type": "scatterpolar"
           }
          ],
          "scatterpolargl": [
           {
            "marker": {
             "colorbar": {
              "outlinewidth": 0,
              "ticks": ""
             }
            },
            "type": "scatterpolargl"
           }
          ],
          "scatterternary": [
           {
            "marker": {
             "colorbar": {
              "outlinewidth": 0,
              "ticks": ""
             }
            },
            "type": "scatterternary"
           }
          ],
          "surface": [
           {
            "colorbar": {
             "outlinewidth": 0,
             "ticks": ""
            },
            "colorscale": [
             [
              0,
              "#0d0887"
             ],
             [
              0.1111111111111111,
              "#46039f"
             ],
             [
              0.2222222222222222,
              "#7201a8"
             ],
             [
              0.3333333333333333,
              "#9c179e"
             ],
             [
              0.4444444444444444,
              "#bd3786"
             ],
             [
              0.5555555555555556,
              "#d8576b"
             ],
             [
              0.6666666666666666,
              "#ed7953"
             ],
             [
              0.7777777777777778,
              "#fb9f3a"
             ],
             [
              0.8888888888888888,
              "#fdca26"
             ],
             [
              1,
              "#f0f921"
             ]
            ],
            "type": "surface"
           }
          ],
          "table": [
           {
            "cells": {
             "fill": {
              "color": "#EBF0F8"
             },
             "line": {
              "color": "white"
             }
            },
            "header": {
             "fill": {
              "color": "#C8D4E3"
             },
             "line": {
              "color": "white"
             }
            },
            "type": "table"
           }
          ]
         },
         "layout": {
          "annotationdefaults": {
           "arrowcolor": "#2a3f5f",
           "arrowhead": 0,
           "arrowwidth": 1
          },
          "autotypenumbers": "strict",
          "coloraxis": {
           "colorbar": {
            "outlinewidth": 0,
            "ticks": ""
           }
          },
          "colorscale": {
           "diverging": [
            [
             0,
             "#8e0152"
            ],
            [
             0.1,
             "#c51b7d"
            ],
            [
             0.2,
             "#de77ae"
            ],
            [
             0.3,
             "#f1b6da"
            ],
            [
             0.4,
             "#fde0ef"
            ],
            [
             0.5,
             "#f7f7f7"
            ],
            [
             0.6,
             "#e6f5d0"
            ],
            [
             0.7,
             "#b8e186"
            ],
            [
             0.8,
             "#7fbc41"
            ],
            [
             0.9,
             "#4d9221"
            ],
            [
             1,
             "#276419"
            ]
           ],
           "sequential": [
            [
             0,
             "#0d0887"
            ],
            [
             0.1111111111111111,
             "#46039f"
            ],
            [
             0.2222222222222222,
             "#7201a8"
            ],
            [
             0.3333333333333333,
             "#9c179e"
            ],
            [
             0.4444444444444444,
             "#bd3786"
            ],
            [
             0.5555555555555556,
             "#d8576b"
            ],
            [
             0.6666666666666666,
             "#ed7953"
            ],
            [
             0.7777777777777778,
             "#fb9f3a"
            ],
            [
             0.8888888888888888,
             "#fdca26"
            ],
            [
             1,
             "#f0f921"
            ]
           ],
           "sequentialminus": [
            [
             0,
             "#0d0887"
            ],
            [
             0.1111111111111111,
             "#46039f"
            ],
            [
             0.2222222222222222,
             "#7201a8"
            ],
            [
             0.3333333333333333,
             "#9c179e"
            ],
            [
             0.4444444444444444,
             "#bd3786"
            ],
            [
             0.5555555555555556,
             "#d8576b"
            ],
            [
             0.6666666666666666,
             "#ed7953"
            ],
            [
             0.7777777777777778,
             "#fb9f3a"
            ],
            [
             0.8888888888888888,
             "#fdca26"
            ],
            [
             1,
             "#f0f921"
            ]
           ]
          },
          "colorway": [
           "#636efa",
           "#EF553B",
           "#00cc96",
           "#ab63fa",
           "#FFA15A",
           "#19d3f3",
           "#FF6692",
           "#B6E880",
           "#FF97FF",
           "#FECB52"
          ],
          "font": {
           "color": "#2a3f5f"
          },
          "geo": {
           "bgcolor": "white",
           "lakecolor": "white",
           "landcolor": "#E5ECF6",
           "showlakes": true,
           "showland": true,
           "subunitcolor": "white"
          },
          "hoverlabel": {
           "align": "left"
          },
          "hovermode": "closest",
          "mapbox": {
           "style": "light"
          },
          "paper_bgcolor": "white",
          "plot_bgcolor": "#E5ECF6",
          "polar": {
           "angularaxis": {
            "gridcolor": "white",
            "linecolor": "white",
            "ticks": ""
           },
           "bgcolor": "#E5ECF6",
           "radialaxis": {
            "gridcolor": "white",
            "linecolor": "white",
            "ticks": ""
           }
          },
          "scene": {
           "xaxis": {
            "backgroundcolor": "#E5ECF6",
            "gridcolor": "white",
            "gridwidth": 2,
            "linecolor": "white",
            "showbackground": true,
            "ticks": "",
            "zerolinecolor": "white"
           },
           "yaxis": {
            "backgroundcolor": "#E5ECF6",
            "gridcolor": "white",
            "gridwidth": 2,
            "linecolor": "white",
            "showbackground": true,
            "ticks": "",
            "zerolinecolor": "white"
           },
           "zaxis": {
            "backgroundcolor": "#E5ECF6",
            "gridcolor": "white",
            "gridwidth": 2,
            "linecolor": "white",
            "showbackground": true,
            "ticks": "",
            "zerolinecolor": "white"
           }
          },
          "shapedefaults": {
           "line": {
            "color": "#2a3f5f"
           }
          },
          "ternary": {
           "aaxis": {
            "gridcolor": "white",
            "linecolor": "white",
            "ticks": ""
           },
           "baxis": {
            "gridcolor": "white",
            "linecolor": "white",
            "ticks": ""
           },
           "bgcolor": "#E5ECF6",
           "caxis": {
            "gridcolor": "white",
            "linecolor": "white",
            "ticks": ""
           }
          },
          "title": {
           "x": 0.05
          },
          "xaxis": {
           "automargin": true,
           "gridcolor": "white",
           "linecolor": "white",
           "ticks": "",
           "title": {
            "standoff": 15
           },
           "zerolinecolor": "white",
           "zerolinewidth": 2
          },
          "yaxis": {
           "automargin": true,
           "gridcolor": "white",
           "linecolor": "white",
           "ticks": "",
           "title": {
            "standoff": 15
           },
           "zerolinecolor": "white",
           "zerolinewidth": 2
          }
         }
        },
        "title": {
         "text": "Delays by Type (Percentage)"
        },
        "xaxis": {
         "anchor": "y",
         "domain": [
          0,
          1
         ],
         "title": {
          "text": "delayed"
         }
        },
        "yaxis": {
         "anchor": "x",
         "domain": [
          0,
          1
         ],
         "title": {
          "text": "percentage"
         }
        }
       }
      },
      "text/html": [
       "<div>                            <div id=\"ded295e7-b44b-48b4-8cc5-c9c0213eb83c\" class=\"plotly-graph-div\" style=\"height:525px; width:100%;\"></div>            <script type=\"text/javascript\">                require([\"plotly\"], function(Plotly) {                    window.PLOTLYENV=window.PLOTLYENV || {};                                    if (document.getElementById(\"ded295e7-b44b-48b4-8cc5-c9c0213eb83c\")) {                    Plotly.newPlot(                        \"ded295e7-b44b-48b4-8cc5-c9c0213eb83c\",                        [{\"alignmentgroup\":\"True\",\"hovertemplate\":\"type=On Time<br>delayed=%{x}<br>percentage=%{y}<extra></extra>\",\"legendgroup\":\"On Time\",\"marker\":{\"color\":\"#636efa\",\"pattern\":{\"shape\":\"\"}},\"name\":\"On Time\",\"offsetgroup\":\"On Time\",\"orientation\":\"v\",\"showlegend\":true,\"textposition\":\"auto\",\"x\":[false],\"xaxis\":\"x\",\"y\":[77.27521219455214],\"yaxis\":\"y\",\"type\":\"bar\"},{\"alignmentgroup\":\"True\",\"hovertemplate\":\"type=Departure<br>delayed=%{x}<br>percentage=%{y}<extra></extra>\",\"legendgroup\":\"Departure\",\"marker\":{\"color\":\"#EF553B\",\"pattern\":{\"shape\":\"\"}},\"name\":\"Departure\",\"offsetgroup\":\"Departure\",\"orientation\":\"v\",\"showlegend\":true,\"textposition\":\"auto\",\"x\":[true],\"xaxis\":\"x\",\"y\":[3.6360991184619786],\"yaxis\":\"y\",\"type\":\"bar\"},{\"alignmentgroup\":\"True\",\"hovertemplate\":\"type=Both Dep/Arr<br>delayed=%{x}<br>percentage=%{y}<extra></extra>\",\"legendgroup\":\"Both Dep/Arr\",\"marker\":{\"color\":\"#00cc96\",\"pattern\":{\"shape\":\"\"}},\"name\":\"Both Dep/Arr\",\"offsetgroup\":\"Both Dep/Arr\",\"orientation\":\"v\",\"showlegend\":true,\"textposition\":\"auto\",\"x\":[true],\"xaxis\":\"x\",\"y\":[14.839351394123454],\"yaxis\":\"y\",\"type\":\"bar\"},{\"alignmentgroup\":\"True\",\"hovertemplate\":\"type=Arrival<br>delayed=%{x}<br>percentage=%{y}<extra></extra>\",\"legendgroup\":\"Arrival\",\"marker\":{\"color\":\"#ab63fa\",\"pattern\":{\"shape\":\"\"}},\"name\":\"Arrival\",\"offsetgroup\":\"Arrival\",\"orientation\":\"v\",\"showlegend\":true,\"textposition\":\"auto\",\"x\":[true],\"xaxis\":\"x\",\"y\":[4.249337292862435],\"yaxis\":\"y\",\"type\":\"bar\"}],                        {\"template\":{\"data\":{\"histogram2dcontour\":[{\"type\":\"histogram2dcontour\",\"colorbar\":{\"outlinewidth\":0,\"ticks\":\"\"},\"colorscale\":[[0.0,\"#0d0887\"],[0.1111111111111111,\"#46039f\"],[0.2222222222222222,\"#7201a8\"],[0.3333333333333333,\"#9c179e\"],[0.4444444444444444,\"#bd3786\"],[0.5555555555555556,\"#d8576b\"],[0.6666666666666666,\"#ed7953\"],[0.7777777777777778,\"#fb9f3a\"],[0.8888888888888888,\"#fdca26\"],[1.0,\"#f0f921\"]]}],\"choropleth\":[{\"type\":\"choropleth\",\"colorbar\":{\"outlinewidth\":0,\"ticks\":\"\"}}],\"histogram2d\":[{\"type\":\"histogram2d\",\"colorbar\":{\"outlinewidth\":0,\"ticks\":\"\"},\"colorscale\":[[0.0,\"#0d0887\"],[0.1111111111111111,\"#46039f\"],[0.2222222222222222,\"#7201a8\"],[0.3333333333333333,\"#9c179e\"],[0.4444444444444444,\"#bd3786\"],[0.5555555555555556,\"#d8576b\"],[0.6666666666666666,\"#ed7953\"],[0.7777777777777778,\"#fb9f3a\"],[0.8888888888888888,\"#fdca26\"],[1.0,\"#f0f921\"]]}],\"heatmap\":[{\"type\":\"heatmap\",\"colorbar\":{\"outlinewidth\":0,\"ticks\":\"\"},\"colorscale\":[[0.0,\"#0d0887\"],[0.1111111111111111,\"#46039f\"],[0.2222222222222222,\"#7201a8\"],[0.3333333333333333,\"#9c179e\"],[0.4444444444444444,\"#bd3786\"],[0.5555555555555556,\"#d8576b\"],[0.6666666666666666,\"#ed7953\"],[0.7777777777777778,\"#fb9f3a\"],[0.8888888888888888,\"#fdca26\"],[1.0,\"#f0f921\"]]}],\"heatmapgl\":[{\"type\":\"heatmapgl\",\"colorbar\":{\"outlinewidth\":0,\"ticks\":\"\"},\"colorscale\":[[0.0,\"#0d0887\"],[0.1111111111111111,\"#46039f\"],[0.2222222222222222,\"#7201a8\"],[0.3333333333333333,\"#9c179e\"],[0.4444444444444444,\"#bd3786\"],[0.5555555555555556,\"#d8576b\"],[0.6666666666666666,\"#ed7953\"],[0.7777777777777778,\"#fb9f3a\"],[0.8888888888888888,\"#fdca26\"],[1.0,\"#f0f921\"]]}],\"contourcarpet\":[{\"type\":\"contourcarpet\",\"colorbar\":{\"outlinewidth\":0,\"ticks\":\"\"}}],\"contour\":[{\"type\":\"contour\",\"colorbar\":{\"outlinewidth\":0,\"ticks\":\"\"},\"colorscale\":[[0.0,\"#0d0887\"],[0.1111111111111111,\"#46039f\"],[0.2222222222222222,\"#7201a8\"],[0.3333333333333333,\"#9c179e\"],[0.4444444444444444,\"#bd3786\"],[0.5555555555555556,\"#d8576b\"],[0.6666666666666666,\"#ed7953\"],[0.7777777777777778,\"#fb9f3a\"],[0.8888888888888888,\"#fdca26\"],[1.0,\"#f0f921\"]]}],\"surface\":[{\"type\":\"surface\",\"colorbar\":{\"outlinewidth\":0,\"ticks\":\"\"},\"colorscale\":[[0.0,\"#0d0887\"],[0.1111111111111111,\"#46039f\"],[0.2222222222222222,\"#7201a8\"],[0.3333333333333333,\"#9c179e\"],[0.4444444444444444,\"#bd3786\"],[0.5555555555555556,\"#d8576b\"],[0.6666666666666666,\"#ed7953\"],[0.7777777777777778,\"#fb9f3a\"],[0.8888888888888888,\"#fdca26\"],[1.0,\"#f0f921\"]]}],\"mesh3d\":[{\"type\":\"mesh3d\",\"colorbar\":{\"outlinewidth\":0,\"ticks\":\"\"}}],\"scatter\":[{\"fillpattern\":{\"fillmode\":\"overlay\",\"size\":10,\"solidity\":0.2},\"type\":\"scatter\"}],\"parcoords\":[{\"type\":\"parcoords\",\"line\":{\"colorbar\":{\"outlinewidth\":0,\"ticks\":\"\"}}}],\"scatterpolargl\":[{\"type\":\"scatterpolargl\",\"marker\":{\"colorbar\":{\"outlinewidth\":0,\"ticks\":\"\"}}}],\"bar\":[{\"error_x\":{\"color\":\"#2a3f5f\"},\"error_y\":{\"color\":\"#2a3f5f\"},\"marker\":{\"line\":{\"color\":\"#E5ECF6\",\"width\":0.5},\"pattern\":{\"fillmode\":\"overlay\",\"size\":10,\"solidity\":0.2}},\"type\":\"bar\"}],\"scattergeo\":[{\"type\":\"scattergeo\",\"marker\":{\"colorbar\":{\"outlinewidth\":0,\"ticks\":\"\"}}}],\"scatterpolar\":[{\"type\":\"scatterpolar\",\"marker\":{\"colorbar\":{\"outlinewidth\":0,\"ticks\":\"\"}}}],\"histogram\":[{\"marker\":{\"pattern\":{\"fillmode\":\"overlay\",\"size\":10,\"solidity\":0.2}},\"type\":\"histogram\"}],\"scattergl\":[{\"type\":\"scattergl\",\"marker\":{\"colorbar\":{\"outlinewidth\":0,\"ticks\":\"\"}}}],\"scatter3d\":[{\"type\":\"scatter3d\",\"line\":{\"colorbar\":{\"outlinewidth\":0,\"ticks\":\"\"}},\"marker\":{\"colorbar\":{\"outlinewidth\":0,\"ticks\":\"\"}}}],\"scattermapbox\":[{\"type\":\"scattermapbox\",\"marker\":{\"colorbar\":{\"outlinewidth\":0,\"ticks\":\"\"}}}],\"scatterternary\":[{\"type\":\"scatterternary\",\"marker\":{\"colorbar\":{\"outlinewidth\":0,\"ticks\":\"\"}}}],\"scattercarpet\":[{\"type\":\"scattercarpet\",\"marker\":{\"colorbar\":{\"outlinewidth\":0,\"ticks\":\"\"}}}],\"carpet\":[{\"aaxis\":{\"endlinecolor\":\"#2a3f5f\",\"gridcolor\":\"white\",\"linecolor\":\"white\",\"minorgridcolor\":\"white\",\"startlinecolor\":\"#2a3f5f\"},\"baxis\":{\"endlinecolor\":\"#2a3f5f\",\"gridcolor\":\"white\",\"linecolor\":\"white\",\"minorgridcolor\":\"white\",\"startlinecolor\":\"#2a3f5f\"},\"type\":\"carpet\"}],\"table\":[{\"cells\":{\"fill\":{\"color\":\"#EBF0F8\"},\"line\":{\"color\":\"white\"}},\"header\":{\"fill\":{\"color\":\"#C8D4E3\"},\"line\":{\"color\":\"white\"}},\"type\":\"table\"}],\"barpolar\":[{\"marker\":{\"line\":{\"color\":\"#E5ECF6\",\"width\":0.5},\"pattern\":{\"fillmode\":\"overlay\",\"size\":10,\"solidity\":0.2}},\"type\":\"barpolar\"}],\"pie\":[{\"automargin\":true,\"type\":\"pie\"}]},\"layout\":{\"autotypenumbers\":\"strict\",\"colorway\":[\"#636efa\",\"#EF553B\",\"#00cc96\",\"#ab63fa\",\"#FFA15A\",\"#19d3f3\",\"#FF6692\",\"#B6E880\",\"#FF97FF\",\"#FECB52\"],\"font\":{\"color\":\"#2a3f5f\"},\"hovermode\":\"closest\",\"hoverlabel\":{\"align\":\"left\"},\"paper_bgcolor\":\"white\",\"plot_bgcolor\":\"#E5ECF6\",\"polar\":{\"bgcolor\":\"#E5ECF6\",\"angularaxis\":{\"gridcolor\":\"white\",\"linecolor\":\"white\",\"ticks\":\"\"},\"radialaxis\":{\"gridcolor\":\"white\",\"linecolor\":\"white\",\"ticks\":\"\"}},\"ternary\":{\"bgcolor\":\"#E5ECF6\",\"aaxis\":{\"gridcolor\":\"white\",\"linecolor\":\"white\",\"ticks\":\"\"},\"baxis\":{\"gridcolor\":\"white\",\"linecolor\":\"white\",\"ticks\":\"\"},\"caxis\":{\"gridcolor\":\"white\",\"linecolor\":\"white\",\"ticks\":\"\"}},\"coloraxis\":{\"colorbar\":{\"outlinewidth\":0,\"ticks\":\"\"}},\"colorscale\":{\"sequential\":[[0.0,\"#0d0887\"],[0.1111111111111111,\"#46039f\"],[0.2222222222222222,\"#7201a8\"],[0.3333333333333333,\"#9c179e\"],[0.4444444444444444,\"#bd3786\"],[0.5555555555555556,\"#d8576b\"],[0.6666666666666666,\"#ed7953\"],[0.7777777777777778,\"#fb9f3a\"],[0.8888888888888888,\"#fdca26\"],[1.0,\"#f0f921\"]],\"sequentialminus\":[[0.0,\"#0d0887\"],[0.1111111111111111,\"#46039f\"],[0.2222222222222222,\"#7201a8\"],[0.3333333333333333,\"#9c179e\"],[0.4444444444444444,\"#bd3786\"],[0.5555555555555556,\"#d8576b\"],[0.6666666666666666,\"#ed7953\"],[0.7777777777777778,\"#fb9f3a\"],[0.8888888888888888,\"#fdca26\"],[1.0,\"#f0f921\"]],\"diverging\":[[0,\"#8e0152\"],[0.1,\"#c51b7d\"],[0.2,\"#de77ae\"],[0.3,\"#f1b6da\"],[0.4,\"#fde0ef\"],[0.5,\"#f7f7f7\"],[0.6,\"#e6f5d0\"],[0.7,\"#b8e186\"],[0.8,\"#7fbc41\"],[0.9,\"#4d9221\"],[1,\"#276419\"]]},\"xaxis\":{\"gridcolor\":\"white\",\"linecolor\":\"white\",\"ticks\":\"\",\"title\":{\"standoff\":15},\"zerolinecolor\":\"white\",\"automargin\":true,\"zerolinewidth\":2},\"yaxis\":{\"gridcolor\":\"white\",\"linecolor\":\"white\",\"ticks\":\"\",\"title\":{\"standoff\":15},\"zerolinecolor\":\"white\",\"automargin\":true,\"zerolinewidth\":2},\"scene\":{\"xaxis\":{\"backgroundcolor\":\"#E5ECF6\",\"gridcolor\":\"white\",\"linecolor\":\"white\",\"showbackground\":true,\"ticks\":\"\",\"zerolinecolor\":\"white\",\"gridwidth\":2},\"yaxis\":{\"backgroundcolor\":\"#E5ECF6\",\"gridcolor\":\"white\",\"linecolor\":\"white\",\"showbackground\":true,\"ticks\":\"\",\"zerolinecolor\":\"white\",\"gridwidth\":2},\"zaxis\":{\"backgroundcolor\":\"#E5ECF6\",\"gridcolor\":\"white\",\"linecolor\":\"white\",\"showbackground\":true,\"ticks\":\"\",\"zerolinecolor\":\"white\",\"gridwidth\":2}},\"shapedefaults\":{\"line\":{\"color\":\"#2a3f5f\"}},\"annotationdefaults\":{\"arrowcolor\":\"#2a3f5f\",\"arrowhead\":0,\"arrowwidth\":1},\"geo\":{\"bgcolor\":\"white\",\"landcolor\":\"#E5ECF6\",\"subunitcolor\":\"white\",\"showland\":true,\"showlakes\":true,\"lakecolor\":\"white\"},\"title\":{\"x\":0.05},\"mapbox\":{\"style\":\"light\"}}},\"xaxis\":{\"anchor\":\"y\",\"domain\":[0.0,1.0],\"title\":{\"text\":\"delayed\"}},\"yaxis\":{\"anchor\":\"x\",\"domain\":[0.0,1.0],\"title\":{\"text\":\"percentage\"}},\"legend\":{\"title\":{\"text\":\"type\"},\"tracegroupgap\":0},\"title\":{\"text\":\"Delays by Type (Percentage)\"},\"barmode\":\"relative\"},                        {\"responsive\": true}                    ).then(function(){\n",
       "                            \n",
       "var gd = document.getElementById('ded295e7-b44b-48b4-8cc5-c9c0213eb83c');\n",
       "var x = new MutationObserver(function (mutations, observer) {{\n",
       "        var display = window.getComputedStyle(gd).display;\n",
       "        if (!display || display === 'none') {{\n",
       "            console.log([gd, 'removed!']);\n",
       "            Plotly.purge(gd);\n",
       "            observer.disconnect();\n",
       "        }}\n",
       "}});\n",
       "\n",
       "// Listen for the removal of the full notebook cells\n",
       "var notebookContainer = gd.closest('#notebook-container');\n",
       "if (notebookContainer) {{\n",
       "    x.observe(notebookContainer, {childList: true});\n",
       "}}\n",
       "\n",
       "// Listen for the clearing of the current output cell\n",
       "var outputEl = gd.closest('.output');\n",
       "if (outputEl) {{\n",
       "    x.observe(outputEl, {childList: true});\n",
       "}}\n",
       "\n",
       "                        })                };                });            </script>        </div>"
      ]
     },
     "metadata": {},
     "output_type": "display_data"
    }
   ],
   "source": [
    "fig = px.bar(delays, x=\"delayed\", y=\"percentage\", color=\"type\", title=\"Delays by Type (Percentage)\")\n",
    "fig.show()"
   ]
  }
 ],
 "metadata": {
  "kernelspec": {
   "display_name": "Python 3 (ipykernel)",
   "language": "python",
   "name": "python3"
  },
  "language_info": {
   "codemirror_mode": {
    "name": "ipython",
    "version": 3
   },
   "file_extension": ".py",
   "mimetype": "text/x-python",
   "name": "python",
   "nbconvert_exporter": "python",
   "pygments_lexer": "ipython3",
   "version": "3.10.9"
  }
 },
 "nbformat": 4,
 "nbformat_minor": 2
}
