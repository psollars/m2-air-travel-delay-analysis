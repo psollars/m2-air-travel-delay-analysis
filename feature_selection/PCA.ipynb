{
 "cells": [
  {
   "cell_type": "code",
   "execution_count": 1,
   "id": "82dc4b96",
   "metadata": {},
   "outputs": [],
   "source": [
    "#!pip install pyarrow\n",
    "#!pip install fastparquet\n"
   ]
  },
  {
   "cell_type": "code",
   "execution_count": 1,
   "id": "edab1725",
   "metadata": {},
   "outputs": [],
   "source": [
    "import pandas as pd\n",
    "import sqlite3\n",
    "import time\n",
    "import matplotlib.pyplot as plt\n",
    "import numpy as np\n",
    "\n",
    "from sklearn.decomposition import PCA\n",
    "from sklearn.preprocessing import StandardScaler\n",
    "from sklearn.decomposition import SparsePCA\n",
    "from sklearn.decomposition import KernelPCA\n",
    "\n"
   ]
  },
  {
   "cell_type": "code",
   "execution_count": 7,
   "id": "9c110187",
   "metadata": {},
   "outputs": [],
   "source": [
    "bts_faa_sample_1_42 = pd.read_parquet('/home/ccecilia/Downloads/bts_faa_sample_1_42.parquet')"
   ]
  },
  {
   "cell_type": "code",
   "execution_count": 2,
   "id": "820937fb",
   "metadata": {},
   "outputs": [],
   "source": [
    "on_time_clean = pd.read_csv('/home/ccecilia/on_time_clean_org.csv')"
   ]
  },
  {
   "cell_type": "code",
   "execution_count": 3,
   "id": "642f4185",
   "metadata": {},
   "outputs": [],
   "source": [
    "# select flights that are not cancelled and not diverted\n",
    "on_time_pca = on_time_clean[(on_time_clean['Cancelled'] == 0) & (on_time_clean['Diverted'] == 0)] #use this line after importing the csv\n"
   ]
  },
  {
   "cell_type": "code",
   "execution_count": 4,
   "id": "cf26c95a",
   "metadata": {},
   "outputs": [],
   "source": [
    "# convert airline code to numeric\n",
    "airline_mapping = {\n",
    "    '9E': 1,\n",
    "    'AA': 2,\n",
    "    'AS': 3,\n",
    "    'B6': 4,\n",
    "    'DL': 5,\n",
    "    'EV': 6,\n",
    "    'F9': 7,\n",
    "    'G4': 8,\n",
    "    'HA': 9,\n",
    "    'MQ': 10,\n",
    "    'NK': 11,\n",
    "    'OH': 12,\n",
    "    'OO': 13,\n",
    "    'QX': 14,\n",
    "    'UA': 15,\n",
    "    'US': 16,\n",
    "    'VX': 17,\n",
    "    'WN': 18,\n",
    "    'YV': 19,\n",
    "    'YX': 20\n",
    "}\n",
    "\n",
    "default_mapping = -1\n",
    "on_time_pca = on_time_pca.copy()\n",
    "on_time_pca['airline_int'] = [airline_mapping.get(val, default_mapping) for val in on_time_pca['IATA_CODE_Reporting_Airline']]"
   ]
  },
  {
   "cell_type": "code",
   "execution_count": 5,
   "id": "6c49f03c",
   "metadata": {},
   "outputs": [],
   "source": [
    "TimeBlk_mapping = {\n",
    "    '0001-0559': 0,\n",
    "    '0600-0659': 6,\n",
    "    '0700-0759': 7,\n",
    "    '0800-0859': 8,\n",
    "    '0900-0959': 9,\n",
    "    '1000-1059': 10,\n",
    "    '1100-1159': 11,\n",
    "    '1200-1259': 12,\n",
    "    '1300-1359': 13,\n",
    "    '1400-1459': 14,\n",
    "    '1500-1559': 15,\n",
    "    '1600-1659': 16,\n",
    "    '1700-1759': 17,\n",
    "    '1800-1859': 18,\n",
    "    '1900-1959': 19,\n",
    "    '2000-2059': 20,\n",
    "    '2100-2159': 21,\n",
    "    '2200-2259': 22,\n",
    "    '2300-2359': 23\n",
    "}\n",
    "\n",
    "on_time_pca['DepTimeBlk_int'] = [TimeBlk_mapping.get(val, default_mapping) for val in on_time_pca['DepTimeBlk']]\n",
    "on_time_pca['ArrTimeBlk_int'] = [TimeBlk_mapping.get(val, default_mapping) for val in on_time_pca['ArrTimeBlk']]"
   ]
  },
  {
   "cell_type": "code",
   "execution_count": 6,
   "id": "941268d7",
   "metadata": {},
   "outputs": [
    {
     "name": "stdout",
     "output_type": "stream",
     "text": [
      "IATA_CODE_Reporting_Airline\n",
      "Tail_Number\n",
      "DepTimeBlk\n",
      "ArrTimeBlk\n"
     ]
    }
   ],
   "source": [
    "for c in on_time_pca.columns:\n",
    "    if on_time_pca[c].dtype == 'object':\n",
    "        print(c)"
   ]
  },
  {
   "cell_type": "code",
   "execution_count": 10,
   "id": "4ac2649c",
   "metadata": {},
   "outputs": [],
   "source": [
    "on_time_pca.drop(columns=['IATA_CODE_Reporting_Airline','DepTimeBlk','ArrTimeBlk','Tail_Number','CarrierDelay','WeatherDelay','NASDelay','SecurityDelay','LateAircraftDelay','Cancelled', 'Diverted'], inplace=True)\n",
    "on_time_pca.reset_index(drop=True, inplace=True)"
   ]
  },
  {
   "cell_type": "code",
   "execution_count": 11,
   "id": "80adb032",
   "metadata": {},
   "outputs": [],
   "source": [
    "test = on_time_pca.copy()"
   ]
  },
  {
   "cell_type": "code",
   "execution_count": 116,
   "id": "3e624ee1",
   "metadata": {},
   "outputs": [],
   "source": [
    "'''\n",
    "def convert_hhmm_to_timestamp(df, col_name):\n",
    "    \n",
    "    df[col_name] = pd.to_numeric(df[col_name], errors='coerce', downcast='integer')\n",
    "    df[col_name] = df[col_name].apply(lambda x: str(int(x)) if str(x).isdigit() else str(x)).str.zfill(4)\n",
    "    df['Hour'] = df[col_name].str[:2].astype(int)\n",
    "    if min(df['Hour']) > 0:\n",
    "        df['Hour'] = df['Hour']-1\n",
    "    df['Hour'] = df['Hour'].apply(lambda x: str(int(x)) if str(x).isdigit() else str(x)).str.zfill(2)\n",
    "    df['Year_str'] = df['Year'].astype(str)\n",
    "    df['Month_str'] = df['Month'].apply(lambda x: str(int(x)) if str(x).isdigit() else str(x)).str.zfill(2)\n",
    "    df['DayofMonth_str'] = df['DayofMonth'].apply(lambda x: str(int(x)) if str(x).isdigit() else str(x)).str.zfill(2)\n",
    "    df['ymdhhmm'] = df['Year_str']+df['Month_str']+df['DayofMonth_str']+df['Hour']+df[col_name].str[2:]\n",
    "    \n",
    "    \n",
    "    # Format the result as 'yyyy-mm-dd hh:mm'\n",
    "    df['ymdhhmm'] = pd.to_datetime(df['ymdhhmm'])\n",
    "    df[col_name+'_Timestamp'] = df['ymdhhmm'].timestamp()\n",
    "\n",
    "    # Drop the intermediate columns if needed\n",
    "    df.drop(columns=[col_name, 'Year_str', 'Month_str', 'DayofMonth_str', 'ymdhhmm', 'Hour'], inplace=True)\n",
    "    return df\n",
    "'''"
   ]
  },
  {
   "cell_type": "code",
   "execution_count": 12,
   "id": "c0b25dc3",
   "metadata": {},
   "outputs": [],
   "source": [
    "def convert_hhmm_to_timestamp(df, col_name):\n",
    "    # Convert the 'col_name' column to a numeric (integer) type\n",
    "    df[col_name] = pd.to_numeric(df[col_name], errors='coerce', downcast='integer')\n",
    "    \n",
    "    # Fill missing values with 0\n",
    "    df[col_name].fillna(0, inplace=True)\n",
    "    \n",
    "    # Convert to string and zero-fill to 4 characters\n",
    "    df[col_name] = df[col_name].astype(int).astype(str).str.zfill(4)\n",
    "    \n",
    "    # Extract hours and minutes\n",
    "    df['Hour'] = df[col_name].str[:2].astype(int)\n",
    "    df['Minute'] = df[col_name].str[2:]\n",
    "    \n",
    "    # Adjust hours\n",
    "    df['Hour'] = df['Hour'].apply(lambda x: x - 1 if x > 0 else x)\n",
    "    \n",
    "    # Convert to string and zero-fill to 2 characters\n",
    "    df['Hour'] = df['Hour'].astype(int).astype(str).str.zfill(2)\n",
    "    \n",
    "    # Convert year, month, and day to strings and zero-fill where necessary\n",
    "    df['Year_str'] = df['Year'].astype(str)\n",
    "    df['Month_str'] = df['Month'].astype(int).astype(str).str.zfill(2)\n",
    "    df['DayofMonth_str'] = df['DayofMonth'].astype(int).astype(str).str.zfill(2)\n",
    "    \n",
    "    # Concatenate the components to form 'ymdhhmm' string\n",
    "    df['ymdhhmm'] = df['Year_str'] + df['Month_str'] + df['DayofMonth_str'] + df['Hour'] + df['Minute']\n",
    "    \n",
    "    # Convert 'ymdhhmm' to datetime\n",
    "    df['ymdhhmm'] = pd.to_datetime(df['ymdhhmm'])\n",
    "    \n",
    "    # Convert datetime to timestamp\n",
    "    df[col_name+'_Timestamp'] = df['ymdhhmm'].astype(int) // 10**9  # Convert nanoseconds to seconds\n",
    "    \n",
    "    # Drop intermediate columns\n",
    "    df.drop(columns=[col_name, 'Year_str', 'Month_str', 'DayofMonth_str', 'ymdhhmm', 'Hour', 'Minute'], inplace=True)\n",
    "    \n",
    "    return df"
   ]
  },
  {
   "cell_type": "code",
   "execution_count": 14,
   "id": "0fa9d544",
   "metadata": {},
   "outputs": [
    {
     "name": "stdout",
     "output_type": "stream",
     "text": [
      "Elapsed time: 9261.0847 seconds\n"
     ]
    }
   ],
   "source": [
    "#below code will take about 3 hours\n",
    "start_time = time.time()\n",
    "\n",
    "convert_hhmm_to_timestamp(test, 'CRSDepTime')\n",
    "convert_hhmm_to_timestamp(test, 'DepTime')\n",
    "convert_hhmm_to_timestamp(test, 'WheelsOff')\n",
    "convert_hhmm_to_timestamp(test, 'WheelsOn')\n",
    "convert_hhmm_to_timestamp(test, 'CRSArrTime')\n",
    "convert_hhmm_to_timestamp(test, 'ArrTime')\n",
    "\n",
    "end_time = time.time()\n",
    "elapsed_time = end_time - start_time\n",
    "print(f\"Elapsed time: {elapsed_time:.4f} seconds\")"
   ]
  },
  {
   "cell_type": "code",
   "execution_count": 106,
   "id": "ac09d1e1",
   "metadata": {},
   "outputs": [
    {
     "data": {
      "text/html": [
       "<div>\n",
       "<style scoped>\n",
       "    .dataframe tbody tr th:only-of-type {\n",
       "        vertical-align: middle;\n",
       "    }\n",
       "\n",
       "    .dataframe tbody tr th {\n",
       "        vertical-align: top;\n",
       "    }\n",
       "\n",
       "    .dataframe thead th {\n",
       "        text-align: right;\n",
       "    }\n",
       "</style>\n",
       "<table border=\"1\" class=\"dataframe\">\n",
       "  <thead>\n",
       "    <tr style=\"text-align: right;\">\n",
       "      <th></th>\n",
       "      <th>Year</th>\n",
       "      <th>Quarter</th>\n",
       "      <th>Month</th>\n",
       "      <th>DayofMonth</th>\n",
       "      <th>DayOfWeek</th>\n",
       "      <th>Flight_Number_Reporting_Airline</th>\n",
       "      <th>OriginAirportID</th>\n",
       "      <th>OriginAirportSeqID</th>\n",
       "      <th>OriginCityMarketID</th>\n",
       "      <th>DestAirportID</th>\n",
       "      <th>...</th>\n",
       "      <th>CRSElapsedTime</th>\n",
       "      <th>ActualElapsedTime</th>\n",
       "      <th>AirTime</th>\n",
       "      <th>Flights</th>\n",
       "      <th>Distance</th>\n",
       "      <th>DistanceGroup</th>\n",
       "      <th>DivAirportLandings</th>\n",
       "      <th>airline_int</th>\n",
       "      <th>DepTimeBlk_int</th>\n",
       "      <th>ArrTimeBlk_int</th>\n",
       "    </tr>\n",
       "  </thead>\n",
       "  <tbody>\n",
       "    <tr>\n",
       "      <th>0</th>\n",
       "      <td>2015</td>\n",
       "      <td>1</td>\n",
       "      <td>1</td>\n",
       "      <td>1</td>\n",
       "      <td>4</td>\n",
       "      <td>1</td>\n",
       "      <td>12478</td>\n",
       "      <td>1247802</td>\n",
       "      <td>31703</td>\n",
       "      <td>12892</td>\n",
       "      <td>...</td>\n",
       "      <td>390.0</td>\n",
       "      <td>402.0</td>\n",
       "      <td>378.0</td>\n",
       "      <td>1</td>\n",
       "      <td>2475</td>\n",
       "      <td>10</td>\n",
       "      <td>0.0</td>\n",
       "      <td>2</td>\n",
       "      <td>9</td>\n",
       "      <td>12</td>\n",
       "    </tr>\n",
       "  </tbody>\n",
       "</table>\n",
       "<p>1 rows × 40 columns</p>\n",
       "</div>"
      ],
      "text/plain": [
       "   Year  Quarter  Month  DayofMonth  DayOfWeek  \\\n",
       "0  2015        1      1           1          4   \n",
       "\n",
       "   Flight_Number_Reporting_Airline  OriginAirportID  OriginAirportSeqID  \\\n",
       "0                                1            12478             1247802   \n",
       "\n",
       "   OriginCityMarketID  DestAirportID  ...  CRSElapsedTime  ActualElapsedTime  \\\n",
       "0               31703          12892  ...           390.0              402.0   \n",
       "\n",
       "   AirTime  Flights  Distance  DistanceGroup  DivAirportLandings  airline_int  \\\n",
       "0    378.0        1      2475             10                 0.0            2   \n",
       "\n",
       "   DepTimeBlk_int  ArrTimeBlk_int  \n",
       "0               9              12  \n",
       "\n",
       "[1 rows x 40 columns]"
      ]
     },
     "execution_count": 106,
     "metadata": {},
     "output_type": "execute_result"
    }
   ],
   "source": [
    "test.head(1)"
   ]
  },
  {
   "cell_type": "code",
   "execution_count": 15,
   "id": "074e9de2",
   "metadata": {},
   "outputs": [],
   "source": [
    "test.to_csv('test_PCA.csv', index=False)"
   ]
  },
  {
   "cell_type": "code",
   "execution_count": 16,
   "id": "5fef4735",
   "metadata": {},
   "outputs": [],
   "source": [
    "test.fillna(-1, inplace=True)"
   ]
  },
  {
   "cell_type": "code",
   "execution_count": 20,
   "id": "ab6da165",
   "metadata": {},
   "outputs": [
    {
     "data": {
      "text/plain": [
       "Index(['Year', 'Quarter', 'Month', 'DayofMonth', 'DayOfWeek',\n",
       "       'Flight_Number_Reporting_Airline', 'OriginAirportID',\n",
       "       'OriginAirportSeqID', 'OriginCityMarketID', 'DestAirportID',\n",
       "       'DestAirportSeqID', 'DestCityMarketID', 'DepDelay', 'DepDelayMinutes',\n",
       "       'DepDel15', 'DepartureDelayGroups', 'TaxiOut', 'TaxiIn', 'ArrDelay',\n",
       "       'ArrDelayMinutes', 'ArrDel15', 'ArrivalDelayGroups', 'CRSElapsedTime',\n",
       "       'ActualElapsedTime', 'AirTime', 'Flights', 'Distance', 'DistanceGroup',\n",
       "       'DivAirportLandings', 'airline_int', 'DepTimeBlk_int', 'ArrTimeBlk_int',\n",
       "       'CRSDepTime_Timestamp', 'DepTime_Timestamp', 'WheelsOff_Timestamp',\n",
       "       'WheelsOn_Timestamp', 'CRSArrTime_Timestamp', 'ArrTime_Timestamp'],\n",
       "      dtype='object')"
      ]
     },
     "execution_count": 20,
     "metadata": {},
     "output_type": "execute_result"
    }
   ],
   "source": [
    "test.columns"
   ]
  },
  {
   "cell_type": "code",
   "execution_count": 21,
   "id": "e5d12f76",
   "metadata": {},
   "outputs": [],
   "source": [
    "drop_columns = ['CarrierDelay', \n",
    "                'WeatherDelay', \n",
    "                'NASDelay',\n",
    "                'SecurityDelay',\n",
    "                'LateAircraftDelay',\n",
    "                'Cancelled', \n",
    "                'Diverted',\n",
    "                'DepDelay', \n",
    "                'DepDelayMinutes', \n",
    "                'DepDel15',\n",
    "                'ArrDelay', \n",
    "                'ArrDelayMinutes', \n",
    "                'ArrDel15'\n",
    "               ]\n",
    "on_time_clean.drop(columns=drop_columns, inplace=True)\n",
    "on_time_clean.reset_index(drop=True, inplace=True)"
   ]
  },
  {
   "cell_type": "code",
   "execution_count": 25,
   "id": "f2e021cc",
   "metadata": {},
   "outputs": [],
   "source": [
    "# Standardize the data (important for PCA)\n",
    "scaler = StandardScaler()\n",
    "scaled_data = scaler.fit_transform(test)\n",
    "\n",
    "# Initialize PCA with the number of components you want to keep\n",
    "n_components = 6  # You can choose the number of components you want to retain\n",
    "pca = PCA(n_components=n_components)"
   ]
  },
  {
   "cell_type": "code",
   "execution_count": 26,
   "id": "97a69454",
   "metadata": {},
   "outputs": [],
   "source": [
    "# Fit PCA to the standardized data\n",
    "pca.fit(scaled_data)\n",
    "\n",
    "# Transform the data into the new feature space\n",
    "transformed_data = pca.transform(scaled_data)"
   ]
  },
  {
   "cell_type": "code",
   "execution_count": 27,
   "id": "217090ef",
   "metadata": {},
   "outputs": [
    {
     "name": "stdout",
     "output_type": "stream",
     "text": [
      "Explained Variance: [0.1905362  0.17469654 0.13799357 0.06944725 0.06750641 0.05357437]\n",
      "Cumulative Explained Variance: [0.1905362  0.36523274 0.50322631 0.57267356 0.64017998 0.69375435]\n"
     ]
    }
   ],
   "source": [
    "# Calculate the explained variance manually\n",
    "explained_variance = pca.explained_variance_ratio_\n",
    "cumulative_explained_variance = np.cumsum(explained_variance)\n",
    "\n",
    "print(\"Explained Variance:\", explained_variance)\n",
    "print(\"Cumulative Explained Variance:\", cumulative_explained_variance)"
   ]
  },
  {
   "cell_type": "markdown",
   "id": "db458229",
   "metadata": {},
   "source": [
    "The above results don't seem ideal. :("
   ]
  },
  {
   "cell_type": "code",
   "execution_count": null,
   "id": "4afe3052",
   "metadata": {},
   "outputs": [],
   "source": []
  }
 ],
 "metadata": {
  "kernelspec": {
   "display_name": "Python 3 (ipykernel)",
   "language": "python",
   "name": "python3"
  },
  "language_info": {
   "codemirror_mode": {
    "name": "ipython",
    "version": 3
   },
   "file_extension": ".py",
   "mimetype": "text/x-python",
   "name": "python",
   "nbconvert_exporter": "python",
   "pygments_lexer": "ipython3",
   "version": "3.10.9"
  }
 },
 "nbformat": 4,
 "nbformat_minor": 5
}
