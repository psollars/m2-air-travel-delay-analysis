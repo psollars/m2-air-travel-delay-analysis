{
 "cells": [
  {
   "cell_type": "markdown",
   "id": "0c800936",
   "metadata": {},
   "source": [
    "This is sudo code for feature selection. The final version will be applied on the BTS dataset joined with FAA dataset."
   ]
  },
  {
   "cell_type": "code",
   "execution_count": 22,
   "id": "8b08c60d",
   "metadata": {},
   "outputs": [],
   "source": [
    "import pandas as pd\n",
    "import sqlite3\n",
    "import time\n",
    "import matplotlib.pyplot as plt\n",
    "import numpy as np\n",
    "from sklearn.model_selection import train_test_split"
   ]
  },
  {
   "cell_type": "markdown",
   "id": "d5d88102",
   "metadata": {},
   "source": [
    "### Select columns based on EDA results and domain knowledge"
   ]
  },
  {
   "cell_type": "code",
   "execution_count": 2,
   "id": "0f70738f",
   "metadata": {},
   "outputs": [],
   "source": [
    "columns = ['Year',\n",
    "           'Quarter',\n",
    "           'Month',\n",
    "           'DayofMonth',\n",
    "           'DayOfWeek',\n",
    "           #'FlightDate',# can remove?\n",
    "           #'Reporting_Airline',# can remove?\n",
    "           #'DOT_ID_Reporting_Airline',# can remove?\n",
    "           'IATA_CODE_Reporting_Airline',\n",
    "           'Tail_Number',\n",
    "           'Flight_Number_Reporting_Airline',\n",
    "           'OriginAirportID',\n",
    "           'OriginAirportSeqID',\n",
    "           'OriginCityMarketID',\n",
    "           #'Origin',\n",
    "           #'OriginCityName',\n",
    "           #'OriginState',\n",
    "           #'OriginStateFips',\n",
    "           #'OriginStateName',\n",
    "           #'OriginWac',\n",
    "           'DestAirportID',\n",
    "           'DestAirportSeqID',\n",
    "           'DestCityMarketID',\n",
    "           #'Dest',\n",
    "           #'DestCityName',\n",
    "           #'DestState',\n",
    "           #'DestStateFips',\n",
    "           #'DestStateName',\n",
    "           #'DestWac',\n",
    "           'CRSDepTime',        #hhmm\n",
    "           'DepTime',        #hhmm\n",
    "           'DepDelay',\n",
    "           'DepDelayMinutes',\n",
    "           'DepDel15',          #binary\n",
    "           'DepartureDelayGroups',\n",
    "           'DepTimeBlk',\n",
    "           'TaxiOut',\n",
    "           'WheelsOff',        #hhmm\n",
    "           'WheelsOn',        #hhmm\n",
    "           'TaxiIn',\n",
    "           'CRSArrTime',        #hhmm\n",
    "           'ArrTime',        #hhmm\n",
    "           'ArrDelay',\n",
    "           'ArrDelayMinutes',\n",
    "           'ArrDel15',         #binary\n",
    "           'ArrivalDelayGroups',\n",
    "           'ArrTimeBlk',\n",
    "           'Cancelled',        #binary\n",
    "           #'CancellationCode',\n",
    "           'Diverted',          #binary\n",
    "           'CRSElapsedTime',\n",
    "           'ActualElapsedTime',\n",
    "           'AirTime',\n",
    "           'Flights',\n",
    "           'Distance',\n",
    "           'DistanceGroup',\n",
    "           'CarrierDelay',\n",
    "           'WeatherDelay',\n",
    "           'NASDelay',\n",
    "           'SecurityDelay',\n",
    "           'LateAircraftDelay',\n",
    "           'DivAirportLandings'\n",
    "          ]\n",
    "airlines = ['AA',\n",
    "            'AS',\n",
    "            'B6',\n",
    "            'DL',\n",
    "            'F9',\n",
    "            'HA',\n",
    "            'MQ',\n",
    "            'NK',\n",
    "            'OO',\n",
    "            'UA',\n",
    "            'WN',\n",
    "            '9E',\n",
    "            'G4',\n",
    "            'OH',\n",
    "            'YX'\n",
    "           ]\n",
    "ceased_airlines = ['US',\n",
    "                   'VX',\n",
    "                   'QX',\n",
    "                   'EV',\n",
    "                   'YV'\n",
    "                  ]"
   ]
  },
  {
   "cell_type": "code",
   "execution_count": 7,
   "id": "a5aceb08",
   "metadata": {},
   "outputs": [
    {
     "name": "stdout",
     "output_type": "stream",
     "text": [
      "Elapsed time: 1030.1554 seconds\n"
     ]
    }
   ],
   "source": [
    "'''\n",
    "# select columns and airlines based on EDA results. It takes about 22 minutes\n",
    "start_time = time.time()\n",
    "\n",
    "# Import the combined dataset from sqlite.\n",
    "connection = sqlite3.connect('/home/ccecilia/Downloads/bts_on_time.db')\n",
    "cursor = connection.cursor()\n",
    "\n",
    "column_names = ', '.join(columns)\n",
    "placeholders = ', '.join(['?'] * len(airlines))\n",
    "sql_query = f\"SELECT {column_names} FROM on_time WHERE IATA_CODE_Reporting_Airline IN ({placeholders}) AND Year!='2020';\"\n",
    "cursor.execute(sql_query,tuple(airlines))\n",
    "on_time_clean = pd.DataFrame(cursor.fetchall(), columns=columns)\n",
    "\n",
    "# Close the cursor and connection\n",
    "cursor.close()\n",
    "connection.close()\n",
    "\n",
    "end_time = time.time()\n",
    "elapsed_time = end_time - start_time\n",
    "print(f\"Elapsed time: {elapsed_time:.4f} seconds\")\n",
    "'''"
   ]
  },
  {
   "cell_type": "code",
   "execution_count": 8,
   "id": "ff5d4f52",
   "metadata": {},
   "outputs": [],
   "source": [
    "#'''\n",
    "on_time_clean.to_csv('on_time_clean_org.csv', index=False)\n",
    "#'''"
   ]
  },
  {
   "cell_type": "markdown",
   "id": "ec09c25b",
   "metadata": {},
   "source": [
    "## Automated Feature Selection with AutoFeatSelect\n",
    "https://python.plainenglish.io/automated-feature-selection-for-machine-learning-in-python-2ad4bcfac19a"
   ]
  },
  {
   "cell_type": "code",
   "execution_count": 3,
   "id": "7173134f",
   "metadata": {},
   "outputs": [],
   "source": [
    "#!pip install autofeatselect\n",
    "from autofeatselect import CorrelationCalculator, FeatureSelector, AutoFeatureSelect"
   ]
  },
  {
   "cell_type": "code",
   "execution_count": 4,
   "id": "ab1ac407",
   "metadata": {},
   "outputs": [],
   "source": [
    "on_time_clean = pd.read_csv('on_time_clean_org.csv')"
   ]
  },
  {
   "cell_type": "code",
   "execution_count": 5,
   "id": "38d15769",
   "metadata": {},
   "outputs": [
    {
     "data": {
      "text/plain": [
       "Index(['Year', 'Quarter', 'Month', 'DayofMonth', 'DayOfWeek',\n",
       "       'IATA_CODE_Reporting_Airline', 'Tail_Number',\n",
       "       'Flight_Number_Reporting_Airline', 'OriginAirportID',\n",
       "       'OriginAirportSeqID', 'OriginCityMarketID', 'DestAirportID',\n",
       "       'DestAirportSeqID', 'DestCityMarketID', 'CRSDepTime', 'DepTime',\n",
       "       'DepDelay', 'DepDelayMinutes', 'DepDel15', 'DepartureDelayGroups',\n",
       "       'DepTimeBlk', 'TaxiOut', 'WheelsOff', 'WheelsOn', 'TaxiIn',\n",
       "       'CRSArrTime', 'ArrTime', 'ArrDelay', 'ArrDelayMinutes', 'ArrDel15',\n",
       "       'ArrivalDelayGroups', 'ArrTimeBlk', 'Cancelled', 'Diverted',\n",
       "       'CRSElapsedTime', 'ActualElapsedTime', 'AirTime', 'Flights', 'Distance',\n",
       "       'DistanceGroup', 'CarrierDelay', 'WeatherDelay', 'NASDelay',\n",
       "       'SecurityDelay', 'LateAircraftDelay', 'DivAirportLandings'],\n",
       "      dtype='object')"
      ]
     },
     "execution_count": 5,
     "metadata": {},
     "output_type": "execute_result"
    }
   ],
   "source": [
    "# len 46\n",
    "on_time_clean.columns"
   ]
  },
  {
   "cell_type": "code",
   "execution_count": 16,
   "id": "2cc1de52",
   "metadata": {},
   "outputs": [],
   "source": [
    "num_feats = ['Year', \n",
    "             'Quarter', \n",
    "             'Month', \n",
    "             'DayofMonth', \n",
    "             'DayOfWeek',\n",
    "             'CRSDepTime', #hhmm\n",
    "             'DepTime', #hhmm\n",
    "             'DepDelay', \n",
    "             'DepDelayMinutes', \n",
    "             'DepartureDelayGroups',\n",
    "             'TaxiOut', \n",
    "             'WheelsOff', #hhmm\n",
    "             'WheelsOn', #hhmm\n",
    "             'TaxiIn',\n",
    "             'CRSArrTime',#hhmm\n",
    "             'ArrTime', #hhmm\n",
    "             'ArrDelay', \n",
    "             'ArrDelayMinutes',\n",
    "             'ArrivalDelayGroups',\n",
    "             'CRSElapsedTime', \n",
    "             'ActualElapsedTime', \n",
    "             'AirTime', \n",
    "             'Flights', \n",
    "             'Distance',\n",
    "             'DistanceGroup',\n",
    "             #'CarrierDelay',\n",
    "             #'WeatherDelay',\n",
    "             #'NASDelay',\n",
    "             #'SecurityDelay', \n",
    "             #'LateAircraftDelay',\n",
    "             'DivAirportLandings'\n",
    "            ]#26 cols"
   ]
  },
  {
   "cell_type": "code",
   "execution_count": 17,
   "id": "504f7076",
   "metadata": {},
   "outputs": [],
   "source": [
    "cat_feats = ['IATA_CODE_Reporting_Airline',\n",
    "             'Tail_Number',\n",
    "             'Flight_Number_Reporting_Airline',\n",
    "             'OriginAirportID',\n",
    "             'OriginAirportSeqID',\n",
    "             'OriginCityMarketID',\n",
    "             'DestAirportID',\n",
    "             'DestAirportSeqID',\n",
    "             'DestCityMarketID',\n",
    "             'DepDel15', #binary\n",
    "             'DepTimeBlk',\n",
    "             'ArrDel15', #binary\n",
    "             'ArrTimeBlk'\n",
    "             #'Cancelled', #binary\n",
    "             #'Diverted' #binary\n",
    "             \n",
    "            ]#13 cols"
   ]
  },
  {
   "cell_type": "code",
   "execution_count": 14,
   "id": "9326a06b",
   "metadata": {},
   "outputs": [
    {
     "data": {
      "text/plain": [
       "0    35143973\n",
       "1     8167503\n",
       "Name: delay_label, dtype: int64"
      ]
     },
     "execution_count": 14,
     "metadata": {},
     "output_type": "execute_result"
    }
   ],
   "source": [
    "# select flights that are not cancelled and not diverted\n",
    "#on_time_corr = on_time_clean[(on_time_clean['Cancelled'] == '0') & (on_time_clean['Diverted'] == '0')] #use this line for importing data set from sqlite.\n",
    "on_time_corr = on_time_clean[(on_time_clean['Cancelled'] == 0) & (on_time_clean['Diverted'] == 0)] #use this line after importing the csv\n",
    "on_time_corr = on_time_corr.copy()\n",
    "\n",
    "# create delay label based on a delay reason. There are five delay reasons in the dataset, \n",
    "# and they are marked only for delayed flights.\n",
    "#on_time_corr.loc[:, 'delay_label'] = np.where(on_time_corr['CarrierDelay'] == '', 0, 1)\n",
    "on_time_corr['delay_label'] = np.where(on_time_corr['CarrierDelay'].notnull(), 1, 0) #use this line after importing the csv\n",
    "on_time_corr['delay_label'].value_counts()"
   ]
  },
  {
   "cell_type": "code",
   "execution_count": 19,
   "id": "35f66d26",
   "metadata": {},
   "outputs": [
    {
     "data": {
      "text/plain": [
       "IATA_CODE_Reporting_Airline        object\n",
       "Tail_Number                        object\n",
       "Flight_Number_Reporting_Airline    object\n",
       "OriginAirportID                    object\n",
       "OriginAirportSeqID                 object\n",
       "OriginCityMarketID                 object\n",
       "DestAirportID                      object\n",
       "DestAirportSeqID                   object\n",
       "DestCityMarketID                   object\n",
       "DepDel15                           object\n",
       "DepTimeBlk                         object\n",
       "ArrDel15                           object\n",
       "ArrTimeBlk                         object\n",
       "dtype: object"
      ]
     },
     "execution_count": 19,
     "metadata": {},
     "output_type": "execute_result"
    }
   ],
   "source": [
    "for c in cat_feats:\n",
    "    if on_time_corr[c].dtype != 'object':\n",
    "        on_time_corr[c] = on_time_corr[c].astype('object')\n",
    "        \n",
    "on_time_corr[cat_feats].dtypes"
   ]
  },
  {
   "cell_type": "code",
   "execution_count": 20,
   "id": "31aea46e",
   "metadata": {},
   "outputs": [
    {
     "data": {
      "text/plain": [
       "Year                      int64\n",
       "Quarter                   int64\n",
       "Month                     int64\n",
       "DayofMonth                int64\n",
       "DayOfWeek                 int64\n",
       "CRSDepTime                int64\n",
       "DepTime                 float64\n",
       "DepDelay                float64\n",
       "DepDelayMinutes         float64\n",
       "DepartureDelayGroups    float64\n",
       "TaxiOut                 float64\n",
       "WheelsOff               float64\n",
       "WheelsOn                float64\n",
       "TaxiIn                  float64\n",
       "CRSArrTime                int64\n",
       "ArrTime                 float64\n",
       "ArrDelay                float64\n",
       "ArrDelayMinutes         float64\n",
       "ArrivalDelayGroups      float64\n",
       "CRSElapsedTime          float64\n",
       "ActualElapsedTime       float64\n",
       "AirTime                 float64\n",
       "Flights                   int64\n",
       "Distance                  int64\n",
       "DistanceGroup             int64\n",
       "DivAirportLandings      float64\n",
       "dtype: object"
      ]
     },
     "execution_count": 20,
     "metadata": {},
     "output_type": "execute_result"
    }
   ],
   "source": [
    "for c in num_feats:\n",
    "    if not pd.api.types.is_numeric_dtype(on_time_corr[c].dtype):\n",
    "        on_time_corr[c] = pd.to_numeric(on_time_corr[c], errors='coerce')\n",
    "        \n",
    "on_time_corr[num_feats].dtypes"
   ]
  },
  {
   "cell_type": "code",
   "execution_count": 23,
   "id": "ade3b131",
   "metadata": {},
   "outputs": [],
   "source": [
    "X_train, X_test, y_train, y_test = train_test_split(on_time_corr[num_feats+cat_feats],\n",
    "                                                    on_time_corr['delay_label'],\n",
    "                                                    test_size=0.2,\n",
    "                                                    random_state=42)"
   ]
  },
  {
   "cell_type": "code",
   "execution_count": 24,
   "id": "ba5b5d07",
   "metadata": {},
   "outputs": [],
   "source": [
    "'''\n",
    "# select columns and airlines based on EDA results. It takes about 1-2 hours\n",
    "start_time = time.time()\n",
    "\n",
    "#Static features will not be removed even if they are correlated with other features.\n",
    "static_features = ['IATA_CODE_Reporting_Airline', 'col2','col3']\n",
    "\n",
    "corr_df_num, num_remove_list = CorrelationCalculator.numeric_correlations(X_train,\n",
    "                                                                          features=num_feats,\n",
    "                                                                          static_features=None,\n",
    "                                                                          threshold=0.9)\n",
    "\n",
    "corr_df_cat, cat_remove_list = CorrelationCalculator.categorical_correlations(X_train,\n",
    "                                                                              features=cat_feats,\n",
    "                                                                              static_features=None,\n",
    "                                                                              threshold=0.9)\n",
    "end_time = time.time()\n",
    "elapsed_time = end_time - start_time\n",
    "print(f\"Elapsed time: {elapsed_time:.4f} seconds\")\n",
    "'''"
   ]
  },
  {
   "cell_type": "code",
   "execution_count": 25,
   "id": "6a60ad40",
   "metadata": {},
   "outputs": [
    {
     "data": {
      "text/plain": [
       "['DepDelay',\n",
       " 'CRSElapsedTime',\n",
       " 'ActualElapsedTime',\n",
       " 'Distance',\n",
       " 'ArrDelay',\n",
       " 'DepDelayMinutes',\n",
       " 'AirTime',\n",
       " 'Quarter',\n",
       " 'DepTime',\n",
       " 'WheelsOn',\n",
       " 'CRSDepTime',\n",
       " 'DepartureDelayGroups']"
      ]
     },
     "execution_count": 25,
     "metadata": {},
     "output_type": "execute_result"
    }
   ],
   "source": [
    "num_remove_list"
   ]
  },
  {
   "cell_type": "code",
   "execution_count": 26,
   "id": "a31c2f21",
   "metadata": {},
   "outputs": [
    {
     "data": {
      "text/plain": [
       "['IATA_CODE_Reporting_Airline',\n",
       " 'OriginAirportID',\n",
       " 'OriginCityMarketID',\n",
       " 'DestAirportID',\n",
       " 'DestCityMarketID']"
      ]
     },
     "execution_count": 26,
     "metadata": {},
     "output_type": "execute_result"
    }
   ],
   "source": [
    "cat_remove_list"
   ]
  },
  {
   "cell_type": "code",
   "execution_count": 27,
   "id": "2b3ef36a",
   "metadata": {},
   "outputs": [],
   "source": [
    "#Remove correlated features\n",
    "num_feats = [c for c in num_feats if c not in num_remove_list]\n",
    "cat_feats = [c for c in cat_feats if c not in cat_remove_list]"
   ]
  },
  {
   "cell_type": "code",
   "execution_count": 28,
   "id": "9c89e891",
   "metadata": {},
   "outputs": [
    {
     "data": {
      "image/png": "[encoded data removed]",
      "text/plain": [
       "<Figure size 2000x1000 with 1 Axes>"
      ]
     },
     "metadata": {},
     "output_type": "display_data"
    },
    {
     "name": "stdout",
     "output_type": "stream",
     "text": [
      "Elapsed time: 624.1980 seconds\n"
     ]
    }
   ],
   "source": [
    "#Create Feature Selector Object. It takes about hours.\n",
    "start_time = time.time()\n",
    "\n",
    "feat_selector = FeatureSelector(modeling_type='classification',\n",
    "                                X_train=X_train, y_train=y_train,\n",
    "                                X_test=X_test, y_test=y_test,\n",
    "                                numeric_columns=num_feats,\n",
    "                                categorical_columns=cat_feats,\n",
    "                                seed=24)\n",
    "\n",
    "#Note: Hyperparameters and objective function of LightGBM can be changed.\n",
    "lgbm_importance_df = feat_selector.lgbm_importance(hyperparam_dict=None,\n",
    "                                                   objective=None,\n",
    "                                                   return_plot=True)\n",
    "end_time = time.time()\n",
    "elapsed_time = end_time - start_time\n",
    "print(f\"Elapsed time: {elapsed_time:.4f} seconds\")"
   ]
  },
  {
   "cell_type": "code",
   "execution_count": 30,
   "id": "02f354bd",
   "metadata": {},
   "outputs": [],
   "source": [
    "lgbm_importance_df.to_csv('lgbm_importance_df.csv', index=False)"
   ]
  },
  {
   "cell_type": "code",
   "execution_count": null,
   "id": "91649b1a",
   "metadata": {},
   "outputs": [],
   "source": []
  },
  {
   "cell_type": "code",
   "execution_count": null,
   "id": "b019aee2",
   "metadata": {},
   "outputs": [],
   "source": []
  }
 ],
 "metadata": {
  "kernelspec": {
   "display_name": "Python 3 (ipykernel)",
   "language": "python",
   "name": "python3"
  },
  "language_info": {
   "codemirror_mode": {
    "name": "ipython",
    "version": 3
   },
   "file_extension": ".py",
   "mimetype": "text/x-python",
   "name": "python",
   "nbconvert_exporter": "python",
   "pygments_lexer": "ipython3",
   "version": "3.10.9"
  }
 },
 "nbformat": 4,
 "nbformat_minor": 5
}
